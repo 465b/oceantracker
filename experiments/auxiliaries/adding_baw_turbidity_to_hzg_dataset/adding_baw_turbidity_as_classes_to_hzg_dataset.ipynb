{
 "cells": [
  {
   "cell_type": "code",
   "execution_count": 1,
   "metadata": {},
   "outputs": [
    {
     "name": "stderr",
     "output_type": "stream",
     "text": [
      "/home/zmaw/u301513/.conda/envs/oceantracker/lib/python3.9/site-packages/scipy/__init__.py:146: UserWarning: A NumPy version >=1.16.5 and <1.23.0 is required for this version of SciPy (detected version 1.26.2\n",
      "  warnings.warn(f\"A NumPy version >={np_minversion} and <{np_maxversion}\"\n"
     ]
    }
   ],
   "source": [
    "from netCDF4 import Dataset\n",
    "import os\n",
    "\n",
    "import matplotlib.pyplot as plt\n",
    "import numpy as np\n",
    "from scipy.interpolate import griddata\n",
    "\n",
    "\n",
    "import matplotlib.tri as tri"
   ]
  },
  {
   "cell_type": "markdown",
   "metadata": {},
   "source": [
    "## Merging Turbidity data from BAWs Untrim data set with Johannes' SCHISM grid\n",
    "\n"
   ]
  },
  {
   "cell_type": "markdown",
   "metadata": {},
   "source": [
    "### BAW data"
   ]
  },
  {
   "cell_type": "code",
   "execution_count": 2,
   "metadata": {},
   "outputs": [],
   "source": [
    "baw = Dataset('/scratch/local1/baw/f.AZHel_FT_REF.2D.cut.nc', 'r')"
   ]
  },
  {
   "cell_type": "code",
   "execution_count": 3,
   "metadata": {},
   "outputs": [
    {
     "name": "stdout",
     "output_type": "stream",
     "text": [
      "Combined_Mesh2_and_SubMesh2\n",
      "Mesh2\n",
      "Mesh2_Schwebstoffklassen_2d\n",
      "Mesh2_crs\n",
      "Mesh2_edge_Durchflussflaeche_2d\n",
      "Mesh2_edge_Gesamtwassertiefe_an_Kanten_2d\n",
      "Mesh2_edge_Stroemungsgeschwindigkeit_x_R_2d\n",
      "Mesh2_edge_Stroemungsgeschwindigkeit_y_R_2d\n",
      "Mesh2_edge_bc\n",
      "Mesh2_edge_faces\n",
      "Mesh2_edge_hor_Wassertransport_Kantenflaeche_2d\n",
      "Mesh2_edge_hor_adv_Salztransport_Kantenflaeche_2d\n",
      "Mesh2_edge_hor_adv_Schwebstofftransport_Kantenfl_2d\n",
      "Mesh2_edge_hor_adv_Waermetransport_Kantenflaeche_2d\n",
      "Mesh2_edge_hor_dif_Salztransport_Kantenflaeche_2d\n",
      "Mesh2_edge_hor_dif_Schwebstofftransport_Kantenfl_2d\n",
      "Mesh2_edge_hor_dif_Waermetransport_Kantenflaeche_2d\n",
      "Mesh2_edge_lat\n",
      "Mesh2_edge_lat_bnd\n",
      "Mesh2_edge_lon\n",
      "Mesh2_edge_lon_bnd\n",
      "Mesh2_edge_mit_hor_durchstroemte_Kantenflaeche_2d\n",
      "Mesh2_edge_mittlere_nasse_Laenge_an_Kanten_2d\n",
      "Mesh2_edge_nasse_Laenge_an_Kanten_2d\n",
      "Mesh2_edge_nodes\n",
      "Mesh2_edge_skalare_Stroemungsgeschwindigkeit_2d\n",
      "Mesh2_edge_x\n",
      "Mesh2_edge_x_bnd\n",
      "Mesh2_edge_y\n",
      "Mesh2_edge_y_bnd\n",
      "Mesh2_edge_z_edge_2d\n",
      "Mesh2_edge_z_edge_bnd_2d\n",
      "Mesh2_face_Divergenz_Salztransport_2d\n",
      "Mesh2_face_Divergenz_Schwebstofftransport_2d\n",
      "Mesh2_face_Divergenz_Waermetransport_2d\n",
      "Mesh2_face_Divergenz_Wassertransport_2d\n",
      "Mesh2_face_Einleitungs_Entnahme_Rate_2d\n",
      "Mesh2_face_Gesamtwassertiefe_2d\n",
      "Mesh2_face_Niederschlags_Verdunstungs_Rate_2d\n",
      "Mesh2_face_Salz_Einleitungs_Entnahme_Rate_2d\n",
      "Mesh2_face_Salzgehalt_2d\n",
      "Mesh2_face_Salzvolumen_2d\n",
      "Mesh2_face_Schwebstoff_Einleitungs_Entnahme_Rate_2d\n",
      "Mesh2_face_Schwebstoffaustausch_Gewaessersohle_2d\n",
      "Mesh2_face_Schwebstoffgehalt_2d\n",
      "Mesh2_face_Schwebstoffmenge_2d\n",
      "Mesh2_face_Temperatur_2d\n",
      "Mesh2_face_Waerme_Einleitungs_Entnahme_Rate_2d\n",
      "Mesh2_face_Waermeaustausch_Wasseroberflaeche_2d\n",
      "Mesh2_face_Waermemenge_2d\n",
      "Mesh2_face_Wasserflaeche_2d\n",
      "Mesh2_face_Wasserstand_2d\n",
      "Mesh2_face_Wasservolumen_2d\n",
      "Mesh2_face_bc\n",
      "Mesh2_face_center_lat\n",
      "Mesh2_face_center_lon\n",
      "Mesh2_face_center_x\n",
      "Mesh2_face_center_y\n",
      "Mesh2_face_colour\n",
      "Mesh2_face_edges\n",
      "Mesh2_face_lat\n",
      "Mesh2_face_lat_bnd\n",
      "Mesh2_face_lon\n",
      "Mesh2_face_lon_bnd\n",
      "Mesh2_face_mit_ver_durchstroemte_Zellenflaeche_2d\n",
      "Mesh2_face_mittleres_Wasservolumen_2d\n",
      "Mesh2_face_nodes\n",
      "Mesh2_face_x\n",
      "Mesh2_face_x_bnd\n",
      "Mesh2_face_y\n",
      "Mesh2_face_y_bnd\n",
      "Mesh2_face_z_face_2d\n",
      "Mesh2_face_z_face_bnd_2d\n",
      "Mesh2_max_subedgeclass_depth\n",
      "Mesh2_max_subfaceclass_depth\n",
      "Mesh2_mean_grid_lat\n",
      "Mesh2_node_lat\n",
      "Mesh2_node_lon\n",
      "Mesh2_node_x\n",
      "Mesh2_node_y\n",
      "Mesh2_subedgeclass_length\n",
      "Mesh2_subfaceclass_area\n",
      "SubMesh2\n",
      "SubMesh2_edge_SubKanten_Maske_2d\n",
      "SubMesh2_edge_Wehrhoehe_Kante_2d\n",
      "SubMesh2_edge_class_contact\n",
      "SubMesh2_edge_contact\n",
      "SubMesh2_edge_depth\n",
      "SubMesh2_edge_lat\n",
      "SubMesh2_edge_lat_bnd\n",
      "SubMesh2_edge_lon\n",
      "SubMesh2_edge_lon_bnd\n",
      "SubMesh2_edge_x\n",
      "SubMesh2_edge_x_bnd\n",
      "SubMesh2_edge_y\n",
      "SubMesh2_edge_y_bnd\n",
      "SubMesh2_face_SubPolygon_Maske_2d\n",
      "SubMesh2_face_area\n",
      "SubMesh2_face_class_contact\n",
      "SubMesh2_face_contact\n",
      "SubMesh2_face_depth\n",
      "SubMesh2_face_lat\n",
      "SubMesh2_face_lat_bnd\n",
      "SubMesh2_face_lon\n",
      "SubMesh2_face_lon_bnd\n",
      "SubMesh2_face_x\n",
      "SubMesh2_face_x_bnd\n",
      "SubMesh2_face_y\n",
      "SubMesh2_face_y_bnd\n",
      "SubMesh2_face_zeitvariable_Topographie_2d\n",
      "contents_m_untrim2009_steer_eqs\n",
      "contents_m_untrim2009_steer_sedimorph\n",
      "contents_m_untrim2009_steer_sv\n",
      "contents_m_untrim2009_steer_untrim2009_main\n",
      "contents_m_untrim2009_steer_utromp2009\n",
      "contents_m_utromp2009_steer_z_layer\n",
      "dmqs\n",
      "dmqs_data_path_file\n",
      "dmqs_execution_start\n",
      "dmqs_method\n",
      "dmqs_sim_time_step\n",
      "dmqs_steering\n",
      "md5sum_m_untrim2009_steer\n",
      "md5sum_m_utromp2009_steer\n",
      "nMesh2_data_time\n",
      "nMesh2_layer_2d\n",
      "nMesh2_layer_2d_bnd\n",
      "nMesh2_time\n",
      "nMesh2_time_bnd\n"
     ]
    }
   ],
   "source": [
    "_ = [print(item) for item in baw.variables.keys()]"
   ]
  },
  {
   "cell_type": "code",
   "execution_count": 4,
   "metadata": {},
   "outputs": [
    {
     "data": {
      "text/plain": [
       "<class 'netCDF4._netCDF4.Variable'>\n",
       "|S1 Mesh2_Schwebstoffklassen_2d(nMesh2_suspension_classes, nMesh2_class_names_strlen)\n",
       "    long_name: Schwebstoffklassen\n",
       "    name_id: 1704\n",
       "unlimited dimensions: \n",
       "current shape = (6, 80)\n",
       "filling on, default _FillValue of \u0000 used"
      ]
     },
     "execution_count": 4,
     "metadata": {},
     "output_type": "execute_result"
    }
   ],
   "source": [
    "baw.variables['Mesh2_Schwebstoffklassen_2d']"
   ]
  },
  {
   "cell_type": "code",
   "execution_count": 5,
   "metadata": {},
   "outputs": [
    {
     "name": "stdout",
     "output_type": "stream",
     "text": [
      "Summe aller Fraktionen                                                          \n",
      "Very_Fine_Sand                                                                  \n",
      "Coarse_Silt                                                                     \n",
      "Medium_Silt                                                                     \n",
      "Fine_Silt                                                                       \n",
      "Very_Fine_Silt                                                                  \n"
     ]
    },
    {
     "data": {
      "text/plain": [
       "[None, None, None, None, None, None]"
      ]
     },
     "execution_count": 5,
     "metadata": {},
     "output_type": "execute_result"
    }
   ],
   "source": [
    "[print(''.join([byte.decode('utf-8') for byte in baw.variables['Mesh2_Schwebstoffklassen_2d'][ii].data])) for ii in range(6)]"
   ]
  },
  {
   "cell_type": "code",
   "execution_count": 6,
   "metadata": {},
   "outputs": [],
   "source": [
    "baw_face_x = baw.variables['Mesh2_face_x'][:]\n",
    "baw_face_y = baw.variables['Mesh2_face_y'][:]\n",
    "\n",
    "baw_spm = baw.variables['Mesh2_face_Schwebstoffgehalt_2d']"
   ]
  },
  {
   "cell_type": "code",
   "execution_count": 7,
   "metadata": {},
   "outputs": [],
   "source": [
    "spm = {\n",
    "    'sum_of_all_classes': baw_spm[:, 0, 0],\n",
    "    'very_fine_silt': baw_spm[:, 1, 0],\n",
    "    'fine_silt': baw_spm[:, 2, 0],\n",
    "    'medium_silt': baw_spm[:, 3, 0],\n",
    "    'coarse_silt': baw_spm[:, 4, 0],\n",
    "    'very_fine_sand': baw_spm[:, 5, 0]\n",
    "}"
   ]
  },
  {
   "cell_type": "markdown",
   "metadata": {},
   "source": [
    "### HZG data"
   ]
  },
  {
   "cell_type": "code",
   "execution_count": 8,
   "metadata": {},
   "outputs": [],
   "source": [
    "hzg = Dataset('/scratch/local1/output/22_11_01_depth_losses_v10/22_11_01_depth_losses_v10_grid.nc', 'r')"
   ]
  },
  {
   "cell_type": "code",
   "execution_count": 9,
   "metadata": {},
   "outputs": [
    {
     "name": "stdout",
     "output_type": "stream",
     "text": [
      "x\n",
      "triangles\n",
      "triangle_area\n",
      "adjacency\n",
      "node_type\n",
      "is_boundary_triangle\n",
      "water_depth\n"
     ]
    }
   ],
   "source": [
    "_ = [print(item) for item in hzg.variables.keys()]"
   ]
  },
  {
   "cell_type": "code",
   "execution_count": 10,
   "metadata": {},
   "outputs": [],
   "source": [
    "\n",
    "hzg_node_x = hzg.variables['x'][:,0]\n",
    "hzg_node_y = hzg.variables['x'][:,1]\n",
    "\n",
    "hzg_tri = hzg.variables['triangles'][:]"
   ]
  },
  {
   "cell_type": "markdown",
   "metadata": {},
   "source": [
    "## Creating a copy of the HZG dataset with the interpolated SPM values"
   ]
  },
  {
   "cell_type": "markdown",
   "metadata": {},
   "source": [
    "Created a copy manually with rsync"
   ]
  },
  {
   "cell_type": "markdown",
   "metadata": {},
   "source": [
    "### Interpolating and merging BAW data onto HZG grid"
   ]
  },
  {
   "cell_type": "markdown",
   "metadata": {},
   "source": [
    "#### griddata interpolation"
   ]
  },
  {
   "cell_type": "code",
   "execution_count": 12,
   "metadata": {},
   "outputs": [
    {
     "name": "stdout",
     "output_type": "stream",
     "text": [
      "ls: cannot access 'path_to_dir2': No such file or directory\n"
     ]
    }
   ],
   "source": [
    "!ls path_to_dir2"
   ]
  },
  {
   "cell_type": "code",
   "execution_count": 46,
   "metadata": {},
   "outputs": [
    {
     "data": {
      "text/plain": [
       "['schout_111.nc',\n",
       " 'schout_156.nc',\n",
       " 'schout_63.nc',\n",
       " 'schout_116.nc',\n",
       " 'schout_113.nc',\n",
       " 'schout_140.nc',\n",
       " 'schout_73.nc',\n",
       " 'schout_91.nc',\n",
       " 'schout_139.nc',\n",
       " 'schout_95.nc',\n",
       " 'schout_158.nc',\n",
       " 'schout_92.nc',\n",
       " 'schout_60.nc',\n",
       " 'schout_2.nc',\n",
       " 'schout_24.nc',\n",
       " 'schout_65.nc',\n",
       " 'schout_155.nc',\n",
       " 'schout_127.nc',\n",
       " 'schout_132.nc',\n",
       " 'schout_47.nc',\n",
       " 'schout_86.nc',\n",
       " 'schout_67.nc',\n",
       " 'schout_149.nc',\n",
       " 'schout_55.nc',\n",
       " 'schout_52.nc',\n",
       " 'schout_33.nc',\n",
       " 'schout_159.nc',\n",
       " 'schout_44.nc',\n",
       " 'schout_82.nc',\n",
       " 'schout_133.nc',\n",
       " 'schout_142.nc',\n",
       " 'schout_3.nc',\n",
       " 'schout_28.nc',\n",
       " 'schout_114.nc',\n",
       " 'schout_87.nc',\n",
       " 'schout_167.nc',\n",
       " 'schout_136.nc',\n",
       " 'schout_144.nc',\n",
       " 'schout_36.nc',\n",
       " 'schout_112.nc',\n",
       " 'schout_166.nc',\n",
       " 'schout_97.nc',\n",
       " 'schout_162.nc',\n",
       " 'schout_101.nc',\n",
       " 'schout_46.nc',\n",
       " 'schout_10.nc',\n",
       " 'schout_88.nc',\n",
       " 'schout_25.nc',\n",
       " 'schout_161.nc',\n",
       " 'schout_77.nc',\n",
       " 'schout_40.nc',\n",
       " 'schout_99.nc',\n",
       " 'schout_14.nc',\n",
       " 'schout_68.nc',\n",
       " 'schout_138.nc',\n",
       " 'schout_9.nc',\n",
       " 'schout_130.nc',\n",
       " 'schout_145.nc',\n",
       " 'schout_45.nc',\n",
       " 'schout_121.nc',\n",
       " 'schout_30.nc',\n",
       " 'schout_94.nc',\n",
       " 'schout_23.nc',\n",
       " 'schout_49.nc',\n",
       " 'schout_103.nc',\n",
       " 'schout_96.nc',\n",
       " 'schout_70.nc',\n",
       " 'schout_15.nc',\n",
       " 'schout_64.nc',\n",
       " 'schout_41.nc',\n",
       " 'schout_18.nc',\n",
       " 'schout_152.nc',\n",
       " 'schout_32.nc',\n",
       " 'schout_8.nc',\n",
       " 'schout_11.nc',\n",
       " 'schout_56.nc',\n",
       " 'schout_6.nc',\n",
       " 'schout_90.nc',\n",
       " 'schout_76.nc',\n",
       " 'schout_85.nc',\n",
       " 'schout_160.nc',\n",
       " 'schout_153.nc',\n",
       " 'schout_21.nc',\n",
       " 'schout_137.nc',\n",
       " 'schout_5.nc',\n",
       " 'schout_83.nc',\n",
       " 'schout_122.nc',\n",
       " 'schout_66.nc',\n",
       " 'schout_126.nc',\n",
       " 'schout_51.nc',\n",
       " 'schout_72.nc',\n",
       " 'schout_39.nc',\n",
       " 'schout_163.nc',\n",
       " 'schout_35.nc',\n",
       " 'schout_59.nc',\n",
       " 'schout_123.nc',\n",
       " 'schout_54.nc',\n",
       " 'schout_62.nc',\n",
       " 'schout_48.nc',\n",
       " 'schout_74.nc',\n",
       " 'schout_106.nc',\n",
       " 'schout_1.nc',\n",
       " 'schout_4.nc',\n",
       " 'schout_58.nc',\n",
       " 'schout_22.nc',\n",
       " 'schout_134.nc',\n",
       " 'schout_125.nc',\n",
       " 'schout_31.nc',\n",
       " 'schout_104.nc',\n",
       " 'hgrid.gr3',\n",
       " 'schout_69.nc',\n",
       " 'schout_37.nc',\n",
       " 'schout_147.nc',\n",
       " 'schout_53.nc',\n",
       " 'schout_154.nc',\n",
       " 'schout_131.nc',\n",
       " 'schout_150.nc',\n",
       " 'schout_146.nc',\n",
       " 'schout_124.nc',\n",
       " 'schout_128.nc',\n",
       " 'schout_164.nc',\n",
       " 'schout_119.nc',\n",
       " 'schout_141.nc',\n",
       " 'schout_129.nc',\n",
       " 'schout_157.nc',\n",
       " 'schout_105.nc',\n",
       " 'schout_57.nc',\n",
       " 'schout_79.nc',\n",
       " 'schout_71.nc',\n",
       " 'schout_50.nc',\n",
       " 'schout_120.nc',\n",
       " 'schout_107.nc',\n",
       " 'schout_26.nc',\n",
       " 'schout_84.nc',\n",
       " 'schout_109.nc',\n",
       " 'schout_17.nc',\n",
       " 'schout_29.nc',\n",
       " 'schout_61.nc',\n",
       " 'schout_80.nc',\n",
       " 'schout_98.nc',\n",
       " 'schout_100.nc',\n",
       " 'schout_117.nc',\n",
       " 'schout_102.nc',\n",
       " 'schout_78.nc',\n",
       " 'schout_12.nc',\n",
       " 'schout_118.nc',\n",
       " 'schout_165.nc',\n",
       " 'schout_27.nc',\n",
       " 'schout_42.nc',\n",
       " 'schout_7.nc',\n",
       " 'schout_115.nc',\n",
       " 'schout_75.nc',\n",
       " 'schout_110.nc',\n",
       " 'schout_143.nc',\n",
       " 'schout_13.nc',\n",
       " 'schout_148.nc',\n",
       " 'schout_16.nc',\n",
       " 'schout_151.nc',\n",
       " 'schout_43.nc',\n",
       " 'schout_93.nc',\n",
       " 'schout_89.nc',\n",
       " 'schout_20.nc',\n",
       " 'schout_81.nc',\n",
       " 'schout_135.nc',\n",
       " 'schout_108.nc',\n",
       " 'schout_19.nc',\n",
       " 'schout_38.nc',\n",
       " 'schout_34.nc']"
      ]
     },
     "execution_count": 46,
     "metadata": {},
     "output_type": "execute_result"
    }
   ],
   "source": [
    "# list files in path_to_dir2\n",
    "path_to_dir2 = '/scratch/local1/hzg2'\n",
    "files = os.listdir(path_to_dir2)\n",
    "files"
   ]
  },
  {
   "cell_type": "code",
   "execution_count": 65,
   "metadata": {},
   "outputs": [],
   "source": [
    "interpolated_spm = griddata(source_points, source_data, target_points, method='linear')\n"
   ]
  },
  {
   "cell_type": "code",
   "execution_count": 67,
   "metadata": {},
   "outputs": [
    {
     "data": {
      "text/plain": [
       "(32432,)"
      ]
     },
     "execution_count": 67,
     "metadata": {},
     "output_type": "execute_result"
    }
   ],
   "source": [
    "interpolated_spm.shape"
   ]
  },
  {
   "cell_type": "code",
   "execution_count": 69,
   "metadata": {},
   "outputs": [
    {
     "name": "stdout",
     "output_type": "stream",
     "text": [
      "sum_of_all_classes\n"
     ]
    }
   ],
   "source": [
    "for fraction in spm.keys():\n",
    "    print(fraction)\n",
    "\n",
    "    # Create source points from baw data\n",
    "    source_points = np.array([baw_face_x, baw_face_y]).T\n",
    "\n",
    "    # Create target grid points from hzg data\n",
    "    target_points = np.array([hzg_node_x, hzg_node_y]).T\n",
    "\n",
    "    source_data = spm[fraction]\n",
    "    source_data = np.mean(source_data, axis=0)\n",
    "\n",
    "    # Interpolate baw data onto hzg grid\n",
    "    interpolated_spm = griddata(source_points, source_data, target_points, method='linear')\n",
    "    # Note: The 'method' argument can be 'linear', 'nearest', or 'cubic'.\n",
    "\n",
    "    # set 0- where nan\n",
    "    interpolated_spm[np.isnan(interpolated_spm)] = 0\n",
    "\n",
    "    break"
   ]
  },
  {
   "cell_type": "code",
   "execution_count": 75,
   "metadata": {},
   "outputs": [
    {
     "data": {
      "text/plain": [
       "dict_keys(['time', 'SCHISM_hgrid', 'SCHISM_hgrid_face_nodes', 'SCHISM_hgrid_edge_nodes', 'SCHISM_hgrid_node_x', 'SCHISM_hgrid_node_y', 'node_bottom_index', 'SCHISM_hgrid_face_x', 'SCHISM_hgrid_face_y', 'ele_bottom_index', 'SCHISM_hgrid_edge_x', 'SCHISM_hgrid_edge_y', 'edge_bottom_index', 'depth', 'sigma', 'dry_value_flag', 'coordinate_system_flag', 'minimum_depth', 'sigma_h_c', 'sigma_theta_b', 'sigma_theta_f', 'sigma_maxdepth', 'Cs', 'wetdry_elem', 'zcor', 'elev', 'bottom_stress', 'vertical_velocity', 'temp', 'salt', 'diffusivity', 'TKE', 'hvel', 'ECO_no3', 'ECO_nh4', 'ECO_pho', 'ECO_sil', 'ECO_oxy', 'ECO_fla', 'ECO_dia', 'ECO_bg', 'ECO_bgchl', 'ECO_diachl', 'ECO_flachl', 'ECO_microzoo', 'ECO_mesozoo', 'ECO_det', 'ECO_opa', 'ECO_dom', 'ECO_sed1', 'ECO_sed2', 'ECO_sed3'])"
      ]
     },
     "execution_count": 75,
     "metadata": {},
     "output_type": "execute_result"
    }
   ],
   "source": [
    "df = Dataset('/scratch/local1/hzg2/schout_1.nc')\n",
    "df.variables.keys()"
   ]
  },
  {
   "cell_type": "code",
   "execution_count": 84,
   "metadata": {},
   "outputs": [],
   "source": [
    "hvel = df.variables['hvel'][:].mean(axis=(0,2))\n",
    "vvel = df.variables['vertical_velocity'][:].mean(axis=(0,2))\n"
   ]
  },
  {
   "cell_type": "code",
   "execution_count": 86,
   "metadata": {},
   "outputs": [
    {
     "data": {
      "text/plain": [
       "(32432,)"
      ]
     },
     "execution_count": 86,
     "metadata": {},
     "output_type": "execute_result"
    }
   ],
   "source": [
    "abs_vel = np.sqrt(hvel[:,0]**2 + hvel[:,1]**2 + vvel**2)"
   ]
  },
  {
   "cell_type": "code",
   "execution_count": 98,
   "metadata": {},
   "outputs": [
    {
     "name": "stdout",
     "output_type": "stream",
     "text": [
      "mean: 2.8111700789437035e-06\n"
     ]
    },
    {
     "data": {
      "image/png": "[encoded data removed]",
      "text/plain": [
       "<Figure size 432x288 with 1 Axes>"
      ]
     },
     "metadata": {
      "needs_background": "light"
     },
     "output_type": "display_data"
    }
   ],
   "source": [
    "_ = plt.hist(np.abs(vvel), bins=100)\n",
    "print(f'mean: {np.abs(np.mean(vvel))}')"
   ]
  },
  {
   "cell_type": "code",
   "execution_count": 96,
   "metadata": {},
   "outputs": [
    {
     "name": "stdout",
     "output_type": "stream",
     "text": [
      "mean: [0.18377761264280942 0.07844227400434539 0.2907873680321962 ...\n",
      " 0.0012463646820137194 0.0 0.0]\n"
     ]
    },
    {
     "data": {
      "image/png": "[encoded data removed]",
      "text/plain": [
       "<Figure size 432x288 with 1 Axes>"
      ]
     },
     "metadata": {
      "needs_background": "light"
     },
     "output_type": "display_data"
    }
   ],
   "source": [
    "out = plt.hist(np.sqrt(hvel[:,0]**2 + hvel[:,1]**2), bins=100)\n",
    "print(f'mean: {np.sqrt(hvel[:,0]**2 + hvel[:,1]**2)}')"
   ]
  },
  {
   "cell_type": "code",
   "execution_count": 90,
   "metadata": {},
   "outputs": [
    {
     "name": "stdout",
     "output_type": "stream",
     "text": [
      "mean: 0.10899244158355256\n"
     ]
    },
    {
     "data": {
      "image/png": "[encoded data removed]",
      "text/plain": [
       "<Figure size 432x288 with 1 Axes>"
      ]
     },
     "metadata": {
      "needs_background": "light"
     },
     "output_type": "display_data"
    }
   ],
   "source": [
    "%matplotlib inline\n",
    "\n",
    "\n",
    "plt.hist(abs_vel,bins=100)\n",
    "print(f'mean: {abs_vel.mean()}')"
   ]
  },
  {
   "cell_type": "code",
   "execution_count": 92,
   "metadata": {},
   "outputs": [
    {
     "name": "stdout",
     "output_type": "stream",
     "text": [
      "mean: 0.004153793680176542\n"
     ]
    },
    {
     "data": {
      "image/png": "[encoded data removed]",
      "text/plain": [
       "<Figure size 432x288 with 1 Axes>"
      ]
     },
     "metadata": {
      "needs_background": "light"
     },
     "output_type": "display_data"
    }
   ],
   "source": [
    "diff = df.variables['diffusivity'][:].mean(axis=(0,2))\n",
    "\n",
    "plt.hist(diff,bins=100)\n",
    "print(f'mean: {diff.mean()}')\n"
   ]
  },
  {
   "cell_type": "code",
   "execution_count": 105,
   "metadata": {},
   "outputs": [
    {
     "data": {
      "text/plain": [
       "(32432, 21, 2)"
      ]
     },
     "execution_count": 105,
     "metadata": {},
     "output_type": "execute_result"
    }
   ],
   "source": [
    "df.variables['hvel'][:].mean(axis=(0)).shape"
   ]
  },
  {
   "cell_type": "code",
   "execution_count": 110,
   "metadata": {},
   "outputs": [
    {
     "name": "stdout",
     "output_type": "stream",
     "text": [
      "mean: 0.009471117619907946\n"
     ]
    },
    {
     "data": {
      "image/png": "[encoded data removed]",
      "text/plain": [
       "<Figure size 432x288 with 1 Axes>"
      ]
     },
     "metadata": {
      "needs_background": "light"
     },
     "output_type": "display_data"
    }
   ],
   "source": [
    "# calculate the difference between adjecent nodes vertically (axis=1)\n",
    "sheer = np.diff(df.variables['hvel'][:].mean(axis=(0)), axis=1)\n",
    "sheer = sheer.mean(axis=1)\n",
    "sheer = np.sqrt(sheer[:,0]**2 + sheer[:,1]**2)\n",
    "\n",
    "plt.hist(sheer, bins=100)\n",
    "print(f'mean: {sheer.mean()}')"
   ]
  },
  {
   "cell_type": "code",
   "execution_count": 100,
   "metadata": {},
   "outputs": [
    {
     "ename": "AttributeError",
     "evalue": "'MaskedArray' object has no attribute 'diff'",
     "output_type": "error",
     "traceback": [
      "\u001b[0;31m---------------------------------------------------------------------------\u001b[0m",
      "\u001b[0;31mAttributeError\u001b[0m                            Traceback (most recent call last)",
      "\u001b[0;32m/tmp/ipykernel_6518/2235242045.py\u001b[0m in \u001b[0;36m<module>\u001b[0;34m\u001b[0m\n\u001b[0;32m----> 1\u001b[0;31m \u001b[0mdf\u001b[0m\u001b[0;34m.\u001b[0m\u001b[0mvariables\u001b[0m\u001b[0;34m[\u001b[0m\u001b[0;34m'hvel'\u001b[0m\u001b[0;34m]\u001b[0m\u001b[0;34m[\u001b[0m\u001b[0;34m:\u001b[0m\u001b[0;34m]\u001b[0m\u001b[0;34m.\u001b[0m\u001b[0mmean\u001b[0m\u001b[0;34m(\u001b[0m\u001b[0maxis\u001b[0m\u001b[0;34m=\u001b[0m\u001b[0;34m(\u001b[0m\u001b[0;36m0\u001b[0m\u001b[0;34m)\u001b[0m\u001b[0;34m)\u001b[0m\u001b[0;34m.\u001b[0m\u001b[0mdiff\u001b[0m\u001b[0;34m(\u001b[0m\u001b[0maxis\u001b[0m\u001b[0;34m=\u001b[0m\u001b[0;36m1\u001b[0m\u001b[0;34m)\u001b[0m\u001b[0;34m.\u001b[0m\u001b[0mshape\u001b[0m\u001b[0;34m\u001b[0m\u001b[0;34m\u001b[0m\u001b[0m\n\u001b[0m",
      "\u001b[0;31mAttributeError\u001b[0m: 'MaskedArray' object has no attribute 'diff'"
     ]
    }
   ],
   "source": [
    "df.variables['hvel'][:].mean(axis=(0)).diff(axis=1)"
   ]
  },
  {
   "cell_type": "code",
   "execution_count": 72,
   "metadata": {},
   "outputs": [
    {
     "data": {
      "application/vnd.jupyter.widget-view+json": {
       "model_id": "f6f297187497407f8ce93e11eddb0547",
       "version_major": 2,
       "version_minor": 0
      },
      "text/html": [
       "\n",
       "            <div style=\"display: inline-block;\">\n",
       "                <div class=\"jupyter-widgets widget-label\" style=\"text-align: center;\">\n",
       "                    Figure\n",
       "                </div>\n",
       "                <img src='data:image/png;base64,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' width=640.0/>\n",
       "            </div>\n",
       "        "
      ],
      "text/plain": [
       "Canvas(toolbar=Toolbar(toolitems=[('Home', 'Reset original view', 'home', 'home'), ('Back', 'Back to previous …"
      ]
     },
     "metadata": {},
     "output_type": "display_data"
    }
   ],
   "source": [
    "plt.figure()\n",
    "plt.tripcolor(hzg_node_x, hzg_node_y, hzg_tri, interpolated_spm)\n",
    "plt.show()"
   ]
  },
  {
   "cell_type": "code",
   "execution_count": 68,
   "metadata": {},
   "outputs": [
    {
     "name": "stdout",
     "output_type": "stream",
     "text": [
      "sum_of_all_classes\n",
      "schout_1.nc ( 2 / 168 )\n"
     ]
    },
    {
     "ename": "OSError",
     "evalue": "[Errno -101] NetCDF: HDF error: b'/scratch/local1/hzg2/schout_1.nc'",
     "output_type": "error",
     "traceback": [
      "\u001b[0;31m---------------------------------------------------------------------------\u001b[0m",
      "\u001b[0;31mOSError\u001b[0m                                   Traceback (most recent call last)",
      "\u001b[0;32m/tmp/ipykernel_6518/1442293401.py\u001b[0m in \u001b[0;36m<module>\u001b[0;34m\u001b[0m\n\u001b[1;32m     26\u001b[0m             \u001b[0;32mif\u001b[0m \u001b[0mmomo\u001b[0m\u001b[0;34m.\u001b[0m\u001b[0mendswith\u001b[0m\u001b[0;34m(\u001b[0m\u001b[0;34m'.nc'\u001b[0m\u001b[0;34m)\u001b[0m\u001b[0;34m:\u001b[0m\u001b[0;34m\u001b[0m\u001b[0;34m\u001b[0m\u001b[0m\n\u001b[1;32m     27\u001b[0m                 \u001b[0mprint\u001b[0m\u001b[0;34m(\u001b[0m\u001b[0mmomo\u001b[0m\u001b[0;34m,\u001b[0m \u001b[0;34mf'( {ii+1} / {n_files} )'\u001b[0m\u001b[0;34m)\u001b[0m\u001b[0;34m\u001b[0m\u001b[0;34m\u001b[0m\u001b[0m\n\u001b[0;32m---> 28\u001b[0;31m                 \u001b[0;32mwith\u001b[0m \u001b[0mDataset\u001b[0m\u001b[0;34m(\u001b[0m\u001b[0mos\u001b[0m\u001b[0;34m.\u001b[0m\u001b[0mpath\u001b[0m\u001b[0;34m.\u001b[0m\u001b[0mjoin\u001b[0m\u001b[0;34m(\u001b[0m\u001b[0mroot\u001b[0m\u001b[0;34m,\u001b[0m \u001b[0mmomo\u001b[0m\u001b[0;34m)\u001b[0m\u001b[0;34m,\u001b[0m \u001b[0;34m'a'\u001b[0m\u001b[0;34m)\u001b[0m \u001b[0;32mas\u001b[0m \u001b[0mds\u001b[0m\u001b[0;34m:\u001b[0m\u001b[0;34m\u001b[0m\u001b[0;34m\u001b[0m\u001b[0m\n\u001b[0m\u001b[1;32m     29\u001b[0m                     \u001b[0;31m# Ensure the dimension exists\u001b[0m\u001b[0;34m\u001b[0m\u001b[0;34m\u001b[0m\u001b[0m\n\u001b[1;32m     30\u001b[0m                     \u001b[0;32mif\u001b[0m \u001b[0;34m'nSCHISM_hgrid_node'\u001b[0m \u001b[0;32mnot\u001b[0m \u001b[0;32min\u001b[0m \u001b[0mds\u001b[0m\u001b[0;34m.\u001b[0m\u001b[0mdimensions\u001b[0m\u001b[0;34m:\u001b[0m\u001b[0;34m\u001b[0m\u001b[0;34m\u001b[0m\u001b[0m\n",
      "\u001b[0;32msrc/netCDF4/_netCDF4.pyx\u001b[0m in \u001b[0;36mnetCDF4._netCDF4.Dataset.__init__\u001b[0;34m()\u001b[0m\n",
      "\u001b[0;32msrc/netCDF4/_netCDF4.pyx\u001b[0m in \u001b[0;36mnetCDF4._netCDF4._ensure_nc_success\u001b[0;34m()\u001b[0m\n",
      "\u001b[0;31mOSError\u001b[0m: [Errno -101] NetCDF: HDF error: b'/scratch/local1/hzg2/schout_1.nc'"
     ]
    }
   ],
   "source": [
    "for fraction in spm.keys():\n",
    "    print(fraction)\n",
    "\n",
    "    # Create source points from baw data\n",
    "    source_points = np.array([baw_face_x, baw_face_y]).T\n",
    "\n",
    "    # Create target grid points from hzg data\n",
    "    target_points = np.array([hzg_node_x, hzg_node_y]).T\n",
    "\n",
    "    source_data = spm[fraction]\n",
    "    source_data = np.mean(source_data, axis=0)\n",
    "\n",
    "    # Interpolate baw data onto hzg grid\n",
    "    interpolated_spm = griddata(source_points, source_data, target_points, method='linear')\n",
    "    # Note: The 'method' argument can be 'linear', 'nearest', or 'cubic'.\n",
    "\n",
    "    # set 0- where nan\n",
    "    interpolated_spm[np.isnan(interpolated_spm)] = 0\n",
    "   \n",
    "\n",
    "    path_to_dir2 = '/scratch/local1/hzg2'\n",
    "\n",
    "    for root, dirs, files in os.walk(path_to_dir2):\n",
    "        n_files = len(files)\n",
    "        for ii,momo in enumerate(sorted(files)):\n",
    "            if momo.endswith('.nc'):\n",
    "                print(momo, f'( {ii+1} / {n_files} )')\n",
    "                with Dataset(os.path.join(root, momo), 'a') as ds:\n",
    "                    # Ensure the dimension exists\n",
    "                    if 'nSCHISM_hgrid_node' not in ds.dimensions:\n",
    "                        raise ValueError(\"The dimension 'nSCHISM_hgrid_node' does not exist in the file.\")\n",
    "\n",
    "                    # if not, create it\n",
    "                    # if f'spm_{fraction}' not in ds.variables:\n",
    "                    #     spm_var = ds.createVariable(f'spm_{fraction}', 'f4', ('nSCHISM_hgrid_node',))\n",
    "\n",
    "                    # get the variable\n",
    "                    spm_var = ds.variables[f'spm_{fraction}']\n",
    "\n",
    "                    # Assign the turbidity data to the variable\n",
    "                    spm_var[:] = interpolated_spm\n",
    "\n",
    "                    # If needed, set attributes for the turbidity variable\n",
    "                    spm_var.units = 'kg/l'  # Adjust this as necessary\n",
    "                    spm_var.long_name = f'Suspended sediment concentration of {fraction}'\n",
    "                    # add description\n",
    "                    spm_var.description = 'Suspended sediment concentration based on BAWs UnTrim model using the Dietrich model received from Arne Hammrich. Average of 3D data over time and depth'\n",
    "\n",
    "\n",
    "    "
   ]
  },
  {
   "cell_type": "code",
   "execution_count": 49,
   "metadata": {},
   "outputs": [],
   "source": [
    "df = Dataset('/scratch/local1/hzg2/schout_1.nc', 'r')"
   ]
  },
  {
   "cell_type": "code",
   "execution_count": 50,
   "metadata": {},
   "outputs": [
    {
     "data": {
      "text/plain": [
       "dict_keys(['time', 'SCHISM_hgrid', 'SCHISM_hgrid_face_nodes', 'SCHISM_hgrid_edge_nodes', 'SCHISM_hgrid_node_x', 'SCHISM_hgrid_node_y', 'node_bottom_index', 'SCHISM_hgrid_face_x', 'SCHISM_hgrid_face_y', 'ele_bottom_index', 'SCHISM_hgrid_edge_x', 'SCHISM_hgrid_edge_y', 'edge_bottom_index', 'depth', 'sigma', 'dry_value_flag', 'coordinate_system_flag', 'minimum_depth', 'sigma_h_c', 'sigma_theta_b', 'sigma_theta_f', 'sigma_maxdepth', 'Cs', 'wetdry_elem', 'zcor', 'elev', 'bottom_stress', 'vertical_velocity', 'temp', 'salt', 'diffusivity', 'TKE', 'hvel', 'ECO_no3', 'ECO_nh4', 'ECO_pho', 'ECO_sil', 'ECO_oxy', 'ECO_fla', 'ECO_dia', 'ECO_bg', 'ECO_bgchl', 'ECO_diachl', 'ECO_flachl', 'ECO_microzoo', 'ECO_mesozoo', 'ECO_det', 'ECO_opa', 'ECO_dom', 'ECO_sed1', 'ECO_sed2', 'ECO_sed3', 'spm_sum_of_all_classes', 'spm_very_fine_silt', 'spm_fine_silt', 'spm_medium_silt', 'spm_coarse_silt', 'spm_very_fine_sand'])"
      ]
     },
     "execution_count": 50,
     "metadata": {},
     "output_type": "execute_result"
    }
   ],
   "source": [
    "df.variables.keys()"
   ]
  },
  {
   "cell_type": "code",
   "execution_count": 57,
   "metadata": {},
   "outputs": [
    {
     "data": {
      "text/plain": [
       "(32432,)"
      ]
     },
     "execution_count": 57,
     "metadata": {},
     "output_type": "execute_result"
    }
   ],
   "source": [
    "df.variables['spm_sum_of_all_classes'][:]."
   ]
  },
  {
   "cell_type": "code",
   "execution_count": 64,
   "metadata": {},
   "outputs": [
    {
     "data": {
      "text/plain": [
       "masked_array(data=[0.00617701, 0.00617701, 0.00617701, ..., 0.00617701,\n",
       "                   0.00617701, 0.00617701],\n",
       "             mask=False,\n",
       "       fill_value=1e+20,\n",
       "            dtype=float32)"
      ]
     },
     "execution_count": 64,
     "metadata": {},
     "output_type": "execute_result"
    }
   ],
   "source": [
    "df.variables['spm_medium_silt'][:]"
   ]
  },
  {
   "cell_type": "code",
   "execution_count": 63,
   "metadata": {},
   "outputs": [
    {
     "data": {
      "text/plain": [
       "<matplotlib.colorbar.Colorbar at 0x7f1da53abd30>"
      ]
     },
     "execution_count": 63,
     "metadata": {},
     "output_type": "execute_result"
    },
    {
     "data": {
      "application/vnd.jupyter.widget-view+json": {
       "model_id": "98cdc74b316e46c2b5a806ecc6000e6e",
       "version_major": 2,
       "version_minor": 0
      },
      "text/html": [
       "\n",
       "            <div style=\"display: inline-block;\">\n",
       "                <div class=\"jupyter-widgets widget-label\" style=\"text-align: center;\">\n",
       "                    Figure\n",
       "                </div>\n",
       "                <img src='data:image/png;base64,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' width=640.0/>\n",
       "            </div>\n",
       "        "
      ],
      "text/plain": [
       "Canvas(toolbar=Toolbar(toolitems=[('Home', 'Reset original view', 'home', 'home'), ('Back', 'Back to previous …"
      ]
     },
     "metadata": {},
     "output_type": "display_data"
    }
   ],
   "source": [
    "%matplotlib widget\n",
    "plt.tripcolor(hzg_node_x, hzg_node_y, hzg_tri, df.variables['spm_sum_of_all_classes'][:])\n",
    "plt.colorbar()"
   ]
  },
  {
   "cell_type": "code",
   "execution_count": null,
   "metadata": {},
   "outputs": [],
   "source": [
    "    path_to_dir2 = '/scratch/local1/hzg2'\n",
    "\n",
    "    for root, dirs, files in os.walk(path_to_dir2):\n",
    "        n_files = len(files)\n",
    "        for ii,momo in enumerate(sorted(files)):\n",
    "            if momo.endswith('.nc'):\n",
    "                print(momo, f'( {ii+1} / {n_files} )')\n",
    "                with Dataset(os.path.join(root, momo), 'a') as ds:\n",
    "                    # delete \"tubidity\" variable"
   ]
  },
  {
   "cell_type": "code",
   "execution_count": 28,
   "metadata": {},
   "outputs": [],
   "source": [
    "df = Dataset('/scratch/local1/hzg2/schout_272.nc')\n",
    "df.close()"
   ]
  },
  {
   "cell_type": "code",
   "execution_count": 30,
   "metadata": {},
   "outputs": [],
   "source": [
    "# am I allowed to modify the file\n",
    "file = '/scratch/local1/hzg2/schout_272.nc'\n",
    "\n",
    "import os\n",
    "import stat\n",
    "\n",
    "# Get current file permissions\n",
    "current_permissions = stat.S_IMODE(os.lstat(file).st_mode)\n",
    "\n",
    "# add write permissions for all\n",
    "new_permissions = current_permissions | stat.S_IWOTH\n"
   ]
  },
  {
   "cell_type": "code",
   "execution_count": 31,
   "metadata": {},
   "outputs": [
    {
     "data": {
      "text/plain": [
       "294"
      ]
     },
     "execution_count": 31,
     "metadata": {},
     "output_type": "execute_result"
    }
   ],
   "source": [
    "new_permissions"
   ]
  },
  {
   "cell_type": "code",
   "execution_count": 25,
   "metadata": {},
   "outputs": [
    {
     "ename": "NameError",
     "evalue": "name 'interpolated_spm' is not defined",
     "output_type": "error",
     "traceback": [
      "\u001b[0;31m---------------------------------------------------------------------------\u001b[0m",
      "\u001b[0;31mNameError\u001b[0m                                 Traceback (most recent call last)",
      "\u001b[0;32m/tmp/ipykernel_6518/3833246615.py\u001b[0m in \u001b[0;36m<module>\u001b[0;34m\u001b[0m\n\u001b[0;32m----> 1\u001b[0;31m \u001b[0minterpolated_spm\u001b[0m\u001b[0;34m.\u001b[0m\u001b[0mshape\u001b[0m\u001b[0;34m\u001b[0m\u001b[0;34m\u001b[0m\u001b[0m\n\u001b[0m",
      "\u001b[0;31mNameError\u001b[0m: name 'interpolated_spm' is not defined"
     ]
    }
   ],
   "source": [
    "interpolated_spm.shape"
   ]
  },
  {
   "cell_type": "code",
   "execution_count": 19,
   "metadata": {},
   "outputs": [
    {
     "data": {
      "text/plain": [
       "(145, 139208)"
      ]
     },
     "execution_count": 19,
     "metadata": {},
     "output_type": "execute_result"
    }
   ],
   "source": [
    "spm[fraction].shape"
   ]
  },
  {
   "cell_type": "code",
   "execution_count": 23,
   "metadata": {},
   "outputs": [
    {
     "data": {
      "text/plain": [
       "<class 'netCDF4._netCDF4.Variable'>\n",
       "float32 Mesh2_face_Schwebstoffgehalt_2d(nMesh2_data_time, nMesh2_suspension_classes, nMesh2_layer_2d, nMesh2_face)\n",
       "    long_name: Schwebstoffgehalt [ face ]\n",
       "    units: kg m-3\n",
       "    name_id: 7\n",
       "    _FillValue: 1e+31\n",
       "    ancillary_variables: Mesh2_face_Gesamtwassertiefe_2d SubMesh2_face_SubPolygon_Maske_2d\n",
       "    cell_measures: volume: Mesh2_face_Wasservolumen_2d area: Mesh2_face_Wasserflaeche_2d\n",
       "    cell_methods: nMesh2_data_time: point nMesh2_suspension_classes: point nMesh2_layer_2d: mean nMesh2_face: mean\n",
       "    comment: ancillary variables may be used for visualization and data analysis as threshold and plot subgrid mask\n",
       "    coordinates: Mesh2_face_lon Mesh2_face_lat Mesh2_face_x Mesh2_face_y Mesh2_face_z_face_2d Mesh2_Schwebstoffklassen_2d\n",
       "    grid_mapping: Mesh2_crs\n",
       "    standard_name: concentration_of_suspended_matter_in_sea_water\n",
       "    mesh: Mesh2\n",
       "    location: face\n",
       "unlimited dimensions: nMesh2_data_time\n",
       "current shape = (145, 6, 1, 139208)\n",
       "filling on"
      ]
     },
     "execution_count": 23,
     "metadata": {},
     "output_type": "execute_result"
    }
   ],
   "source": [
    "baw.variables['Mesh2_face_Schwebstoffgehalt_2d']"
   ]
  },
  {
   "cell_type": "code",
   "execution_count": 21,
   "metadata": {},
   "outputs": [
    {
     "name": "stdout",
     "output_type": "stream",
     "text": [
      "schout_272.nc ( 1 / 367 )\n",
      "schout_111.nc ( 2 / 367 )\n",
      "schout_199.nc ( 3 / 367 )\n",
      "schout_197.nc ( 4 / 367 )\n",
      "schout_156.nc ( 5 / 367 )\n",
      "schout_171.nc ( 6 / 367 )\n",
      "schout_63.nc ( 7 / 367 )\n",
      "schout_116.nc ( 8 / 367 )\n",
      "schout_252.nc ( 9 / 367 )\n",
      "schout_113.nc ( 10 / 367 )\n",
      "schout_294.nc ( 11 / 367 )\n",
      "schout_140.nc ( 12 / 367 )\n",
      "schout_73.nc ( 13 / 367 )\n",
      "schout_91.nc ( 14 / 367 )\n",
      "schout_350.nc ( 15 / 367 )\n",
      "schout_185.nc ( 16 / 367 )\n",
      "schout_139.nc ( 17 / 367 )\n",
      "schout_95.nc ( 18 / 367 )\n",
      "schout_179.nc ( 19 / 367 )\n",
      "schout_158.nc ( 20 / 367 )\n",
      "schout_92.nc ( 21 / 367 )\n",
      "schout_354.nc ( 22 / 367 )\n",
      "schout_321.nc ( 23 / 367 )\n",
      "schout_285.nc ( 24 / 367 )\n",
      "schout_60.nc ( 25 / 367 )\n",
      "schout_2.nc ( 26 / 367 )\n",
      "schout_284.nc ( 27 / 367 )\n",
      "schout_307.nc ( 28 / 367 )\n",
      "schout_226.nc ( 29 / 367 )\n",
      "schout_24.nc ( 30 / 367 )\n",
      "schout_65.nc ( 31 / 367 )\n",
      "schout_250.nc ( 32 / 367 )\n",
      "schout_155.nc ( 33 / 367 )\n",
      "schout_127.nc ( 34 / 367 )\n",
      "schout_132.nc ( 35 / 367 )\n",
      "schout_175.nc ( 36 / 367 )\n",
      "schout_47.nc ( 37 / 367 )\n",
      "schout_86.nc ( 38 / 367 )\n",
      "schout_67.nc ( 39 / 367 )\n",
      "schout_149.nc ( 40 / 367 )\n",
      "schout_174.nc ( 41 / 367 )\n",
      "schout_187.nc ( 42 / 367 )\n",
      "schout_298.nc ( 43 / 367 )\n",
      "schout_341.nc ( 44 / 367 )\n",
      "schout_55.nc ( 45 / 367 )\n",
      "schout_52.nc ( 46 / 367 )\n",
      "schout_277.nc ( 47 / 367 )\n",
      "schout_33.nc ( 48 / 367 )\n",
      "schout_159.nc ( 49 / 367 )\n",
      "schout_44.nc ( 50 / 367 )\n",
      "schout_193.nc ( 51 / 367 )\n",
      "schout_82.nc ( 52 / 367 )\n",
      "schout_133.nc ( 53 / 367 )\n",
      "schout_177.nc ( 54 / 367 )\n",
      "schout_142.nc ( 55 / 367 )\n",
      "schout_362.nc ( 56 / 367 )\n",
      "schout_328.nc ( 57 / 367 )\n",
      "schout_310.nc ( 58 / 367 )\n",
      "schout_3.nc ( 59 / 367 )\n",
      "schout_333.nc ( 60 / 367 )\n",
      "schout_349.nc ( 61 / 367 )\n",
      "schout_28.nc ( 62 / 367 )\n",
      "schout_337.nc ( 63 / 367 )\n",
      "schout_195.nc ( 64 / 367 )\n",
      "schout_257.nc ( 65 / 367 )\n",
      "schout_316.nc ( 66 / 367 )\n",
      "schout_267.nc ( 67 / 367 )\n",
      "schout_169.nc ( 68 / 367 )\n",
      "schout_271.nc ( 69 / 367 )\n",
      "schout_348.nc ( 70 / 367 )\n",
      "schout_358.nc ( 71 / 367 )\n",
      "schout_227.nc ( 72 / 367 )\n",
      "schout_114.nc ( 73 / 367 )\n",
      "schout_87.nc ( 74 / 367 )\n",
      "schout_167.nc ( 75 / 367 )\n",
      "schout_136.nc ( 76 / 367 )\n",
      "schout_144.nc ( 77 / 367 )\n",
      "schout_308.nc ( 78 / 367 )\n",
      "schout_36.nc ( 79 / 367 )\n",
      "schout_112.nc ( 80 / 367 )\n",
      "schout_189.nc ( 81 / 367 )\n",
      "schout_176.nc ( 82 / 367 )\n",
      "schout_248.nc ( 83 / 367 )\n",
      "schout_166.nc ( 84 / 367 )\n",
      "schout_97.nc ( 85 / 367 )\n",
      "schout_162.nc ( 86 / 367 )\n",
      "schout_101.nc ( 87 / 367 )\n",
      "schout_297.nc ( 88 / 367 )\n",
      "schout_46.nc ( 89 / 367 )\n",
      "schout_10.nc ( 90 / 367 )\n",
      "schout_222.nc ( 91 / 367 )\n",
      "schout_88.nc ( 92 / 367 )\n",
      "schout_25.nc ( 93 / 367 )\n",
      "schout_161.nc ( 94 / 367 )\n",
      "schout_343.nc ( 95 / 367 )\n",
      "schout_216.nc ( 96 / 367 )\n",
      "schout_293.nc ( 97 / 367 )\n",
      "schout_235.nc ( 98 / 367 )\n",
      "schout_239.nc ( 99 / 367 )\n",
      "schout_276.nc ( 100 / 367 )\n",
      "schout_286.nc ( 101 / 367 )\n",
      "schout_275.nc ( 102 / 367 )\n",
      "schout_77.nc ( 103 / 367 )\n",
      "schout_268.nc ( 104 / 367 )\n",
      "schout_173.nc ( 105 / 367 )\n",
      "schout_40.nc ( 106 / 367 )\n",
      "schout_99.nc ( 107 / 367 )\n",
      "schout_323.nc ( 108 / 367 )\n",
      "schout_14.nc ( 109 / 367 )\n",
      "schout_68.nc ( 110 / 367 )\n",
      "schout_138.nc ( 111 / 367 )\n",
      "schout_319.nc ( 112 / 367 )\n",
      "schout_9.nc ( 113 / 367 )\n",
      "schout_194.nc ( 114 / 367 )\n",
      "schout_225.nc ( 115 / 367 )\n",
      "schout_262.nc ( 116 / 367 )\n",
      "schout_247.nc ( 117 / 367 )\n",
      "schout_212.nc ( 118 / 367 )\n",
      "schout_130.nc ( 119 / 367 )\n",
      "schout_145.nc ( 120 / 367 )\n",
      "schout_45.nc ( 121 / 367 )\n",
      "schout_232.nc ( 122 / 367 )\n",
      "schout_240.nc ( 123 / 367 )\n",
      "schout_121.nc ( 124 / 367 )\n",
      "schout_278.nc ( 125 / 367 )\n",
      "schout_273.nc ( 126 / 367 )\n",
      "schout_241.nc ( 127 / 367 )\n",
      "schout_30.nc ( 128 / 367 )\n",
      "schout_94.nc ( 129 / 367 )\n",
      "schout_23.nc ( 130 / 367 )\n",
      "schout_228.nc ( 131 / 367 )\n",
      "schout_266.nc ( 132 / 367 )\n",
      "schout_49.nc ( 133 / 367 )\n",
      "schout_103.nc ( 134 / 367 )\n",
      "schout_229.nc ( 135 / 367 )\n",
      "schout_183.nc ( 136 / 367 )\n",
      "schout_296.nc ( 137 / 367 )\n",
      "schout_96.nc ( 138 / 367 )\n",
      "schout_318.nc ( 139 / 367 )\n",
      "schout_261.nc ( 140 / 367 )\n",
      "schout_254.nc ( 141 / 367 )\n",
      "schout_70.nc ( 142 / 367 )\n",
      "schout_259.nc ( 143 / 367 )\n",
      "schout_219.nc ( 144 / 367 )\n",
      "schout_15.nc ( 145 / 367 )\n",
      "schout_64.nc ( 146 / 367 )\n",
      "schout_320.nc ( 147 / 367 )\n",
      "schout_41.nc ( 148 / 367 )\n",
      "schout_18.nc ( 149 / 367 )\n",
      "schout_256.nc ( 150 / 367 )\n",
      "schout_220.nc ( 151 / 367 )\n",
      "schout_152.nc ( 152 / 367 )\n",
      "schout_335.nc ( 153 / 367 )\n",
      "schout_32.nc ( 154 / 367 )\n",
      "schout_289.nc ( 155 / 367 )\n",
      "schout_314.nc ( 156 / 367 )\n",
      "schout_306.nc ( 157 / 367 )\n",
      "schout_329.nc ( 158 / 367 )\n",
      "schout_292.nc ( 159 / 367 )\n",
      "schout_206.nc ( 160 / 367 )\n",
      "schout_8.nc ( 161 / 367 )\n",
      "schout_339.nc ( 162 / 367 )\n",
      "schout_224.nc ( 163 / 367 )\n",
      "schout_263.nc ( 164 / 367 )\n",
      "schout_211.nc ( 165 / 367 )\n",
      "schout_243.nc ( 166 / 367 )\n",
      "schout_299.nc ( 167 / 367 )\n",
      "schout_295.nc ( 168 / 367 )\n",
      "schout_270.nc ( 169 / 367 )\n",
      "schout_203.nc ( 170 / 367 )\n",
      "schout_11.nc ( 171 / 367 )\n",
      "schout_324.nc ( 172 / 367 )\n",
      "schout_56.nc ( 173 / 367 )\n",
      "schout_6.nc ( 174 / 367 )\n",
      "schout_210.nc ( 175 / 367 )\n",
      "schout_237.nc ( 176 / 367 )\n",
      "schout_90.nc ( 177 / 367 )\n",
      "schout_215.nc ( 178 / 367 )\n",
      "schout_76.nc ( 179 / 367 )\n",
      "schout_300.nc ( 180 / 367 )\n",
      "schout_291.nc ( 181 / 367 )\n",
      "schout_85.nc ( 182 / 367 )\n",
      "schout_160.nc ( 183 / 367 )\n",
      "schout_303.nc ( 184 / 367 )\n",
      "schout_153.nc ( 185 / 367 )\n",
      "schout_365.nc ( 186 / 367 )\n",
      "schout_312.nc ( 187 / 367 )\n",
      "schout_233.nc ( 188 / 367 )\n",
      "schout_242.nc ( 189 / 367 )\n",
      "schout_264.nc ( 190 / 367 )\n",
      "schout_188.nc ( 191 / 367 )\n",
      "schout_21.nc ( 192 / 367 )\n",
      "schout_137.nc ( 193 / 367 )\n",
      "schout_258.nc ( 194 / 367 )\n",
      "schout_214.nc ( 195 / 367 )\n",
      "schout_5.nc ( 196 / 367 )\n",
      "schout_309.nc ( 197 / 367 )\n",
      "schout_83.nc ( 198 / 367 )\n",
      "schout_122.nc ( 199 / 367 )\n",
      "schout_66.nc ( 200 / 367 )\n",
      "schout_331.nc ( 201 / 367 )\n",
      "schout_345.nc ( 202 / 367 )\n",
      "schout_126.nc ( 203 / 367 )\n",
      "schout_290.nc ( 204 / 367 )\n",
      "schout_255.nc ( 205 / 367 )\n",
      "schout_336.nc ( 206 / 367 )\n",
      "schout_51.nc ( 207 / 367 )\n",
      "schout_72.nc ( 208 / 367 )\n",
      "schout_39.nc ( 209 / 367 )\n",
      "schout_346.nc ( 210 / 367 )\n",
      "schout_342.nc ( 211 / 367 )\n",
      "schout_253.nc ( 212 / 367 )\n",
      "schout_236.nc ( 213 / 367 )\n",
      "schout_363.nc ( 214 / 367 )\n",
      "schout_163.nc ( 215 / 367 )\n",
      "schout_325.nc ( 216 / 367 )\n",
      "schout_35.nc ( 217 / 367 )\n",
      "schout_260.nc ( 218 / 367 )\n",
      "schout_59.nc ( 219 / 367 )\n",
      "schout_123.nc ( 220 / 367 )\n",
      "schout_54.nc ( 221 / 367 )\n",
      "schout_360.nc ( 222 / 367 )\n",
      "schout_62.nc ( 223 / 367 )\n",
      "schout_48.nc ( 224 / 367 )\n",
      "schout_74.nc ( 225 / 367 )\n",
      "schout_344.nc ( 226 / 367 )\n",
      "schout_106.nc ( 227 / 367 )\n",
      "schout_1.nc ( 228 / 367 )\n",
      "schout_340.nc ( 229 / 367 )\n",
      "schout_209.nc ( 230 / 367 )\n",
      "schout_4.nc ( 231 / 367 )\n",
      "schout_58.nc ( 232 / 367 )\n",
      "schout_351.nc ( 233 / 367 )\n",
      "schout_201.nc ( 234 / 367 )\n",
      "schout_22.nc ( 235 / 367 )\n",
      "schout_134.nc ( 236 / 367 )\n",
      "schout_125.nc ( 237 / 367 )\n",
      "schout_196.nc ( 238 / 367 )\n",
      "schout_31.nc ( 239 / 367 )\n",
      "schout_104.nc ( 240 / 367 )\n",
      "schout_204.nc ( 241 / 367 )\n",
      "schout_207.nc ( 242 / 367 )\n",
      "schout_191.nc ( 243 / 367 )\n",
      "schout_198.nc ( 245 / 367 )\n",
      "schout_69.nc ( 246 / 367 )\n",
      "schout_217.nc ( 247 / 367 )\n",
      "schout_213.nc ( 248 / 367 )\n",
      "schout_352.nc ( 249 / 367 )\n",
      "schout_37.nc ( 250 / 367 )\n",
      "schout_147.nc ( 251 / 367 )\n",
      "schout_326.nc ( 252 / 367 )\n",
      "schout_53.nc ( 253 / 367 )\n",
      "schout_154.nc ( 254 / 367 )\n",
      "schout_281.nc ( 255 / 367 )\n",
      "schout_265.nc ( 256 / 367 )\n",
      "schout_131.nc ( 257 / 367 )\n",
      "schout_181.nc ( 258 / 367 )\n",
      "schout_238.nc ( 259 / 367 )\n",
      "schout_338.nc ( 260 / 367 )\n",
      "schout_150.nc ( 261 / 367 )\n",
      "schout_190.nc ( 262 / 367 )\n",
      "schout_251.nc ( 263 / 367 )\n",
      "schout_287.nc ( 264 / 367 )\n",
      "schout_146.nc ( 265 / 367 )\n",
      "schout_124.nc ( 266 / 367 )\n",
      "schout_302.nc ( 267 / 367 )\n",
      "schout_279.nc ( 268 / 367 )\n",
      "schout_186.nc ( 269 / 367 )\n",
      "schout_192.nc ( 270 / 367 )\n",
      "schout_180.nc ( 271 / 367 )\n",
      "schout_269.nc ( 272 / 367 )\n",
      "schout_356.nc ( 273 / 367 )\n",
      "schout_128.nc ( 274 / 367 )\n",
      "schout_164.nc ( 275 / 367 )\n",
      "schout_311.nc ( 276 / 367 )\n",
      "schout_119.nc ( 277 / 367 )\n",
      "schout_330.nc ( 278 / 367 )\n",
      "schout_141.nc ( 279 / 367 )\n",
      "schout_249.nc ( 280 / 367 )\n",
      "schout_129.nc ( 281 / 367 )\n",
      "schout_157.nc ( 282 / 367 )\n",
      "schout_105.nc ( 283 / 367 )\n",
      "schout_57.nc ( 284 / 367 )\n",
      "schout_79.nc ( 285 / 367 )\n",
      "schout_71.nc ( 286 / 367 )\n",
      "schout_50.nc ( 287 / 367 )\n",
      "schout_120.nc ( 288 / 367 )\n",
      "schout_168.nc ( 289 / 367 )\n",
      "schout_107.nc ( 290 / 367 )\n",
      "schout_221.nc ( 291 / 367 )\n",
      "schout_26.nc ( 292 / 367 )\n",
      "schout_84.nc ( 293 / 367 )\n",
      "schout_231.nc ( 294 / 367 )\n",
      "schout_109.nc ( 295 / 367 )\n",
      "schout_366.nc ( 296 / 367 )\n",
      "schout_17.nc ( 297 / 367 )\n",
      "schout_29.nc ( 298 / 367 )\n",
      "schout_61.nc ( 299 / 367 )\n",
      "schout_202.nc ( 300 / 367 )\n",
      "schout_301.nc ( 301 / 367 )\n",
      "schout_244.nc ( 302 / 367 )\n",
      "schout_361.nc ( 303 / 367 )\n",
      "schout_353.nc ( 304 / 367 )\n",
      "schout_223.nc ( 305 / 367 )\n",
      "schout_80.nc ( 306 / 367 )\n",
      "schout_98.nc ( 307 / 367 )\n",
      "schout_274.nc ( 308 / 367 )\n",
      "schout_100.nc ( 309 / 367 )\n",
      "schout_117.nc ( 310 / 367 )\n",
      "schout_102.nc ( 311 / 367 )\n",
      "schout_288.nc ( 312 / 367 )\n",
      "schout_78.nc ( 313 / 367 )\n",
      "schout_357.nc ( 314 / 367 )\n",
      "schout_334.nc ( 315 / 367 )\n",
      "schout_12.nc ( 316 / 367 )\n",
      "schout_230.nc ( 317 / 367 )\n",
      "schout_118.nc ( 318 / 367 )\n",
      "schout_170.nc ( 319 / 367 )\n",
      "schout_165.nc ( 320 / 367 )\n",
      "schout_305.nc ( 321 / 367 )\n",
      "schout_27.nc ( 322 / 367 )\n",
      "schout_42.nc ( 323 / 367 )\n",
      "schout_182.nc ( 324 / 367 )\n",
      "schout_246.nc ( 325 / 367 )\n",
      "schout_7.nc ( 326 / 367 )\n",
      "schout_115.nc ( 327 / 367 )\n",
      "schout_75.nc ( 328 / 367 )\n",
      "schout_205.nc ( 329 / 367 )\n",
      "schout_110.nc ( 330 / 367 )\n",
      "schout_313.nc ( 331 / 367 )\n",
      "schout_359.nc ( 332 / 367 )\n",
      "schout_143.nc ( 333 / 367 )\n",
      "schout_283.nc ( 334 / 367 )\n",
      "schout_317.nc ( 335 / 367 )\n",
      "schout_304.nc ( 336 / 367 )\n",
      "schout_200.nc ( 337 / 367 )\n",
      "schout_172.nc ( 338 / 367 )\n",
      "schout_13.nc ( 339 / 367 )\n",
      "schout_148.nc ( 340 / 367 )\n",
      "schout_280.nc ( 341 / 367 )\n",
      "schout_282.nc ( 342 / 367 )\n",
      "schout_16.nc ( 343 / 367 )\n",
      "schout_178.nc ( 344 / 367 )\n",
      "schout_327.nc ( 345 / 367 )\n",
      "schout_245.nc ( 346 / 367 )\n",
      "schout_151.nc ( 347 / 367 )\n",
      "schout_322.nc ( 348 / 367 )\n",
      "schout_43.nc ( 349 / 367 )\n",
      "schout_347.nc ( 350 / 367 )\n",
      "schout_93.nc ( 351 / 367 )\n",
      "schout_89.nc ( 352 / 367 )\n",
      "schout_208.nc ( 353 / 367 )\n",
      "schout_332.nc ( 354 / 367 )\n",
      "schout_20.nc ( 355 / 367 )\n",
      "schout_355.nc ( 356 / 367 )\n",
      "schout_81.nc ( 357 / 367 )\n",
      "schout_135.nc ( 358 / 367 )\n",
      "schout_108.nc ( 359 / 367 )\n",
      "schout_19.nc ( 360 / 367 )\n",
      "schout_364.nc ( 361 / 367 )\n",
      "schout_234.nc ( 362 / 367 )\n",
      "schout_315.nc ( 363 / 367 )\n",
      "schout_218.nc ( 364 / 367 )\n",
      "schout_184.nc ( 365 / 367 )\n",
      "schout_38.nc ( 366 / 367 )\n",
      "schout_34.nc ( 367 / 367 )\n"
     ]
    }
   ],
   "source": [
    "\n",
    "\n",
    "# Define your turbidity data - for this example, I'm just creating dummy data.\n",
    "# In reality, you should replace this with your actual turbidity data.\n",
    "\n",
    "\n"
   ]
  },
  {
   "cell_type": "code",
   "execution_count": 123,
   "metadata": {},
   "outputs": [
    {
     "name": "stdout",
     "output_type": "stream",
     "text": [
      "Mesh2_node_x\n",
      "Mesh2_node_y\n",
      "Mesh2_face_x\n",
      "Mesh2_face_y\n",
      "Mesh2_node_lon\n",
      "Mesh2_node_lat\n",
      "Mesh2_face_lon\n",
      "Mesh2_face_lat\n",
      "nMesh2_time\n",
      "nMesh2_time_bnd\n",
      "Mesh2_crs\n",
      "Mesh2_edge_bc\n",
      "Mesh2_edge_x\n",
      "Mesh2_edge_y\n",
      "Mesh2_edge_x_bnd\n",
      "Mesh2_edge_y_bnd\n",
      "Mesh2_edge_lon\n",
      "Mesh2_edge_lat\n",
      "Mesh2_edge_lon_bnd\n",
      "Mesh2_edge_lat_bnd\n",
      "Mesh2_face_x_bnd\n",
      "Mesh2_face_y_bnd\n",
      "Mesh2_face_lon_bnd\n",
      "Mesh2_face_lat_bnd\n",
      "Mesh2_face_center_x\n",
      "Mesh2_face_center_y\n",
      "Mesh2_face_center_lon\n",
      "Mesh2_face_center_lat\n",
      "Mesh2_edge_nodes\n",
      "Mesh2_edge_faces\n",
      "Mesh2_face_nodes\n",
      "Mesh2_face_edges\n",
      "Mesh2_face_colour\n",
      "Mesh2_face_bc\n",
      "Mesh2_mean_grid_lat\n",
      "SubMesh2_face_x\n",
      "SubMesh2_face_y\n",
      "SubMesh2_face_x_bnd\n",
      "SubMesh2_face_y_bnd\n",
      "SubMesh2_face_lon\n",
      "SubMesh2_face_lat\n",
      "SubMesh2_face_lon_bnd\n",
      "SubMesh2_face_lat_bnd\n",
      "SubMesh2_edge_x\n",
      "SubMesh2_edge_y\n",
      "SubMesh2_edge_x_bnd\n",
      "SubMesh2_edge_y_bnd\n",
      "SubMesh2_edge_lon\n",
      "SubMesh2_edge_lat\n",
      "SubMesh2_edge_lon_bnd\n",
      "SubMesh2_edge_lat_bnd\n",
      "SubMesh2_face_contact\n",
      "SubMesh2_edge_contact\n",
      "Mesh2\n",
      "SubMesh2\n",
      "Combined_Mesh2_and_SubMesh2\n",
      "Mesh2_face_Schwebstoffgehalt_2d\n",
      "Mesh2_face_Wasserflaeche_2d\n",
      "Mesh2_face_Wasservolumen_2d\n",
      "SubMesh2_face_SubPolygon_Maske_2d\n",
      "SubMesh2_edge_SubKanten_Maske_2d\n",
      "nMesh2_layer_2d\n",
      "nMesh2_data_time\n",
      "Mesh2_face_z_face_2d\n",
      "Mesh2_face_z_face_bnd_2d\n",
      "Mesh2_face_Gesamtwassertiefe_2d\n",
      "Mesh2_edge_z_edge_2d\n",
      "Mesh2_edge_z_edge_bnd_2d\n",
      "Mesh2_Schwebstoffklassen_2d\n",
      "nMesh2_layer_2d_bnd\n",
      "dmqs_steering\n",
      "dmqs_data_path_file\n",
      "dmqs_method\n",
      "dmqs_execution_start\n",
      "dmqs_sim_time_step\n",
      "dmqs\n",
      "md5sum_m_nccutout_steer\n",
      "contents_m_nccutout_steer_nccutout\n"
     ]
    }
   ],
   "source": [
    "df = Dataset('/scratch/local1/spm/f.IZHel_u09_024_val2_netcdf.2D.cut.nc')\n",
    "# df.variables.keys()\n",
    "\n",
    "_ = [print(item) for item in df.variables.keys()]\n"
   ]
  },
  {
   "cell_type": "code",
   "execution_count": 128,
   "metadata": {},
   "outputs": [
    {
     "data": {
      "text/plain": [
       "'/net/themis/system/akprog/bin/i18/untrim2009_2020_01_16.i18 (P_UTROMP2009_UI, Version = 4.6, Datum = 01/10/19)                                                                                                                                  '"
      ]
     },
     "execution_count": 128,
     "metadata": {},
     "output_type": "execute_result"
    }
   ],
   "source": [
    "df.variables['dmqs_method'][:]\n",
    "\n",
    "''.join([byte.decode('utf-8') for byte in df.variables['dmqs_method'][0].data])"
   ]
  },
  {
   "cell_type": "code",
   "execution_count": 113,
   "metadata": {},
   "outputs": [
    {
     "name": "stdout",
     "output_type": "stream",
     "text": [
      "Mesh2_face_Schwebstoffgehalt_2d\n",
      "Mesh2_Schwebstoffklassen_2d\n"
     ]
    },
    {
     "data": {
      "text/plain": [
       "<class 'netCDF4._netCDF4.Variable'>\n",
       "float32 Mesh2_face_Schwebstoffgehalt_2d(nMesh2_data_time, nMesh2_suspension_classes, nMesh2_layer_2d, nMesh2_face)\n",
       "    long_name: Schwebstoffgehalt [ face ]\n",
       "    units: kg m-3\n",
       "    name_id: 7\n",
       "    _FillValue: 1e+31\n",
       "    ancillary_variables: Mesh2_face_Gesamtwassertiefe_2d SubMesh2_face_SubPolygon_Maske_2d\n",
       "    cell_measures: volume: Mesh2_face_Wasservolumen_2d area: Mesh2_face_Wasserflaeche_2d\n",
       "    cell_methods: nMesh2_data_time: point nMesh2_suspension_classes: point nMesh2_layer_2d: mean nMesh2_face: mean\n",
       "    comment: ancillary variables may be used for visualization and data analysis as threshold and plot subgrid mask\n",
       "    coordinates: Mesh2_face_lon Mesh2_face_lat Mesh2_face_x Mesh2_face_y Mesh2_face_z_face_2d Mesh2_Schwebstoffklassen_2d\n",
       "    grid_mapping: Mesh2_crs\n",
       "    standard_name: concentration_of_suspended_matter_in_sea_water\n",
       "    mesh: Mesh2\n",
       "    location: face\n",
       "unlimited dimensions: nMesh2_data_time\n",
       "current shape = (17551, 6, 1, 96160)\n",
       "filling off"
      ]
     },
     "execution_count": 113,
     "metadata": {},
     "output_type": "execute_result"
    }
   ],
   "source": [
    "\n",
    "# print all keys with \"schweb\" in it\n",
    "[print(item) for item in df.variables.keys() if 'schweb' in item.lower()]\n",
    "\n",
    "df.variables['Mesh2_face_Schwebstoffgehalt_2d']\n"
   ]
  },
  {
   "cell_type": "code",
   "execution_count": 114,
   "metadata": {},
   "outputs": [
    {
     "name": "stdout",
     "output_type": "stream",
     "text": [
      "nMesh2_time\n",
      "nMesh2_time_bnd\n",
      "nMesh2_data_time\n",
      "dmqs_sim_time_step\n"
     ]
    },
    {
     "data": {
      "text/plain": [
       "[None, None, None, None]"
      ]
     },
     "execution_count": 114,
     "metadata": {},
     "output_type": "execute_result"
    }
   ],
   "source": [
    "# print all keys with time in it\n",
    "[print(item) for item in df.variables.keys() if 'time' in item.lower()]\n"
   ]
  },
  {
   "cell_type": "code",
   "execution_count": 121,
   "metadata": {},
   "outputs": [
    {
     "data": {
      "text/plain": [
       "<class 'netCDF4._netCDF4.Variable'>\n",
       "float64 nMesh2_time_bnd(nMesh2_time, two)\n",
       "unlimited dimensions: \n",
       "current shape = (1, 2)\n",
       "filling off"
      ]
     },
     "execution_count": 121,
     "metadata": {},
     "output_type": "execute_result"
    }
   ],
   "source": [
    "df.variables['nMesh2_time_bnd']"
   ]
  },
  {
   "cell_type": "code",
   "execution_count": 132,
   "metadata": {},
   "outputs": [],
   "source": [
    "df = Dataset('/scratch/local1/hzg2/schout_1.nc')"
   ]
  },
  {
   "cell_type": "code",
   "execution_count": 133,
   "metadata": {},
   "outputs": [
    {
     "data": {
      "text/plain": [
       "<class 'netCDF4._netCDF4.Variable'>\n",
       "float32 TKE(time, nSCHISM_hgrid_node, nSCHISM_vgrid_layers)\n",
       "    missing_value: 9.96921e+36\n",
       "    mesh: SCHISM_hgrid\n",
       "    data_horizontal_center: node\n",
       "    data_vertical_center: full\n",
       "    i23d: 2\n",
       "    ivs: 1\n",
       "unlimited dimensions: time\n",
       "current shape = (24, 32432, 21)\n",
       "filling on, default _FillValue of 9.969209968386869e+36 used"
      ]
     },
     "execution_count": 133,
     "metadata": {},
     "output_type": "execute_result"
    }
   ],
   "source": [
    "df.variables['TKE']"
   ]
  }
 ],
 "metadata": {
  "kernelspec": {
   "display_name": "base",
   "language": "python",
   "name": "python3"
  },
  "language_info": {
   "codemirror_mode": {
    "name": "ipython",
    "version": 3
   },
   "file_extension": ".py",
   "mimetype": "text/x-python",
   "name": "python",
   "nbconvert_exporter": "python",
   "pygments_lexer": "ipython3",
   "version": "3.9.7"
  },
  "orig_nbformat": 4
 },
 "nbformat": 4,
 "nbformat_minor": 2
}
