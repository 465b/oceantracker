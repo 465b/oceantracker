{
 "cells": [
  {
   "cell_type": "code",
   "execution_count": 1,
   "metadata": {},
   "outputs": [],
   "source": [
    "from netCDF4 import Dataset"
   ]
  },
  {
   "cell_type": "code",
   "execution_count": 2,
   "metadata": {},
   "outputs": [],
   "source": [
    "df = Dataset('/scratch/local1/hzg2/schout_1.nc')"
   ]
  },
  {
   "cell_type": "code",
   "execution_count": 4,
   "metadata": {},
   "outputs": [
    {
     "name": "stdout",
     "output_type": "stream",
     "text": [
      "time\n",
      "SCHISM_hgrid\n",
      "SCHISM_hgrid_face_nodes\n",
      "SCHISM_hgrid_edge_nodes\n",
      "SCHISM_hgrid_node_x\n",
      "SCHISM_hgrid_node_y\n",
      "node_bottom_index\n",
      "SCHISM_hgrid_face_x\n",
      "SCHISM_hgrid_face_y\n",
      "ele_bottom_index\n",
      "SCHISM_hgrid_edge_x\n",
      "SCHISM_hgrid_edge_y\n",
      "edge_bottom_index\n",
      "depth\n",
      "sigma\n",
      "dry_value_flag\n",
      "coordinate_system_flag\n",
      "minimum_depth\n",
      "sigma_h_c\n",
      "sigma_theta_b\n",
      "sigma_theta_f\n",
      "sigma_maxdepth\n",
      "Cs\n",
      "wetdry_elem\n",
      "zcor\n",
      "elev\n",
      "bottom_stress\n",
      "vertical_velocity\n",
      "temp\n",
      "salt\n",
      "diffusivity\n",
      "TKE\n",
      "hvel\n",
      "ECO_no3\n",
      "ECO_nh4\n",
      "ECO_pho\n",
      "ECO_sil\n",
      "ECO_oxy\n",
      "ECO_fla\n",
      "ECO_dia\n",
      "ECO_bg\n",
      "ECO_bgchl\n",
      "ECO_diachl\n",
      "ECO_flachl\n",
      "ECO_microzoo\n",
      "ECO_mesozoo\n",
      "ECO_det\n",
      "ECO_opa\n",
      "ECO_dom\n",
      "ECO_sed1\n",
      "ECO_sed2\n",
      "ECO_sed3\n",
      "turbidity\n"
     ]
    }
   ],
   "source": [
    "_ = [print(i) for i in df.variables.keys()]"
   ]
  },
  {
   "cell_type": "code",
   "execution_count": 5,
   "metadata": {},
   "outputs": [
    {
     "data": {
      "text/plain": [
       "<class 'netCDF4._netCDF4.Variable'>\n",
       "float32 TKE(time, nSCHISM_hgrid_node, nSCHISM_vgrid_layers)\n",
       "    missing_value: 9.96921e+36\n",
       "    mesh: SCHISM_hgrid\n",
       "    data_horizontal_center: node\n",
       "    data_vertical_center: full\n",
       "    i23d: 2\n",
       "    ivs: 1\n",
       "unlimited dimensions: time\n",
       "current shape = (24, 32432, 21)\n",
       "filling on, default _FillValue of 9.969209968386869e+36 used"
      ]
     },
     "execution_count": 5,
     "metadata": {},
     "output_type": "execute_result"
    }
   ],
   "source": [
    "df.variables['TKE']"
   ]
  }
 ],
 "metadata": {
  "kernelspec": {
   "display_name": "base",
   "language": "python",
   "name": "python3"
  },
  "language_info": {
   "codemirror_mode": {
    "name": "ipython",
    "version": 3
   },
   "file_extension": ".py",
   "mimetype": "text/x-python",
   "name": "python",
   "nbconvert_exporter": "python",
   "pygments_lexer": "ipython3",
   "version": "3.9.7"
  }
 },
 "nbformat": 4,
 "nbformat_minor": 2
}
