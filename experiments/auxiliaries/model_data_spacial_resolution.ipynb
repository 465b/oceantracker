{
 "cells": [
  {
   "cell_type": "markdown",
   "metadata": {},
   "source": [
    "# looking at distance between nodes to get a sense of the resolution"
   ]
  },
  {
   "cell_type": "code",
   "execution_count": 2,
   "metadata": {},
   "outputs": [],
   "source": [
    "import numpy as np\n",
    "from netCDF4 import Dataset\n",
    "import matplotlib.pyplot as plt"
   ]
  },
  {
   "cell_type": "code",
   "execution_count": 3,
   "metadata": {},
   "outputs": [],
   "source": [
    "grid = Dataset('/scratch/local1/output/22_11_01_depth_losses_v06/22_11_01_depth_losses_v06_grid.nc')"
   ]
  },
  {
   "cell_type": "code",
   "execution_count": 4,
   "metadata": {},
   "outputs": [],
   "source": [
    "x = grid.variables['x']\n",
    "tri = grid.variables['triangles']"
   ]
  },
  {
   "cell_type": "code",
   "execution_count": 5,
   "metadata": {},
   "outputs": [
    {
     "data": {
      "text/plain": [
       "60213"
      ]
     },
     "execution_count": 5,
     "metadata": {},
     "output_type": "execute_result"
    }
   ],
   "source": [
    "len(tri)"
   ]
  },
  {
   "cell_type": "code",
   "execution_count": 6,
   "metadata": {},
   "outputs": [
    {
     "name": "stdout",
     "output_type": "stream",
     "text": [
      "0\n",
      "1000\n",
      "2000\n",
      "3000\n",
      "4000\n",
      "5000\n",
      "6000\n",
      "7000\n",
      "8000\n",
      "9000\n",
      "10000\n",
      "11000\n",
      "12000\n",
      "13000\n",
      "14000\n",
      "15000\n",
      "16000\n",
      "17000\n",
      "18000\n",
      "19000\n",
      "20000\n",
      "21000\n",
      "22000\n",
      "23000\n",
      "24000\n",
      "25000\n",
      "26000\n",
      "27000\n",
      "28000\n",
      "29000\n",
      "30000\n",
      "31000\n",
      "32000\n",
      "33000\n",
      "34000\n",
      "35000\n",
      "36000\n",
      "37000\n",
      "38000\n",
      "39000\n",
      "40000\n",
      "41000\n",
      "42000\n",
      "43000\n",
      "44000\n",
      "45000\n",
      "46000\n",
      "47000\n",
      "48000\n",
      "49000\n",
      "50000\n",
      "51000\n",
      "52000\n",
      "53000\n",
      "54000\n",
      "55000\n",
      "56000\n",
      "57000\n",
      "58000\n",
      "59000\n",
      "60000\n"
     ]
    }
   ],
   "source": [
    "# calculate the distance between all neigbouring nodes\n",
    "\n",
    "d = np.empty((len(tri), 3))\n",
    "for i in range(len(tri)):\n",
    "    if i % 1000 == 0:\n",
    "        print(i)\n",
    "    d[i, 0] = np.sqrt((x[tri[i, 0], 0] - x[tri[i, 1], 0])**2 + (x[tri[i, 0], 1] - x[tri[i, 1], 1])**2)\n",
    "    d[i, 1] = np.sqrt((x[tri[i, 1], 0] - x[tri[i, 2], 0])**2 + (x[tri[i, 1], 1] - x[tri[i, 2], 1])**2)\n",
    "    d[i, 2] = np.sqrt((x[tri[i, 2], 0] - x[tri[i, 0], 0])**2 + (x[tri[i, 2], 1] - x[tri[i, 0], 1])**2)\n"
   ]
  },
  {
   "cell_type": "code",
   "execution_count": 7,
   "metadata": {},
   "outputs": [],
   "source": [
    "# average the distances oer triangle\n",
    "d = np.average(d, axis=1)"
   ]
  },
  {
   "cell_type": "code",
   "execution_count": 22,
   "metadata": {},
   "outputs": [
    {
     "data": {
      "image/png": "[encoded data removed]",
      "text/plain": [
       "<Figure size 432x288 with 1 Axes>"
      ]
     },
     "metadata": {
      "needs_background": "light"
     },
     "output_type": "display_data"
    },
    {
     "name": "stdout",
     "output_type": "stream",
     "text": [
      "255.6110675058509\n",
      "208.22832140995752\n",
      "60.604003167522066 71.82267035181576\n"
     ]
    }
   ],
   "source": [
    "# plot histogram of distances\n",
    "# and print mean, median and mode\n",
    "\n",
    "out = plt.hist(d, bins=100)\n",
    "counts = out[0]\n",
    "bins = out[1]\n",
    "plt.show()\n",
    "print(np.mean(d))\n",
    "print(np.median(d))\n",
    "# mode\n",
    "print(bins[np.argmax(counts)],bins[np.argmax(counts)+1])\n"
   ]
  }
 ],
 "metadata": {
  "kernelspec": {
   "display_name": "Python 3",
   "language": "python",
   "name": "python3"
  },
  "language_info": {
   "codemirror_mode": {
    "name": "ipython",
    "version": 3
   },
   "file_extension": ".py",
   "mimetype": "text/x-python",
   "name": "python",
   "nbconvert_exporter": "python",
   "pygments_lexer": "ipython3",
   "version": "3.9.7"
  },
  "orig_nbformat": 4
 },
 "nbformat": 4,
 "nbformat_minor": 2
}
