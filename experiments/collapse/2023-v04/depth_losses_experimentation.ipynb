{
 "cells": [
  {
   "cell_type": "code",
   "execution_count": 1,
   "metadata": {},
   "outputs": [],
   "source": [
    "import os\n",
    "import numpy as np\n",
    "import matplotlib.pyplot as plt\n",
    "import netCDF4 as nc\n",
    "from datetime import datetime\n",
    "\n",
    "# from oceantracker.post_processing.read_output_files import load_output_files \n",
    "from oceantracker.util.polygon_util import InsidePolygon\n",
    "from oceantracker.post_processing.read_output_files.load_output_files import load_grid\n",
    "# from oceantracker.post_processing.plotting import plot_statistics\n",
    "# from oceantracker.post_processing.plotting import stats_plot \n"
   ]
  },
  {
   "cell_type": "code",
   "execution_count": 2,
   "metadata": {},
   "outputs": [
    {
     "data": {
      "text/plain": [
       "<class 'netCDF4._netCDF4.Dataset'>\n",
       "root group (NETCDF4_CLASSIC data model, file format HDF5):\n",
       "    history: Mon Feb 22 10:38:55 2021: ncks -d nMesh2_data_time,3660,3804 f.AZHel_FT_REF.3D.nc f.AZHel_FT_REF.3D.cut.nc\n",
       "02/26/2020-12:08:05.748000000 CET, /net/themis/system/akprog/bin/i18/untrim2009_2020_01_30.i18, Grid_File\\n02/26/2020-12:23:25.009000000 CET, /net/themis/system/akprog/bin/i18/untrim2009_2020_01_30.i18, utromp2009.dat\n",
       "    comment: Referenzlauf Forum Tideelbe\n",
       "    geospatial_lat_min: 53.05845720212422\n",
       "    geospatial_lat_max: 54.30507061103671\n",
       "    geospatial_lat_units: degrees_north\n",
       "    geospatial_lat_resolution: on average     191.15 meters\n",
       "    geospatial_lon_min: 7.678374981676119\n",
       "    geospatial_lon_max: 10.337266214791454\n",
       "    geospatial_lon_units: degrees_east\n",
       "    geospatial_lon_resolution: on average     191.15 meters\n",
       "    title: Elbe: Modellaufbau 2016\n",
       "    Conventions: CF-1.7, UGRID-1.0, GDI-BAW-1.3\n",
       "    institution: Bundesanstalt fuer Wasserbau - Federal Waterways Engineering and Research Institute\n",
       "    references: http://www.baw.de/methoden/index.php/NetCDF\n",
       "    source: UnTRIM2 http://www.baw.de/methoden/index.php5/Mathematisches_Verfahren_UNTRIM2\n",
       "    baw_psp_element: B3955.03.01.10231\n",
       "    summary: Modellaufbau und Kalibrierung Elbe 2016\n",
       "    creator_name: T�rber, Marissa\n",
       "    creator_email: marissa.toerber@baw.de\n",
       "    publisher_email: info@baw.de\n",
       "    naming_authority: de.baw\n",
       "    publisher_name: BAW - Abteilung Wasserbau - Hydraulic Engineering - Hamburg\n",
       "    publisher_url: https://www.baw.de\n",
       "    dmqs_variant: AZHel\n",
       "    dmqs_scenario: 2016\n",
       "    dmqs_run: FT_REF\n",
       "    creator_role: principalInvestigator\n",
       "    dmqs_geo_id: 0700\n",
       "    uuid: 70f68c9c-588a-11ea-a548-a4bf012cbd44\n",
       "    dmqs_file_title: Synoptische Ergebnisse des HN-Modells UnTRIM2 (SubGrid) aus f.AZHel_FT_REF.3D.nc\n",
       "    time_coverage_start: 2016-04-19T14:00:00+01:00\n",
       "    time_coverage_end: 2016-05-20T12:00:00+01:00\n",
       "    time_coverage_resolution: P000000DT00H10M00S\n",
       "    date_created: 2020-02-26T12:23:24.562000000+01:00\n",
       "    standard_name_vocabulary: CF-1.7, UGRID-1.0, GDI-BAW-1.3\n",
       "    max_source_dimensionality: 3D\n",
       "    dmqs_run_uuid: 3ecaffb6-5888-11ea-bbc4-a4bf012cbd44\n",
       "    date_modified: 2020-02-29T16:09:59.282000000+01:00\n",
       "    NCO: 4.7.1\n",
       "    dimensions(sizes): nMesh2_suspension_classes(6), nMesh2_class_names_strlen(80), nMesh2_data_time(145), nMesh2_layer_3d(37), nMesh2_edge(232996), two(2), nMesh2_face(139208), nMaxMesh2_face_nodes(4), nMesh2_time(1), nMaxMesh2_subedgeclass(1), nMaxMesh2_subfaceclass(1), nMesh2_node(93761), nSubMesh2_edge(218722), nSubMesh2_face(139208), nMaxSubMesh2_face_nodes(4), max_m_untrim2009_steer_eqs(8), max_lines_char(240), max_m_untrim2009_steer_sedimorph(111), max_m_untrim2009_steer_sv(37), max_m_untrim2009_steer_untrim2009_main(18), max_m_untrim2009_steer_utromp2009(7306), max_m_utromp2009_steer_z_layer(40), nof_dmqs_processing_steps(1), dmqs_strlen(240), max_md5sum_m_untrim2009_steer(5), max_md5sum_char(377), max_md5sum_m_utromp2009_steer(12)\n",
       "    variables(dimensions): int32 Combined_Mesh2_and_SubMesh2(), int32 Mesh2(), |S1 Mesh2_Schwebstoffklassen_2d(nMesh2_suspension_classes, nMesh2_class_names_strlen), int32 Mesh2_crs(), float32 Mesh2_edge_Durchflussflaeche_3d(nMesh2_data_time, nMesh2_layer_3d, nMesh2_edge), float32 Mesh2_edge_Gesamtwassertiefe_an_Kanten_2d(nMesh2_data_time, nMesh2_edge), float32 Mesh2_edge_Stroemungsgeschwindigkeit_x_R_3d(nMesh2_data_time, nMesh2_layer_3d, nMesh2_edge), float32 Mesh2_edge_Stroemungsgeschwindigkeit_y_R_3d(nMesh2_data_time, nMesh2_layer_3d, nMesh2_edge), float32 Mesh2_edge_Stroemungsgeschwindigkeit_z_R_3d(nMesh2_data_time, nMesh2_layer_3d, nMesh2_edge), int32 Mesh2_edge_bc(nMesh2_edge), int32 Mesh2_edge_faces(nMesh2_edge, two), float64 Mesh2_edge_lat(nMesh2_edge), float64 Mesh2_edge_lat_bnd(nMesh2_edge, two), float64 Mesh2_edge_lon(nMesh2_edge), float64 Mesh2_edge_lon_bnd(nMesh2_edge, two), float32 Mesh2_edge_nasse_Laenge_an_Kanten_2d(nMesh2_data_time, nMesh2_edge), int32 Mesh2_edge_nodes(nMesh2_edge, two), float32 Mesh2_edge_skalare_Stroemungsgeschwindigkeit_3d(nMesh2_data_time, nMesh2_layer_3d, nMesh2_edge), float64 Mesh2_edge_x(nMesh2_edge), float64 Mesh2_edge_x_bnd(nMesh2_edge, two), float64 Mesh2_edge_y(nMesh2_edge), float64 Mesh2_edge_y_bnd(nMesh2_edge, two), float32 Mesh2_edge_z_edge_3d(nMesh2_data_time, nMesh2_layer_3d, nMesh2_edge), float32 Mesh2_edge_z_edge_bnd_3d(nMesh2_data_time, nMesh2_layer_3d, nMesh2_edge, two), float32 Mesh2_face_Gesamtwassertiefe_2d(nMesh2_data_time, nMesh2_face), float32 Mesh2_face_Salzgehalt_3d(nMesh2_data_time, nMesh2_layer_3d, nMesh2_face), float32 Mesh2_face_Schwebstoffgehalt_3d(nMesh2_data_time, nMesh2_suspension_classes, nMesh2_layer_3d, nMesh2_face), float32 Mesh2_face_Temperatur_3d(nMesh2_data_time, nMesh2_layer_3d, nMesh2_face), float32 Mesh2_face_Wasserflaeche_2d(nMesh2_data_time, nMesh2_face), float32 Mesh2_face_Wasserstand_2d(nMesh2_data_time, nMesh2_face), float32 Mesh2_face_Wasservolumen_3d(nMesh2_data_time, nMesh2_layer_3d, nMesh2_face), int32 Mesh2_face_bc(nMesh2_face), float64 Mesh2_face_center_lat(nMesh2_face), float64 Mesh2_face_center_lon(nMesh2_face), float64 Mesh2_face_center_x(nMesh2_face), float64 Mesh2_face_center_y(nMesh2_face), int32 Mesh2_face_colour(nMesh2_face), int32 Mesh2_face_edges(nMesh2_face, nMaxMesh2_face_nodes), float64 Mesh2_face_lat(nMesh2_face), float64 Mesh2_face_lat_bnd(nMesh2_face, nMaxMesh2_face_nodes), float64 Mesh2_face_lon(nMesh2_face), float64 Mesh2_face_lon_bnd(nMesh2_face, nMaxMesh2_face_nodes), int32 Mesh2_face_nodes(nMesh2_face, nMaxMesh2_face_nodes), float64 Mesh2_face_x(nMesh2_face), float64 Mesh2_face_x_bnd(nMesh2_face, nMaxMesh2_face_nodes), float64 Mesh2_face_y(nMesh2_face), float64 Mesh2_face_y_bnd(nMesh2_face, nMaxMesh2_face_nodes), float32 Mesh2_face_z_face_3d(nMesh2_data_time, nMesh2_layer_3d, nMesh2_face), float32 Mesh2_face_z_face_bnd_3d(nMesh2_data_time, nMesh2_layer_3d, nMesh2_face, two), float64 Mesh2_max_subedgeclass_depth(nMesh2_time, nMesh2_edge, nMaxMesh2_subedgeclass), float64 Mesh2_max_subfaceclass_depth(nMesh2_time, nMesh2_face, nMaxMesh2_subfaceclass), float64 Mesh2_mean_grid_lat(), float64 Mesh2_node_lat(nMesh2_node), float64 Mesh2_node_lon(nMesh2_node), float64 Mesh2_node_x(nMesh2_node), float64 Mesh2_node_y(nMesh2_node), float64 Mesh2_subedgeclass_length(nMesh2_edge, nMaxMesh2_subedgeclass), float64 Mesh2_subfaceclass_area(nMesh2_face, nMaxMesh2_subfaceclass), int32 SubMesh2(), int8 SubMesh2_edge_SubKanten_Maske_3d(nMesh2_data_time, nMesh2_layer_3d, nSubMesh2_edge), int8 SubMesh2_edge_SubKanten_Maske_Aux_2d(nMesh2_data_time, nSubMesh2_edge), int32 SubMesh2_edge_class_contact(nSubMesh2_edge, two), int32 SubMesh2_edge_contact(nSubMesh2_edge, two), float64 SubMesh2_edge_depth(nMesh2_time, nSubMesh2_edge), float64 SubMesh2_edge_lat(nSubMesh2_edge), float64 SubMesh2_edge_lat_bnd(nSubMesh2_edge, two), float64 SubMesh2_edge_lon(nSubMesh2_edge), float64 SubMesh2_edge_lon_bnd(nSubMesh2_edge, two), float64 SubMesh2_edge_x(nSubMesh2_edge), float64 SubMesh2_edge_x_bnd(nSubMesh2_edge, two), float64 SubMesh2_edge_y(nSubMesh2_edge), float64 SubMesh2_edge_y_bnd(nSubMesh2_edge, two), int8 SubMesh2_face_SubPolygon_Maske_3d(nMesh2_data_time, nMesh2_layer_3d, nSubMesh2_face), int8 SubMesh2_face_SubPolygon_Maske_Aux_2d(nMesh2_data_time, nSubMesh2_face), float64 SubMesh2_face_area(nSubMesh2_face), int32 SubMesh2_face_class_contact(nSubMesh2_face, two), int32 SubMesh2_face_contact(nSubMesh2_face, two), float64 SubMesh2_face_depth(nMesh2_time, nSubMesh2_face), float64 SubMesh2_face_lat(nSubMesh2_face), float64 SubMesh2_face_lat_bnd(nSubMesh2_face, nMaxSubMesh2_face_nodes), float64 SubMesh2_face_lon(nSubMesh2_face), float64 SubMesh2_face_lon_bnd(nSubMesh2_face, nMaxSubMesh2_face_nodes), float64 SubMesh2_face_x(nSubMesh2_face), float64 SubMesh2_face_x_bnd(nSubMesh2_face, nMaxSubMesh2_face_nodes), float64 SubMesh2_face_y(nSubMesh2_face), float64 SubMesh2_face_y_bnd(nSubMesh2_face, nMaxSubMesh2_face_nodes), |S1 contents_m_untrim2009_steer_eqs(max_m_untrim2009_steer_eqs, max_lines_char), |S1 contents_m_untrim2009_steer_sedimorph(max_m_untrim2009_steer_sedimorph, max_lines_char), |S1 contents_m_untrim2009_steer_sv(max_m_untrim2009_steer_sv, max_lines_char), |S1 contents_m_untrim2009_steer_untrim2009_main(max_m_untrim2009_steer_untrim2009_main, max_lines_char), |S1 contents_m_untrim2009_steer_utromp2009(max_m_untrim2009_steer_utromp2009, max_lines_char), |S1 contents_m_utromp2009_steer_z_layer(max_m_utromp2009_steer_z_layer, max_lines_char), int32 dmqs(), |S1 dmqs_data_path_file(nof_dmqs_processing_steps, dmqs_strlen), |S1 dmqs_execution_start(nof_dmqs_processing_steps, dmqs_strlen), |S1 dmqs_method(nof_dmqs_processing_steps, dmqs_strlen), float64 dmqs_sim_time_step(), |S1 dmqs_steering(nof_dmqs_processing_steps, dmqs_strlen), |S1 md5sum_m_untrim2009_steer(max_md5sum_m_untrim2009_steer, max_md5sum_char), |S1 md5sum_m_utromp2009_steer(max_md5sum_m_utromp2009_steer, max_md5sum_char), float64 nMesh2_data_time(nMesh2_data_time), float32 nMesh2_layer_3d(nMesh2_layer_3d), float32 nMesh2_layer_3d_bnd(nMesh2_layer_3d, two), float64 nMesh2_time(nMesh2_time), float64 nMesh2_time_bnd(nMesh2_time, two)\n",
       "    groups: "
      ]
     },
     "execution_count": 2,
     "metadata": {},
     "output_type": "execute_result"
    }
   ],
   "source": [
    "df = nc.Dataset('/scratch/local1/baw/f.AZHel_FT_REF.3D.cut.nc')\n",
    "df"
   ]
  },
  {
   "cell_type": "markdown",
   "metadata": {},
   "source": [
    "## Looking at BAW data"
   ]
  },
  {
   "cell_type": "code",
   "execution_count": 3,
   "metadata": {},
   "outputs": [
    {
     "name": "stdout",
     "output_type": "stream",
     "text": [
      "Combined_Mesh2_and_SubMesh2\n",
      "Mesh2\n",
      "Mesh2_Schwebstoffklassen_2d\n",
      "Mesh2_crs\n",
      "Mesh2_edge_Durchflussflaeche_3d\n",
      "Mesh2_edge_Gesamtwassertiefe_an_Kanten_2d\n",
      "Mesh2_edge_Stroemungsgeschwindigkeit_x_R_3d\n",
      "Mesh2_edge_Stroemungsgeschwindigkeit_y_R_3d\n",
      "Mesh2_edge_Stroemungsgeschwindigkeit_z_R_3d\n",
      "Mesh2_edge_bc\n",
      "Mesh2_edge_faces\n",
      "Mesh2_edge_lat\n",
      "Mesh2_edge_lat_bnd\n",
      "Mesh2_edge_lon\n",
      "Mesh2_edge_lon_bnd\n",
      "Mesh2_edge_nasse_Laenge_an_Kanten_2d\n",
      "Mesh2_edge_nodes\n",
      "Mesh2_edge_skalare_Stroemungsgeschwindigkeit_3d\n",
      "Mesh2_edge_x\n",
      "Mesh2_edge_x_bnd\n",
      "Mesh2_edge_y\n",
      "Mesh2_edge_y_bnd\n",
      "Mesh2_edge_z_edge_3d\n",
      "Mesh2_edge_z_edge_bnd_3d\n",
      "Mesh2_face_Gesamtwassertiefe_2d\n",
      "Mesh2_face_Salzgehalt_3d\n",
      "Mesh2_face_Schwebstoffgehalt_3d\n",
      "Mesh2_face_Temperatur_3d\n",
      "Mesh2_face_Wasserflaeche_2d\n",
      "Mesh2_face_Wasserstand_2d\n",
      "Mesh2_face_Wasservolumen_3d\n",
      "Mesh2_face_bc\n",
      "Mesh2_face_center_lat\n",
      "Mesh2_face_center_lon\n",
      "Mesh2_face_center_x\n",
      "Mesh2_face_center_y\n",
      "Mesh2_face_colour\n",
      "Mesh2_face_edges\n",
      "Mesh2_face_lat\n",
      "Mesh2_face_lat_bnd\n",
      "Mesh2_face_lon\n",
      "Mesh2_face_lon_bnd\n",
      "Mesh2_face_nodes\n",
      "Mesh2_face_x\n",
      "Mesh2_face_x_bnd\n",
      "Mesh2_face_y\n",
      "Mesh2_face_y_bnd\n",
      "Mesh2_face_z_face_3d\n",
      "Mesh2_face_z_face_bnd_3d\n",
      "Mesh2_max_subedgeclass_depth\n",
      "Mesh2_max_subfaceclass_depth\n",
      "Mesh2_mean_grid_lat\n",
      "Mesh2_node_lat\n",
      "Mesh2_node_lon\n",
      "Mesh2_node_x\n",
      "Mesh2_node_y\n",
      "Mesh2_subedgeclass_length\n",
      "Mesh2_subfaceclass_area\n",
      "SubMesh2\n",
      "SubMesh2_edge_SubKanten_Maske_3d\n",
      "SubMesh2_edge_SubKanten_Maske_Aux_2d\n",
      "SubMesh2_edge_class_contact\n",
      "SubMesh2_edge_contact\n",
      "SubMesh2_edge_depth\n",
      "SubMesh2_edge_lat\n",
      "SubMesh2_edge_lat_bnd\n",
      "SubMesh2_edge_lon\n",
      "SubMesh2_edge_lon_bnd\n",
      "SubMesh2_edge_x\n",
      "SubMesh2_edge_x_bnd\n",
      "SubMesh2_edge_y\n",
      "SubMesh2_edge_y_bnd\n",
      "SubMesh2_face_SubPolygon_Maske_3d\n",
      "SubMesh2_face_SubPolygon_Maske_Aux_2d\n",
      "SubMesh2_face_area\n",
      "SubMesh2_face_class_contact\n",
      "SubMesh2_face_contact\n",
      "SubMesh2_face_depth\n",
      "SubMesh2_face_lat\n",
      "SubMesh2_face_lat_bnd\n",
      "SubMesh2_face_lon\n",
      "SubMesh2_face_lon_bnd\n",
      "SubMesh2_face_x\n",
      "SubMesh2_face_x_bnd\n",
      "SubMesh2_face_y\n",
      "SubMesh2_face_y_bnd\n",
      "contents_m_untrim2009_steer_eqs\n",
      "contents_m_untrim2009_steer_sedimorph\n",
      "contents_m_untrim2009_steer_sv\n",
      "contents_m_untrim2009_steer_untrim2009_main\n",
      "contents_m_untrim2009_steer_utromp2009\n",
      "contents_m_utromp2009_steer_z_layer\n",
      "dmqs\n",
      "dmqs_data_path_file\n",
      "dmqs_execution_start\n",
      "dmqs_method\n",
      "dmqs_sim_time_step\n",
      "dmqs_steering\n",
      "md5sum_m_untrim2009_steer\n",
      "md5sum_m_utromp2009_steer\n",
      "nMesh2_data_time\n",
      "nMesh2_layer_3d\n",
      "nMesh2_layer_3d_bnd\n",
      "nMesh2_time\n",
      "nMesh2_time_bnd\n"
     ]
    }
   ],
   "source": [
    "_ = [print(i) for i in df.variables.keys()]"
   ]
  },
  {
   "cell_type": "code",
   "execution_count": 6,
   "metadata": {},
   "outputs": [
    {
     "data": {
      "text/plain": [
       "<class 'netCDF4._netCDF4.Variable'>\n",
       "float32 turbidity(nSCHISM_hgrid_node)\n",
       "    units: kg/l\n",
       "    long_name: Water Turbidity\n",
       "    description: Turbidity based on BAW data from Arne Hammrich. Average of 3D data over time and depth\n",
       "unlimited dimensions: \n",
       "current shape = (32432,)\n",
       "filling on, default _FillValue of 9.969209968386869e+36 used"
      ]
     },
     "execution_count": 6,
     "metadata": {},
     "output_type": "execute_result"
    }
   ],
   "source": [
    "df = nc.Dataset('/scratch/local1/hzg2/schout_1.nc')"
   ]
  },
  {
   "cell_type": "markdown",
   "metadata": {},
   "source": [
    "## Looking at HZG data"
   ]
  },
  {
   "cell_type": "code",
   "execution_count": 2,
   "metadata": {},
   "outputs": [],
   "source": [
    "path_to_dir = '/scratch/local1/output/22_11_01_depth_losses_v07/22_11_01_depth_losses_v07R01_caseInfo.json'\n",
    "grid = load_grid(path_to_dir)"
   ]
  },
  {
   "cell_type": "code",
   "execution_count": 11,
   "metadata": {},
   "outputs": [],
   "source": [
    "%matplotlib widget"
   ]
  },
  {
   "cell_type": "code",
   "execution_count": 25,
   "metadata": {},
   "outputs": [
    {
     "data": {
      "application/vnd.jupyter.widget-view+json": {
       "model_id": "ce7ad92b37ca402294ff0cf3060826c5",
       "version_major": 2,
       "version_minor": 0
      },
      "text/html": [
       "\n",
       "            <div style=\"display: inline-block;\">\n",
       "                <div class=\"jupyter-widgets widget-label\" style=\"text-align: center;\">\n",
       "                    Figure\n",
       "                </div>\n",
       "                <img src='data:image/png;base64,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' width=640.0/>\n",
       "            </div>\n",
       "        "
      ],
      "text/plain": [
       "Canvas(toolbar=Toolbar(toolitems=[('Home', 'Reset original view', 'home', 'home'), ('Back', 'Back to previous …"
      ]
     },
     "metadata": {},
     "output_type": "display_data"
    }
   ],
   "source": [
    "df = nc.Dataset('/scratch/local1/hzg2/schout_1.nc')\n",
    "temp = df.variables['temp'][:]\n",
    "\n",
    "plt.figure()\n",
    "out = plt.hist(temp.flatten(), bins=100)\n"
   ]
  },
  {
   "cell_type": "code",
   "execution_count": 26,
   "metadata": {},
   "outputs": [
    {
     "data": {
      "application/vnd.jupyter.widget-view+json": {
       "model_id": "d0a622d2a3c04496b119b663dda412ee",
       "version_major": 2,
       "version_minor": 0
      },
      "text/html": [
       "\n",
       "            <div style=\"display: inline-block;\">\n",
       "                <div class=\"jupyter-widgets widget-label\" style=\"text-align: center;\">\n",
       "                    Figure\n",
       "                </div>\n",
       "                <img src='data:image/png;base64,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' width=640.0/>\n",
       "            </div>\n",
       "        "
      ],
      "text/plain": [
       "Canvas(toolbar=Toolbar(toolitems=[('Home', 'Reset original view', 'home', 'home'), ('Back', 'Back to previous …"
      ]
     },
     "metadata": {},
     "output_type": "display_data"
    }
   ],
   "source": [
    "df = nc.Dataset('/scratch/local1/hzg2/schout_170.nc')\n",
    "temp = df.variables['temp'][:]\n",
    "\n",
    "plt.figure()\n",
    "out = plt.hist(temp.flatten(), bins=100)\n"
   ]
  },
  {
   "cell_type": "code",
   "execution_count": 22,
   "metadata": {},
   "outputs": [
    {
     "data": {
      "text/plain": [
       "<matplotlib.colorbar.Colorbar at 0x7fbda94efb80>"
      ]
     },
     "execution_count": 22,
     "metadata": {},
     "output_type": "execute_result"
    },
    {
     "data": {
      "application/vnd.jupyter.widget-view+json": {
       "model_id": "c7a10046da41424fa20fac73c308c7b5",
       "version_major": 2,
       "version_minor": 0
      },
      "text/html": [
       "\n",
       "            <div style=\"display: inline-block;\">\n",
       "                <div class=\"jupyter-widgets widget-label\" style=\"text-align: center;\">\n",
       "                    Figure\n",
       "                </div>\n",
       "                <img src='data:image/png;base64,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' width=640.0/>\n",
       "            </div>\n",
       "        "
      ],
      "text/plain": [
       "Canvas(toolbar=Toolbar(toolitems=[('Home', 'Reset original view', 'home', 'home'), ('Back', 'Back to previous …"
      ]
     },
     "metadata": {},
     "output_type": "display_data"
    }
   ],
   "source": [
    "df = nc.Dataset('/scratch/local1/hzg2/schout_1.nc')\n",
    "\n",
    "temp = df.variables['temp'][:]\n",
    "x = grid['x']\n",
    "triangles = grid['triangles']\n",
    "\n",
    "fig, ax = plt.subplots()\n",
    "t = ax.tripcolor(x[:, 0], x[:, 1], triangles, temp.data.mean(axis=(0,2)), shading='gouraud', vmax=20)\n",
    "# add colorbar\n",
    "fig.colorbar(t, ax=ax)"
   ]
  },
  {
   "cell_type": "code",
   "execution_count": 7,
   "metadata": {},
   "outputs": [
    {
     "name": "stderr",
     "output_type": "stream",
     "text": [
      "/home/zmaw/u301513/.conda/envs/oceantracker/lib/python3.9/site-packages/numpy/core/_methods.py:178: RuntimeWarning: overflow encountered in reduce\n",
      "  ret = umr_sum(arr, axis, dtype, out, keepdims, where=where)\n"
     ]
    },
    {
     "data": {
      "text/plain": [
       "array([         inf, 4.747243e+35, 4.747243e+35, ...,          inf,\n",
       "                inf,          inf], dtype=float32)"
      ]
     },
     "execution_count": 7,
     "metadata": {},
     "output_type": "execute_result"
    }
   ],
   "source": []
  },
  {
   "cell_type": "code",
   "execution_count": null,
   "metadata": {},
   "outputs": [],
   "source": [
    "\n",
    "temp = df.variables['temp'][:]\n"
   ]
  },
  {
   "cell_type": "markdown",
   "metadata": {},
   "source": [
    "## Relative velocity of two particles?"
   ]
  },
  {
   "cell_type": "markdown",
   "metadata": {},
   "source": [
    "### 1D"
   ]
  },
  {
   "cell_type": "code",
   "execution_count": 23,
   "metadata": {},
   "outputs": [
    {
     "name": "stdout",
     "output_type": "stream",
     "text": [
      "0.952623948951129\n",
      "1.126838765441826\n"
     ]
    },
    {
     "data": {
      "image/png": "[encoded data removed]",
      "text/plain": [
       "<Figure size 432x288 with 1 Axes>"
      ]
     },
     "metadata": {
      "needs_background": "light"
     },
     "output_type": "display_data"
    }
   ],
   "source": [
    "sigma = 1\n",
    "samples = int(1e6)\n",
    "random_velocities = np.array( (np.random.normal(0,sigma,samples), np.random.normal(0,sigma,samples)) )\n",
    "random_velocities = np.transpose(random_velocities)\n",
    "\n",
    "# flip sign of second to make velocities relative\n",
    "random_velocities[:,1] = -random_velocities[:,1]\n",
    "\n",
    "# sum up to get the relative velocity\n",
    "relative_velocities = np.sum(random_velocities, axis=1)\n",
    "\n",
    "# take the absolute value\n",
    "relative_velocities = np.abs(relative_velocities)\n",
    "\n",
    "hist = plt.hist(relative_velocities,bins=50)\n",
    "\n",
    "# print median\n",
    "print(np.median(relative_velocities))\n",
    "\n",
    "print(np.mean(relative_velocities))\n"
   ]
  },
  {
   "cell_type": "markdown",
   "metadata": {},
   "source": [
    "### 3D"
   ]
  },
  {
   "cell_type": "code",
   "execution_count": 36,
   "metadata": {},
   "outputs": [
    {
     "data": {
      "text/plain": [
       "(10, 2, 3)"
      ]
     },
     "execution_count": 36,
     "metadata": {},
     "output_type": "execute_result"
    }
   ],
   "source": [
    "sigma = 1\n",
    "samples = int(10)\n",
    "random_velocities = np.array(( np.random.normal(0,sigma,(samples,3)),np.random.normal(0,sigma,(samples,3)) ))  \n",
    "# swap array axis 0 and 1\n",
    "random_velocities = np.swapaxes(random_velocities,0,1)\n",
    "random_velocities.shape"
   ]
  },
  {
   "cell_type": "code",
   "execution_count": null,
   "metadata": {},
   "outputs": [],
   "source": [
    "def relative_velocity(A, B):\n",
    "    \"\"\"\n",
    "    Calculate the projection of the relative velocity of two particles onto the line connecting them.\n",
    "\n",
    "    Parameters:\n",
    "    A (tuple): Contains position and velocity of particle A as (pos_A, vel_A).\n",
    "    B (tuple): Contains position and velocity of particle B as (pos_B, vel_B).\n",
    "\n",
    "    Returns:\n",
    "    numpy.ndarray: The projected relative velocity vector onto the line AB.\n",
    "    \"\"\"\n",
    "    pos_A, vel_A = A\n",
    "    pos_B, vel_B = B\n",
    "\n",
    "    # Convert positions and velocities to numpy arrays for vector operations\n",
    "    pos_A = np.array(pos_A)\n",
    "    pos_B = np.array(pos_B)\n",
    "    vel_A = np.array(vel_A)\n",
    "    vel_B = np.array(vel_B)\n",
    "\n",
    "    # Calculate the relative velocity\n",
    "    v_AB = vel_A - vel_B\n",
    "\n",
    "    # Calculate the unit vector along line AB\n",
    "    r_AB = pos_B - pos_A\n",
    "    unit_AB = r_AB / np.linalg.norm(r_AB)\n",
    "\n",
    "    # Project the relative velocity onto the line AB\n",
    "    v_proj_on_AB = np.dot(v_AB, unit_AB) * unit_AB\n",
    "\n",
    "    return v_proj_on_AB"
   ]
  },
  {
   "cell_type": "markdown",
   "metadata": {},
   "source": [
    "\"\"\"\n",
    "the above is wrong.\n",
    "a much better aproach is to calculated the \"covered volume\" of the particle and the particle cloud.\n",
    "\"\"\"\n"
   ]
  },
  {
   "cell_type": "code",
   "execution_count": 28,
   "metadata": {},
   "outputs": [
    {
     "data": {
      "text/plain": [
       "0.04932817"
      ]
     },
     "execution_count": 28,
     "metadata": {},
     "output_type": "execute_result"
    },
    {
     "data": {
      "image/png": "[encoded data removed]",
      "text/plain": [
       "<Figure size 432x288 with 1 Axes>"
      ]
     },
     "metadata": {
      "needs_background": "light"
     },
     "output_type": "display_data"
    }
   ],
   "source": [
    "out = plt.hist(df.variables['turbidity'][:].flatten(),bins=50)\n",
    "# drop 0 values from turbidty (artifacts from interpolation/merging)\n",
    "out = plt.hist(df.variables['turbidity'][:].flatten()[df.variables['turbidity'][:].flatten() != 0],bins=50)\n",
    "\n",
    "# mean\n",
    "np.mean(df.variables['turbidity'][:].flatten()[df.variables['turbidity'][:].flatten() != 0])"
   ]
  },
  {
   "cell_type": "code",
   "execution_count": 77,
   "metadata": {},
   "outputs": [
    {
     "name": "stdout",
     "output_type": "stream",
     "text": [
      "Number of particles per m3: 3.60e+07\n",
      "Volume occupied by dust particles per m3: 1.89e-05 m3\n",
      "Relative volume occupied by dust particles per m3: 1.89e-05\n"
     ]
    }
   ],
   "source": [
    "# We have SPM in kg/m3.\n",
    "# Through density and diameter we can estimate the volume accounted for by the cloud\n",
    "\n",
    "dust_concentration = 0.05 # kg/m3\n",
    "dust_particle_density = 2650 # kg/m3\n",
    "dust_particle_diameter = 100e-6 # m\n",
    "\n",
    "test_particle_diameter = dust_particle_diameter # m\n",
    "\n",
    "volume_of_particle = 4/3 * np.pi * (dust_particle_diameter/2)**3\n",
    "number_of_particles = dust_concentration / (dust_particle_density * volume_of_particle)\n",
    "# print as exponent\n",
    "print(f'Number of particles per m3: {number_of_particles:.2e}')\n",
    "\n",
    "volume_occupied_by_dust_particles = number_of_particles * volume_of_particle\n",
    "print(f'Volume occupied by dust particles per m3: {volume_occupied_by_dust_particles:.2e} m3')\n",
    "# relative per m3\n",
    "relative_volume_occupied_by_dust_particles = volume_occupied_by_dust_particles / 1.**3\n",
    "print(f'Relative volume occupied by dust particles per m3: {relative_volume_occupied_by_dust_particles:.2e}')\n"
   ]
  },
  {
   "cell_type": "code",
   "execution_count": 78,
   "metadata": {},
   "outputs": [
    {
     "data": {
      "text/plain": [
       "0.797722330328019"
      ]
     },
     "execution_count": 78,
     "metadata": {},
     "output_type": "execute_result"
    }
   ],
   "source": [
    "# Define the parameters for the normal distribution\n",
    "mu = 0  # mean\n",
    "sigma = 1  # standard deviation\n",
    "\n",
    "# Generate a sample from the distribution\n",
    "sample_size = 1000000  # large sample size for better approximation\n",
    "sample = np.random.normal(mu, sigma, sample_size)\n",
    "\n",
    "# Calculate the mean of the absolute values of the sample\n",
    "mean_abs = np.mean(np.abs(sample))\n",
    "mean_abs\n"
   ]
  },
  {
   "cell_type": "code",
   "execution_count": 79,
   "metadata": {},
   "outputs": [
    {
     "data": {
      "text/plain": [
       "0.0047872470912912555"
      ]
     },
     "execution_count": 79,
     "metadata": {},
     "output_type": "execute_result"
    }
   ],
   "source": [
    "# Define the parameters for the normal distribution\n",
    "mu = 0  # mean\n",
    "sigma = 0.006  # standard deviation \n",
    "\n",
    "# Generate a sample from the distribution\n",
    "sample_size = 1000000  # large sample size for better approximation\n",
    "sample = np.random.normal(mu, sigma, sample_size)\n",
    "\n",
    "# Calculate the mean of the absolute values of the sample\n",
    "mean_abs = np.mean(np.abs(sample))\n",
    "mean_abs\n"
   ]
  },
  {
   "cell_type": "code",
   "execution_count": 80,
   "metadata": {},
   "outputs": [
    {
     "name": "stdout",
     "output_type": "stream",
     "text": [
      "Volume swept by dust particles: 3.25e-01 m3/s\n"
     ]
    }
   ],
   "source": [
    "# move particles by mean_abs and calculate covered volume\n",
    "# particles collide as soon as distance < r1+r2\n",
    "# hence the volume covered regarding collisions is defined by (d1+d2)/2\n",
    "\n",
    "# then following the the logic of Delichatsios 1975 the volume swept by the cloud is defined by\n",
    "volume_swept_by_dust_particles = number_of_particles * np.pi * ((test_particle_diameter + dust_particle_diameter) / 2)**2 * mean_abs * 60\n",
    "print(f'Volume swept by dust particles: {volume_swept_by_dust_particles:.2e} m3/s')"
   ]
  },
  {
   "cell_type": "code",
   "execution_count": 81,
   "metadata": {},
   "outputs": [
    {
     "name": "stdout",
     "output_type": "stream",
     "text": [
      "Volume swept by test particle: 2.26e-09 m3/s\n"
     ]
    }
   ],
   "source": [
    "# volume swept by the test particle\n",
    "volume_swept_by_test_particle = np.pi * (test_particle_diameter / 2)**2 * mean_abs * 60\n",
    "print(f'Volume swept by test particle: {volume_swept_by_test_particle:.2e} m3/s')"
   ]
  },
  {
   "cell_type": "markdown",
   "metadata": {},
   "source": [
    "## new"
   ]
  },
  {
   "cell_type": "code",
   "execution_count": null,
   "metadata": {},
   "outputs": [],
   "source": []
  }
 ],
 "metadata": {
  "kernelspec": {
   "display_name": "base",
   "language": "python",
   "name": "python3"
  },
  "language_info": {
   "codemirror_mode": {
    "name": "ipython",
    "version": 3
   },
   "file_extension": ".py",
   "mimetype": "text/x-python",
   "name": "python",
   "nbconvert_exporter": "python",
   "pygments_lexer": "ipython3",
   "version": "3.9.7"
  }
 },
 "nbformat": 4,
 "nbformat_minor": 2
}
