{
 "cells": [
  {
   "cell_type": "code",
   "execution_count": 9,
   "metadata": {},
   "outputs": [
    {
     "data": {
      "image/png": "[encoded data removed]",
      "text/plain": [
       "<Figure size 432x288 with 1 Axes>"
      ]
     },
     "metadata": {
      "needs_background": "light"
     },
     "output_type": "display_data"
    }
   ],
   "source": [
    "import os\n",
    "import numpy as np\n",
    "import matplotlib.pyplot as plt\n",
    "import netCDF4 as nc\n",
    "from datetime import datetime\n",
    "\n",
    "from oceantracker.post_processing.read_output_files.load_output_files import load_track_data\n",
    "# from oceantracker.util.polygon_util import InsidePolygon\n",
    "from oceantracker.post_processing.read_output_files.load_output_files import load_grid\n",
    "\n",
    "# from oceantracker.post_processing.plotting import plot_statistics\n",
    "# from oceantracker.post_processing.plotting import stats_plot \n",
    "from oceantracker.post_processing.plotting import plot_vertical_tracks\n",
    "from oceantracker.post_processing.plotting import plot_tracks\n",
    "from oceantracker.post_processing.plotting import plot_utilities"
   ]
  },
  {
   "cell_type": "markdown",
   "metadata": {},
   "source": [
    "## Looking at BAW data"
   ]
  },
  {
   "cell_type": "code",
   "execution_count": 3,
   "metadata": {},
   "outputs": [
    {
     "name": "stdout",
     "output_type": "stream",
     "text": [
      "Combined_Mesh2_and_SubMesh2\n",
      "Mesh2\n",
      "Mesh2_Schwebstoffklassen_2d\n",
      "Mesh2_crs\n",
      "Mesh2_edge_Durchflussflaeche_3d\n",
      "Mesh2_edge_Gesamtwassertiefe_an_Kanten_2d\n",
      "Mesh2_edge_Stroemungsgeschwindigkeit_x_R_3d\n",
      "Mesh2_edge_Stroemungsgeschwindigkeit_y_R_3d\n",
      "Mesh2_edge_Stroemungsgeschwindigkeit_z_R_3d\n",
      "Mesh2_edge_bc\n",
      "Mesh2_edge_faces\n",
      "Mesh2_edge_lat\n",
      "Mesh2_edge_lat_bnd\n",
      "Mesh2_edge_lon\n",
      "Mesh2_edge_lon_bnd\n",
      "Mesh2_edge_nasse_Laenge_an_Kanten_2d\n",
      "Mesh2_edge_nodes\n",
      "Mesh2_edge_skalare_Stroemungsgeschwindigkeit_3d\n",
      "Mesh2_edge_x\n",
      "Mesh2_edge_x_bnd\n",
      "Mesh2_edge_y\n",
      "Mesh2_edge_y_bnd\n",
      "Mesh2_edge_z_edge_3d\n",
      "Mesh2_edge_z_edge_bnd_3d\n",
      "Mesh2_face_Gesamtwassertiefe_2d\n",
      "Mesh2_face_Salzgehalt_3d\n",
      "Mesh2_face_Schwebstoffgehalt_3d\n",
      "Mesh2_face_Temperatur_3d\n",
      "Mesh2_face_Wasserflaeche_2d\n",
      "Mesh2_face_Wasserstand_2d\n",
      "Mesh2_face_Wasservolumen_3d\n",
      "Mesh2_face_bc\n",
      "Mesh2_face_center_lat\n",
      "Mesh2_face_center_lon\n",
      "Mesh2_face_center_x\n",
      "Mesh2_face_center_y\n",
      "Mesh2_face_colour\n",
      "Mesh2_face_edges\n",
      "Mesh2_face_lat\n",
      "Mesh2_face_lat_bnd\n",
      "Mesh2_face_lon\n",
      "Mesh2_face_lon_bnd\n",
      "Mesh2_face_nodes\n",
      "Mesh2_face_x\n",
      "Mesh2_face_x_bnd\n",
      "Mesh2_face_y\n",
      "Mesh2_face_y_bnd\n",
      "Mesh2_face_z_face_3d\n",
      "Mesh2_face_z_face_bnd_3d\n",
      "Mesh2_max_subedgeclass_depth\n",
      "Mesh2_max_subfaceclass_depth\n",
      "Mesh2_mean_grid_lat\n",
      "Mesh2_node_lat\n",
      "Mesh2_node_lon\n",
      "Mesh2_node_x\n",
      "Mesh2_node_y\n",
      "Mesh2_subedgeclass_length\n",
      "Mesh2_subfaceclass_area\n",
      "SubMesh2\n",
      "SubMesh2_edge_SubKanten_Maske_3d\n",
      "SubMesh2_edge_SubKanten_Maske_Aux_2d\n",
      "SubMesh2_edge_class_contact\n",
      "SubMesh2_edge_contact\n",
      "SubMesh2_edge_depth\n",
      "SubMesh2_edge_lat\n",
      "SubMesh2_edge_lat_bnd\n",
      "SubMesh2_edge_lon\n",
      "SubMesh2_edge_lon_bnd\n",
      "SubMesh2_edge_x\n",
      "SubMesh2_edge_x_bnd\n",
      "SubMesh2_edge_y\n",
      "SubMesh2_edge_y_bnd\n",
      "SubMesh2_face_SubPolygon_Maske_3d\n",
      "SubMesh2_face_SubPolygon_Maske_Aux_2d\n",
      "SubMesh2_face_area\n",
      "SubMesh2_face_class_contact\n",
      "SubMesh2_face_contact\n",
      "SubMesh2_face_depth\n",
      "SubMesh2_face_lat\n",
      "SubMesh2_face_lat_bnd\n",
      "SubMesh2_face_lon\n",
      "SubMesh2_face_lon_bnd\n",
      "SubMesh2_face_x\n",
      "SubMesh2_face_x_bnd\n",
      "SubMesh2_face_y\n",
      "SubMesh2_face_y_bnd\n",
      "contents_m_untrim2009_steer_eqs\n",
      "contents_m_untrim2009_steer_sedimorph\n",
      "contents_m_untrim2009_steer_sv\n",
      "contents_m_untrim2009_steer_untrim2009_main\n",
      "contents_m_untrim2009_steer_utromp2009\n",
      "contents_m_utromp2009_steer_z_layer\n",
      "dmqs\n",
      "dmqs_data_path_file\n",
      "dmqs_execution_start\n",
      "dmqs_method\n",
      "dmqs_sim_time_step\n",
      "dmqs_steering\n",
      "md5sum_m_untrim2009_steer\n",
      "md5sum_m_utromp2009_steer\n",
      "nMesh2_data_time\n",
      "nMesh2_layer_3d\n",
      "nMesh2_layer_3d_bnd\n",
      "nMesh2_time\n",
      "nMesh2_time_bnd\n"
     ]
    }
   ],
   "source": [
    "_ = [print(i) for i in df.variables.keys()]"
   ]
  },
  {
   "cell_type": "code",
   "execution_count": 6,
   "metadata": {},
   "outputs": [
    {
     "data": {
      "text/plain": [
       "<class 'netCDF4._netCDF4.Variable'>\n",
       "float32 turbidity(nSCHISM_hgrid_node)\n",
       "    units: kg/l\n",
       "    long_name: Water Turbidity\n",
       "    description: Turbidity based on BAW data from Arne Hammrich. Average of 3D data over time and depth\n",
       "unlimited dimensions: \n",
       "current shape = (32432,)\n",
       "filling on, default _FillValue of 9.969209968386869e+36 used"
      ]
     },
     "execution_count": 6,
     "metadata": {},
     "output_type": "execute_result"
    }
   ],
   "source": [
    "df = nc.Dataset('/scratch/local1/hzg2/schout_1.nc')"
   ]
  },
  {
   "cell_type": "markdown",
   "metadata": {},
   "source": [
    "## Looking at HZG data"
   ]
  },
  {
   "cell_type": "code",
   "execution_count": 2,
   "metadata": {},
   "outputs": [],
   "source": [
    "path_to_dir = '/scratch/local1/output/22_11_01_depth_losses_v07/22_11_01_depth_losses_v07R01_caseInfo.json'\n",
    "grid = load_grid(path_to_dir)"
   ]
  },
  {
   "cell_type": "code",
   "execution_count": 2,
   "metadata": {},
   "outputs": [],
   "source": [
    "df = nc.Dataset('/scratch/local1/hzg2/schout_1.nc')"
   ]
  },
  {
   "cell_type": "code",
   "execution_count": 3,
   "metadata": {},
   "outputs": [
    {
     "data": {
      "text/plain": [
       "dict_keys(['time', 'SCHISM_hgrid', 'SCHISM_hgrid_face_nodes', 'SCHISM_hgrid_edge_nodes', 'SCHISM_hgrid_node_x', 'SCHISM_hgrid_node_y', 'node_bottom_index', 'SCHISM_hgrid_face_x', 'SCHISM_hgrid_face_y', 'ele_bottom_index', 'SCHISM_hgrid_edge_x', 'SCHISM_hgrid_edge_y', 'edge_bottom_index', 'depth', 'sigma', 'dry_value_flag', 'coordinate_system_flag', 'minimum_depth', 'sigma_h_c', 'sigma_theta_b', 'sigma_theta_f', 'sigma_maxdepth', 'Cs', 'wetdry_elem', 'zcor', 'elev', 'bottom_stress', 'vertical_velocity', 'temp', 'salt', 'diffusivity', 'TKE', 'hvel', 'ECO_no3', 'ECO_nh4', 'ECO_pho', 'ECO_sil', 'ECO_oxy', 'ECO_fla', 'ECO_dia', 'ECO_bg', 'ECO_bgchl', 'ECO_diachl', 'ECO_flachl', 'ECO_microzoo', 'ECO_mesozoo', 'ECO_det', 'ECO_opa', 'ECO_dom', 'ECO_sed1', 'ECO_sed2', 'ECO_sed3'])"
      ]
     },
     "execution_count": 3,
     "metadata": {},
     "output_type": "execute_result"
    }
   ],
   "source": [
    "df.variables.keys()"
   ]
  },
  {
   "cell_type": "code",
   "execution_count": 25,
   "metadata": {},
   "outputs": [
    {
     "data": {
      "application/vnd.jupyter.widget-view+json": {
       "model_id": "ce7ad92b37ca402294ff0cf3060826c5",
       "version_major": 2,
       "version_minor": 0
      },
      "text/html": [
       "\n",
       "            <div style=\"display: inline-block;\">\n",
       "                <div class=\"jupyter-widgets widget-label\" style=\"text-align: center;\">\n",
       "                    Figure\n",
       "                </div>\n",
       "                <img src='data:image/png;base64,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' width=640.0/>\n",
       "            </div>\n",
       "        "
      ],
      "text/plain": [
       "Canvas(toolbar=Toolbar(toolitems=[('Home', 'Reset original view', 'home', 'home'), ('Back', 'Back to previous …"
      ]
     },
     "metadata": {},
     "output_type": "display_data"
    }
   ],
   "source": [
    "df = nc.Dataset('/scratch/local1/hzg2/schout_1.nc')\n",
    "temp = df.variables['temp'][:]\n",
    "\n",
    "plt.figure()\n",
    "out = plt.hist(temp.flatten(), bins=100)\n"
   ]
  },
  {
   "cell_type": "code",
   "execution_count": 26,
   "metadata": {},
   "outputs": [
    {
     "data": {
      "application/vnd.jupyter.widget-view+json": {
       "model_id": "d0a622d2a3c04496b119b663dda412ee",
       "version_major": 2,
       "version_minor": 0
      },
      "text/html": [
       "\n",
       "            <div style=\"display: inline-block;\">\n",
       "                <div class=\"jupyter-widgets widget-label\" style=\"text-align: center;\">\n",
       "                    Figure\n",
       "                </div>\n",
       "                <img src='data:image/png;base64,iVBORw0KGgoAAAANSUhEUgAAAoAAAAHgCAYAAAA10dzkAAAAOXRFWHRTb2Z0d2FyZQBNYXRwbG90bGliIHZlcnNpb24zLjUuMCwgaHR0cHM6Ly9tYXRwbG90bGliLm9yZy8/fFQqAAAACXBIWXMAAA9hAAAPYQGoP6dpAAAmhklEQVR4nO3df5TWdZ3//wc/nIGMGURjhvmISun6Y0VNUJwst44cx6LOkrRHiy0y0s0GV6BUKEVtLQy3wl/Jtu2m56yUes5qBUVxMHFLRMNcxRUyVxdbGrCUmaQEZa7vH3251lEKpMELeN1u51znMO/3a67r2ftcdd17z3W9rz6VSqUSAACK0bfWAwAA8PoSgAAAhRGAAACFEYAAAIURgAAAhRGAAACFEYAAAIURgAAAhRGAAACFEYAAAIURgAAAhRGAAACFEYAAAIURgAAAhRGAAACFEYAAAIURgAAAhRGAAACFEYAAAIURgAAAhRGAAACFEYAAAIURgAAAhRGAAACFEYAAAIURgAAAhRGAAACFEYAAAIURgAAAhRGAAACFEYAAAIURgAAAhRGAAACFEYAAAIURgAAAhRGAAACFEYAAAIURgAAAhRGAAACFEYAAAIURgAAAhRGAAACFEYAAAIURgAAAhRGAAACFEYAAAIURgAAAhRGAAACFEYAAAIURgAAAhRGAAACFEYAAAIURgAAAhRGAAACFEYAAAIURgAAAhelf6wH2ZN3d3Vm7dm0GDRqUPn361HocAGAHVCqV/Pa3v01LS0v69i3zXJgA/DOsXbs2w4cPr/UYAMBOePrpp3PggQfWeoyaEIB/hkGDBiX5wxOooaGhxtMAADuiq6srw4cPr76Ol0gA/hm2/tm3oaFBAALAHqbkt2+V+YdvAICCCUAAgMIIQACAwghAAIDCCEAAgMIIQACAwghAAIDCCEAAgMIIQACAwghAAIDCCEAAgMIIQACAwghAAIDCCEAAgML0r/UAAOyYQ2YsfNW2p64aV4NJgD2dM4AAAIURgAAAhRGAAACFEYAAAIURgAAAhRGAAACFEYAAAIURgAAAhRGAAACFEYAAAIURgAAAhRGAAACFEYAAAIURgAAAhRGAAACFEYAAAIURgAAAhRGAAACFEYAAAIURgAAAhRGAAACFEYAAAIURgAAAhRGAAACFEYAAAIURgAAAhRGAAACF6V/rAQDYeYfMWNjj56euGlejSYA9iTOAAACFEYAAAIURgAAAhRGAAACF6dUA3LJlSy699NKMGDEiAwcOzFve8pb8wz/8QyqVSnVNpVLJrFmzMmzYsAwcODBjx47N448/3uN+nn322UycODENDQ0ZPHhwJk+enOeff77HmocffjjveMc7MmDAgAwfPjxz5sx51Ty33357jjjiiAwYMCAjR47M9773vR77d2QWAIC9Ta8G4Be/+MXceOONuf766/PYY4/li1/8YubMmZPrrruuumbOnDm59tprM2/evCxfvjz77rtv2tra8sILL1TXTJw4MY8++mgWL16cBQsW5J577sm5555b3d/V1ZXTTjstBx98cFasWJGrr746l19+eb72ta9V19x777354Ac/mMmTJ+dnP/tZxo8fn/Hjx2flypWvaRYAgL1Nn8rLT8/9md773vemqakp//Iv/1LdNmHChAwcODD/9m//lkqlkpaWlnzqU5/Kpz/96SRJZ2dnmpqactNNN+Wss87KY489lqOOOioPPPBARo8enSRZtGhR3vOe9+SXv/xlWlpacuONN+azn/1sOjo6UldXlySZMWNG7rzzzqxatSpJcuaZZ2bjxo1ZsGBBdZaTTjopxx13XObNm7dDs2xPV1dXGhsb09nZmYaGht45iAB/xCsv+bIt27oMjEvFQE9ev3v5DODb3va2LFmyJD//+c+TJP/5n/+ZH//4x3n3u9+dJHnyySfT0dGRsWPHVn+nsbExY8aMybJly5Iky5Yty+DBg6vxlyRjx45N3759s3z58uqaU045pRp/SdLW1pbVq1fnueeeq655+eNsXbP1cXZkllfatGlTurq6etwAAPY0vXoh6BkzZqSrqytHHHFE+vXrly1btuTzn/98Jk6cmCTp6OhIkjQ1NfX4vaampuq+jo6ODB06tOeQ/ftnyJAhPdaMGDHiVfexdd9+++2Xjo6O7T7O9mZ5pdmzZ+eKK67YgSMBALD76tUzgLfddltuueWWzJ8/Pw8++GBuvvnm/OM//mNuvvnm3nyYmpk5c2Y6Ozurt6effrrWIwEAvGa9egbwwgsvzIwZM6rvnxs5cmT+53/+J7Nnz86kSZPS3NycJFm3bl2GDRtW/b1169bluOOOS5I0Nzdn/fr1Pe73pZdeyrPPPlv9/ebm5qxbt67Hmq0/b2/Ny/dvb5ZXqq+vT319/Y4dDACA3VSvngH83e9+l759e95lv3790t3dnSQZMWJEmpubs2TJkur+rq6uLF++PK2trUmS1tbWbNiwIStWrKiuueuuu9Ld3Z0xY8ZU19xzzz158cUXq2sWL16cww8/PPvtt191zcsfZ+uarY+zI7MAAOyNejUA3/e+9+Xzn/98Fi5cmKeeeip33HFHvvzlL+f9739/kqRPnz6ZOnVqrrzyynznO9/JI488ko985CNpaWnJ+PHjkyRHHnlkTj/99Jxzzjm5//7785Of/CRTpkzJWWedlZaWliTJhz70odTV1WXy5Ml59NFHc+utt+aaa67J9OnTq7NccMEFWbRoUb70pS9l1apVufzyy/PTn/40U6ZM2eFZAAD2Rr36J+Drrrsul156aT75yU9m/fr1aWlpyd/93d9l1qxZ1TUXXXRRNm7cmHPPPTcbNmzI29/+9ixatCgDBgyorrnlllsyZcqUnHrqqenbt28mTJiQa6+9trq/sbExP/zhD9Pe3p5Ro0blgAMOyKxZs3pcK/Btb3tb5s+fn0suuSSf+cxncthhh+XOO+/M0Ucf/ZpmAQDY2/TqdQBL4zpCwOvJdQChd3j99l3AAADFEYAAAIURgAAAhRGAAACFEYAAAIURgAAAhRGAAACFEYAAAIURgAAAhRGAAACF6dXvAgagtnbk6+IABCDAbkrMAbuKPwEDABRGAAIAFEYAAgAURgACABRGAAIAFEYAAgAURgACABRGAAIAFEYAAgAURgACABRGAAIAFEYAAgAURgACABRGAAIAFEYAAgAURgACABRGAAIAFEYAAgAURgACABRGAAIAFEYAAgAURgACABRGAAIAFEYAAgAURgACABRGAAIAFEYAAgAURgACABRGAAIAFEYAAgAURgACABRGAAIAFEYAAgAURgACABRGAAIAFEYAAgAURgACABRGAAIAFEYAAgAURgACABRGAAIAFEYAAgAURgACABRGAAIAFEYAAgAURgACABRGAAIAFKZ/rQcAYPdzyIyFr9r21FXjajAJsCs4AwgAUBgBCABQGAEIAFAYAQgAUBgBCABQGAEIAFAYAQgAUJheD8D//d//zd/+7d9m//33z8CBAzNy5Mj89Kc/re6vVCqZNWtWhg0bloEDB2bs2LF5/PHHe9zHs88+m4kTJ6ahoSGDBw/O5MmT8/zzz/dY8/DDD+cd73hHBgwYkOHDh2fOnDmvmuX222/PEUcckQEDBmTkyJH53ve+12P/jswCALC36dUAfO6553LyySdnn332yfe///3813/9V770pS9lv/32q66ZM2dOrr322sybNy/Lly/Pvvvum7a2trzwwgvVNRMnTsyjjz6axYsXZ8GCBbnnnnty7rnnVvd3dXXltNNOy8EHH5wVK1bk6quvzuWXX56vfe1r1TX33ntvPvjBD2by5Mn52c9+lvHjx2f8+PFZuXLla5oFAGBv06dSqVR6685mzJiRn/zkJ/mP//iPbe6vVCppaWnJpz71qXz6059OknR2dqapqSk33XRTzjrrrDz22GM56qij8sADD2T06NFJkkWLFuU973lPfvnLX6alpSU33nhjPvvZz6ajoyN1dXXVx77zzjuzatWqJMmZZ56ZjRs3ZsGCBdXHP+mkk3Lcccdl3rx5OzTL9nR1daWxsTGdnZ1paGjY+QMHsA3b+jaO3rAj3+jhm0DYm3n97uUzgN/5zncyevTo/M3f/E2GDh2at771rfnnf/7n6v4nn3wyHR0dGTt2bHVbY2NjxowZk2XLliVJli1blsGDB1fjL0nGjh2bvn37Zvny5dU1p5xySjX+kqStrS2rV6/Oc889V13z8sfZumbr4+zILAAAe6NeDcD//u//zo033pjDDjssP/jBD3Leeefl7//+73PzzTcnSTo6OpIkTU1NPX6vqampuq+joyNDhw7tsb9///4ZMmRIjzXbuo+XP8YfW/Py/dub5ZU2bdqUrq6uHjcAgD1N/968s+7u7owePTpf+MIXkiRvfetbs3LlysybNy+TJk3qzYeqidmzZ+eKK66o9RgANfHKPwv7kzDsuXr1DOCwYcNy1FFH9dh25JFHZs2aNUmS5ubmJMm6det6rFm3bl11X3Nzc9avX99j/0svvZRnn322x5pt3cfLH+OPrXn5/u3N8kozZ85MZ2dn9fb0009vcx0AwO6sVwPw5JNPzurVq3ts+/nPf56DDz44STJixIg0NzdnyZIl1f1dXV1Zvnx5WltbkyStra3ZsGFDVqxYUV1z1113pbu7O2PGjKmuueeee/Liiy9W1yxevDiHH3549RPHra2tPR5n65qtj7Mjs7xSfX19GhoaetwAAPY0vRqA06ZNy3333ZcvfOEL+cUvfpH58+fna1/7Wtrb25Mkffr0ydSpU3PllVfmO9/5Th555JF85CMfSUtLS8aPH5/kD2cMTz/99Jxzzjm5//7785Of/CRTpkzJWWedlZaWliTJhz70odTV1WXy5Ml59NFHc+utt+aaa67J9OnTq7NccMEFWbRoUb70pS9l1apVufzyy/PTn/40U6ZM2eFZAAD2Rr36HsATTjghd9xxR2bOnJnPfe5zGTFiRObOnZuJEydW11x00UXZuHFjzj333GzYsCFvf/vbs2jRogwYMKC65pZbbsmUKVNy6qmnpm/fvpkwYUKuvfba6v7Gxsb88Ic/THt7e0aNGpUDDjggs2bN6nGtwLe97W2ZP39+LrnkknzmM5/JYYcdljvvvDNHH330a5oFAGBv06vXASyN6wgBu9Ludh3Anbkf2B15/fZdwAAAxRGAAACFEYAAAIURgAAAhRGAAACFEYAAAIURgAAAhRGAAACF6dVvAgFgz7SrLjoN7J6cAQQAKIwABAAojAAEACiM9wACFMb7/QBnAAEACiMAAQAKIwABAArjPYAAuwHvywNeT84AAgAURgACABRGAAIAFEYAAgAURgACABRGAAIAFEYAAgAURgACABRGAAIAFEYAAgAURgACABRGAAIAFEYAAgAURgACABRGAAIAFEYAAgAURgACABRGAAIAFEYAAgAURgACABRGAAIAFEYAAgAURgACABRGAAIAFEYAAgAURgACABRGAAIAFEYAAgAURgACABRGAAIAFEYAAgAURgACABRGAAIAFEYAAgAUpn+tBwCgLIfMWNjj56euGlejSaBczgACABRGAAIAFEYAAgAURgACABRGAAIAFEYAAgAURgACABTGdQABqKlXXhcwcW1A2NUEIAA7RbjBnsufgAEACiMAAQAKIwABAAojAAEACiMAAQAKIwABAAojAAEACrPLAvCqq65Knz59MnXq1Oq2F154Ie3t7dl///3zxje+MRMmTMi6det6/N6aNWsybty4vOENb8jQoUNz4YUX5qWXXuqx5u67787xxx+f+vr6HHroobnpppte9fg33HBDDjnkkAwYMCBjxozJ/fff32P/jswCALA32iUB+MADD+Sf/umfcswxx/TYPm3atHz3u9/N7bffnqVLl2bt2rU544wzqvu3bNmScePGZfPmzbn33ntz880356abbsqsWbOqa5588smMGzcu73rXu/LQQw9l6tSp+fjHP54f/OAH1TW33nprpk+fnssuuywPPvhgjj322LS1tWX9+vU7PAsAwN6qT6VSqfTmHT7//PM5/vjj89WvfjVXXnlljjvuuMydOzednZ1505velPnz5+cDH/hAkmTVqlU58sgjs2zZspx00kn5/ve/n/e+971Zu3ZtmpqakiTz5s3LxRdfnGeeeSZ1dXW5+OKLs3DhwqxcubL6mGeddVY2bNiQRYsWJUnGjBmTE044Iddff32SpLu7O8OHD8/555+fGTNm7NAsO6KrqyuNjY3p7OxMQ0NDrx1DoDzb+laNPdGOfBPIjvxn9Y0i7Epev3fBGcD29vaMGzcuY8eO7bF9xYoVefHFF3tsP+KII3LQQQdl2bJlSZJly5Zl5MiR1fhLkra2tnR1deXRRx+trnnlfbe1tVXvY/PmzVmxYkWPNX379s3YsWOra3ZkFgCAvVWvfhfwt771rTz44IN54IEHXrWvo6MjdXV1GTx4cI/tTU1N6ejoqK55efxt3b91359a09XVld///vd57rnnsmXLlm2uWbVq1Q7Psi2bNm3Kpk2bqj93dXX90bUAALurXjsD+PTTT+eCCy7ILbfckgEDBvTW3e5WZs+encbGxupt+PDhtR4JAOA167UAXLFiRdavX5/jjz8+/fv3T//+/bN06dJce+216d+/f5qamrJ58+Zs2LChx++tW7cuzc3NSZLm5uZXfRJ368/bW9PQ0JCBAwfmgAMOSL9+/ba55uX3sb1ZtmXmzJnp7Oys3p5++ukdOzgAALuRXgvAU089NY888kgeeuih6m306NGZOHFi9d/77LNPlixZUv2d1atXZ82aNWltbU2StLa25pFHHunxad3FixenoaEhRx11VHXNy+9j65qt91FXV5dRo0b1WNPd3Z0lS5ZU14waNWq7s2xLfX19GhoaetwAAPY0vfYewEGDBuXoo4/usW3ffffN/vvvX90+efLkTJ8+PUOGDElDQ0POP//8tLa2Vj91e9ppp+Woo47Khz/84cyZMycdHR255JJL0t7envr6+iTJJz7xiVx//fW56KKL8rGPfSx33XVXbrvttixc+H+fKps+fXomTZqU0aNH58QTT8zcuXOzcePGnH322UmSxsbG7c4CALC36tUPgWzPV77ylfTt2zcTJkzIpk2b0tbWlq9+9avV/f369cuCBQty3nnnpbW1Nfvuu28mTZqUz33uc9U1I0aMyMKFCzNt2rRcc801OfDAA/P1r389bW1t1TVnnnlmnnnmmcyaNSsdHR057rjjsmjRoh4fDNneLAAAe6tevw5gSVxHCOgtrgP42u8HdpbXb98FDABQHAEIAFAYAQgAUBgBCABQGAEIAFAYAQgAUBgBCABQGAEIAFAYAQgAUBgBCABQGAEIAFAYAQgAUBgBCABQGAEIAFAYAQgAUBgBCABQGAEIAFAYAQgAUBgBCABQGAEIAFAYAQgAUBgBCABQGAEIAFCY/rUeAIC9xyEzFvb4+amrxtVoEuBPcQYQAKAwzgACsNtxJhF2LWcAAQAKIwABAAojAAEACiMAAQAKIwABAAojAAEACiMAAQAKIwABAAojAAEACiMAAQAKIwABAAojAAEACiMAAQAKIwABAAojAAEACiMAAQAKIwABAAojAAEACiMAAQAKIwABAAojAAEACiMAAQAKIwABAAojAAEACiMAAQAKIwABAArTv9YDALD3OmTGwlqPAGyDM4AAAIURgAAAhRGAAACFEYAAAIURgAAAhRGAAACFEYAAAIVxHUCAGnB9PKCWnAEEACiMAAQAKIwABAAojAAEACiMAAQAKIwABAAojAAEAChMrwbg7Nmzc8IJJ2TQoEEZOnRoxo8fn9WrV/dY88ILL6S9vT37779/3vjGN2bChAlZt25djzVr1qzJuHHj8oY3vCFDhw7NhRdemJdeeqnHmrvvvjvHH3986uvrc+ihh+amm2561Tw33HBDDjnkkAwYMCBjxozJ/fff/5pnAQDY2/RqAC5dujTt7e257777snjx4rz44os57bTTsnHjxuqaadOm5bvf/W5uv/32LF26NGvXrs0ZZ5xR3b9ly5aMGzcumzdvzr333pubb745N910U2bNmlVd8+STT2bcuHF517velYceeihTp07Nxz/+8fzgBz+orrn11lszffr0XHbZZXnwwQdz7LHHpq2tLevXr9/hWQAA9kZ9KpVKZVfd+TPPPJOhQ4dm6dKlOeWUU9LZ2Zk3velNmT9/fj7wgQ8kSVatWpUjjzwyy5Yty0knnZTvf//7ee9735u1a9emqakpSTJv3rxcfPHFeeaZZ1JXV5eLL744CxcuzMqVK6uPddZZZ2XDhg1ZtGhRkmTMmDE54YQTcv311ydJuru7M3z48Jx//vmZMWPGDs2yPV1dXWlsbExnZ2caGhp69dgBezffBPLaPHXVuFqPwF7E6/cufg9gZ2dnkmTIkCFJkhUrVuTFF1/M2LFjq2uOOOKIHHTQQVm2bFmSZNmyZRk5cmQ1/pKkra0tXV1defTRR6trXn4fW9dsvY/NmzdnxYoVPdb07ds3Y8eOra7ZkVleadOmTenq6upxAwDY0+yyAOzu7s7UqVNz8skn5+ijj06SdHR0pK6uLoMHD+6xtqmpKR0dHdU1L4+/rfu37vtTa7q6uvL73/8+v/71r7Nly5Ztrnn5fWxvlleaPXt2Ghsbq7fhw4fv4NEAANh97LIAbG9vz8qVK/Otb31rVz3E627mzJnp7Oys3p5++ulajwQA8Jr13xV3OmXKlCxYsCD33HNPDjzwwOr25ubmbN68ORs2bOhx5m3dunVpbm6urnnlp3W3fjL35Wte+WnddevWpaGhIQMHDky/fv3Sr1+/ba55+X1sb5ZXqq+vT319/Ws4EgAAu59ePQNYqVQyZcqU3HHHHbnrrrsyYsSIHvtHjRqVffbZJ0uWLKluW716ddasWZPW1tYkSWtrax555JEen9ZdvHhxGhoactRRR1XXvPw+tq7Zeh91dXUZNWpUjzXd3d1ZsmRJdc2OzAIAsDfq1TOA7e3tmT9/fr797W9n0KBB1ffSNTY2ZuDAgWlsbMzkyZMzffr0DBkyJA0NDTn//PPT2tpa/dTtaaedlqOOOiof/vCHM2fOnHR0dOSSSy5Je3t79ezbJz7xiVx//fW56KKL8rGPfSx33XVXbrvttixc+H+fqps+fXomTZqU0aNH58QTT8zcuXOzcePGnH322dWZtjcLAMDeqFcD8MYbb0ySvPOd7+yx/Rvf+EY++tGPJkm+8pWvpG/fvpkwYUI2bdqUtra2fPWrX62u7devXxYsWJDzzjsvra2t2XfffTNp0qR87nOfq64ZMWJEFi5cmGnTpuWaa67JgQcemK9//etpa2urrjnzzDPzzDPPZNasWeno6Mhxxx2XRYsW9fhgyPZmAQDYG+3S6wDu7VxHCNhZrgP42rgOIL3J67fvAgYAKI4ABAAojAAEACiMAAQAKIwABAAojAAEACiMAAQAKIwABAAojAAEACiMAAQAKIwABAAojAAEACiMAAQAKIwABAAojAAEACiMAAQAKIwABAAojAAEACiMAAQAKIwABAAoTP9aDwAA23PIjIWv2vbUVeNqMAnsHZwBBAAojAAEACiMAAQAKIwABAAojAAEACiMAAQAKIwABAAojAAEACiMAAQAKIwABAAojAAEACiMAAQAKIwABAAojAAEACiMAAQAKIwABAAojAAEACiMAAQAKIwABAAojAAEACiMAAQAKIwABAAojAAEACiMAAQAKIwABAAojAAEACiMAAQAKIwABAAojAAEAChM/1oPAL3lkBkLX7XtqavG1WAS6Glbz02AWnIGEACgMAIQAKAwAhAAoDACEACgMAIQAKAwAhAAoDACEACgMAIQAKAwLgTNHsFFngGg9zgDCABQGAEIAFAYAQgAUBgBCABQGAEIAFAYAQgAUBiXgaF4r7zEjMvL8Ofa1mWLAHYnApCieGEGAAGYG264IVdffXU6Ojpy7LHH5rrrrsuJJ55Y67GKtyOhJuYAYOcUHYC33nprpk+fnnnz5mXMmDGZO3du2trasnr16gwdOrTW4wF7AP9HBNgTFR2AX/7yl3POOefk7LPPTpLMmzcvCxcuzL/+679mxowZNZ6uHLvyBdSLMwC8WrEBuHnz5qxYsSIzZ86sbuvbt2/Gjh2bZcuWbfN3Nm3alE2bNlV/7uzsTJJ0dXXt2mH3Mkdf9oNaj/AnHTTt9u2uWXlF2+swCXuC7k2/q/UIxfK/veysrc+dSqVS40lqp9gA/PWvf50tW7akqampx/ampqasWrVqm78ze/bsXHHFFa/aPnz48F0yI7uvxrm1ngDw30P+XL/97W/T2NhY6zFqotgA3BkzZ87M9OnTqz93d3fn2Wefzf77758+ffrUcLL/09XVleHDh+fpp59OQ0NDrcfZYzhuO8+x2zmO285z7HaO4/Z/KpVKfvvb36alpaXWo9RMsQF4wAEHpF+/flm3bl2P7evWrUtzc/M2f6e+vj719fU9tg0ePHhXjfhnaWhoKP6/4DvDcdt5jt3Ocdx2nmO3cxy3Pyj1zN9WxX4TSF1dXUaNGpUlS5ZUt3V3d2fJkiVpbW2t4WQAALtWsWcAk2T69OmZNGlSRo8enRNPPDFz587Nxo0bq58KBgDYGxUdgGeeeWaeeeaZzJo1Kx0dHTnuuOOyaNGiV30wZE9SX1+fyy677FV/quZPc9x2nmO3cxy3nefY7RzHjZfrUyn5M9AAAAUq9j2AAAClEoAAAIURgAAAhRGAAACFEYB7kRtuuCGHHHJIBgwYkDFjxuT++++v9Ui7vcsvvzx9+vTpcTviiCNqPdZu55577sn73ve+tLS0pE+fPrnzzjt77K9UKpk1a1aGDRuWgQMHZuzYsXn88cdrM+xuZnvH7qMf/eirnoOnn356bYbdjcyePTsnnHBCBg0alKFDh2b8+PFZvXp1jzUvvPBC2tvbs//+++eNb3xjJkyY8KqL+5dmR47bO9/5zlc95z7xiU/UaGJqRQDuJW699dZMnz49l112WR588MEce+yxaWtry/r162s92m7vL//yL/OrX/2qevvxj39c65F2Oxs3bsyxxx6bG264YZv758yZk2uvvTbz5s3L8uXLs++++6atrS0vvPDC6zzp7md7xy5JTj/99B7PwW9+85uv44S7p6VLl6a9vT333XdfFi9enBdffDGnnXZaNm7cWF0zbdq0fPe7383tt9+epUuXZu3atTnjjDNqOHXt7chxS5Jzzjmnx3Nuzpw5NZqYmqmwVzjxxBMr7e3t1Z+3bNlSaWlpqcyePbuGU+3+Lrvsssqxxx5b6zH2KEkqd9xxR/Xn7u7uSnNzc+Xqq6+ubtuwYUOlvr6+8s1vfrMGE+6+XnnsKpVKZdKkSZW//uu/rsk8e5L169dXklSWLl1aqVT+8BzbZ599Krfffnt1zWOPPVZJUlm2bFmtxtztvPK4VSqVyl/91V9VLrjggtoNxW7BGcC9wObNm7NixYqMHTu2uq1v374ZO3Zsli1bVsPJ9gyPP/54Wlpa8uY3vzkTJ07MmjVraj3SHuXJJ59MR0dHj+dfY2NjxowZ4/m3g+6+++4MHTo0hx9+eM4777z85je/qfVIu53Ozs4kyZAhQ5IkK1asyIsvvtjjeXfEEUfkoIMO8rx7mVcet61uueWWHHDAATn66KMzc+bM/O53v6vFeNRQ0d8Esrf49a9/nS1btrzqG0yampqyatWqGk21ZxgzZkxuuummHH744fnVr36VK664Iu94xzuycuXKDBo0qNbj7RE6OjqSZJvPv637+ONOP/30nHHGGRkxYkSeeOKJfOYzn8m73/3uLFu2LP369av1eLuF7u7uTJ06NSeffHKOPvroJH943tXV1WXw4ME91nre/Z9tHbck+dCHPpSDDz44LS0tefjhh3PxxRdn9erV+fd///caTsvrTQBStHe/+93Vfx9zzDEZM2ZMDj744Nx2222ZPHlyDSejFGeddVb13yNHjswxxxyTt7zlLbn77rtz6qmn1nCy3Ud7e3tWrlzp/bmv0R87bueee2713yNHjsywYcNy6qmn5oknnshb3vKW13tMasSfgPcCBxxwQPr16/eqT7+tW7cuzc3NNZpqzzR48OD8xV/8RX7xi1/UepQ9xtbnmOdf73jzm9+cAw44wHPw/zdlypQsWLAgP/rRj3LggQdWtzc3N2fz5s3ZsGFDj/Wed3/wx47btowZMyZJPOcKIwD3AnV1dRk1alSWLFlS3dbd3Z0lS5aktbW1hpPteZ5//vk88cQTGTZsWK1H2WOMGDEizc3NPZ5/XV1dWb58ueffTvjlL3+Z3/zmN8U/ByuVSqZMmZI77rgjd911V0aMGNFj/6hRo7LPPvv0eN6tXr06a9asKfp5t73jti0PPfRQkhT/nCuNPwHvJaZPn55JkyZl9OjROfHEEzN37txs3LgxZ599dq1H2619+tOfzvve974cfPDBWbt2bS677LL069cvH/zgB2s92m7l+eef73F24Mknn8xDDz2UIUOG5KCDDsrUqVNz5ZVX5rDDDsuIESNy6aWXpqWlJePHj6/d0LuJP3XshgwZkiuuuCITJkxIc3NznnjiiVx00UU59NBD09bWVsOpa6+9vT3z58/Pt7/97QwaNKj6vr7GxsYMHDgwjY2NmTx5cqZPn54hQ4akoaEh559/flpbW3PSSSfVePra2d5xe+KJJzJ//vy85z3vyf7775+HH34406ZNyymnnJJjjjmmxtPzuqr1x5DpPdddd13loIMOqtTV1VVOPPHEyn333VfrkXZ7Z555ZmXYsGGVurq6yv/7f/+vcuaZZ1Z+8Ytf1Hqs3c6PfvSjSpJX3SZNmlSpVP5wKZhLL7200tTUVKmvr6+ceuqpldWrV9d26N3Enzp2v/vd7yqnnXZa5U1velNln332qRx88MGVc845p9LR0VHrsWtuW8csSeUb3/hGdc3vf//7yic/+cnKfvvtV3nDG95Qef/731/51a9+VbuhdwPbO25r1qypnHLKKZUhQ4ZU6uvrK4ceemjlwgsvrHR2dtZ2cF53fSqVSuX1DE4AAGrLewABAAojAAEACiMAAQAKIwABAAojAAEACiMAAQAKIwABAAojAAEACiMAAQAKIwABAAojAAEACiMAAQAKIwABAAojAAEACiMAAQAKIwABAAojAAEACiMAAQAKIwABAAojAAEACiMAAQAKIwABAAojAAEACiMAAQAKIwABAAojAAEACiMAAQAKIwABAAojAAEACiMAAQAKIwABAArz/wGfTasnq4UiUQAAAABJRU5ErkJggg==' width=640.0/>\n",
       "            </div>\n",
       "        "
      ],
      "text/plain": [
       "Canvas(toolbar=Toolbar(toolitems=[('Home', 'Reset original view', 'home', 'home'), ('Back', 'Back to previous …"
      ]
     },
     "metadata": {},
     "output_type": "display_data"
    }
   ],
   "source": [
    "df = nc.Dataset('/scratch/local1/hzg2/schout_170.nc')\n",
    "temp = df.variables['temp'][:]\n",
    "\n",
    "plt.figure()\n",
    "out = plt.hist(temp.flatten(), bins=100)\n"
   ]
  },
  {
   "cell_type": "code",
   "execution_count": 22,
   "metadata": {},
   "outputs": [
    {
     "data": {
      "text/plain": [
       "<matplotlib.colorbar.Colorbar at 0x7fbda94efb80>"
      ]
     },
     "execution_count": 22,
     "metadata": {},
     "output_type": "execute_result"
    },
    {
     "data": {
      "application/vnd.jupyter.widget-view+json": {
       "model_id": "c7a10046da41424fa20fac73c308c7b5",
       "version_major": 2,
       "version_minor": 0
      },
      "text/html": [
       "\n",
       "            <div style=\"display: inline-block;\">\n",
       "                <div class=\"jupyter-widgets widget-label\" style=\"text-align: center;\">\n",
       "                    Figure\n",
       "                </div>\n",
       "                <img src='data:image/png;base64,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' width=640.0/>\n",
       "            </div>\n",
       "        "
      ],
      "text/plain": [
       "Canvas(toolbar=Toolbar(toolitems=[('Home', 'Reset original view', 'home', 'home'), ('Back', 'Back to previous …"
      ]
     },
     "metadata": {},
     "output_type": "display_data"
    }
   ],
   "source": [
    "df = nc.Dataset('/scratch/local1/hzg2/schout_1.nc')\n",
    "\n",
    "temp = df.variables['temp'][:]\n",
    "x = grid['x']\n",
    "triangles = grid['triangles']\n",
    "\n",
    "fig, ax = plt.subplots()\n",
    "t = ax.tripcolor(x[:, 0], x[:, 1], triangles, temp.data.mean(axis=(0,2)), shading='gouraud', vmax=20)\n",
    "# add colorbar\n",
    "fig.colorbar(t, ax=ax)"
   ]
  },
  {
   "cell_type": "code",
   "execution_count": 7,
   "metadata": {},
   "outputs": [
    {
     "name": "stderr",
     "output_type": "stream",
     "text": [
      "/home/zmaw/u301513/.conda/envs/oceantracker/lib/python3.9/site-packages/numpy/core/_methods.py:178: RuntimeWarning: overflow encountered in reduce\n",
      "  ret = umr_sum(arr, axis, dtype, out, keepdims, where=where)\n"
     ]
    },
    {
     "data": {
      "text/plain": [
       "array([         inf, 4.747243e+35, 4.747243e+35, ...,          inf,\n",
       "                inf,          inf], dtype=float32)"
      ]
     },
     "execution_count": 7,
     "metadata": {},
     "output_type": "execute_result"
    }
   ],
   "source": []
  },
  {
   "cell_type": "code",
   "execution_count": null,
   "metadata": {},
   "outputs": [],
   "source": [
    "\n",
    "temp = df.variables['temp'][:]\n"
   ]
  },
  {
   "cell_type": "markdown",
   "metadata": {},
   "source": [
    "## Relative velocity of two particles?"
   ]
  },
  {
   "cell_type": "markdown",
   "metadata": {},
   "source": [
    "### 1D"
   ]
  },
  {
   "cell_type": "code",
   "execution_count": 23,
   "metadata": {},
   "outputs": [
    {
     "name": "stdout",
     "output_type": "stream",
     "text": [
      "0.952623948951129\n",
      "1.126838765441826\n"
     ]
    },
    {
     "data": {
      "image/png": "[encoded data removed]",
      "text/plain": [
       "<Figure size 432x288 with 1 Axes>"
      ]
     },
     "metadata": {
      "needs_background": "light"
     },
     "output_type": "display_data"
    }
   ],
   "source": [
    "sigma = 1\n",
    "samples = int(1e6)\n",
    "random_velocities = np.array( (np.random.normal(0,sigma,samples), np.random.normal(0,sigma,samples)) )\n",
    "random_velocities = np.transpose(random_velocities)\n",
    "\n",
    "# flip sign of second to make velocities relative\n",
    "random_velocities[:,1] = -random_velocities[:,1]\n",
    "\n",
    "# sum up to get the relative velocity\n",
    "relative_velocities = np.sum(random_velocities, axis=1)\n",
    "\n",
    "# take the absolute value\n",
    "relative_velocities = np.abs(relative_velocities)\n",
    "\n",
    "hist = plt.hist(relative_velocities,bins=50)\n",
    "\n",
    "# print median\n",
    "print(np.median(relative_velocities))\n",
    "\n",
    "print(np.mean(relative_velocities))\n"
   ]
  },
  {
   "cell_type": "markdown",
   "metadata": {},
   "source": [
    "### 3D"
   ]
  },
  {
   "cell_type": "code",
   "execution_count": 36,
   "metadata": {},
   "outputs": [
    {
     "data": {
      "text/plain": [
       "(10, 2, 3)"
      ]
     },
     "execution_count": 36,
     "metadata": {},
     "output_type": "execute_result"
    }
   ],
   "source": [
    "sigma = 1\n",
    "samples = int(10)\n",
    "random_velocities = np.array(( np.random.normal(0,sigma,(samples,3)),np.random.normal(0,sigma,(samples,3)) ))  \n",
    "# swap array axis 0 and 1\n",
    "random_velocities = np.swapaxes(random_velocities,0,1)\n",
    "random_velocities.shape"
   ]
  },
  {
   "cell_type": "code",
   "execution_count": null,
   "metadata": {},
   "outputs": [],
   "source": [
    "def relative_velocity(A, B):\n",
    "    \"\"\"\n",
    "    Calculate the projection of the relative velocity of two particles onto the line connecting them.\n",
    "\n",
    "    Parameters:\n",
    "    A (tuple): Contains position and velocity of particle A as (pos_A, vel_A).\n",
    "    B (tuple): Contains position and velocity of particle B as (pos_B, vel_B).\n",
    "\n",
    "    Returns:\n",
    "    numpy.ndarray: The projected relative velocity vector onto the line AB.\n",
    "    \"\"\"\n",
    "    pos_A, vel_A = A\n",
    "    pos_B, vel_B = B\n",
    "\n",
    "    # Convert positions and velocities to numpy arrays for vector operations\n",
    "    pos_A = np.array(pos_A)\n",
    "    pos_B = np.array(pos_B)\n",
    "    vel_A = np.array(vel_A)\n",
    "    vel_B = np.array(vel_B)\n",
    "\n",
    "    # Calculate the relative velocity\n",
    "    v_AB = vel_A - vel_B\n",
    "\n",
    "    # Calculate the unit vector along line AB\n",
    "    r_AB = pos_B - pos_A\n",
    "    unit_AB = r_AB / np.linalg.norm(r_AB)\n",
    "\n",
    "    # Project the relative velocity onto the line AB\n",
    "    v_proj_on_AB = np.dot(v_AB, unit_AB) * unit_AB\n",
    "\n",
    "    return v_proj_on_AB"
   ]
  },
  {
   "cell_type": "markdown",
   "metadata": {},
   "source": [
    "\"\"\"\n",
    "the above is wrong.\n",
    "a much better aproach is to calculated the \"covered volume\" of the particle and the particle cloud.\n",
    "\"\"\"\n"
   ]
  },
  {
   "cell_type": "code",
   "execution_count": 28,
   "metadata": {},
   "outputs": [
    {
     "data": {
      "text/plain": [
       "0.04932817"
      ]
     },
     "execution_count": 28,
     "metadata": {},
     "output_type": "execute_result"
    },
    {
     "data": {
      "image/png": "[encoded data removed]",
      "text/plain": [
       "<Figure size 432x288 with 1 Axes>"
      ]
     },
     "metadata": {
      "needs_background": "light"
     },
     "output_type": "display_data"
    }
   ],
   "source": [
    "out = plt.hist(df.variables['turbidity'][:].flatten(),bins=50)\n",
    "# drop 0 values from turbidty (artifacts from interpolation/merging)\n",
    "out = plt.hist(df.variables['turbidity'][:].flatten()[df.variables['turbidity'][:].flatten() != 0],bins=50)\n",
    "\n",
    "# mean\n",
    "np.mean(df.variables['turbidity'][:].flatten()[df.variables['turbidity'][:].flatten() != 0])"
   ]
  },
  {
   "cell_type": "code",
   "execution_count": 77,
   "metadata": {},
   "outputs": [
    {
     "name": "stdout",
     "output_type": "stream",
     "text": [
      "Number of particles per m3: 3.60e+07\n",
      "Volume occupied by dust particles per m3: 1.89e-05 m3\n",
      "Relative volume occupied by dust particles per m3: 1.89e-05\n"
     ]
    }
   ],
   "source": [
    "# We have SPM in kg/m3.\n",
    "# Through density and diameter we can estimate the volume accounted for by the cloud\n",
    "\n",
    "dust_concentration = 0.05 # kg/m3\n",
    "dust_particle_density = 2650 # kg/m3\n",
    "dust_particle_diameter = 100e-6 # m\n",
    "\n",
    "test_particle_radius = dust_particle_diameter # m\n",
    "\n",
    "volume_of_particle = 4/3 * np.pi * (dust_particle_diameter/2)**3\n",
    "number_of_particles = dust_concentration / (dust_particle_density * volume_of_particle)\n",
    "# print as exponent\n",
    "print(f'Number of particles per m3: {number_of_particles:.2e}')\n",
    "\n",
    "volume_occupied_by_dust_particles = number_of_particles * volume_of_particle\n",
    "print(f'Volume occupied by dust particles per m3: {volume_occupied_by_dust_particles:.2e} m3')\n",
    "# relative per m3\n",
    "relative_volume_occupied_by_dust_particles = volume_occupied_by_dust_particles / 1.**3\n",
    "print(f'Relative volume occupied by dust particles per m3: {relative_volume_occupied_by_dust_particles:.2e}')\n"
   ]
  },
  {
   "cell_type": "code",
   "execution_count": 78,
   "metadata": {},
   "outputs": [
    {
     "data": {
      "text/plain": [
       "0.797722330328019"
      ]
     },
     "execution_count": 78,
     "metadata": {},
     "output_type": "execute_result"
    }
   ],
   "source": [
    "# Define the parameters for the normal distribution\n",
    "mu = 0  # mean\n",
    "sigma = 1  # standard deviation\n",
    "\n",
    "# Generate a sample from the distribution\n",
    "sample_size = 1000000  # large sample size for better approximation\n",
    "sample = np.random.normal(mu, sigma, sample_size)\n",
    "\n",
    "# Calculate the mean of the absolute values of the sample\n",
    "mean_abs = np.mean(np.abs(sample))\n",
    "mean_abs\n"
   ]
  },
  {
   "cell_type": "code",
   "execution_count": 79,
   "metadata": {},
   "outputs": [
    {
     "data": {
      "text/plain": [
       "0.0047872470912912555"
      ]
     },
     "execution_count": 79,
     "metadata": {},
     "output_type": "execute_result"
    }
   ],
   "source": [
    "# Define the parameters for the normal distribution\n",
    "mu = 0  # mean\n",
    "sigma = 0.006  # standard deviation \n",
    "\n",
    "# Generate a sample from the distribution\n",
    "sample_size = 1000000  # large sample size for better approximation\n",
    "sample = np.random.normal(mu, sigma, sample_size)\n",
    "\n",
    "# Calculate the mean of the absolute values of the sample\n",
    "mean_abs = np.mean(np.abs(sample))\n",
    "mean_abs\n"
   ]
  },
  {
   "cell_type": "code",
   "execution_count": 80,
   "metadata": {},
   "outputs": [
    {
     "name": "stdout",
     "output_type": "stream",
     "text": [
      "Volume swept by dust particles: 3.25e-01 m3/s\n"
     ]
    }
   ],
   "source": [
    "# move particles by mean_abs and calculate covered volume\n",
    "# particles collide as soon as distance < r1+r2\n",
    "# hence the volume covered regarding collisions is defined by (d1+d2)/2\n",
    "\n",
    "# then following the the logic of Delichatsios 1975 the volume swept by the cloud is defined by\n",
    "volume_swept_by_dust_particles = number_of_particles * np.pi * ((test_particle_radius + dust_particle_diameter) / 2)**2 * mean_abs * 60\n",
    "print(f'Volume swept by dust particles: {volume_swept_by_dust_particles:.2e} m3/s')"
   ]
  },
  {
   "cell_type": "code",
   "execution_count": 81,
   "metadata": {},
   "outputs": [
    {
     "name": "stdout",
     "output_type": "stream",
     "text": [
      "Volume swept by test particle: 2.26e-09 m3/s\n"
     ]
    }
   ],
   "source": [
    "# volume swept by the test particle\n",
    "volume_swept_by_test_particle = np.pi * (test_particle_radius / 2)**2 * mean_abs * 60\n",
    "print(f'Volume swept by test particle: {volume_swept_by_test_particle:.2e} m3/s')"
   ]
  },
  {
   "cell_type": "markdown",
   "metadata": {},
   "source": [
    "## Sanity checking the coagulatoin and buoyancy"
   ]
  },
  {
   "cell_type": "code",
   "execution_count": 24,
   "metadata": {},
   "outputs": [],
   "source": [
    "tracks = load_track_data('/scratch/local1/output/22_11_01_depth_losses_v18/22_11_01_depth_losses_v18_caseInfo.json')"
   ]
  },
  {
   "cell_type": "code",
   "execution_count": 26,
   "metadata": {},
   "outputs": [
    {
     "data": {
      "text/plain": [
       "[<matplotlib.lines.Line2D at 0x7fe0b8ad9a30>]"
      ]
     },
     "execution_count": 26,
     "metadata": {},
     "output_type": "execute_result"
    },
    {
     "data": {
      "application/vnd.jupyter.widget-view+json": {
       "model_id": "05c954b810614db6a0f5c0d94fe0ba22",
       "version_major": 2,
       "version_minor": 0
      },
      "text/html": [
       "\n",
       "            <div style=\"display: inline-block;\">\n",
       "                <div class=\"jupyter-widgets widget-label\" style=\"text-align: center;\">\n",
       "                    Figure\n",
       "                </div>\n",
       "                <img src='data:image/png;base64,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' width=640.0/>\n",
       "            </div>\n",
       "        "
      ],
      "text/plain": [
       "Canvas(toolbar=Toolbar(toolitems=[('Home', 'Reset original view', 'home', 'home'), ('Back', 'Back to previous …"
      ]
     },
     "metadata": {},
     "output_type": "display_data"
    }
   ],
   "source": [
    "particleID = 0\n",
    "t = tracks['time'][:]\n",
    "t = [datetime.fromtimestamp(i) for i in t]\n",
    "\n",
    "plt.figure()\n",
    "plt.plot(t,tracks['collision_very_fine_silt'][:, particleID])\n",
    "\n"
   ]
  },
  {
   "cell_type": "code",
   "execution_count": 38,
   "metadata": {},
   "outputs": [
    {
     "data": {
      "application/vnd.jupyter.widget-view+json": {
       "model_id": "c986f7796edc42a5bbdfdc391f9455b3",
       "version_major": 2,
       "version_minor": 0
      },
      "text/html": [
       "\n",
       "            <div style=\"display: inline-block;\">\n",
       "                <div class=\"jupyter-widgets widget-label\" style=\"text-align: center;\">\n",
       "                    Figure\n",
       "                </div>\n",
       "                <img src='data:image/png;base64,iVBORw0KGgoAAAANSUhEUgAAA+gAAAJYCAYAAADxHswlAAAAOXRFWHRTb2Z0d2FyZQBNYXRwbG90bGliIHZlcnNpb24zLjUuMCwgaHR0cHM6Ly9tYXRwbG90bGliLm9yZy8/fFQqAAAACXBIWXMAAA9hAAAPYQGoP6dpAADMVElEQVR4nOzdd1xUV9oH8N8MwwwdpFcBFXvBqBBEo0YEy0axRWMSazRxdRPjmx6j0WTXTbMlJsYktl2NJRo2McZI7IVYwd4FBem9wzBz3j+QgZEiSpni7/v5kDDnnnvOc+eh+HDvPVcihBAgIiIiIiIiIp2S6joAIiIiIiIiImKBTkRERERERKQXWKATERERERER6QEW6ERERERERER6gAU6ERERERERkR5ggU5ERERERESkB1igExEREREREekBFuhEREREREREeoAFOhEREREREZEeYIFOREREREREpAdYoBMRERERERHpARboRERERERERHqABToRERERERGRHmCBTkRERERERKQHWKATEREZsQ8//BASieSh9+vfvz/69+/f+AE9RiQSCT788ENdh0FERAaEBToREVETWbduHSQSiebDzMwMbdu2xezZs5GSktJo8xQWFuLDDz/EgQMHGm3MxjZ58mSt98LGxgbdunXDF198gZKSEl2H98h27drFIpyIiBqNTNcBEBERGbtFixbB19cXxcXFOHLkCL755hvs2rULFy5cgIWFRYPHLywsxMKFCwGg2lnvefPm4Z133mnwHI1BoVDg+++/BwBkZ2dj+/bteOONN3Dy5Els3rxZx9E9ml27dmHlypU1FulFRUWQyfhPLSIiqj/+1iAiImpiQ4YMQc+ePQEAL730EhwcHLBkyRL873//w3PPPffI46rVapSWltbZRyaT6U2RKJPJ8MILL2he//3vf0dgYCC2bNmCJUuWwN3dvdo+QggUFxfD3Ny8OUN9oIKCAlhaWtbZx8zMrJmiISIiY8FL3ImIiJrZ008/DQCIjY0FAHz++efo3bs3HBwcYG5ujh49euCnn36qtp9EIsHs2bOxceNGdOrUCQqFAqtWrYKTkxMAYOHChZpLyCvO6NZ2D/p///tfBAQEwMLCAi1atMBTTz2FPXv21Bl3SUkJFixYgDZt2kChUMDLywtvvfXWI1+iLpVKNWf84+LiAAA+Pj7429/+hj/++AM9e/aEubk5vv32WwDArVu3MHbsWNjb28PCwgJPPvkkfvvtN60xDxw4AIlEgi1btuC9996Dq6srLC0tMXz4cMTHx1eL4fjx4xg8eDBsbW1hYWGBfv364ejRo1p9Kt7DS5cuYcKECWjRogX69OmDyZMnY+XKlQCgdfl+hZruQb979y6mTp0KFxcXKBQKdOrUCWvWrKkW15dffolOnTpp8tOzZ09s2rTpod5fIiIyPPrxJ3UiIqLHyM2bNwEADg4OAIDly5dj+PDheP7551FaWorNmzdj7Nix2LlzJ4YNG6a17759+7B161bMnj0bjo6O6NatG7755hvMnDkTI0eOxKhRowAAXbt2rXX+hQsX4sMPP0Tv3r2xaNEiyOVyHD9+HPv27UNoaGiN+6jVagwfPhxHjhzBjBkz0KFDB5w/fx5Lly7FtWvXEBER0SjvBQBcvXoVzz33HF5++WVMnz4d7dq1Q0pKCnr37o3CwkK8+uqrcHBwwPr16zF8+HD89NNPGDlypNa4//znPyGRSPD2228jNTUVy5YtQ0hICGJiYjRn4/ft24chQ4agR48eWLBgAaRSKdauXYunn34ahw8fRkBAgNaYY8eOhZ+fH/71r39BCIHu3bsjMTERkZGR+M9//vPAY01JScGTTz6p+UOLk5MTfv/9d0ybNg25ubmYM2cOAOC7777Dq6++ijFjxuC1115DcXExzp07h+PHj2PChAmP9D4TEZGBEERERNQk1q5dKwCIP//8U6SlpYn4+HixefNm4eDgIMzNzUVCQoIQQojCwkKt/UpLS0Xnzp3F008/rdUOQEilUnHx4kWt9rS0NAFALFiwoFoMCxYsEFV/3V+/fl1IpVIxcuRIoVKptPqq1WrN5/369RP9+vXTvP7Pf/4jpFKpOHz4sNY+q1atEgDE0aNH63wvJk2aJCwtLUVaWppIS0sTN27cEP/617+ERCIRXbt21fTz9vYWAMTu3bu19p8zZ44AoDV/Xl6e8PX1FT4+Pppj2b9/vwAgPDw8RG5urqbv1q1bBQCxfPlyzbH6+fmJsLAwreMuLCwUvr6+YtCgQdXew+eee67acc2aNUvU9s+p+3Mybdo04ebmJtLT07X6jR8/Xtja2mq+DkaMGCE6depU8xtJRERGjZe4ExERNbGQkBA4OTnBy8sL48ePh5WVFX7++Wd4eHgAgNb91VlZWcjJyUHfvn1x5syZamP169cPHTt2fORYIiIioFarMX/+fEil2v8MqOtxbNu2bUOHDh3Qvn17pKenaz4qLtffv3//A+cuKCiAk5MTnJyc0KZNG7z33nsICgrCzz//rNXP19cXYWFhWm27du1CQEAA+vTpo2mzsrLCjBkzEBcXh0uXLmn1nzhxIqytrTWvx4wZAzc3N+zatQsAEBMTg+vXr2PChAnIyMjQHE9BQQEGDhyIQ4cOQa1Wa435yiuvPPAYayOEwPbt2/HMM89ACKH1HoaFhSEnJ0eTbzs7OyQkJODkyZOPPB8RERkmXuJORETUxFauXIm2bdtCJpPBxcUF7dq10yqOd+7ciY8//hgxMTFa93PXVDD7+vo2KJabN29CKpU+dJF//fp1XL58WXO/+/1SU1MfOIaZmRl+/fVXAOUruvv6+sLT07Nav5qO8fbt2wgMDKzW3qFDB832zp07a9r9/Py0+kkkErRp00Zzr/v169cBAJMmTao13pycHLRo0aLOuOorLS0N2dnZWL16NVavXl1jn4r38O2338aff/6JgIAAtGnTBqGhoZgwYQKCg4MfeX4iIjIMLNCJiIiaWEBAgGYV9/sdPnwYw4cPx1NPPYWvv/4abm5uMDU1xdq1a2tcFExXq5mr1Wp06dIFS5YsqXG7l5fXA8cwMTFBSEjIA/s1xzFWnB3/7LPP4O/vX2MfKysrrdcNiativhdeeKHWPwpUrBvQoUMHXL16FTt37sTu3buxfft2fP3115g/f77mcXpERGScWKATERHp0Pbt22FmZoY//vgDCoVC07527dp6j1HXpen3a926NdRqNS5dulRrYVrbfmfPnsXAgQMfar7G4u3tjatXr1Zrv3LlimZ7VRVnyCsIIXDjxg1NEdy6dWsAgI2NTb3+aFCb+r4XTk5OsLa2hkqlqtd8lpaWGDduHMaNG4fS0lKMGjUK//znP/Huu+/y8W1EREaM96ATERHpkImJCSQSCVQqlaYtLi7uoVZFt7CwAABkZ2c/sG94eDikUikWLVpU7R5rIUSt+z377LO4e/cuvvvuu2rbioqKUFBQUO94H8XQoUNx4sQJREVFadoKCgqwevVq+Pj4VLtkf8OGDcjLy9O8/umnn5CUlIQhQ4YAAHr06IHWrVvj888/R35+frX50tLS6hVXxbPQH/Tem5iYYPTo0di+fTsuXLhQ53wZGRla2+RyOTp27AghBJRKZb3iIiIiw8Qz6ERERDo0bNgwLFmyBIMHD8aECROQmpqKlStXok2bNjh37ly9xjA3N0fHjh2xZcsWtG3bFvb29ujcubPWPdkV2rRpg/fffx8fffQR+vbti1GjRkGhUODkyZNwd3fH4sWLa5zjxRdfxNatW/HKK69g//79CA4OhkqlwpUrV7B161bNc8ubyjvvvIMff/wRQ4YMwauvvgp7e3usX78esbGx2L59e7UF7+zt7dGnTx9MmTIFKSkpWLZsGdq0aYPp06cDKH8G+/fff48hQ4agU6dOmDJlCjw8PHD37l3s378fNjY2mvvl69KjRw8AwKuvvoqwsDCYmJhg/PjxNfb997//jf379yMwMBDTp09Hx44dkZmZiTNnzuDPP/9EZmYmACA0NBSurq4IDg6Gi4sLLl++jK+++grDhg3TWviOiIiMDwt0IiIiHXr66afxww8/4N///jfmzJkDX19ffPLJJ4iLi6t3gQ4A33//Pf7xj3/g9ddfR2lpKRYsWFBjgQ4AixYtgq+vL7788ku8//77sLCwQNeuXfHiiy/WOr5UKkVERASWLl2KDRs24Oeff4aFhQVatWqF1157DW3btn3oY38YLi4uOHbsGN5++218+eWXKC4uRteuXfHrr79We1Y8ALz33ns4d+4cFi9ejLy8PAwcOBBff/215moDAOjfvz+ioqLw0Ucf4auvvkJ+fj5cXV0RGBiIl19+uV5xjRo1Cv/4xz+wefNm/Pe//4UQotYC3cXFBSdOnMCiRYuwY8cOfP3113BwcECnTp3wySefaPq9/PLL2LhxI5YsWYL8/Hx4enri1Vdfxbx58x7yXSMiIkMjEXVdz0ZERERkQA4cOIABAwZg27ZtGDNmjK7DISIieii8B52IiIiIiIhID7BAJyIiIiIiItIDLNCJiIiIiIiI9ADvQSciIiIiIiLSAzyDTkRERERERKQHWKATERERERER6QE+B90AqdVqJCYmwtraGhKJRNfhEBEREREREQAhBPLy8uDu7g6p9OHPh7NAN0CJiYnw8vLSdRhERERERERUg/j4eHh6ej70fizQDZC1tTWA8qTb2Ng027xKpRJ79uxBaGgoTE1Nm21ealzMo3FgHg0fc2gcmEfDxxwaB+bROBhDHnNzc+Hl5aWp2R4WC3QDVHFZu42NTbMX6BYWFrCxsTHYbxhiHo0F82j4mEPjwDwaPubQODCPxsGY8viotyJzkTgiIiIiIiIiPcACnYiIiIiIiEgPsEAnIiIiIiIig5BTqMTWU/EQQug6lCbBe9CJiIiIiIhIr91Izce6Y7HYfvouipQqtHK0RE8fe12H1ehYoBMREREREZHeUarU+OtWBtYcicX+q2ma9vau1igtU+swsqbDAp2IiIiIiIj0hlotEBF9F5/9cRV3s4sAABIJENLBBVOCfRDUyuGRV0nXdyzQiYiIiIiISOeKSlU4miLB8i+P4lZ6IQDA1twUw7u5Y2ofX/g6Wuo4wqbHAp2IiIiIiIh06peziVj060Wk55sAKIS1mQyv9GuNqcG+MJeb6Dq8ZsMCnYiIiIiIiJpdaZkaey+nYPne67iSnAcAsFcIzBzYHs8F+sBK8fiVq4/fERMREREREZHO5BQp8b+Yu/hq3w2k5pUAAOQmUkzp7Y22pdcxPMgbpqaPZ6n6eB41ERERERERNavUvGKsPngL//nrNkrurcJubynH84Et8VKfVrAwBXbtuq7jKHWLBToRERERERE1mbS8Eqw6eBP/rVKY+zlb4cUgb4zv1RJymRQAoFQqdRmmXmCBTkRERERERI0uPb8EX++/iY3HKwtzfy87vD6oLZ7yczTaR6U1BAt0IiIiIiIiajTxmYX44Ugstp6KR2GpCgAL8/pigU5EREREREQNdi0lD2uPxmHrqXio1AIA0NnDBm+GtWdhXk9SXQegTw4dOoRnnnkG7u7ukEgkiIiI0NouhMD8+fPh5uYGc3NzhISE4Pr1ykUM4uLiMG3aNPj6+sLc3BytW7fGggULUFpaqjXOuXPn0LdvX5iZmcHLywuffvppcxweERERERFRoxJC4NiNdLz4w3GELj2EH0/cgUot0KeNI/4zLQC/zu6Dfm2dWJzXE8+gV1FQUIBu3bph6tSpGDVqVLXtn376KVasWIH169fD19cXH3zwAcLCwnDp0iWYmZnhypUrUKvV+Pbbb9GmTRtcuHAB06dPR0FBAT7//HMAQG5uLkJDQxESEoJVq1bh/PnzmDp1Kuzs7DBjxozmPmQiIiIiIqKHVlqmxp5Lyfju0C2cTcgBAEglQGhHV0wJ9kFgKwcdR2iYWKBXMWTIEAwZMqTGbUIILFu2DPPmzcOIESMAABs2bICLiwsiIiIwfvx4DB48GIMHD9bs06pVK1y9ehXffPONpkDfuHEjSktLsWbNGsjlcnTq1AkxMTFYsmQJC3QiIiIiItJrxUoVtp9JwDcHbiIhqwgAYGYqxdgeXpjxVCt42VvoOELDxgK9nmJjY5GcnIyQkBBNm62tLQIDAxEVFYXx48fXuF9OTg7s7e01r6OiovDUU09BLpdr2sLCwvDJJ58gKysLLVq0qDZGSUkJSkpKNK9zc3MBlD+GoDkfRVAxFx9/YNiYR+PAPBo+5tA4MI+Gjzk0Dsxj08vIL8HPMUn44Wgc0vPLb+F1tJJjbA8PTHqyJRysFAAalgNjyGNDY2eBXk/JyckAABcXF612FxcXzbb73bhxA19++aXm7HnFOL6+vtXGqNhWU4G+ePFiLFy4sFr7nj17YGHR/H+hioyMbPY5qfExj8aBeTR8zKFxYB4NH3NoHJjHxiUEcClbguh0Cc5kSKAS5feR28kFBrir0du5EPLS6zh+6PoDRno4hpzHwsLCBu3PAr2J3L17F4MHD8bYsWMxffr0Bo317rvvYu7cuZrXubm58PLyQmhoKGxsbBoaar0plUpERkZi0KBBMDU1bbZ5qXExj8aBeTR8zKFxYB4NH3NoHJjHxqVWC+y/loYv99/ExcQ8TXsnd2s8H9AS4f5uMDVp/PXGjSGPFVc7PyoW6PXk6uoKAEhJSYGbm5umPSUlBf7+/lp9ExMTMWDAAPTu3RurV6+uNk5KSopWW8Xrijnup1AooFAoqrWbmprq5AtXV/NS42IejQPzaPiYQ+PAPBo+5tA4MI8Nt/tCEj7fcw03UvMBABZyE4x+whPh3T3wREu7ZlmN3ZDz2NC4WaDXk6+vL1xdXbF3715NQZ6bm4vjx49j5syZmn53797FgAED0KNHD6xduxZSqfZfloKCgvD+++9DqVRqkhcZGYl27drVeHk7ERERERFRUxJC4NjNDCyJvIbTt7MAAFYKGSYEtsT0vq3gZF39ZCE1DRboVeTn5+PGjRua17GxsYiJiYG9vT1atmyJOXPm4OOPP4afn5/mMWvu7u4IDw8HUF6c9+/fH97e3vj888+RlpamGavi7PiECROwcOFCTJs2DW+//TYuXLiA5cuXY+nSpc16rERERERE9HgTQuCPi8n4+sBNnLv3qDSZVIKX+rbCrAGtYW1mmGexDRkL9CpOnTqFAQMGaF5X3Pc9adIkrFu3Dm+99RYKCgowY8YMZGdno0+fPti9ezfMzMwAlJ8Jv3HjBm7cuAFPT0+tsYUQAMpXft+zZw9mzZqFHj16wNHREfPnz+cj1oiIiIiIqFmUqdT47XwSvt5/E1dTyu8xV8ikGN/LC7MGtIGzjZmOI3x8sUCvon///ppCuiYSiQSLFi3CokWLatw+efJkTJ48+YHzdO3aFYcPH37UMImIiIiIiB5aTpESW0/GY92xONzNrnyG+cQgH7z8VCvNo9JId1igExERERERGbHC0jJ8fzgW3x2+hbziMgCAvaUck3v7YFJvH9ia81J2fcECnYiIiIiIyAgl5RRh/bHb+PHEHeQUKQEAfs5WeKmvL0b4e8DM1ETHEdL9WKATEREREREZkdj0Aqw+dAvbTsWjTF1+C29Lewv8X2hb/K2rO0ykTf+oNHo0LNCJiIiIiIiMwOnbWdh4/DZ+jr6LiqW1Anzt8VIfXwzs4MLC3ACwQCciIiIiIjJgZ+OzsfTPazhwtfIxzwPaOWFm/zYI8LXXYWT0sFigExERERERGaC8YiW+PXgL3x66CaVKwEQqwTNd3fBikA96eLfQdXj0CFigExERERERGRAhBLacjMcnu68gq7B88bewTi54d0gH+Dha6jg6aggW6ERERERERAZArRb47XwSvjlwE5eScgEArZws8VZYO4R1coVEwnvMDR0LdCIiIiIiIj1WVKrC5pN38J+/buNWWgEAwMxUitkD2uCVfq0hM5HqOEJqLCzQiYiIiIiI9FBesRLrj8VhQ9RtpOaVAACsFTK81LcVJvX2hp2FXMcRUmNjgU5ERERERKRHipUqrDsWh28P3tTcY+7ZwhwznmqF8O4esDEz1XGE1FRYoBMREREREemB1LxirD0ah/9G3UZeSRmA8nvMZw9og2Fd3aCQmeg4QmpqLNCJiIiIiIh0pFipwm/nkhARcxdHb6RDLcrbPVuYY05IW4T7u/Me88cIC3QiIiIiIqJmlpFfgp+j72L1oVua+8sBoId3C7zSrzUGtneGVMpV2R83LNCJiIiIiIiaSfSdLCz98zqO3kiH6t7pcjdbM0wIaInh/u7wduBzzB9nLNCJiIiIiIiaWHxmIT7ZfQU7zyVp2jq52+D5QG+M6eEJuYyXsRMLdCIiIiIioiZzJ6MQX+67jv+dTURpmRoSCTDmCU/M7N8arZysdB0e6RkW6ERERERERI2osLQMP56Ix7ZT8biSnKdpD27jgHnDOqKDm40OoyN9xgKdiIiIiIiogYQQOHMnG7+eTcTP0XeRU1T+/HKJBOjTxhGv9GuN3q0dIJFw4TeqnVEU6Ldu3UKrVq10HQYRERERET1mbqbl47dzSdh9IRmXknI17d4OFnipbysM6+IGe0u5DiMkQ2IUBXqbNm3Qr18/TJs2DWPGjIGZmZmuQyIiIiIiIiMWE5+Nz/64gqM3MjRtchMp/tbVDX/r5oZ+bZ1hwsek0UMyigL9zJkzWLt2LebOnYvZs2dj3LhxmDZtGgICAnQdGhERERERGQmlSo0TsZn471+3sftiMoQATKQS9PJpgVFPeGJge2c4WCl0HSYZMKMo0P39/bF8+XJ88cUX+OWXX7Bu3Tr06dMHbdu2xdSpU/Hiiy/CyclJ12ESEREREZGBEULgYmIutp9JwC8xicgoKNVsG/WEB+YOagvPFhY6jJCMiVE9bE8mk2HUqFHYtm0bPvnkE9y4cQNvvPEGvLy8MHHiRCQlJT14ECIiIiIieuzlFSux5eQdDF1xBH/78gjWHo1DRkEp7C3leC7AC3/MeQpLnvVncU6NyijOoFc4deoU1qxZg82bN8PS0hJvvPEGpk2bhoSEBCxcuBAjRozAiRMndB0mERERERHpISEEjsdmYu3RWBy4moaSMjWA8nvLB3V0wegeHnjKzwkyE6M6z0l6xCgK9CVLlmDt2rW4evUqhg4dig0bNmDo0KGQSsu/cXx9fbFu3Tr4+PjoNlAiIiIiItIrKrXA8dgM/Ho2EYeupeNudpFmWytHS4zr5YVxvbxgZ8GV2KnpGUWB/s0332Dq1KmYPHky3Nzcauzj7OyMH374oZkjIyIiIiIifXQ7owDbz9zFjyfuIC2vRNNuKTfBkC5umBrsiw5u1nxuOTUroyjQIyMj0bJlS80Z8wpCCMTHx6Nly5aQy+WYNGmSjiIkIiIiIiJdE0Lg4LU0/Pev29h3JRVqUd5uYybDsK5uCO3oiqDWDjAzNdFtoPTYMooCvXXr1khKSoKzs7NWe2ZmJnx9faFSqXQUGRERERER6ZpKLfDL2bv49uAtXEnO07QHt3HA2B5eGNrFDXIZ7ysn3TOKAl0IUWN7fn4+zMzMmjkaIiIiIiLSB5kFpdh5LhFrj8YhNr0AAGAhN8H4Xi0xIdALbZytdRwhkTaDLtDnzp0LAJBIJJg/fz4sLCofcaBSqXD8+HH4+/vrKDoiIiIiImpuBSVl+O18EnadT8KR6+kou3cdu52FKab3bYUXAr1ha2Gq4yiJambQBXp0dDSA8jPo58+fh1xeubKiXC5Ht27d8MYbb+gqPCIiIiIiagZKlRoXsiTYs/Uc9l5JRbFSrdnWyd0GY3p44tmeXrBUGHT5Q48Bg/4K3b9/PwBgypQpWL58OWxsbHQcERERERERNZebafnYfOIOfjuXhMQcEwDJAABvBwuMecITQ7q48jJ2MigGXaBXWLt2ra5DICIiIiKiZlCsVGHflVRsPhmPQ9fSNO0WMoGxvbwx6gkvdPW05ePRyCAZbIE+atQorFu3DjY2Nhg1alSdfXfs2NFMURERERERUWOreDzanksp2Hk2EbnFZQAAiQQY2N4Zw7u6oij2DEYNbQ9TU95fTobLYAt0W9vKv4rZ2trqOBoiIiIiImpsqbnF2BF9F1tPxeNWWoGm3c3WDCP8PfBcgBe8HSyhVCqx644OAyVqJAZboFe9rJ2XuBMRERERGYcylRoHr6XhxxN3sP9qGlT3VmG3kJvgma7uGOHvjsBWDjCR8hJ2Mj4GW6BXVVRUBCGE5jFrt2/fxs8//4yOHTsiNDRUx9EREREREVFdhBC4nJSH7WcS8L+Yu0jPL9Vs6+HdAs/29MSwru6w4irsZOSM4it8xIgRGDVqFF555RVkZ2cjICAAcrkc6enpWLJkCWbOnKnrEImIiIiI6D5XknOx82wSfjufhNj0ykvY7SxMMeYJT4wPaIk2zlY6jJCoeRlFgX7mzBksXboUAPDTTz/B1dUV0dHR2L59O+bPn88CnYiIiIhIT2QXluKXs4nYdioB5+/maNrlJlIM7OCM0U94ol87J5iaSHUYJZFuGEWBXlhYCGvr8ucb7tmzB6NGjYJUKsWTTz6J27dv6zg6IiIiIqLHmxACF+7mYvXhW/jjYjJKy9QAAFMTCZ5u74yhXdwwsIMLL2Gnx55RfAe0adMGERERGDlyJP744w+8/vrrAIDU1FTY2NjoODoiIiIiosdPYnYRjtxIx8nYTJyIy8TtjELNtvau1ni2pxfCu3vA3lKuwyiJ9ItRFOjz58/HhAkT8Prrr2PgwIEICgoCUH42vXv37jqOjoiIiIjo8VBapkbkpRRsPnkHR26kQ4jKbXKZFIM7uWLGU63Qyd1G88hkIqpkFAX6mDFj0KdPHyQlJaFbt26a9oEDB2LkyJE6jIyIiIiIyPjdSM3HlpN3sP3MXWQWVK7A/kRLOwS2ckAvnxbo6WMPGzNTHUZJpP+MokAHAFdXV7i6umq1BQQE6CgaIiIiIiLjVlSqwm/nk7Dl5B2cjMvStLvYKDC2hxfG9fKCl72FDiMkMjxGUaAXFBTg3//+N/bu3YvU1FSo1Wqt7bdu3dJRZERERERExuV6Sh7WR8Xhl5hE5BaXAQCkEuDp9s4Y36sl+rdzgowrsBM9EqMo0F966SUcPHgQL774Itzc3B75fpZDhw7hs88+w+nTp5GUlISff/4Z4eHhmu1CCCxYsADfffcdsrOzERwcjG+++QZ+fn6aPv/85z/x22+/ISYmBnK5HNnZ2dXmuXPnDmbOnIn9+/fDysoKkyZNwuLFiyGTGUU6iIiIiMjIJGQVYv/VNGw/nYCY+GxNu2cLc4zv5YUxPbzgamumuwCJjIRRVIS///47fvvtNwQHBzdonIKCAnTr1g1Tp07FqFGjqm3/9NNPsWLFCqxfvx6+vr744IMPEBYWhkuXLsHMrPwHUmlpKcaOHYugoCD88MMP1cZQqVQYNmwYXF1dcezYMSQlJWHixIkwNTXFv/71rwbFT0RERETUWC4n5eJ/MYnYdyUF11LyNe0mUgkGtnfGxCAf9G7tAKmUi70RNRajKNBbtGgBe3v7Bo8zZMgQDBkypMZtQggsW7YM8+bNw4gRIwAAGzZsgIuLCyIiIjB+/HgAwMKFCwEA69atq3GcPXv24NKlS/jzzz/h4uICf39/fPTRR3j77bfx4YcfQi7nYyaIiIiIqPkpVWqcjc/GwWtpiLyUgivJeZptUgng72WHwZ1dEd7dA87WPFtO1BSMokD/6KOPMH/+fKxfvx4WFk2zEEVsbCySk5MREhKiabO1tUVgYCCioqI0BfqDREVFoUuXLnBxcdG0hYWFYebMmbh48WKNj4UrKSlBSUmJ5nVubi4AQKlUQqlUPuohPbSKuZpzTmp8zKNxYB4NH3NoHJhHw/e45zAltxhbT9/F6dvZiI7PRmGpSrPN1ESCAe2cMLiTC/q2cYSdReUK7Pr2fj3ueTQWxpDHhsZuFAX6F198gZs3b8LFxQU+Pj4wNdV+fMOZM2caPEdycjIAaBXWFa8rttV3nJrGqDrH/RYvXqw5M1/Vnj17muwPEnWJjIxs9jmp8TGPxoF5NHzMoXFgHg3f45bDrBJgT4IUJ9IkKBOVl6hbyATa2wq0sxPoai9gIUsEEhJxLEGHwT6Exy2PxsqQ81hYWNig/Y2iQK+6kJsxevfddzF37lzN69zcXHh5eSE0NBQ2NjbNFodSqURkZCQGDRpU7Y8gZDiYR+PAPBo+5tA4MI+G73HKoVKlxpEbGfjv8Ts4djMTZWoBoPxZ5cO7uqKndwv4OVsZ5D3lj1MejZkx5LHiaudHZRQF+oIFC5p8jopnrKekpMDNzU3TnpKSAn9//4ca58SJE1ptKSkpWnPcT6FQQKFQVGs3NTXVyReurualxsU8Ggfm0fAxh8aBeTR8xppDtVrgZFwmtp9JwO/nk5FXUqbZFuhrj9dC/BDUyuGRn4Kkb4w1j48bQ85jQ+M2igIdALKzs/HTTz/h5s2bePPNN2Fvb48zZ87AxcUFHh4eDR7f19cXrq6u2Lt3r6Ygz83NxfHjxzFz5sx6jxMUFIR//vOfSE1NhbOzM4DySzhsbGzQsWPHBsdJRERERJSaW4yNx+9gR3QC4jOLNO32lnIM7+aOCYEt0dbFWocRElFNjKJAP3fuHEJCQmBra4u4uDhMnz4d9vb22LFjB+7cuYMNGzbUa5z8/HzcuHFD8zo2NhYxMTGwt7dHy5YtMWfOHHz88cfw8/PTPGbN3d1d6xL7O3fuIDMzE3fu3IFKpUJMTAwAoE2bNrCyskJoaCg6duyIF198EZ9++imSk5Mxb948zJo1q8az5ERERERE9VGmUuPgtTR8d/gWTsRm4t4V7LBSyDC0iytGdvdEoK+9QV7CTvS4MIoCfe7cuZg8eTI+/fRTWFtX/iVw6NChmDBhQr3HOXXqFAYMGKA1LgBMmjQJ69atw1tvvYWCggLMmDED2dnZ6NOnD3bv3q15BjoAzWryFSpWZd+/fz/69+8PExMT7Ny5EzNnzkRQUBAsLS0xadIkLFq06JGPn4iIiIgeX2l5Jdh6Kh5rj8YhPb/yyT89vFtgYpA3Qju6wlxuosMIiai+jKJAP3nyJL799ttq7R4eHg+1wnr//v0hhKh1u0QiwaJFi+osptetW1frM9AreHt7Y9euXfWOi4iIiIjofucTcrD2WCx2nk1CqUoNALA1N8XYHp6Y1NsHXvbN/7QfImoYoyjQFQpFjavlXbt2DU5OTjqIiIiIiIio8RWUlOF/MYnYfiYBp29nadr9vezwXIAXRnb3hFwm1WGERNQQRlGgDx8+HIsWLcLWrVsBlJ/pvnPnDt5++22MHj1ax9ERERERETVMQlYhNkTdxuYTd5BbXL4Su0wqwbCubpgS7At/LzvdBkhEjcIoCvQvvvgCY8aMgZOTE4qKitCvXz8kJydrVkwnIiIiIjI0arXAoetp2HIyHn9cTNYs+ubtYIHnAlpiZHcPuNiY1T0IERkUoyjQbW1tERkZiaNHj+Ls2bPIz8/HE088gZCQEF2HRkRERET0UJJyirDnYgrWHYtDbHqBpj24jQOmBvtiQDtnrsROZKQMvkBXq9VYt24dduzYgbi4OEgkEs0zy4UQkEj4w4uIiIiI9FtaXgl2nEnA/2IScSmpcm0la4UMo57wwIRAb7Rz5XPLiYydQRfoQggMHz4cu3btQrdu3dClSxcIIXD58mVMnjwZO3bsQEREhK7DJCIiIiKqRqlS48DVNGw9FY99V1KhuncNu0QCdPO0w/Bu7hjb0xPWZqY6jpSImotBF+jr1q3DoUOHsHfvXq3nlwPAvn37EB4ejg0bNmDixIk6ipCIiIiIqJJaLXDwWhrWHovDX7cyUFqm1mzr3tIOY3t4IayTCxysFDqMkoh0xaAL9B9//BHvvfdeteIcAJ5++mm888472LhxIwt0IiIiItIZIQRO387C/2ISsftiMtLySjTbHK3kGNndA8/29IKfCy9hJ3rcGXSBfu7cOXz66ae1bh8yZAhWrFjRjBEREREREZVLyS3G7+eTsO5YHOIyCjXtFnITjOvlhQkBLdHayYoLvhGRhkEX6JmZmXBxcal1u4uLC7KyspoxIiIiIiJ6nBUrVdh7ORXbTsfj0LU0zaPRrBQyhHVyxTPd3BDU2gEKmYluAyUivWTQBbpKpYJMVvshmJiYoKysrBkjIiIiIqLHTVZBKf66lYH9V1Pxx8UU5BQpNdu6edlhRDd3jA/wgoXcoP/pTUTNwKB/SgghMHnyZCgUNS+iUVJSUmM7EREREdGjSs0rxqXEXMTEZ+PYjQycvJ0JISq3u9maYdQTHhj9hCdaOVnpLlAiMjgGXaBPmjTpgX24QBwRERERNUSxUoXoO9mIupmOPZdScCU5r1qfti5W6N3aEaGdXBDo6wAT3ldORI/AoAv0tWvX6joEIiIiIjJCJWUqHLmejh3Rd7H3cgqKlZWPQ5NIgFaOlujkbosnWzmgr58jvOwtdBgtERkLgy7QiYiIiIgaS7GyvCj/9Vwi9l5ORX5J5VpGztYKBPjao387Zzzd3hn2lnIdRkpExooFOhERERE9ljILSvHXjTT8HCfF2tXHcSkpD6VllWfKnawV+FtXN/ytqzu6e9nxcWhE1ORYoBMRERHRY6OwtAy/nk3EtlMJOH0n697iblIAOQAAVxszDOniyqKciHSCBToRERERGS0hBK6m5OFEbCYOXE3D0RvpKKlylryNkyVcpHkY1bcb/L3t0crREhIJi3Ii0g0W6ERERERkdJJyivC/mERsP52A66n5Wtta2ltgQmBLhPt7wMHCBLt27cLQbm4wNTXVUbREROVYoBMRERGRUSgpU2Hf5VRsP5OAvVdSNc8ml8uk6OXTAsFtHDGgnTPau1przpIrlUodRkxEpI0FOhEREREZrIqV1yMvpWD3xWTkFFUW3AE+9hj5hAeGdnGDrTnPjhOR/mOBTkREREQGQwiBG6n52H0hGYdvpCMmPltr5XVXGzOMfMIDo5/wQBtnax1GSkT08FigExEREZFeK1aqEHUrA7+fT8K+K2lIzy/R2u5krcCwLm4Y1NEFT7ZygAlXXiciA8UCnYiIiIj0TlpeCX6/kIS9l1NxMi4ThaUqzTaFTIoAX3sM6eyGJ1vZw5crrxORkWCBTkRERER64VpKHnaeS8K+Kym4cDdXa5uLjQKhHV0xpLMrevi0gEJmoqMoiYiaDgt0IiIiItKZG6n5+PVsIvbWUJR38bDFM93cENzGER3dbHiWnIiMHgt0IiIiImpyQgjEphfgemo+4tILcDMtH6fisnArvUDTx0QqwYB2Tgjt6IqnOzjD0Uqhw4iJiJofC3QiIiIianRFpSocvp6GC3dzcDO9ACdjM5GaV1Ktn4lUgr5+jhjS2RX92jrD1dZMB9ESEekHFuhERERE1CAlZSpcS87HpaQc3EovwIW7OTgZl6X1+DMAkMukaOdiDV9HS/g4WqKzuw0CWznwGeVERPewQCciIiKiessrVuJyUh4u3M3BxcRcXEzMwY3UfJSpRbW+Hnbm6OvnCB9HS3T1sMUT3i1gZsrF3YiIasMCnYiIiIhqVHHf+Mm4TBy9kYFzCdmIyyissW8LC1N0creFr6Ml2rpYIai1I1o78fFnREQPgwU6EREREUEIgbT8EtzNKsLJuEycisvC6dtZyCgordbX3dYMHd1t0cndBp3cbdDZwxZutmYsxomIGogFOhEREdFjQAiB7EIlErKKkJhThLtZRUjKKUJidjHiMgpwJ7MQecVl1faTy6To5mmLJ1s5IMDXHp3cbWFvKdfBERARGT8W6ERERERGIiO/BFdT8nAtOQ830wqQnl+CxJxiJGUXIauwFEpV9fvEq5JKAHtLBbp52iLA1x49fezR2cMGChnvGyciag4s0ImIiIgMRJlKjbvZRUjNK0FGfgniM4uQlFOM2xkFiInPrvFy9Ps5WyvgamsGzxbmcLM1h5utGXwcLNHSwQI+DpaQy6TNcCRERFQTFuhEREREOqRSC6TkFiMhqwgpucXIKVIiNa8E6fklyCooRUGpCsVKFTILSnE7o+CBZ8Fb2lugrYs1/Fys4GKtgKutOTzszGFvJYeDpZyrqBMR6TEW6ERERESNpFipQkpuMXKLypBTpERGQQnS8kqQmleColIVCktVyC9RIr+kDNmFSmQWlCI9v+SBRXdVCpkUrrZmcLCUw83WHB4tzOFua4ZuXnZo52oNCzn/eUdEZKj4E5yIiIioDmq1QFJuMdLuXVaeU6S8V2iXIS23CCeuSLE24TjS8kpxN7vokeYwNZHAxcYM7nbmsDU3hZO1Ak5WCthbymGlkMFcbgJrMxl8HS3hbmsOqZSrpRMRGSMW6EREREQov9T8TmYhribn4mpyPmLT83ErvQA3UvNRWKqqY08pkJWjeWVmKkULCzmszWSwt5TDwVIBN1szWChkMDc1gZWZDNYKGWzMZXCwVMDJWgEXGzOYsOgmInrssUAnIiKix5IQAmfuZOG3c8m4cDcH5+5mo1iprrGvqYkEztZmaGFpihYWcljITWCpkMHOTIacxFt4OugJuNqVL7Jmbynn88CJiOiRsEAnIiKix8qttHxsP5OA/8UkIiFL+5J0hUyKti7WaOtijTbOVvB1tICfizW87S0gM6m+urlSqcSuXTcR2tEFpqamzXUIRERkpFigExERkdHLKVTit/NJ2BAVhyvJeZp2S7kJwjq5Iqi1A7q3bAFfR0teak5ERDrDAp2IiIiMjlKlxsm4TBy7kYEjN9IRE5+t2SaTStDHzxGjn/BESAcXmMv52DEiItIPLNCJiIjIKCTnFON4bAYOXUtH5KVk5BaXaW1v7WSJcb28MKaHF+wt5TqKkoiIqHYs0ImIiMgg5RQpEXUzAwevpeHQtbRqjzhzsJSjr58jerd2xFNtneBqa6ajSImIiOqHBToRERHpPSEEMgtKcfp2Fk7EZuJEXCYu3M2BWlT2kUqA9q42eLKVA0I7uaCXjz3vJyciIoPCAr2KQ4cO4bPPPsPp06eRlJSEn3/+GeHh4ZrtQggsWLAA3333HbKzsxEcHIxvvvkGfn5+mj6ZmZn4xz/+gV9//RVSqRSjR4/G8uXLYWVlpelz7tw5zJo1CydPnoSTkxP+8Y9/4K233mrOQyUiInpopWVq5BYrUVKmRrFShfziMpSq1FCpBdRCQAjU+LlaAGohUKxUaT4XVdrV6iqfi/Lftyq1QFJOMW6lFyAhqxBJ2cUoUlZ/FnkrJ0v0beOIAe2d0cvHHpYK/tOGiIgMF3+LVVFQUIBu3bph6tSpGDVqVLXtn376KVasWIH169fD19cXH3zwAcLCwnDp0iWYmZVfNvf8888jKSkJkZGRUCqVmDJlCmbMmIFNmzYBAHJzcxEaGoqQkBCsWrUK58+fx9SpU2FnZ4cZM2Y06/ESEZH+EPeKWrUQEICmyK36f7UASpQqlKrUUKsB1b1CVgih+byyXX2v2K3Yt3wcrdf35lWry9tyipTIKVIiNa8ExUoVSpRqZBWWIj6rCGl5JcgoKIEQDzqSptXKyRJPtnJAoK89Anzt4WZrrtuAiIiIGhEL9CqGDBmCIUOG1LhNCIFly5Zh3rx5GDFiBABgw4YNcHFxQUREBMaPH4/Lly9j9+7dOHnyJHr27AkA+PLLLzF06FB8/vnncHd3x8aNG1FaWoo1a9ZALpejU6dOiImJwZIlS1igk1GrKD4qCgKg4nNAQGj+0V/1tai6771tuG+7Si0gUKUzqu5X8bpyY2WbdmxVt2nH/eAxRJUd758bD5y7/P8qtYBSpa42Zm3jKZVluJkLnLqdBRMTWZ37VH1/antvajqm+w+hWt+K2O+dAa1aVFbkuSKfajU02ytyWFE8VnwOIVCmrjyDWvXMqxDQnGWt3Leyj7JMjZIyNUrKVCgpU6NMXTmPqDJPZWz3jqjKcVf9OtP6On3A16hKXV7Yqu87W1zTWeGKz0vL1ChTq6FSm2Du8UjNMRoKuUwKM5kUVgoZzExNIJEAUokEJlIJJBIJpBJofy6RQCqRQGEqhfRem1RSvt1EinttEs04FdudrBXwdbRES3sLuNmZw83WDGamXHGdiIiMFwv0eoqNjUVycjJCQkI0bba2tggMDERUVBTGjx+PqKgo2NnZaYpzAAgJCYFUKsXx48cxcuRIREVF4amnnoJcXrl6bFhYGD755BNkZWWhRYsW1eYuKSlBSUmJ5nVubi4AQKlUQqlUNsXh1qhirrrmPJuQgzlbz2k31vCvztr+HVpjgVRjv3qO2cjj1RxfzUdT339s13fM+r83DxhPAGUqE7x7ei/uvzOz9rzU7/1Ri/JipWKfykKImoYMKy6e1HUQ1CCSh/4mkUgAuYkUJlLJvaK4ssAtbysvjiu2SyWARCKBBJXFL6oUweWvyz+3MZPB2swUztYKmJuawMxUChszGTxamMPZWgEXGzO0MDeFVGf3dauhVKp1NHfN6vO7kfQbc2gcmEfjYAx5bGjsLNDrKTk5GQDg4uKi1e7i4qLZlpycDGdnZ63tMpkM9vb2Wn18fX2rjVGxraYCffHixVi4cGG19j179sDCwuIRj+jRRUZG1rrtRi6QkMUvK/0nAVTV7+U0VJJ7fy6QaDdWb0P1NkkNjQ/ap6ax69ynHmNLJICptI45axhPUlu/+xpqHKcxxrjXr7zwqzwOQFT5HJDe1xf3+leMI6nyeXnRWNkuqdKuNV/V8SSAyb33z1QqILv3GveNfX8MWvmrGs+9T+7vV22se/+RAjCXASYSoR23RDvOqq9NJIDsvmOqerx1tVW8R01KACi991EAFGYAcSj/oJrV9buRDANzaByYR+NgyHksLCxs0P6spAzAu+++i7lz52pe5+bmwsvLC6GhobCxsWm2OJRKJSIjIzFo0CCYmprW2CevuAx9g/OrtddYlNxfAdTZt6Z+1RtrGbJRx6tvfLWNWc+mGt+fer83dRyfskyJo0eOIrhPcI15rO0trM97JpHcu6xV81qiVVhA67VEs09lkSa5rzDR7oP7xqu4fLa2ryVjVp/vR9JvzKFxYB4NH3NoHJhH42AMeay42vlRsUCvJ1dXVwBASkoK3NzcNO0pKSnw9/fX9ElNTdXar6ysDJmZmZr9XV1dkZKSotWn4nVFn/spFAooFIpq7aampjr5wq1rXntTUwRYc8EefaZUKnHNHGjjYmuwP/iokq5+DlDjYQ6NA/No+JhD48A8GgdDzmND45Y+uAsBgK+vL1xdXbF3715NW25uLo4fP46goCAAQFBQELKzs3H69GlNn3379kGtViMwMFDT59ChQ1r3JkRGRqJdu3Y1Xt5OREREREREjwcW6FXk5+cjJiYGMTExAMoXhouJicGdO3cgkUgwZ84cfPzxx/jll19w/vx5TJw4Ee7u7ppnpXfo0AGDBw/G9OnTceLECRw9ehSzZ8/G+PHj4e7uDgCYMGEC5HI5pk2bhosXL2LLli1Yvny51iXsRERERERE9PjhJe5VnDp1CgMGDNC8riiaJ02ahHXr1uGtt95CQUEBZsyYgezsbPTp0we7d+/WPAMdADZu3IjZs2dj4MCBkEqlGD16NFasWKHZbmtriz179mDWrFno0aMHHB0dMX/+fD5ijYiIiIiI6DHHAr2K/v371/g4qQoSiQSLFi3CokWLau1jb2+PTZs21TlP165dcfjw4UeOsyLGhi5A8LCUSiUKCwuRm5trsPeEEPNoLJhHw8ccGgfm0fAxh8aBeTQOxpDHihqtrrqyLizQDVBeXh4AwMvLS8eREBERERER0f3y8vJga2v70PtJxKOW9qQzarUaiYmJsLa2btbHS1U83i0+Pr5ZH+9GjYt5NA7Mo+FjDo0D82j4mEPjwDwaB2PIoxACeXl5cHd3h1T68Eu+8Qy6AZJKpfD09NTZ/DY2Ngb7DUOVmEfjwDwaPubQODCPho85NA7Mo3Ew9Dw+ypnzClzFnYiIiIiIiEgPsEAnIiIiIiIi0gMs0KneFAoFFixYAIVCoetQqAGYR+PAPBo+5tA4MI+Gjzk0DsyjcWAeuUgcERERERERkV7gGXQiIiIiIiIiPcACnYiIiIiIiEgPsEAnIiIiIiIi0gMs0PXQ4sWL0atXL1hbW8PZ2Rnh4eG4evWqVp/i4mLMmjULDg4OsLKywujRo5GSkqLV59VXX0WPHj2gUCjg7+9fbZ4DBw5gxIgRcHNzg6WlJfz9/bFx48Z6xbhy5Ur4+PjAzMwMgYGBOHHihNb21atXo3///rCxsYFEIkF2dna9xr1z5w6GDRsGCwsLODs7480330RZWZlme1JSEiZMmIC2bdtCKpVizpw59RpXF5jH2vO4Y8cODBo0CE5OTrCxsUFQUBD++OOPeo3d3JjH2vN45MgRBAcHw8HBAebm5mjfvj2WLl1ar7GbE3NYew6rOnr0KGQyWY3Hpg+Yx9rzeODAAUgkkmofycnJ9Rq/uTCHdX8vlpSU4P3334e3tzcUCgV8fHywZs2aeo3fnJjH2vM4efLkGr8XO3XqVK/xmxPzWPf348aNG9GtWzdYWFjAzc0NU6dORUZGRr3GbygW6Hro4MGDmDVrFv766y9ERkZCqVQiNDQUBQUFmj6vv/46fv31V2zbtg0HDx5EYmIiRo0aVW2sqVOnYty4cTXOc+zYMXTt2hXbt2/HuXPnMGXKFEycOBE7d+6sM74tW7Zg7ty5WLBgAc6cOYNu3bohLCwMqampmj6FhYUYPHgw3nvvvXoft0qlwrBhw1BaWopjx45h/fr1WLduHebPn6/pU1JSAicnJ8ybNw/dunWr99i6wDzWnsdDhw5h0KBB2LVrF06fPo0BAwbgmWeeQXR0dL3naS7MY+15tLS0xOzZs3Ho0CFcvnwZ8+bNw7x587B69ep6z9McmMPac1ghOzsbEydOxMCBA+s9fnNjHh+cx6tXryIpKUnz4ezsXO95mgNzWHcOn332Wezduxc//PADrl69ih9//BHt2rWr9zzNhXmsPY/Lly/X+h6Mj4+Hvb09xo4dW+95mgvzWHsejx49iokTJ2LatGm4ePEitm3bhhMnTmD69On1nqdBBOm91NRUAUAcPHhQCCFEdna2MDU1Fdu2bdP0uXz5sgAgoqKiqu2/YMEC0a1bt3rNNXToUDFlypQ6+wQEBIhZs2ZpXqtUKuHu7i4WL15cre/+/fsFAJGVlfXAuXft2iWkUqlITk7WtH3zzTfCxsZGlJSUVOvfr18/8dprrz1wXH3BPNacxwodO3YUCxcufOD4usY81p3HkSNHihdeeOGB4+sSc1g9h+PGjRPz5s17qGPTNeaxMo8PM54+YQ4rc/j7778LW1tbkZGRUa/j0SfMY+2/F3/++WchkUhEXFzcA8fXNeaxMo+fffaZaNWqldZ+K1asEB4eHg8cvzHwDLoByMnJAQDY29sDAE6fPg2lUomQkBBNn/bt26Nly5aIiopq8FwV89SktLQUp0+f1ppbKpUiJCSkwXNHRUWhS5cucHFx0bSFhYUhNzcXFy9ebNDY+oB5rD2ParUaeXl5dcasL5jH2vMYHR2NY8eOoV+/fg2au6kxh9o5XLt2LW7duoUFCxY0aL7mxjxW/1709/eHm5sbBg0ahKNHjzZo3ubAHFbm8JdffkHPnj3x6aefwsPDA23btsUbb7yBoqKiBs3dHJjH2n8v/vDDDwgJCYG3t3eD5m4OzGNlHoOCghAfH49du3ZBCIGUlBT89NNPGDp0aIPmri8W6HpOrVZjzpw5CA4ORufOnQEAycnJkMvlsLOz0+rr4uLSoPvNtm7dipMnT2LKlCm19klPT4dKpdL6om6MuYHy46pp3Ipthox5rDuPn3/+OfLz8/Hss882aO6mxjzWnEdPT08oFAr07NkTs2bNwksvvdSguZsSc6idw+vXr+Odd97Bf//7X8hksgbN15yYR+08urm5YdWqVdi+fTu2b98OLy8v9O/fH2fOnGnQ3E2JOdTO4a1bt3DkyBFcuHABP//8M5YtW4affvoJf//73xs0d1NjHmv/901iYiJ+//13vf6dWIF51M5jcHAwNm7ciHHjxkEul8PV1RW2trZYuXJlg+auLxboem7WrFm4cOECNm/e3KTz7N+/H1OmTMF3332nWcji8OHDsLKy0nzUd0GH+hgyZIhmXH1cOKOxMY+127RpExYuXIitW7fq3f2S92Mea3b48GGcOnUKq1atwrJly/Djjz82WmyNjTmspFKpMGHCBCxcuBBt27ZttFiaA/OorV27dnj55ZfRo0cP9O7dG2vWrEHv3r31ctHGCsyhNrVaDYlEgo0bNyIgIABDhw7FkiVLsH79er0+i8481m79+vWws7NDeHh4o8XVVJhHbZcuXcJrr72G+fPn4/Tp09i9ezfi4uLwyiuvNFpsdTGcP5c/hmbPno2dO3fi0KFD8PT01LS7urqitLQU2dnZWn/VSklJgaur60PPc/DgQTzzzDNYunQpJk6cqGnv2bMnYmJiNK9dXFygUChgYmJSbQXHh537+++/1/zCMTU11RzX/aszVszzKMelL5jH2vO4efNmvPTSS9i2bZvWZUz6iHmsPY++vr4AgC5duiAlJQUffvghnnvuuXrP31yYQ+0c5uXl4dSpU4iOjsbs2bMBlBcJQgjIZDLs2bMHTz/9dP0PvJkwj/X73RgQEIAjR47Ue+7mxBxWz6Gbmxs8PDxga2ur6dOhQwcIIZCQkAA/P796x9BcmMfavxeFEFizZg1efPFFyOXyes+rC8xj9TwuXrwYwcHBePPNNwEAXbt2haWlJfr27YuPP/4Ybm5u9Y7hkTTLne70UNRqtZg1a5Zwd3cX165dq7a9YtGGn376SdN25cqVR1q0Yf/+/cLS0lJ89dVX9Y4vICBAzJ49W/NapVIJDw+PRlu0ISUlRdP27bffChsbG1FcXFytv74vEsc81p3HTZs2CTMzMxEREVHvmHWBeazf92OFhQsXCm9v73rH3xyYw5pzqFKpxPnz57U+Zs6cKdq1ayfOnz8v8vPz630MzYF5fLjvxZCQEDFy5Mh6x98cmMPac/jtt98Kc3NzkZeXp+kTEREhpFKpKCwsrPcxNAfm8cHfixXjnj9/vt5xNzfmsfY8jho1Sjz77LNa+x07dkwAEHfv3q33MTwqFuh6aObMmcLW1lYcOHBAJCUlaT6q/oB+5ZVXRMuWLcW+ffvEqVOnRFBQkAgKCtIa5/r16yI6Olq8/PLLom3btiI6OlpER0drVijct2+fsLCwEO+++67WPA9aQXTz5s1CoVCIdevWiUuXLokZM2YIOzs7rdUQk5KSRHR0tPjuu+8EAHHo0CERHR1d59hlZWWic+fOIjQ0VMTExIjdu3cLJycn8e6772r1qziOHj16iAkTJojo6Ghx8eLFer+/zYV5rD2PGzduFDKZTKxcuVIr5uzs7Id6j5sD81h7Hr/66ivxyy+/iGvXrolr166J77//XlhbW4v333//od7jpsYc1v0ztSp9XsWdeaw9j0uXLhURERHi+vXr4vz58+K1114TUqlU/Pnnnw/1Hjc15rD2HObl5QlPT08xZswYcfHiRXHw4EHh5+cnXnrppYd6j5sD8/jgn6kvvPCCCAwMrNf7qSvMY+15XLt2rZDJZOLrr78WN2/eFEeOHBE9e/YUAQEBD/UePyoW6HoIQI0fa9eu1fQpKioSf//730WLFi2EhYWFGDlypEhKStIap1+/fjWOExsbK4QQYtKkSTVu79ev3wNj/PLLL0XLli2FXC4XAQEB4q+//tLavmDBggceQ03i4uLEkCFDhLm5uXB0dBT/93//J5RK5QPfH307YycE81hXHms7pkmTJj0w5ubGPNaexxUrVohOnToJCwsLYWNjI7p37y6+/vproVKpHhhzc2IO6/6Zev88+lqgM4+15/GTTz4RrVu3FmZmZsLe3l70799f7Nu374HxNjfmsO7vxcuXL4uQkBBhbm4uPD09xdy5c/Xu7LkQzOOD8pidnS3Mzc3F6tWrHxinLjGPdedxxYoVomPHjsLc3Fy4ubmJ559/XiQkJDww5sYgEUIIEBEREREREZFOcRV3IiIiIiIiIj3AAp2IiIiIiIhID7BAJyIiIiIiItIDLNCJiIiIiIiI9AALdCIiIiIiIiI9wAKdiIiIiIiISA+wQCciIiIiIiLSAyzQiYiIiIiIiPQAC3QiIiIiIiIiPcACnYiIiIiIiEgPsEAnIiIiIiIi0gMs0ImIiIiIiIj0AAt0IiIiIiIiIj3AAp2IiIiIiIhID7BAJyIiIiIiItIDLNCJiIiIiIiI9IBM1wHQw1Or1UhMTIS1tTUkEomuwyEiIiIiIiIAQgjk5eXB3d0dUunDnw9ngW6AEhMT4eXlpeswiIiIiIiIqAbx8fHw9PR86P1YoBsga2trAOVJt7GxabZ5lUol9uzZg9DQUJiamjbbvNS4mEfjwDwaPubQODCPho85NA7Mo3Ewhjzm5ubCy8tLU7M9LBboBqjisnYbG5tmL9AtLCxgY2NjsN8wxDwaC+bR8DGHxoF5NHzMoXFgHo2DMeXxUW9F5iJxRERERERERHqABToRERERERGRHmCBTkRERERERAYhPb8Euy8k6TqMJsN70ImIiIiIiEivxWcW4n8xd7H2aBwyC0uxbJw/Rvh76DqsRscCnYiIiIiIiPSOWi1wNiEba47G4bdziVCL8nZvBwt09bTTaWxNhQU6ERERERER6Q0hBPZdScHiXVdwPTVf0967tQPCu3tghL87FDITHUbYdFigExERERERkc6VqdSIzpBgzeoTOJuQAwBQyKQY2sUN0/u2Qkf35nvEtK6wQCciIiIiIiKdOnQtDR9EXMDtTBMAOZDLpJgS7IO/928DW3PDfib6w2CBTkRERERERM2u/FL2VHx3+Bb+upUJALCUCUzp0xqTglvByVqh4wibHwt0IiIiIiIiajalZWr8dDoBG6LicCU5DwAgkQBjn/BAT5PbGDmwDUxNH5+z5lWxQCciIiIiIqImV1Sqwo8n7uCbgzeRllcCADAzlWJCgDem9fWFs6UMu3bd1nGUusUCnYiIiIiIiJpMsVKF9cfisPrQLWQUlAIAnK0VeKmvL57t6QU7CzkAQKlU6jJMvcACnYiIiIiIiBpdsbL8jPmqgzeRklt+xtyzhTle6dcaz/b0glwm1XGE+ocFOhERERERETWa3GIlNh2/g+8PxyI9v7ww97Azx5wQP4zs7gGZCQvz2rBAJyIiIiIiogZLzSvGf6JuY0PUbeQUlV+u7mFnjpn9W2NsT08oZCY6jlD/sUAnIiIiIiKiR3YnoxCrD9/E1pMJKFWpAQBtnK3wSr/WGOHvDlOeMa83FuhERERERET00K4m5+HLfdex63wS1KK8rYd3C7zUxxehnVxhIpXoNkADpLd/yli5ciV8fHxgZmaGwMBAnDhxos7+27ZtQ/v27WFmZoYuXbpg165dWtuFEJg/fz7c3Nxgbm6OkJAQXL9+XatPZmYmnn/+edjY2MDOzg7Tpk1Dfn6+ZntcXBwkEkm1j7/++qvesSiVSrz99tvo0qULLC0t4e7ujokTJyIxMfFR3yoiIiIiIqJmIYTAybhMTF57AmHLDmHnufLivK+fIza+FIjtM3tjSBc3FuePSC8L9C1btmDu3LlYsGABzpw5g27duiEsLAypqak19j927Biee+45TJs2DdHR0QgPD0d4eDguXLig6fPpp59ixYoVWLVqFY4fPw5LS0uEhYWhuLhY0+f555/HxYsXERkZiZ07d+LQoUOYMWNGtfn+/PNPJCUlaT569OhR71gKCwtx5swZfPDBBzhz5gx27NiBq1evYvjw4Y319hERERERETUqlVpg94UkhH99DGNXReHA1TSYSCUY3MkVu17ti/9MC0RwG0ddh2nw9PIS9yVLlmD69OmYMmUKAGDVqlX47bffsGbNGrzzzjvV+i9fvhyDBw/Gm2++CQD46KOPEBkZia+++gqrVq2CEALLli3DvHnzMGLECADAhg0b4OLigoiICIwfPx6XL1/G7t27cfLkSfTs2RMA8OWXX2Lo0KH4/PPP4e7urpnPwcEBrq6uNcb+oFhsbW0RGRmptc9XX32FgIAA3LlzBy1btmzgu0dERERERNQ44jMLset8Ev7z120kZBUBAKQSYPQTnpg1oA18HC11HKFx0bsz6KWlpTh9+jRCQkI0bVKpFCEhIYiKiqpxn6ioKK3+ABAWFqbpHxsbi+TkZK0+tra2CAwM1PSJioqCnZ2dpjgHgJCQEEilUhw/flxr7OHDh8PZ2Rl9+vTBL7/88lCx1CQnJwcSiQR2dna19iEiIiIiImoutzMK8H9bz6L/5wew+PcrSMgqQgsLU8wa0Bp/vTsQn43txuK8CejdGfT09HSoVCq4uLhotbu4uODKlSs17pOcnFxj/+TkZM32ira6+jg7O2ttl8lksLe31/SxsrLCF198geDgYEilUmzfvh3h4eGIiIjQXKL+oFjuV1xcjLfffhvPPfccbGxsauxTUlKCkpISzevc3FwA5fezK5XKGvdpChVzNeec1PiYR+PAPBo+5tA4MI+Gjzk0Dsxj47meko+VB25h96UUqO6t/NbT2w4j/d0xvJsbzEzLH5XWFO+1MeSxobHrXYGuzxwdHTF37lzN6169eiExMRGfffbZI91DrlQq8eyzz0IIgW+++abWfosXL8bChQurte/ZswcWFhYPPW9D3X+JPhkm5tE4MI+Gjzk0Dsyj4WMOjQPz+OhySoHIBCmiUiUoE+ULvLWzVWOolxo+1ulAajr2RZ5rllgMOY+FhYUN2l/vCnRHR0eYmJggJSVFqz0lJaXW+75dXV3r7F/x/5SUFLi5uWn18ff31/S5fxG6srIyZGZm1jovAAQGBmp9AT0olgoVxfnt27exb9++Ws+eA8C7776r9YeB3NxceHl5ITQ0tM79GptSqURkZCQGDRoEU1PTZpuXGhfzaByYR8PHHBoH5tHwMYfGgXl8dLczC/H9kTjsOJuI0rLyZ5j3beOAN0PbooObdbPGYgx5rLja+VHpXYEul8vRo0cP7N27F+Hh4QAAtVqNvXv3Yvbs2TXuExQUhL1792LOnDmatsjISAQFBQEAfH194erqir1792oK8tzcXBw/fhwzZ87UjJGdnY3Tp09rVmXft28f1Go1AgMDa403JiZGq+h/UCxAZXF+/fp17N+/Hw4ODnW+JwqFAgqFolq7qampTr5wdTUvNS7m0Tgwj4aPOTQOzKPhYw6NA/NYfzdS8/HNgZuIiLmruZS9h3cLvB7SFsFtHCCR6O4xaYacx4bGrXcFOgDMnTsXkyZNQs+ePREQEIBly5ahoKBAs6r7xIkT4eHhgcWLFwMAXnvtNfTr1w9ffPEFhg0bhs2bN+PUqVNYvXo1AEAikWDOnDn4+OOP4efnB19fX3zwwQdwd3fX/BGgQ4cOGDx4MKZPn45Vq1ZBqVRi9uzZGD9+vGYF9/Xr10Mul6N79+4AgB07dmDNmjX4/vvvNbE/KBalUokxY8bgzJkz2LlzJ1Qqleb+dHt7e8jl8qZ/g4mIiIiI6LEjhMCJ2EysORqLyEspuFeX48lW9pgT0haBvvY6LcxJTwv0cePGIS0tDfPnz0dycjL8/f2xe/duzeJrd+7cgVRauQB97969sWnTJsybNw/vvfce/Pz8EBERgc6dO2v6vPXWWygoKMCMGTOQnZ2NPn36YPfu3TAzM9P02bhxI2bPno2BAwdCKpVi9OjRWLFihVZsH330EW7fvg2ZTIb27dtjy5YtGDNmTL1juXv3rmbl94qz+RX279+P/v37N8p7SEREREREVOHQtTQsibyGmPhsTVtIBxfM7N8aPbxb6C4w0qKXBToAzJ49u9ZL2g8cOFCtbezYsRg7dmyt40kkEixatAiLFi2qtY+9vT02bdpU6/ZJkyZh0qRJtQddj1h8fHwghHjgGERERERERA2hUgvsvZyCH47E4nhsJgDAzFSKUU94YkpvH/i5NO895vRgelugExERERER0cNTqtT4X0wiVu6/gdj0AgCATCrBC096Y9aANnCyrr6+FekHFuhERERERERGoKCkDL+cTcTyP68jObcYAGBjJsPzT3pjYpA33GzNdRwhPQgLdCIiIiIiIgOWW6zEf6JuY9WBm8grKQMAOFrJMa1PK0wM8oalgmWfoWCmiIiIiIiIDNTBa2l4d/s5JOaUnzH3sjfHxCd9MLG3NxQyEx1HRw+LBToREREREZGBuZqch492XsKRG+kAygvz10PaItzfA1IpH5VmqFigExERERERGYjE7CJ8fzgW/z1+G6VlapiaSDC+V0u8EdYOtuamug6PGogFOhERERERkZ67mpyHDVFx2HYqAaUqNQCgr58j/jWyC7zsLXQcHTUWFuhERERERER6KvpOFr49eAu7LyZr2gJ97TGzf2s85efEy9mNDAt0IiIiIiIiPXM+IQdfRF7FgatpAACpBAjt6IqJvb0R1MoBEgkLc2PEAp2IiIiIiEgPCCEQdTMD3x2+hf33CnMTqQQj/N3xSr/WaOtireMIqamxQCciIiIiItKh5Jxi/Ho2ERExd3ExMVfTPrK7B14d6AdfR0sdRkfNiQU6ERERERGRDlxPycNX+29g57kkqNQCACCXSfFcLy9M7O2D1k5WOo6QmhsLdCIiIiIiomZSVKrCjyfu4JeziYiJz9a09/JpgRH+HhjaxQ32lnLdBUg6xQKdiIiIiIioianVAjui7+LzP64iObcYACCRAKEdXfCPp/3Q2cNWxxGSPmCBTkRERERE1ETUaoE/Libjq/03NPeXe9iZ46W+vhjW1Q3O1mY6jpD0CQt0IiIiIiKiRnYzLR87ziRgz8UUXE/NBwBYm8kwe0AbTOrtAzNTEx1HSPqIBToREREREVEjUKrUiLqZgU3H7+CPS8kQ5eu+wUJugucCWmJm/9ZwtFLoNkjSayzQiYiIiIiIGuBiYg7+uJCMTSfikZ5foml/ur0zhnVxw8AOzrCz4MJv9GAs0ImIiIiIiB5SsbJ8Nfb/RN3GrfQCTbuDpRxhnV0xubcP2rpY6zBCMkQs0ImIiIiIiOqptEyNnecSsSTyGhKyigAApiYSDGjnjGFd3TC0ixtMTaQ6jpIMFQt0IiIiIiKiOqjVAn/FZmDHmbvYczEZucVlAABXGzPMeroN/tbFDS347HJqBI1WoK9fvx6Ojo4YNmwYAOCtt97C6tWr0bFjR/z444/w9vZurKmIiIiIiIiaXGpeMTb+dQc/nU7A3ewiTbuztQKTevtgcm8fWCp4zpMaT6N9Nf3rX//CN998AwCIiorCypUrsXTpUuzcuROvv/46duzY0VhTERERERERNQmlSo1fzybit3NJOHgtDWXq8qXYrRUy/K2bG8L9PdDTxx4mUomOIyVj1GgFenx8PNq0aQMAiIiIwOjRozFjxgwEBwejf//+jTUNERERERFRo1Kq1DhyIx0Hr6bh17OJyCgo1Wzr4d0CE4O8EdbJlc8upybXaAW6lZUVMjIy0LJlS+zZswdz584FAJiZmaGoqOgBexMRERERETUfIQSuJOfhv3/dxu8XkpFZpSi3t5TjxSe98beubvDjSuzUjBqtQB80aBBeeukldO/eHdeuXcPQoUMBABcvXoSPj09jTUNERERERPTIikpV+O18EtYdi8WFu7madkcrOUI6uGBQRxc81daJK7GTTjRagb5y5UrMmzcP8fHx2L59OxwcHAAAp0+fxnPPPddY0xARERERET20zIJSbIiKw4ao25qz5aYmEgxs74LnAlsiuLUDZCzKSccarUC3s7PDV199Va194cKFjTUFERERERHRQ0nOKcbao7FYHxWHYqUaAOBlb45xPb0wIdAb9nw8GumRRivQDx06VOf2p556qrGmIiIiIiIiqlVGfgn2Xk7FL2cTcexmOu4txI4uHraY8VQrDOnsyrPlpJcarUCvaaV2iaTy0QMqlaqxpiIiIiIiItKiVAO7L6Zg14UU7L2SitIytWZbgI89Xu7XCk+3d9aqUYj0TaMV6FlZWVqvlUoloqOj8cEHH+Cf//xnY01DREREREQEoHwl9pj4bPx8JgHbTpmg6PhZzbYObjYY2tkVI/w90NLBQodREtVfoxXotra21doGDRoEuVyOuXPn4vTp0401FRERERERPcYKSsqw81wi1h6Nw5XkvHutErjaKDCiuwee6eqOTu42PFtOBqfRCvTauLi44OrVq009DRERERERGbHSMjVOxmVi+5kE7L6QjMLS8ltozU1NMKCdI9yViXhzwlNQKLjoGxmuRivQz507p/VaCIGkpCT8+9//hr+/f2NNQ0REREREj5HbGQX46XQC/vPXbWQXKjXtLe0tMCGwJZ7r1RIWpsCuXXchlfKMORm2RivQ/f39IZFIIITQan/yySexZs2axpqGiIiIiIiMXFGpCr9fSMLWU/H461ampt3W3BR/6+qGUU944ImWLTSXsCuVytqGIjIojVagx8bGar2WSqVwcnKCmZlZY01BRERERERGSgiB6Phs7DiTgN/OJSHr3tlyiQTo6+eEZ3t6YnAnPh6NjFujFeje3t6NNRQRERERET0GhBC4kpyH384lYdf5JNxKL9Bs82xhjnE9vTCqhyc87Mx1GCVR82lQgb5ixQrMmDEDZmZmWLFiRZ19X3311YZMRURERERERiI1txg7ou9i26l43EyrLMrNTU0wuLMrwrt7ILi1A8+W02OnQQX60qVL8fzzz8PMzAxLly6ttZ9EImGBTkRERET0GFOpBSIvpWDbqXgcuJYGlbp87SqFTIqn2jphWBc3hHR0gZWiyR80RaS3GvTVX/W+8/vvQSciIiIiosdbXrESp29n4URsJn6/kIzYKpew9/BugWd7emJYV3cW5UT38DuBiIiIiIgaTUFJGX49m4htpxMQfScL6ioPebI1N8VzAS0xtqcnWjtZ6S5IIj3VoAJ97ty59e67ZMmShkxFRERERER6SgiBswk52HziDn49m4iCUpVmm5e9OXr52KNPG0cM6ugCazNTHUZKpN8aVKBHR0drvT5z5gzKysrQrl07AMC1a9dgYmKCHj16NGQaIiIiIiLSQ9mFpYiIvovNJ+NxJTlP0+7raIlxvbwwvJs73LkCO1G9NahA379/v+bzJUuWwNraGuvXr0eLFi0AAFlZWZgyZQr69u3bsCiJiIiIiEgvCCHw161MbD0Vj9/OJ6G0TA0AkMukGNbFDeN6eSHQ1x4SiUTHkRIZnka7B/2LL77Anj17NMU5ALRo0QIff/wxQkND8X//93+NNRURERERETWz9PwSRETfxbZTCbiaUnm2vL2rNcb38sLI7p6wteDl60QN0WgPFszNzUVaWlq19rS0NOTl5dWwR+1WrlwJHx8fmJmZITAwECdOnKiz/7Zt29C+fXuYmZmhS5cu2LVrl9Z2IQTmz58PNzc3mJubIyQkBNevX9fqk5mZieeffx42Njaws7PDtGnTkJ+fr9keFxcHiURS7eOvv/56qFh27NiB0NBQODg4QCKRICYm5qHeGyIiIiKi5iCEwIW7OVj+53WErzyKgH/+iY9/u4yrKXmwkJvguQAv/Pz33vj9tb6YHOzL4pyoETRagT5y5EhMmTIFO3bsQEJCAhISErB9+3ZMmzYNo0aNqvc4W7Zswdy5c7FgwQKcOXMG3bp1Q1hYGFJTU2vsf+zYMTz33HOYNm0aoqOjER4ejvDwcFy4cEHT59NPP8WKFSuwatUqHD9+HJaWlggLC0NxcbGmz/PPP4+LFy8iMjISO3fuxKFDhzBjxoxq8/35559ISkrSfFS9v74+sRQUFKBPnz745JNP6v2eEBERERE1ByEELiXmYsXe6xj4xUH87csjWPrnNcTEZ0MtgG6etvhoRCdEvTMQi0d1RfeWLXgpO1EjarRL3FetWoU33ngDEyZMgFKpLB9cJsO0adPw2Wef1XucJUuWYPr06ZgyZYpm3N9++w1r1qzBO++8U63/8uXLMXjwYLz55psAgI8++giRkZH46quvsGrVKgghsGzZMsybNw8jRowAAGzYsAEuLi6IiIjA+PHjcfnyZezevRsnT55Ez549AQBffvklhg4dis8//xzu7u6a+RwcHODq6lpj7A+KBQBefPFFAOVn5ImIiIiIdO1Gah5OxmXh+K0MRN3KQEpuiWabmakU/do6YUA7ZzzV1okLvhE1sUYr0C0sLPD111/js88+w82bNwEArVu3hqWlZb3HKC0txenTp/Huu+9q2qRSKUJCQhAVFVXjPlFRUdUe9xYWFoaIiAgAQGxsLJKTkxESEqLZbmtri8DAQERFRWH8+PGIioqCnZ2dpjgHgJCQEEilUhw/fhwjR47UtA8fPhzFxcVo27Yt3nrrLQwfPrzesTyqkpISlJRU/qDMzc0FACiVSs0fQ5pDxVzNOSc1PubRODCPho85NA7Mo+F7nHN49GYGVh+KxbFbmVrtFnIT9PJugWFdXDGoozOsFJUlg76+T49zHo2JMeSxobE3WoFewdLSEl27dn2kfdPT06FSqeDi4qLV7uLigitXrtS4T3Jyco39k5OTNdsr2urq4+zsrLVdJpPB3t5e08fKygpffPEFgoODIZVKsX37doSHhyMiIkJTpD8olke1ePFiLFy4sFr7nj17YGFh0aCxH0VkZGSzz0mNj3k0Dsyj4WMOjQPzaPgelxyWqIDoDAn+SpUiNq/80nQTiYCvtUBra6C1rUBr6zLIpMlAUjIOJek44If0uOTR2BlyHgsLCxu0f6MW6KdOncLWrVtx584dlJaWam3bsWNHY07V7BwdHbXOjvfq1QuJiYn47LPPtM6iN4V3331Xa+7c3Fx4eXkhNDQUNjY2TTp3VUqlEpGRkRg0aBBMTbkIiKFiHo0D82j4mEPjwDwavschh2UqNY7ezMDOc8k4cC0d2UX3bkeVSvBsTw+81McHXi2a/6RPY3oc8vg4MIY8Vlzt/KgarUDfvHkzJk6ciLCwMOzZswehoaG4du0aUlJStC4Rr4ujoyNMTEyQkpKi1Z6SklLrfd+urq519q/4f0pKCtzc3LT6+Pv7a/rcvwhdWVkZMjMza50XAAIDA7X+uvOgWB6VQqGAQqGo1m5qaqqTL1xdzUuNi3k0Dsyj4WMOjQPzaPiMMYdXknOx/XQCImISkZZXebukh505xvb0xISAlnC2MdNhhI3PGPP4ODLkPDY07kZbxf1f//oXli5dil9//RVyuRzLly/HlStX8Oyzz6Jly5b1GkMul6NHjx7Yu3evpk2tVmPv3r0ICgqqcZ+goCCt/kD5JREV/X19feHq6qrVJzc3F8ePH9f0CQoKQnZ2Nk6fPq3ps2/fPqjVagQGBtYab0xMjFbR/6BYiIiIiIiaUl6xEuuPxWHsqmMYvOwwvjsci7S8ErSwMMXEIG/8OP1JHHizP+aEtDW64pzIGDTaGfSbN29i2LBhAMoL7YKCAkgkErz++ut4+umna7yHuiZz587FpEmT0LNnTwQEBGDZsmUoKCjQrOo+ceJEeHh4YPHixQCA1157Df369cMXX3yBYcOGYfPmzTh16hRWr14NAJBIJJgzZw4+/vhj+Pn5wdfXFx988AHc3d0RHh4OAOjQoQMGDx6M6dOnY9WqVVAqlZg9ezbGjx+vWcF9/fr1kMvl6N69O4DyS/bXrFmD77//XhP7g2IByp+3fufOHSQmJgIArl69CqD87HtDz7QTERER0ePpZlo+fjgSi9/PJyGrsPIS9oEdnDH6CU/0b+cMuazRzs0RURNptAK9RYsWyMvLAwB4eHjgwoUL6NKlC7Kzsx/qRvlx48YhLS0N8+fPR3JyMvz9/bF7927N4mt37tyBVFr5w6V3797YtGkT5s2bh/feew9+fn6IiIhA586dNX3eeustFBQUYMaMGcjOzkafPn2we/dumJlV/tVw48aNmD17NgYOHAipVIrRo0djxYoVWrF99NFHuH37NmQyGdq3b48tW7ZgzJgxDxXLL7/8ovljAwCMHz8eALBgwQJ8+OGH9X6fiIiIiOjxplIL7LuSirVHY3HsZoam3cfBAi886Y2hXdz4WDQiA9NoBfpTTz2FyMhIdOnSBWPHjsVrr72Gffv2ITIyEk8//fRDjTV79mzMnj27xm0HDhyo1jZ27FiMHTu21vEkEgkWLVqERYsW1drH3t4emzZtqnX7pEmTMGnSpNqDrmcskydPxuTJkx84DhERERFRTVJzi/G/mERs+CsO8ZlFAACpBHiqrROmBvsiqLUDTE14tpzIEDVagf7VV1+huLgYAPD+++/D1NQUx44dw+jRo/HGG2801jRERERERI8dIQTO3MnGmqOx2H0hGSq1AADYWZhifK+WeDHIGx48W05k8BqtQLe3t9d8LpVK8c4776C4uBgrV65E9+7dG/wscCIiIiKix02xUoXdF5Kx9mgszibkaNq7t7TDsz29EO7vAXO5iQ4jJKLG1OACvaSkBB9++CEiIyMhl8vx1ltvITw8HGvXrsW8efNgYmKC119/vTFiJSIiIiJ6LNzNLsLaI7HYcioeecVlAAC5TIpwf3dM7u2Lju42Oo6QiJpCgwv0+fPn49tvv0VISAiOHTuGsWPHYsqUKfjrr7/wxRdfYOzYsTAx4V/1iIiIiIjqcjMtH7/EJGLflVRcSMyBKL+KHR525hjfywsTAlvCwUqh2yCJqEk1uEDftm0bNmzYgOHDh+PChQvo2rUrysrKcPbsWUgkksaIkYiIiIjIKBWUlOG380nYejIep25naW17spU9pvVphYHtnSGV8t/VRI+DBhfoCQkJ6NGjBwCgc+fOUCgUeP3111mcExERERHVIKdQif+dvYsj19Nx5EY6CktVAMpXYu/X1glDurihfzsnOFubPWAkIjI2DS7QVSoV5HJ55YAyGaysrBo6LBERERGR0VCq1DhyIx1/XEjG7ovJyC5Uarb5OlpibE9PjH7CEy42LMqJHmcNLtCFEJg8eTIUivL7YYqLi/HKK6/A0tJSq9+OHTsaOhURERERkUG5k1GINUdj8cvZRGQWlGraWzlaYmxPLwS2skd3LztefUpEABqhQJ80aZLW6xdeeKGhQxIRERERGazswlL8cjYRP51OwLkqj0ZzsJRjaBc3DOrogt6tHSAzkeowSiLSRw0u0NeuXdsYcRARERERGay8YiWOXE/HL2cTsfdyKkpVas22vn6OmNrHF33bOLIoJ6I6NbhAJyIiIiJ63JSWqXExMQfHbmbgz8spOJeQA5VaaLZ3dLPBmB6eGO7vDkc+Go2I6okFOhERERHRAyhVapyNz0bkpRQcvp6O66l5UKqEVh9vBwuEdXLFCH93dHK31VGkRGTIWKATEREREdUgt1iJ3eeT8dv5JJyIzUSRUqW13dbcFIG+9ujb1glPt3eGh525jiIlImPBAp2IiIiI6J7cYiX2XEzB7gtJOHw9HSVllfeS25qb4qm2Tgjp4Iwe3i3gYWfO1deJqFGxQCciIiKix1ZesRIXsyS4+ucNnLubixOxmVoLvLVxtsKwLm4Y3NkV7VysIZWyICeipsMCnYiIiIgeK7czCrDjzF1EXkrB5eRcCGECXLml2e7nbIVhXd0Q2tEVHdyseZaciJoNC3QiIiIiMmpCCNxMy8eBq2mIvJSCk3GZqLLgOhwVAk919EA3rxYIbuOANs7WuguWiB5rLNCJiIiIyOgIIXAuIQc7ziTg13NJyCwo1dre188R4f4eeNLXDqcO78XQoZ1hamqqo2iJiMqxQCciIiIio5GaV4xfYhKx6fgd3Eov0LTLZVIE+tqjfztnhHZ0gZe9BQBAqVTqKlQiompYoBMRERGRQcvIL8HBa2n49WwiDl1Ph+re9esKmRRhnVwxuocnglo5QC6T6jhSIqK6sUAnIiIiIoOiVguciMvEkevpOBGXieg7WVCqKm8q797SDqOf8ER4dw9YKfjPXSIyHPyJRURERER6L7uwFHsupWD/lVQcj82sdk95RzcbhHRwRnh3D7RystJRlEREDcMCnYiIiIj00oW7Odh3JRVHb6Tj1O0szaXrAGCtkCGkowuebGWPAF8H+Dpa6jBSIqLGwQKdiIiIiPRCSZkKUTczsO9KKg5eS8PtjEKt7e1drTGksxv6+Dmgq6cdTE14TzkRGRcW6ERERESkMxVF+d7Lqdh5LhFZhZWrqstNpBjQ3gl92jiifztnzcrrRETGigU6ERERETULtVogLb8EsekFuJmWj1NxWTh0LQ0ZVe4nd7ZW4On2zhjYwQVBrR24yBsRPVb4E4+IiIiImkRSThEu3M3FrbR8nIzLwvHYDOQVl1Xr52ilwKCOzni6vQsGtHOCjJeuE9FjigU6ERERETVYSZkK11PyEZdRgAt3c3H4ehouJuZW62cilcCzhTl8HCzR2cMGwa0d0dPHns8oJyICC3QiIiIieki5xUpcTszFRc1HDm6k5qOsyirrACCRAB1cbeDraIkunrYIauWAju42XNyNiKgWLNCJiIiIqFZlKjUuJuYi6lYGzsZn42JiLu5kFtbY187CFL6OlmjrbI0nW9ujTxsnOFkrmjliIiLDxQKdiIiIiDQKSspw6nYWTsdl4tTtLETfyUaRUlWtn7utGTq626KTu035h4ct3G3NIJFIdBA1EZFxYIFORERE9BgpVqqQlFOMu1lFSMopQmJ2MW5nFOB2ZiFupeUju0gJoX2lOqzNZAj0tUcvH3t0uleUt7CU6+YAiIiMGAt0IiIiIiMhRPljzK6n5ONmWj7S80uRmF1eiGcWKJGWV4L0/JIHjuNhZ45AX3v08GmBnt728HO2glTKM+NERE2NBToRERGRAVGrBbIKS5FZUIr4rEIk5RTjdkYhYuKzcT0lD1mFygeOYW5qAo8W5nCzNYObrRm8HSzhZW+B1k6WcLUxg72lnJeqExHpAAt0IiIiIh0TQiA9vxQpucXILVIi9d6Z7qzCUhSUqFBSpkJGfilupRfgTkYhSlXqWseSSABvewu0cbaGi40CbrZmcLczh72lHI5WCni2MIetuSkLcCIiPcQCnYiIiKgRqdQCBaVlyClUIquwFKm5JUjNK0GRUoWi0jLklZQhv7gM2UVKZOaXIjWvGAlZRSgpq73oromtuSncbM3gYWcOdztzdPW0RQc3G7R2soK53KSJjo6IiJoSC3QiIiKiB1CpBXKKlMjIL0FOkRKFpSrkl5QhNbcIB+Kk2LvtPNLySxGbXoDUvGLc9zjwepFIAEcrBWzNTeFkpYCjtQL2FqawMpPB3NQE1mbljzDzdbSEq60ZnyVORGSEWKATERER3VOsVOFGaj6upeQhNr0At9IKcD21/HOlqraqWwokJVVrlcukcLCUo4WFHO525rCQm9wrtGWwMpPBxswUDlaVl5272JjBzJRnvomIHmcs0ImIiOixlZhdhN8vJOPi3RzExGcjLqOgzrPfNmYytLCUw0Iug5XCBLZmMiizU/Bkt/ZwsTWHj6MlPO3MYWthCoWMxTYRET0cFuhERET0WMkpVOLXc4n4JSYRJ+Iyq223szBFOxdrtHa2gq+DJdq4WKGNk1WNl5UrlUrs2rULQ/v4wNTUtLkOgYiIjBQLdCIiIjJ6KrXAwWup2BB1G0dvpGsuV5dIgF4+9ujd2gH+Xnbo6G4DJysFVzgnIiKdYIFORERERkcIgZtp+Th6IwNHb6Tj6I10FJSqNNvbu1pj9BOe+Fs3N7jZmuswUiIiokos0ImIiMgoFJaW4fTtLBy5kY7dF5JxO6NQa7uNmQxje3phfC8v+LlY6yhKIiKi2rFAJyIiIoNUWqZGTHw2Dl1Lw4FrqbiclAdVlRXe5DIpevm0QO/Wjujr54hO7rYwkfLSdSIi0l8s0ImIiMggFCtVOBufjZNxmTgem4nTt7NQWOWydQBwsVHgyVYOGNTRBQPaOcNSwX/qEBGR4dDb31orV67EZ599huTkZHTr1g1ffvklAgICau2/bds2fPDBB4iLi4Ofnx8++eQTDB06VLNdCIEFCxbgu+++Q3Z2NoKDg/HNN9/Az89P0yczMxP/+Mc/8Ouvv0IqlWL06NFYvnw5rKysAABxcXHw9fWtNndUVBSefPLJRo2FiIhI3wghUFKmLv9QqpBXUgalSg2VWkAIQC0EVGoBtSjvq/W5EChRqqEW5W3l/6/crhYCajWgEuLevkByThFupRfgbnYRkrKLkZpXXO0RaA6WcvRu44gB7ZzwZCsHuNvxfnIiIjJcelmgb9myBXPnzsWqVasQGBiIZcuWISwsDFevXoWzs3O1/seOHcNzzz2HxYsX429/+xs2bdqE8PBwnDlzBp07dwYAfPrpp1ixYgXWr18PX19ffPDBBwgLC8OlS5dgZmYGAHj++eeRlJSEyMhIKJVKTJkyBTNmzMCmTZu05vvzzz/RqVMnzWsHB4dGj4WIiKgqca+YLVaqUFqmhuq+olatFlUKZAGlqvz/QkBTPAugSlvV4rj8/zlFSmQXKZGaW4LiMhVKlGpkF5YiIasIafklSMopQrFSrdP3wdFKgUBfewTc+2jnYg0pL1snIiIjIRFCiAd3a16BgYHo1asXvvrqKwCAWq2Gl5cX/vGPf+Cdd96p1n/cuHEoKCjAzp07NW1PPvkk/P39sWrVKggh4O7ujv/7v//DG2+8AQDIycmBi4sL1q1bh/Hjx+Py5cvo2LEjTp48iZ49ewIAdu/ejaFDhyIhIQHu7u6aM+jR0dHw9/evMfbGiOVBcnNzYWtri5ycHNjY2NTvTW0Emme9Dh3KZ70aMEPIo7hXQACAqHiN8iJDoMo2UXm2TWjtj8qdNZ8K7W1VNlf9MVjZVn1f1LBv1b5VoxDVd9HMU9NPXZVaoFSlrjZW1WOt2q5UluHo0SMIDu4DmUxW+35V5q5+bLX1vS/e2o7z3v9U94pCca+togBUV83b/cVhRUz3cqpWl7ep1OoqZ1fvFY/qyjOuALTOwAoBqNUCSrVAyb2CsqRMjTKVWutrBlXmrAhdK457jVXfv6pfbxX9q75nFfuWqQVyi8vKY1dXxlVRQAtR5WyxunyfUpUaZSqBktJSyExNK98vUfU90j5OfSORAFZyGRSmJpBKAKlEAhOpBJKaPpeUf64wNYHJvTbpvTYTaeXn5e2491oCJ2sFfB0t4NXCAm525nC3NYOTtX49As0QfqZS3ZhD48A8GgdjyGNDazW9O4NeWlqK06dP491339W0SaVShISEICoqqsZ9oqKiMHfuXK22sLAwREREAABiY2ORnJyMkJAQzXZbW1sEBgYiKioK48ePR1RUFOzs7DTFOQCEhIRAKpXi+PHjGDlypKZ9+PDhKC4uRtu2bfHWW29h+PDhjRrL/UpKSlBSUqJ5nZubC6D8C1ipVNb4njSFirnqmvP83Ry8veOCVltN/7Cs7d+aNf8jtHpjfcesud+jj1dTx4c5lppjrOeYjTSeEEBpqQkWndsPQHJfv5qPpr7FgfreZan3F0T3F0NVx72/Dz0MGT4795eug6AGkQCqskffWwKYSCSQSiWVha+0vCAuL3yhKX4l94pfiUQCCSqLYYmmOAZszExhbSaDs7UC5nITmMlMYG0mg4ddeWHsamsGewtTKGQmMDWR6KRQLit79PerKdTndyPpN+bQODCPxsEY8tjQ2PWuQE9PT4dKpYKLi4tWu4uLC65cuVLjPsnJyTX2T05O1myvaKurz/2Xz8tkMtjb22v6WFlZ4YsvvkBwcDCkUim2b9+O8PBwREREaIr0xojlfosXL8bChQurte/ZswcWFhY17tOUIiMja912Ixe4nqp3X1ZUjQQw4B98zUlSwx8tJNU+uf9PHdptkhoa7+8vASCT1jx+jeNUvK5jPKC8gKupvb7z1LV/1RhMqowhubdf1RiqtgOiyueA9L5+JpIq+0iqj1m1reLKZhNJ+ftnKgVMpULTXtGv6rHU9N48qF9N75smfglgbgLIaopbIjRxVj2OingrxtOK9wHHXHGcVd/DJlMGIL/8IwPlH1Szun43kmFgDo0D82gcDDmPhYWFD+5UB1ZSD8HR0VHr7HivXr2QmJiIzz77TOssemN79913tebNzc2Fl5cXQkNDm/0S98jISAwaNKjWS05yi5QICMir1v4w/4isqa+khvKn5n41jVfDvjVO3MjjoWHH0tjjVTSVlZUhKioKQUFBMDWt/iOgpvG0BqijSSKRQFal0qgsLCT3FWwSTZwSVJ7Rq9qGe20V+2v3vxepBJBJK8/i1VZY3j+vdpt2/IaiPt+PpN+YQ+PAPBo+5tA4MI/GwRjyWHG186PSuwLd0dERJiYmSElJ0WpPSUmBq6trjfu4urrW2b/i/ykpKXBzc9PqU3EvuaurK1JTU7XGKCsrQ2ZmZq3zAuX3y1f9C09jxHI/hUIBhUJRrd3U1FQnX7h1zetgaoq+Ns1/Vp/qT6lU4rYl0MmzhcH+4KNKuvo5QI2HOTQOzKPhYw6NA/NoHAw5jw2NW/rgLs1LLpejR48e2Lt3r6ZNrVZj7969CAoKqnGfoKAgrf5A+WURFf19fX3h6uqq1Sc3NxfHjx/X9AkKCkJ2djZOnz6t6bNv3z6o1WoEBgbWGm9MTIxWod0YsRAREREREdHjR+/OoAPA3LlzMWnSJPTs2RMBAQFYtmwZCgoKMGXKFADAxIkT4eHhgcWLFwMAXnvtNfTr1w9ffPEFhg0bhs2bN+PUqVNYvXo1gPLLVufMmYOPP/4Yfn5+mkebubu7Izw8HADQoUMHDB48GNOnT8eqVaugVCoxe/ZsjB8/Hu7u7gCA9evXQy6Xo3v37gCAHTt2YM2aNfj+++81sTdGLERERERERPT40csCfdy4cUhLS8P8+fORnJwMf39/7N69W7Ow2p07dyCVVp787927NzZt2oR58+bhvffeg5+fHyIiIjTPHQeAt956CwUFBZgxYways7PRp08f7N69W+u54xs3bsTs2bMxcOBASKVSjB49GitWrNCK7aOPPsLt27chk8nQvn17bNmyBWPGjGn0WIiIiIiIiOjxopfPQae65eTkwM7ODvHx8c2+SNyePXsQGhpqsPeEEPNoLJhHw8ccGgfm0fAxh8aBeTQOxpDHigW9s7OzYWtr+9D76+UZdKpbXl75KuleXl46joSIiIiIiIjul5eX90gFOs+gGyC1Wo3ExERYW1s362OhKv4a1Nxn7qlxMY/GgXk0fMyhcWAeDR9zaByYR+NgDHkUQiAvLw/u7u5at2XXF8+gGyCpVApPT0+dzW9jY2Ow3zBUiXk0Dsyj4WMOjQPzaPiYQ+PAPBoHQ8/jo5w5r6B3j1kjIiIiIiIiehyxQCciIiIiIiLSAyzQqd4UCgUWLFgAhUKh61CoAZhH48A8Gj7m0Dgwj4aPOTQOzKNxYB65SBwRERERERGRXuAZdCIiIiIiIiI9wAKdiIiIiIiISA+wQCciIiIiIiLSAyzQ9dDixYvRq1cvWFtbw9nZGeHh4bh69apWn+LiYsyaNQsODg6wsrLC6NGjkZKSotXn1VdfRY8ePaBQKODv719tngMHDmDEiBFwc3ODpaUl/P39sXHjxnrFuHLlSvj4+MDMzAyBgYE4ceKE1vbVq1ejf//+sLGxgUQiQXZ2dr3GvXPnDoYNGwYLCws4OzvjzTffRFlZmWZ7UlISJkyYgLZt20IqlWLOnDn1GlcXmMfa87hjxw4MGjQITk5OsLGxQVBQEP744496jd3cmMfa83jkyBEEBwfDwcEB5ubmaN++PZYuXVqvsZsTc1h7Dqs6evQoZDJZjcemD5jH2vN44MABSCSSah/Jycn1Gr+5MId1fy+WlJTg/fffh7e3NxQKBXx8fLBmzZp6jd+cmMfa8zh58uQavxc7depUr/GbE/NY9/fjxo0b0a1bN1hYWMDNzQ1Tp05FRkZGvcZvKBboeujgwYOYNWsW/vrrL0RGRkKpVCI0NBQFBQWaPq+//jp+/fVXbNu2DQcPHkRiYiJGjRpVbaypU6di3LhxNc5z7NgxdO3aFdu3b8e5c+cwZcoUTJw4ETt37qwzvi1btmDu3LlYsGABzpw5g27duiEsLAypqamaPoWFhRg8eDDee++9eh+3SqXCsGHDUFpaimPHjmH9+vVYt24d5s+fr+lTUlICJycnzJs3D926dav32LrAPNaex0OHDmHQoEHYtWsXTp8+jQEDBuCZZ55BdHR0vedpLsxj7Xm0tLTE7NmzcejQIVy+fBnz5s3DvHnzsHr16nrP0xyYw9pzWCE7OxsTJ07EwIED6z1+c2MeH5zHq1evIikpSfPh7Oxc73maA3NYdw6fffZZ7N27Fz/88AOuXr2KH3/8Ee3atav3PM2Feaw9j8uXL9f6HoyPj4e9vT3Gjh1b73maC/NYex6PHj2KiRMnYtq0abh48SK2bduGEydOYPr06fWep0EE6b3U1FQBQBw8eFAIIUR2drYwNTUV27Zt0/S5fPmyACCioqKq7b9gwQLRrVu3es01dOhQMWXKlDr7BAQEiFmzZmleq1Qq4e7uLhYvXlyt7/79+wUAkZWV9cC5d+3aJaRSqUhOTta0ffPNN8LGxkaUlJRU69+vXz/x2muvPXBcfcE81pzHCh07dhQLFy584Pi6xjzWnceRI0eKF1544YHj6xJzWD2H48aNE/PmzXuoY9M15rEyjw8znj5hDitz+PvvvwtbW1uRkZFRr+PRJ8xj7b8Xf/75ZyGRSERcXNwDx9c15rEyj5999plo1aqV1n4rVqwQHh4eDxy/MfAMugHIyckBANjb2wMATp8+DaVSiZCQEE2f9u3bo2XLloiKimrwXBXz1KS0tBSnT5/WmlsqlSIkJKTBc0dFRaFLly5wcXHRtIWFhSE3NxcXL15s0Nj6gHmsPY9qtRp5eXl1xqwvmMfa8xgdHY1jx46hX79+DZq7qTGH2jlcu3Ytbt26hQULFjRovubGPFb/XvT394ebmxsGDRqEo0ePNmje5sAcVubwl19+Qc+ePfHpp5/Cw8MDbdu2xRtvvIGioqIGzd0cmMfafy/+8MMPCAkJgbe3d4Pmbg7MY2Ueg4KCEB8fj127dkEIgZSUFPz0008YOnRog+auLxboek6tVmPOnDkIDg5G586dAQDJycmQy+Wws7PT6uvi4tKg+822bt2KkydPYsqUKbX2SU9Ph0ql0vqiboy5gfLjqmncim2GjHmsO4+ff/458vPz8eyzzzZo7qbGPNacR09PTygUCvTs2ROzZs3CSy+91KC5mxJzqJ3D69ev45133sF///tfyGSyBs3XnJhH7Ty6ublh1apV2L59O7Zv3w4vLy/0798fZ86cadDcTYk51M7hrVu3cOTIEVy4cAE///wzli1bhp9++gl///vfGzR3U2Mea//3TWJiIn7//Xe9/p1YgXnUzmNwcDA2btyIcePGQS6Xw9XVFba2tli5cmWD5q4vFuh6btasWbhw4QI2b97cpPPs378fU6ZMwXfffadZyOLw4cOwsrLSfNR3QYf6GDJkiGZcfVw4o7Exj7XbtGkTFi5ciK1bt+rd/ZL3Yx5rdvjwYZw6dQqrVq3CsmXL8OOPPzZabI2NOaykUqkwYcIELFy4EG3btm20WJoD86itXbt2ePnll9GjRw/07t0ba9asQe/evfVy0cYKzKE2tVoNiUSCjRs3IiAgAEOHDsWSJUuwfv16vT6LzjzWbv369bCzs0N4eHijxdVUmEdtly5dwmuvvYb58+fj9OnT2L17N+Li4vDKK680Wmx1MZw/lz+GZs+ejZ07d+LQoUPw9PTUtLu6uqK0tBTZ2dlaf9VKSUmBq6vrQ89z8OBBPPPMM1i6dCkmTpyoae/ZsydiYmI0r11cXKBQKGBiYlJtBceHnfv777/X/MIxNTXVHNf9qzNWzPMox6UvmMfa87h582a89NJL2LZtm9ZlTPqIeaw9j76+vgCALl26ICUlBR9++CGee+65es/fXJhD7Rzm5eXh1KlTiI6OxuzZswGUFwlCCMhkMuzZswdPP/10/Q+8mTCP9fvdGBAQgCNHjtR77ubEHFbPoZubGzw8PGBra6vp06FDBwghkJCQAD8/v3rH0FyYx9q/F4UQWLNmDV588UXI5fJ6z6sLzGP1PC5evBjBwcF48803AQBdu3aFpaUl+vbti48//hhubm71juGRNMud7vRQ1Gq1mDVrlnB3dxfXrl2rtr1i0YaffvpJ03blypVHWrRh//79wtLSUnz11Vf1ji8gIEDMnj1b81qlUgkPD49GW7QhJSVF0/btt98KGxsbUVxcXK2/vi8SxzzWncdNmzYJMzMzERERUe+YdYF5rN/3Y4WFCxcKb2/vesffHJjDmnOoUqnE+fPntT5mzpwp2rVrJ86fPy/y8/PrfQzNgXl8uO/FkJAQMXLkyHrH3xyYw9pz+O233wpzc3ORl5en6RMRESGkUqkoLCys9zE0B+bxwd+LFeOeP3++3nE3N+ax9jyOGjVKPPvss1r7HTt2TAAQd+/erfcxPCoW6Hpo5syZwtbWVhw4cEAkJSVpPqr+gH7llVdEy5Ytxb59+8SpU6dEUFCQCAoK0hrn+vXrIjo6Wrz88suibdu2Ijo6WkRHR2tWKNy37//bu/O4KOv1feDXDDMM64Dsu6Agi6IiiKKZGy5plktpZe5pmZSmp06WaXZOeax+WZpmmtrydcsWKysTQcUFRRFcURRR9k32fYDP7w9lFFlERWYYr/frRTHP9rmfuRjwnmeZcGFkZCQWLlxYZ5y73UF027ZtQqFQiG+//VacP39ezJo1S5ibm9e5G2J6erqIiYkR69evFwBERESEiImJaXLbVVVVokuXLmLo0KEiNjZW7N69W1hbW4uFCxfWWa52P/z9/cULL7wgYmJixLlz55r9/LYW5th4jps3bxYymUysXr26Ts35+fn39By3BubYeI5ffvml+P3330V8fLyIj48X33zzjTA1NRXvvvvuPT3HDxszbPp36u20+S7uzLHxHFesWCF27twpLl26JM6cOSPmzp0rpFKp2Lt37z09xw8bM2w8w6KiIuHk5CSeeeYZce7cOXHgwAHh4eEhXnrppXt6jlsDc7z779QXX3xR9OrVq1nPp6Ywx8Zz3LRpk5DJZGLNmjUiISFBHDp0SAQEBIjAwMB7eo7vFxt0LQSgwa9NmzaplykrKxOvvvqqaNeunTAyMhJjxowR6enpdbbTv3//BreTmJgohBBiypQpDc7v37//XWtctWqVcHFxEfr6+iIwMFAcPXq0zvwlS5bcdR8acvXqVfHEE08IQ0NDYWVlJRYsWCBUKtVdnx9tO2InBHNsKsfG9mnKlCl3rbm1McfGc1y5cqXo3LmzMDIyEkqlUvj5+Yk1a9aI6urqu9bcmphh079T7xxHWxt05th4jsuXLxcdO3YUBgYGwsLCQgwYMECEh4fftd7Wxgybfi3GxcWJ4OBgYWhoKJycnMT8+fO17ui5EMzxbjnm5+cLQ0NDsW7durvWqUnMsekcV65cKXx8fIShoaGwt7cXEydOFCkpKXetuSVIhBACRERERERERKRRvIs7ERERERERkRZgg05ERERERESkBdigExEREREREWkBNuhEREREREREWoANOhEREREREZEWYINOREREREREpAXYoBMRERERERFpATboRERERERERFqADToRERERERGRFmCDTkRERERERKQF2KATERERERERaQE26ERERERERERagA06ERERERERkRZgg05ERERERESkBdigExEREREREWkBNuhEREREREREWkCm6QLo3tXU1CAtLQ2mpqaQSCSaLoeIiIiIiIgACCFQVFQEBwcHSKX3fjycDXoblJaWBmdnZ02XQURERERERA1ITk6Gk5PTPa/HBr0NMjU1BXAjdKVS2WrjqlQq7NmzB0OHDoVcLm+1callMUfdwBzbPmaoG5hj28cMdQNz1A26kGNhYSGcnZ3VPdu9euQb9NWrV+OTTz5BRkYGunXrhlWrViEwMLDR5Xfs2IH33nsPV69ehYeHB5YvX44RI0ao5wshsGTJEqxfvx75+fno27cvvvrqK3h4eKiXyc3NxWuvvYY//vgDUqkU48aNwxdffAETE5Nm1Vx7WrtSqWz1Bt3IyAhKpbLNvmCIOeoK5tj2MUPdwBzbPmaoG5ijbtClHO/3UuRH+iZx27dvx/z587FkyRKcPHkS3bp1w7Bhw5CVldXg8keOHMHzzz+PGTNmICYmBqNHj8bo0aNx9uxZ9TIff/wxVq5cibVr1+LYsWMwNjbGsGHDUF5erl5m4sSJOHfuHEJDQ7Fr1y5ERERg1qxZD31/iYiIiIiISHs90g36Z599hpkzZ2LatGnw8fHB2rVrYWRkhI0bNza4/BdffIHhw4fjzTffhLe3N/7zn/+gR48e+PLLLwHcOHr++eefY9GiRXj66afRtWtXfP/990hLS8POnTsBAHFxcdi9eze++eYb9OrVC4899hhWrVqFbdu2IS0trbV2nYiIiIiIiLTMI3uKe2VlJaKjo7Fw4UL1NKlUiuDgYERGRja4TmRkJObPn19n2rBhw9TNd2JiIjIyMhAcHKyeb2Zmhl69eiEyMhLPPfccIiMjYW5ujoCAAPUywcHBkEqlOHbsGMaMGdOCe9n6SiurkJJXVm96Qyd4NH7WR/0ZDS3b8DYbWLeZY0uaOW5jGtxmK9TTYIlNbK+qSoXCSiCnuAJyeU1Da9/3cyuRAFLpjZEkktr/3xi7dvXax7e+v2NZfjIBERERET2iHtkGPScnB9XV1bC1ta0z3dbWFhcuXGhwnYyMjAaXz8jIUM+vndbUMjY2NnXmy2QyWFhYqJe5U0VFBSoqKtSPCwsLAdy4RkOlUjW5ny2pdqymxoy5louJG060Vkl032R4L/qApotoUm3zfuP7Ww38nY/1JBJ1U397by+5bTu3ptVfDncsd/sbI7em3Rr3zu3jjmVuX67utDvXq7stiQTQ15PWewOjoXUkAAQEiov08PXVIzefj8bWqbtfdz6vdfcPddw+v7HnovYNFj3prTdiavdBevMNl9vfiJHW7p8E6u+lN9eBRAKZVAKp5NY06c18pbXf49b0W8tJINOTQCGT3vzSg5709nFvq+3mjt65T039jNV5g+nmfyR31GJqIFPnJ5VIbv5c3qxTijr7IL25n6ipRmkVkFtUBn39qjuej/r/J+3UnL+NpN2YoW5gjrpBF3J80Nof2Qa9LVm2bBmWLl1ab/qePXtgZGTU6vWEhoY2Oi+xCDCW6d11G+IeZjS6bDOWa3DdFh6jsZWbXc8DjNP87bW9f9wLcdv+iTv3tLl7ruskQEmxpougByIDjh9s1pKSm69kmfTGlxS1b3LUvlFw27TbHt/+poz0tu8lklvXuUkkN7ZtKAMM9QClPqAvFZBLAQM9wMIAMJMLmOnfWIbqa+pvI7UNzFA3MEfd0JZzLC0tfaD1H9k/s1ZWVtDT00NmZmad6ZmZmbCzs2twHTs7uyaXr/1/ZmYm7O3t6yzTvXt39TJ33oSuqqoKubm5jY67cOHCOqfW1966f+jQoa1+F/fQ0FAMGTKkybsqzmm1iuh+3C1HUa8ZbqA/RsMtcnWNgBACArUNtlA32re2UXda7TLqbdZZ/1Y9t2/j9jGqawTEzWpuza9f5+37Jep9g3rbqLtu08uhmcs1VUtNjYCquoF9uWPbtfOrVFU4eTIGfj38oKen18iyd4wnGt9eo+s0Me/22quFqJOZEEDN7T8Dt2VWc3vGN7+vublOdY1ATe0y4vbvb61bo97+rflVNQKVVTWoUNWgvKoaVTcGr/czWLu/uL1W9bz6+11/mTvXv1FzYbkKVTWiyRpvf6yqrmnwZ6gpAhIIAJU1N75aVvPfxNO/eaaCgUwKY4UMBjLpjSP90ltntEgluHkWw83vb05XyKTqsxtuPwNCr/Z76e1nGgAWRvpwtTKCczsjOJgbwMZUAbmedt0+p7l/G0l7MUPdwBx1gy7kWHu28/16ZBt0fX19+Pv7IywsDKNHjwYA1NTUICwsDCEhIQ2uExQUhLCwMMybN089LTQ0FEFBQQAANzc32NnZISwsTN2QFxYW4tixY5g9e7Z6G/n5+YiOjoa/vz8AIDw8HDU1NejVq1eD4yoUCigUinrT5XK5Rn5wNTUutSzm2LapVCqUJQoM8rZjjm2QEALlFZX4++/dGDp8OGQyWb0mHrc3+7jV5JerqlFZVYMa9RsaQv3/G9/fmF5VU6N+k6H2DY/aN05uvekh1G+kVNcIFJapUFCmQlZRBcpV1aioqkF+qQopeaXILqpAYXkVKqtqUFlVgyIA2cWVrfq8SSRAR2sT9HKzQODNL3szw1atoTH8ndr2MUPdwBx1Q1vO8UHrfmQbdACYP38+pkyZgoCAAAQGBuLzzz9HSUkJpk2bBgCYPHkyHB0dsWzZMgDA3Llz0b9/f/y///f/MHLkSGzbtg0nTpzAunXrANw4CjBv3jz897//hYeHB9zc3PDee+/BwcFB/SaAt7c3hg8fjpkzZ2Lt2rVQqVQICQnBc889BwcHB408D0RE1LpuXDcvhZ4UUMikkMvvfmmQNiitrEJeqQoVqmqUq2pQXFF1882C2rMoBGpqcOv7295EqBECFaqaOmdI1D1jou4ZB9U1AllF5UjMKUFybhkyCspRWV2Dy1nFuJxVjM3HkgAAHayN0bejFQZ6WaOnqwVMDdrmP+iIiIiAR7xBnzBhArKzs7F48WJkZGSge/fu2L17t/omb0lJSZBKb51K16dPH2zZsgWLFi3CO++8Aw8PD+zcuRNdunRRL/PWW2+hpKQEs2bNQn5+Ph577DHs3r0bBgYG6mU2b96MkJAQDB48GFKpFOPGjcPKlStbb8eJiIjug5G+DEb6mvmngxAC2UUViEnOx/HEXERdzcXZ1AJcyS7BlewS/HD0GiQSwNPWFL3cLBDsY4ugDpaQadkp8URERE15pBt0AAgJCWn0lPb9+/fXm/bss8/i2WefbXR7EokEH3zwAT744INGl7GwsMCWLVvuuVYiIqJHlUQigY3SAMM622FY5xv3bCkoU+Holes4eCkb+y5kIzW/DBcyinAhowjfRV6DuZEcj7lbIaijJR73sIazRevfWJWIiOhePPINOhEREbVNZobyOg17VmE5jiXm4vDlHOw5n4nckkrsOp2OXafTAQDOFoZ4poczJvR0hp2ZQVObJiIi0gg26ERERKQTbJQGGNXNAaO6OeC/o2sQk5yPw5dzcOTydZy4lovk3DKs2BuPz8Pi0dPVAuN6OGJ4F3uYGfK6dSIi0g5s0ImIiEjnyPSk6OlqgZ6uFpgXDBRXVGHv+Ux8F3kVMUn5iErMRVRiLt7beQ4DvazxmIc1ujuZo5OdCRSytnHTPiIi0j1s0ImIiEjnmShkGO3niNF+jkjLL8OvMan4LTYV8ZnF+OdcJv45lwngxue3u1oawdPOFO7WJmhvaQwPWxN0tDaBsYL/bCIiooeLf2mIiIjokeJgbog5A90xZ6A74tIL8efpdJxOLcCp5HwUlKmQkF2ChOySeuuZG8lhYawPCyN9GOrrwUQhg5mhDMWZElTGpsHWzAiulsawNzeAnHePJyKi+8AGnYiIiB5Z3vZKeNsrAdz4KLesogpczChCfGYRErJLkJhTjMtZJcgprkB+qQr5pSpcwZ3Nux52JZ1VP5JIAFOFDKYGNxr6dsb6cDQ3gJG+DIZyPZgYyGCikEFpKIelsT6sTBRwamfII/RERMQGnYiIiAi48VFutkoD2CoN8Hgn6zrz8ksrkVlYgeslFSgoVaG0shrFFVXIKSpD5JnL0FdaIaekEldzSlFZXYPC8ioUllchNb+s2eObGcrhaG4IM0M5rEwVsDZRwMJYDhOFDIb6ejA1kKO9pRE6WJnAUJ/XyRMR6SI26ERERER3YW6kD3MjfQCmdaarVCq4l8djxIgAyOVy1NQIXC+pRGG5CoVlKuSWVCK7qAKZhRUoU1WjtLIKxeVVKK6oQkGZCtdvzi8oU6m/mqOdkRyWJgrYKQ3g1M4QdmYG6OZkDi97U9gpDSCRSB7Cs0BERA8bG3QiIiKiFiKVSmBtqoC1qeKe1issVyE1rwwZheUoLFMhu6gC2cUVyCupREllNcorq5FXWonEnBLklarUX5eziutty9RAhk62puhka6I+I8DR3BCWJjdOp7c2UUAqZQNPRKSN2KATERERaZjSQA6lvVx9PXxTbj/dPiWvDOn55UjKLUVMch6uXS9FUXkVoq/lIfpaXoPr6+tJYaO8cd27g9mNo++ulsZwtjBCRxtjWBoroMcGnohII9igExEREbUhjZ1uDwAVVdVIzCnBxYwiJGQVI7u4EhkFZUjNL0NuiQp5pZWorK5BSl4ZUvIavj5eJpXAx0F583Pk28G/vcU9nxFARET3hw06ERERkY5QyPTgZaeEl13DR+KrqmuQUViO9IJypOaVIa3gxhH4a7mlSLpegmu5paiqETidUoDTKQXYcCgRANDe0gi93CwQ6GaJzg5KuNuY8KPkiIgeAjboRERERI8ImZ4UTu2M4NTOCD1d68+vrKpBZmE5oq/l4cS1XJy4moeLmUW4dr0U166X4scTKQAAfZkUnram6OygRGcHJXwcbnxcnZE+/2lJRPQg+FuUiIiIiADcaLydLYzgbGGE0X6OAICCMhVOXstD5JXriE3OR1xaIYoqqnAmtQBnUgvU60okgJuVMdytTeBuY4JeHSwR6GrBj4QjIroHbNCJiIiIqFFmhnIM9LLBQC8bAEBNjUByXinOpRXiXFrBzf8XIruoAleyS3AluwR7zmdizf4EGMilCHSzRAcrY/g4KNGnoyWc2hlpeI+IiLQXG3QiIiIiajapVIL2lsZob2mMEb726ulZReU4n1aIxJwSnE8rxOHLOUgrKEdEfDYi4rPVy1mZ6KO9pTHcrIzR2UGJoI6W8LQ15We3ExGBDToRERERtQAbUwPYeBpggOeNx0IIxKUXISY5D1dzShB9LQ+nUgqQU1yJnOJKRF/Lw0/RN5btYGWMJ3ztMMjLBj1c2rFZJ6JHFht0IiIiImpxEsmNj2vzcbh1R/mSiiok5pTg6vUSJGSVIDopD1GJ13ElpwSr9yVg9b4EuNuYYKiPLYJ9bNHV0Qwy3i2eiB4hbNCJiIiIqFUYK2To4miGLo5m6mmF5SrsPZ+JsLgshF3IxOWsYlzOKsaa/QkwM5RjhK8d+nlYo29HK5gZyTVYPRHRw8cGnYiIiIg0Rmkgx9geThjbwwkFZSqExWUi7EIWDsZno6BMha1RydgalQw9qQS93CzwhK89+rlbob2lEU+FJyKdwwadiIiIiLSCmeGtZr26RuBIQg72ns/E4YTruJxVjCMJ13Ek4ToAwNHcEE90sUPvDpbo6WrBo+tEpBPYoBMRERGR1tGTStDPwxr9PKwBANeul+DvsxkIj8tCTHIeUvPL8M2hRHxzKBESCfCYuxUGe9lgZFcHWJsqNFw9EdH9YYNORERERFqvvaUxXunfEa/074iyymrsu5iFg5eycSwxF1eyS3DwUg4OXsrBf/6Mw4BO1hjn74ShPra8yRwRtSls0ImIiIioTTHU18MIX3v157An5pRg7/lM7DqTjlPJ+Qi7kIWwC1mwNNbHqG4OGNfDCV0clbxmnYi0Hht0IiIiImrT3KyMMfPxDpj5eAdczirGLydTsP14Mq6XVOLbI1fx7ZGrsDFVoE9HSwz0ssEATxuYGfKadSLSPmzQiYiIiEhnuNuY4K3hXpg/pBMOXs7BLydTsedcBrKKKrAzNg07Y9Mg15NghK89xvg5wt9ZefeNEhG1EjboRERERKRzZHpSDPS0wUBPG5RWVuFUcgEiLmVj7/lMXMoqxm+xafjtZrPuZKSHc7J4+LlYINDNApYmvMkcEWkGG3QiIiIi0mlG+jIEdbREUEdL/Hu4F06n5OPHE8kIPZ+JzMIKJBZJsO7gVQBXIZEAga4WeLKbA4b52MJGaaDp8onoEaIVDXr//v0xY8YMPPvsszA0NNR0OURERESkw7o6maOrkzn+83QXJGQVYuPvB1Bl7oJTKYW4mFmEY4m5OJaYi/d2nkWgmwVGdXPA8M52/Pg2InrotKJB9/Pzw7/+9S+89tprGD9+PGbMmIHevXtruiwiIiIi0mESiQTtLYzQy0ZgxIjOkMvlSMkrxZ+n0/HX2QycTslHVGIuom426x2tjfF4J2sM8bZFj/btYCDX0/QuEJGO0YoG/fPPP8enn36K33//Hd999x0ef/xxuLu7Y/r06Zg0aRJsbW01XSIRERERPQKc2hnh5f4d8XL/jkjNL8NvsanYdSod59MLkZBdgoTsEmw6fBVSCdDB2gS93CzQz8Ma/TysYKzQin9aE1EbpjW/RWQyGcaOHYuxY8ciKysL69atw3vvvYd33nkHI0aMwOuvv45BgwZpukwiIiIiekQ4mhvi1QHueHWAO/JKKnEs8TpCz2ch4lI2sosqcDmrGJezirH5WBJkUgm6O5tjaGdbjOrmAHszXrZJRPdOaxr0WlFRUdi0aRO2bdsGGxsbTJ06FampqXjyySfx6quv4tNPP9V0iURERET0iGlnrI/hXewxvIs9hBDILqrAqZQCHEnIQej5TKTkleHEtTycuJaHZX9fwGPuVnjG3wnDOtvxVHgiajataNCzsrLwww8/YNOmTbh06RJGjRqFrVu3YtiwYZBIJACAqVOnYvjw4WzQiYiIiEijJBIJbJQGGOJjgCE+tlj8pA+Sc8twID4Lf5xKR9TVXBy8lIODl3JgpK+HYG9bzOzXAV0clep/2xIRNUQrGnQnJyd07NgR06dPx9SpU2FtbV1vma5du6Jnz54aqI6IiIiIqHESiQQulkaYFOSKSUGuSLpeip9PpuCn6BSk5pfh91Np+P1UGtxtTDCqqwOG+NjC296UzToR1aMVDXpYWBj69evX5DJKpRL79u1rpYqIiIiIiO6Pi6UR3hjSCXMHeyA2JR/fHr6K3ecycDmrGCv2xmPF3nh0czbHpN7t0cvNAs4WRpoumYi0hFY06E5OTrh06RI8PDzqTL906RLkcjlcXV01UxgRERER0X2SSiXo4dIOPVzaobBchX/OZmD32QwcupyDU8n5OJWcDwAIaN8O4wOcMbKrPe8ET/SIk2q6AODG9eVHjhypN/3YsWOYOnVq6xdERERERNSClAZyPBvgjA1TeyLirYF4bZA7ujmbQyoBTlzLw1s/n0bPD/fizR2nsP9iFspV1ZoumYg0QCveoouJiUHfvn3rTe/duzdCQkI0UBERERER0cNhqzTAgqGeWDDUE5mF5fj5ZAp2nEhBYk4JdkSnYEd0ChQyKYJ9bPHSY27wc2mn6ZKJqJVoRYMukUhQVFRUb3pBQQGqq/nuIRERERHpJlulAV4d4I7Z/TvixLU8/BqTivC4LGQUluPP0+n483Q6fB3N8FygM8b6OcFQnx/ZRqTLtKJBf/zxx7Fs2TJs3boVeno3fulUV1dj2bJleOyxxzRcHRERERHRwyWRSNDT1QI9XS0gRgucSyvEhkOJ2HU6DWdSC3Dm1wJ88s9FPNfTBZOD2sPB3FDTJRPRQ6AV16AvX74c4eHh8PT0xLRp0zBt2jR4enoiIiICn3zyyUMZMzc3FxMnToRSqYS5uTlmzJiB4uLiJtcpLy/HnDlzYGlpCRMTE4wbNw6ZmZl1lklKSsLIkSNhZGQEGxsbvPnmm6iqqlLP379/PyQSSb2vjIyMh7KfRERERNS2SCQSdHE0w4oJ3XF04WAsGukNZwtD5JeqsPZAAvp9vA8zvz+BPecyUF0jNF0uEbUgrWjQfXx8cPr0aYwfPx5ZWVkoKirC5MmTceHCBXTp0uWhjDlx4kScO3cOoaGh2LVrFyIiIjBr1qwm13njjTfwxx9/YMeOHThw4ADS0tIwduxY9fzq6mqMHDkSlZWVOHLkCL777jt8++23WLx4cb1tXbx4Eenp6eovGxubFt9HIiIiImrbLE0UeKlfB+z/10Csm+SP3h0sUF0jEHo+E7N+iMaAT/fhm4NXUFCm0nSpRNQCtOIUdwBwcHDARx991CpjxcXFYffu3Th+/DgCAgIAAKtWrcKIESPw6aefwsHBod46BQUF2LBhA7Zs2YJBgwYBADZt2gRvb28cPXoUvXv3xp49e3D+/Hns3bsXtra26N69O/7zn//g3//+N95//33o6+urt2djYwNzc/NW2V8iIiIiatv0pBIM7WyHoZ3tcDGjCL+cTMH2E8lIzi3Df/+Mw2eh8Rjpa49pfd3gbW8KiUSi6ZKJ6D5oTYOen5+PqKgoZGVloaamps68yZMnt+hYkZGRMDc3VzfnABAcHAypVIpjx45hzJgx9daJjo6GSqVCcHCwepqXlxdcXFwQGRmJ3r17IzIyEr6+vrC1tVUvM2zYMMyePRvnzp2Dn5+fenr37t1RUVGBLl264P3332/wLvZERERERHfytDPFwhHemBfcCTtjU/Ht4au4mFmkvgN8NyczTH/MDYO9bWHCz1UnalO04hX7xx9/YOLEiSguLoZSqazzjp9EImnxBj0jI6PeKeUymQwWFhaNXguekZEBfX39eke9bW1t1etkZGTUac5r59fOAwB7e3usXbsWAQEBqKiowDfffIMBAwbg2LFj6NGjR4NjV1RUoKKiQv24sLAQAKBSqaBStd7pTLVjteaY1PKYo25gjm0fM9QNzLHta8sZyiTAM372GNfdDsev5WHT4WuIuHwdp1IKMHdbLIz09TC6uz3GdHdANycznT6q3pZzpFt0IccHrV0rGvQFCxZg+vTp+Oijj2BkZHTf23n77bexfPnyJpeJi4u77+23BE9PT3h6eqof9+nTBwkJCVixYgV++OGHBtdZtmwZli5dWm/6nj17Huj5ul+hoaGtPia1POaoG5hj28cMdQNzbPt0IcNR7YD+3YCDGVLEXJcgu7waW6JSsCUqBTYGAgHWNehuKWBjAOhqr64LOVLbzrG0tPSB1teKBj01NRWvv/76AzebCxYswNSpU5tcpkOHDrCzs0NWVlad6VVVVcjNzYWdnV2D69nZ2aGyshL5+fl1jqJnZmaq17Gzs0NUVFSd9Wrv8t7YdgEgMDAQhw4danT+woULMX/+fPXjwsJCODs7Y+jQoVAqlY2u19JUKhVCQ0MxZMgQyOXyVhuXWhZz1A3Mse1jhrqBObZ9upjhcwCEEDickItfY9KwJy4TWeU1+CtZD38lA952pngh0BlPdrXTmVPgdTHHR5Eu5Fh7tvP90opX5LBhw3DixAl06NDhgbZjbW0Na2vruy4XFBSE/Px8REdHw9/fHwAQHh6Ompoa9OrVq8F1/P39IZfLERYWhnHjxgG4cSf2pKQkBAUFqbf74YcfIisrS30KfWhoKJRKJXx8fBqtJzY2Fvb29o3OVygUUCgU9abL5XKN/OBqalxqWcxRNzDHto8Z6gbm2PbpYoYDve0w0NsOxRVV+OtMOn6PTcOxxOuIyyjCe7+fx8d74jG9rxum9XWFuZH+3TfYBuhijo+itpzjg9atFQ36yJEj8eabb+L8+fPw9fWtt1NPPfVUi47n7e2N4cOHY+bMmVi7di1UKhVCQkLw3HPPqe/gnpqaisGDB+P7779HYGAgzMzMMGPGDMyfPx8WFhZQKpV47bXXEBQUhN69ewMAhg4dCh8fH0yaNAkff/wxMjIysGjRIsyZM0fdYH/++edwc3ND586dUV5ejm+++Qbh4eHYs2dPi+4jEREREREAmChkGB/gjPEBzrheXIGtUUn4JSYVV7JL8EXYJWw4lIhgbxsEuFqgdwcLdLQ20enr1Ym0mVY06DNnzgQAfPDBB/XmSSQSVFdXt/iYmzdvRkhICAYPHgypVIpx48Zh5cqV6vkqlQoXL16scw3BihUr1MtWVFRg2LBhWLNmjXq+np4edu3ahdmzZyMoKAjGxsaYMmVKnf2qrKzEggULkJqaCiMjI3Tt2hV79+7FwIEDW3wfiYiIiIhuZ2miQMggD7w6wB1/nE7DV/sTcCGjCDtj07AzNg0A4GhuiH4eVhjha4++7lbQk7JZJ2otWtGg3/mxaq3BwsICW7ZsaXS+q6srhBB1phkYGGD16tVYvXp1o+u1b98ef/31V6Pz33rrLbz11lv3XjARERERUQuRSiV4ursjRnV1QOSV6ziWmIuoxOs4mZSP1PwybDuejG3Hk2FjqsDwLnYY6GWDoA6WMJDrabp0Ip2mFQ06ERERERG1PqlUgr7uVujrbgUAKKusxtEr1xF2IRO7Tqcjq6gC30dew/eR16Avk6J/J2uM6+GEgV7WUMjYrBO1NK1p0EtKSnDgwAEkJSWhsrKyzrzXX39dQ1URERERET06DPX1MNDLBgO9bLD4yc6IiM9G+MUs7LuQhfSCcoSez0To+UxYmyrwfKALnvV3grNF63/sL5Gu0ooGPSYmBiNGjEBpaSlKSkpgYWGBnJwcGBkZwcbGhg06EREREVEr05dJEexji2AfWwghEJ9ZjJ9PpmBnTCqyiiqwMuwSVoVfQj8Pazzf0xmDvW2hL5NqumyiNk0rXkFvvPEGRo0ahby8PBgaGuLo0aO4du0a/P398emnn2q6PCIiIiKiR5pEIoGnnSneGeGNQ/8ehC+e646+7pYQAoiIz8bszSfR539hWPZXHBKyizVdLlGbpRVH0GNjY/H1119DKpVCT08PFRUV6NChAz7++GNMmTIFY8eO1XSJRERERESEG0fWn+7uiKe7O+La9RL8eCIZO06kIKuoAl9HXMHXEVcQ6GaB53o644ku9jDU57XqRM2lFQ26XC6HVHrjYL6NjQ2SkpLg7e0NMzMzJCcna7g6IiIiIiJqSHtLY7w5zAtvBHfCvovZ2BaVhH0XsxCVmIuoxFy8/csZdHc2R0/XdujrboVAVwvI9LTiJF4iraQVDbqfnx+OHz8ODw8P9O/fH4sXL0ZOTg5++OEHdOnSRdPlERERERFRE2R6UgzxscUQH1tkFJRjx4lk/BidjOTcMnWzvnpfAhzNDTHjMTeM9nOEhbG+pssm0jpa0aB/9NFHKCoqAgB8+OGHmDx5MmbPng0PDw9s3LhRw9UREREREVFz2ZkZ4LXBHggZ5I7EnBIcv5qLY4m5CL+QhdT8Mnyw6zyW/R2HYG9bjA9wRj8PKx5VJ7pJKxr0gIAA9fc2NjbYvXu3BqshIiIiIqIHJZFI0MHaBB2sTTChpwvKVdX48UQyfjyRjLOphfj7bAb+PpsBa1MFhne2wwhfewS6WUBPKtF06UQaoxUN+pIlSzB9+nS0b99e06UQEREREdFDYCDXw+QgV0wOcsX5tELsiE7GzphUZBdV4Iej1/DD0WuwVSow2s8RY/2c0MnWBBIJm3V6tGjFuSS//fYbOnbsiMGDB2PLli2oqKjQdElERERERPSQ+DgosWRUZxx7JxibpvXEM/5OMDOUI7OwAl8fuIJhn0dg9Joj+PF4MoorqjRdLlGr0YoGPTY2FsePH0fnzp0xd+5c2NnZYfbs2Th+/LimSyMiIiIioodEXybFQE8bfPpsN0S9OxhrX/THEB9b6OtJcSo5H2/9fBqBH+7Fv3acQlRiLoQQmi6Z6KHSigYduHEn95UrVyItLQ0bNmxASkoK+vbti65du+KLL75AQUGBpkskIiIiIqKHRCHTw/Audlg/OQCH3x6Efw/3QgcrY5RWVuOn6BSM/zoSQ1dEYGXYJSTnlmq6XKKHQmsa9FpCCKhUKlRWVkIIgXbt2uHLL7+Es7Mztm/frunyiIiIiIjoIbM2VWD2gI4IW9AfP70ShGf9naAvk+JSVjE+C41Hv4/3YfzaSPwak4LKqhpNl0vUYrTiJnEAEB0djU2bNmHr1q1QKBSYPHkyVq9eDXd3dwDAqlWr8Prrr2PChAkarpSIiIiIiFqDRCJBgKsFAlwt8O8nvHDgYjZ+iUnBkYTriLqai6irufjorwsY5WuHdsWarpbowWlFg+7r64sLFy5g6NCh2LBhA0aNGgU9Pb06yzz//POYO3euhiokIiIiIiJNsjJRYJy/E8b5OyG9oAw7TqTg/45eQ1ZRBTYeuQZAhtC8oxjj54SRXe1hY2qg6ZKJ7plWNOjjx4/H9OnT4ejo2OgyVlZWqKnh6StERERERI86ezNDvD7YA6/074iwuEz8FpuKf85l4HRKIU6nnMcHu85joKcNnuhih2Fd7KA0kGu6ZKJm0YoG/b333lN/X3tnRn7mIRERERERNUVfJsUTvvYI9rLCtp2pqLDtjD/OZOJUcj7CL2Qh/EIW3t15FsM622FWvw7wdTLTdMlETdKam8R9//338PX1haGhIQwNDdG1a1f88MMPmi6LiIiIiIjaAKU+MCWoPX6b0xd75z+ON4I7wd3GBJVVNfjjVBpGfXkIM749zo9rI62mFUfQP/vsM7z33nsICQlB3759AQCHDh3CK6+8gpycHLzxxhsarpCIiIiIiNoKdxtTzA02xeuD3XE2tRAbDyfit9hUhF3IQtiFLPi5mGNir/Z4sqs9DOR6d98gUSvRigZ91apV+OqrrzB58mT1tKeeegqdO3fG+++/zwadiIiIiIjumUQiga+TGVZM6I7XBrlj/cFE/HwyBTFJ+YhJyseyv+LwZFd7TApqD3cbU02XS6QdDXp6ejr69OlTb3qfPn2Qnp6ugYqIiIiIiEiXdLA2wbKxvnhjiAe2RyVja1QS0grK8V3kNXwXeQ3e9ko80cUOg71t0NmB16qTZmjFNeju7u748ccf603fvn07PDw8NFARERERERHpIhtTA7w22AP73xyIjVMDMMjLBnI9CeLSC/FZaDxGrjyEYSsisP14EvJKKjVdLj1itOII+tKlSzFhwgRERESor0E/fPgwwsLCGmzciYiIiIiIHoS+TIpBXrYY5GWL/NJK/HUmAwfis7DvQjYuZhbh3z+fwaKdZzHUxw5T+riip2s7ftIUPXRa0aCPGzcOx44dw4oVK7Bz504AgLe3N6KiouDn56fZ4oiIiIiISKeZG+njhV4ueKGXC/JLK7H5WBJ2nU5HXHoh/jyTjj/PpKO9pRHG+jlhbA9HOFsYabpk0lFa0aADgL+/P/7v//5P02UQEREREdEjzNxIH3MGumPOQHfEpRfi28NXset0Gq5dL8WKvfFYsTcevo5mmNrHFU91d4BcTyuuGiYdoRUNelJSUpPzXVxcWqkSIiIiIiKiG7ztlVj+TFcsecoHu89m4OeTKYhMuI4zqQVYsOMU1h+8gn8N9cRALxvoSXn6Oz04rWjQXV1dm7yeo7q6uhWrISIiIiIiusVIX4axPZwwtocTrhdXYNvxZHxz8AouZBThpe9PwNxIjjF+jhje2Q6Bbha8Vp3um1Y06DExMXUeq1QqxMTE4LPPPsOHH36ooaqIiIiIiIjqsjRRYM5Ad7wQ6IK1EQnYfDQJ+aUqbDp8FZsOX4W3vRJPdrXHhJ7OsDJRaLpcamO0okHv1q1bvWkBAQFwcHDAJ598grFjx2qgKiIiIiIiooa1M9bHwie8sWCIJyLis/HX2XT1jeXi0gvxRdglPOPvhKe7OaBH+3a8Vp2aRSsa9MZ4enri+PHjmi6DiIiIiIioQfoyKYJ9bBHsY4vFT964Vn3r8WScSs7HlmNJ2HIsCbZKBWb264AXernASF+rWzDSMK346SgsLKzzWAiB9PR0vP/++/Dw8NBQVURERERERM1nbqSP5wJdMKGnM45eycW240mIiM9GZmEF/vtnHDYeSsRbw73wVDcHSHlTOWqAVjTo5ubm9W6kIISAs7Mztm3bpqGqiIiIiIiI7p1EIkFQR0sEdbREuaoam48lYcPBK0grKMe87bHYcCgRIYPcMcDTGgqZnqbLJS2iFQ16eHh4nQZdKpXC2toa7u7ukMm0okQiIiIiIqJ7ZiDXw4zH3DCxlws2HErEV/sTcCa1AC//EA1TAxnG9XDCK/07ws7MQNOlkhbQiu7X19cXlpaWAIDk5GSsX78eZWVleOqpp9CvXz8NV0dERERERPRgDOR6mDPQHRN6OmPt/gT8cToNmYUV+PbIVWw5loQRvnZ4ursj+rpbQV/GG8o9qjSa/JkzZ+Dq6gobGxt4eXkhNjYWPXv2xIoVK7Bu3ToMHDgQO3fu1GSJRERERERELcbKRIFFT/rgyNuD8f30QAS6WaCyugY7Y9Mw7dvj6PO/MHy1PwEFZSpNl0oaoNEG/a233oKvry8iIiIwYMAAPPnkkxg5ciQKCgqQl5eHl19+Gf/73/80WSIREREREVGL05NK8Hgna/z4chB2zumLqX1cYWWiQE5xJZbvvoDAD/fif39fQF5JpaZLpVak0VPcjx8/jvDwcHTt2hXdunXDunXr8Oqrr0IqvfG+wWuvvYbevXtrskQiIiIiIqKHqruzObo7m+Pdkd74PTYN6yKu4GJmEdYeSMDmo9cwta8rJgW1h40pr1PXdRo9gp6bmws7OzsAgImJCYyNjdGuXTv1/Hbt2qGoqEhT5REREREREbUauZ4U4/ydsHteP6yfHABveyWKKqqwKvwy+n+8Hx/8cR5Xsos1XSY9RBq/+8CdH69252MiIiIiIqJHiUQiwRAfW/z52mNYM7EHujmbo0xVjY2HExH82QHM3x6L+EweyNRFGr+L+9SpU6FQKAAA5eXleOWVV2BsbAwAqKio0GRpREREREREGiOVSjDC1x5PdLHD/vhsfH/kKvZdzMYvMan4JSYVY3s4YsmozjAzlGu6VGohGj2CPmXKFNjY2MDMzAxmZmZ48cUX4eDgoH5sY2ODyZMnP5Sxc3NzMXHiRCiVSpibm2PGjBkoLm76dJHy8nLMmTMHlpaWMDExwbhx45CZmVlnmddffx3+/v5QKBTo3r17g9s5ffo0+vXrBwMDAzg7O+Pjjz9uqd0iIiIiIiIdI5FIMNDTBpumBeKPkMcwvPONy4R/OZmKxz/eh9X7LqOiqlrDVVJL0OgR9E2bNmls7IkTJyI9PR2hoaFQqVSYNm0aZs2ahS1btjS6zhtvvIE///wTO3bsgJmZGUJCQjB27FgcPny4znLTp0/HsWPHcPr06XrbKCwsxNChQxEcHIy1a9fizJkzmD59OszNzTFr1qwW308iIiIiItIdvk5mWDvJH5EJ17H4t7O4lFWMT/65iL/OpOO9J33Qu4OlpkukB6DxU9w1IS4uDrt378bx48cREBAAAFi1ahVGjBiBTz/9FA4ODvXWKSgowIYNG7BlyxYMGjQIwI03GLy9vXH06FH13eZXrlwJAMjOzm6wQd+8eTMqKyuxceNG6Ovro3PnzoiNjcVnn33GBp2IiIiIiJolqKMlds97HD9Hp+Cjv+NwLq0Qz607il5uFnixd3s82dWe9/dqgx7JBj0yMhLm5ubq5hwAgoODIZVKcezYMYwZM6beOtHR0VCpVAgODlZP8/LygouLCyIjI5v9cXCRkZF4/PHHoa+vr542bNgwLF++HHl5eXXuYl+roqKizvX4hYWFAACVSgWVStWscVtC7VitOSa1POaoG5hj28cMdQNzbPuYoW54lHMc090OvVzNsDYiETuiU3EsMRfHEnOxet9lzHzMFU/62kEqbRuNui7k+KC1P5INekZGBmxsbOpMk8lksLCwQEZGRqPr6Ovrw9zcvM50W1vbRtdpbDtubm71tlE7r6EGfdmyZVi6dGm96Xv27IGRkVGzx24poaGhrT4mtTzmqBuYY9vHDHUDc2z7mKFueJRz7C0DPLoBx7KkCE+X4EJGERb8dAb/23UaA+xr0NNaQKGn6Sqbpy3nWFpa+kDr61SD/vbbb2P58uVNLhMXF9dK1bSchQsXYv78+erHhYWFcHZ2xtChQ6FUKlutDpVKhdDQUAwZMgRyOe8U2VYxR93AHNs+ZqgbmGPbxwx1A3O8ZRKAvNJKbIlKwcbDV5FdXoUdiXrYkyHDK493wIu9nGEg185OXRdyrD3b+X7pVIO+YMECTJ06tcllOnToADs7O2RlZdWZXlVVhdzcXNjZ2TW4np2dHSorK5Gfn1/nKHpmZmaj6zS2nTvv/F77uLHtKBQK9UfR3U4ul2vkB1dT41LLYo66gTm2fcxQNzDHto8Z6gbmeIONmRzzhnhi5uMdseNEMjYduYpr10ux/J94bDpyDVP6uOL5QBdYGOvffWMa0JZzfNC6dapBt7a2hrW19V2XCwoKQn5+PqKjo+Hv7w8ACA8PR01NDXr16tXgOv7+/pDL5QgLC8O4ceMAABcvXkRSUhKCgoKaXWNQUBDeffddqFQqdXihoaHw9PRs8PR2IiIiIiKi+2GskGFqXzdMCnLFT9HJWBl2Gan5Zfjkn4tYGXYJz/V0xsv9O8LB3FDTpdJNGv0cdE3x9vbG8OHDMXPmTERFReHw4cMICQnBc889p76De2pqKry8vBAVFQUAMDMzw4wZMzB//nzs27cP0dHRmDZtGoKCgurcIO7y5cuIjY1FRkYGysrKEBsbi9jYWFRWVgIAXnjhBejr62PGjBk4d+4ctm/fji+++KLOKexEREREREQtRU8qwYSeLtj3rwH4bHw3dHZQoqKqBt9FXsNjy8Mx/8dYXLteoukyCTp2BP1ebN68GSEhIRg8eDCkUinGjRun/og04Mb1DxcvXqxzkf+KFSvUy1ZUVGDYsGFYs2ZNne2+9NJLOHDggPqxn58fACAxMRGurq4wMzPDnj17MGfOHPj7+8PKygqLFy/mR6wREREREdFDpS+TYmwPJ4zxc8SRhOtYFX4JR6/k4peTqdgZk4qRXR3wRrAHOlibaLrUR9Yj26BbWFhgy5Ytjc53dXWFEKLONAMDA6xevRqrV69udL39+/ffdeyuXbvi4MGDza6ViIiIiIiopUgkEvR1t0JfdytEJeZizf7L2H8xG3+cSsMfp9IwPsAJbw7zgrVp/ftg0cP1yDboREREREREj7pANwsEugXiXFoBPtsTj7ALWfjxRAp2xqZhXA9HzBnoDqd2rf/Rzo+qR/IadCIiIiIiIrqls4MZNkztia0ze8PPxRyVVTXYGpWMQZ8ewPwfY3HwUna9M4yp5fEIOhEREREREQEAgjpa4tdX+yIqMRefhV5UX6P+y8lUdLI1wbS+bhjj56i1n6Xe1vEIOhEREREREdUR6GaBbbOC8OPLQXixtwuM9fUQn1mMhb+cQdCyMHy+Nx4FpSpNl6lzeASdiIiIiIiIGnTjGnULvDXcCz8eT8amw1eRml+Gz/dewoZDiXiupzNmPt4BNqYGmi5VJ/AIOhERERERETVJaSDHS/06IGxBf6yY0A2etqYoKq/C+oOJ6Ld8Hxb+cgaXs4o1XWabxyPoRERERERE1CwGcj2M8XPCU90cse9CFlbvv4yYpHxsjUrCjyeS8WRXe7z0WAf4OplputQ2iQ06ERERERER3RM9qQTBPrYY7G2Do1dy8XVEAvZfzMZvsWn4LTYN/TysMGegO3q5WUAikWi63DaDDToRERERERHdF4lEgqCOlgjqaImzqQXYcCgRf5xKw8FLOTh4KQc9XMzx+mAP9O9kzUa9GXgNOhERERERET2wLo5mWDGhO8IXDMDEXi7Ql0lxMikfUzcdx5g1RxCZcF3TJWo9NuhERERERETUYlwsjfDhGF8cemsgZjzmBkO5HmKT8/H8+qMYvzYSB+KzNV2i1mKDTkRERERERC3ORmmA9570wYG3BmBS7/aQ60kQdTUXUzZG4ekvD+HvM+morhGaLlOrsEEnIiIiIiKih8bG1AD/Gd0FB98ahOl93SDXk+BUSgFmbz6JfsvDselwIspV1ZouUyuwQSciIiIiIqKHzs7MAItH+SBy4WDMHtARZoZypBWUY+kf5xH44V58uS8Bj/oBdd7FnYiIiIiIiFqNlYkC/x7uhXnBHtgWlYx1EVeQml+GL8ITYGeohwr7VIzxd4ZCpqfpUlsdj6ATERERERFRq1PI9DCljysOvjUQy8f5wtRAhowyCd7+9Rz6Ld+HH45eg6q6RtNltio26ERERERERKQxUqkEE3q6YP/8fnjKpRq2pgpkFVXgvZ1nMfDT/VgRGo/rxRWaLrNVsEEnIiIiIiIijVMayjHYUSB8fj988HRnWBjrIyWvDF+EXUKf/4Vj4S9nEJWYCyF090J1XoNOREREREREWkNfJsXkIFeM7eGEveczselwIk6lFGBrVBK2RiWhu7M53hnhjUA3C02X2uLYoBMREREREZHWMVHIMNrPEU93d8CxxFzsOJGCXafTEJucj6oa3bw2nQ06ERERERERaS2JRILeHSzRu4Ml3hruiT9PpyOog6Wmy3oo2KATERERERFRm2CrNMD0x9w0XcZDw5vEEREREREREWkBNuhEREREREREWoANOhEREREREZEW4DXobVDt5/4VFha26rgqlQqlpaUoLCyEXC5v1bGp5TBH3cAc2z5mqBuYY9vHDHUDc9QNupBjbY92v5/Vzga9DSoqKgIAODs7a7gSIiIiIiIiulNRURHMzMzueT2JuN/WnjSmpqYGaWlpMDU1hUQiabVxCwsL4ezsjOTkZCiVylYbl1oWc9QNzLHtY4a6gTm2fcxQNzBH3aALOQohUFRUBAcHB0il935FOY+gt0FSqRROTk4aG1+pVLbZFwzdwhx1A3Ns+5ihbmCObR8z1A3MUTe09Rzv58h5Ld4kjoiIiIiIiEgLsEEnIiIiIiIi0gJs0KnZFAoFlixZAoVCoelS6AEwR93AHNs+ZqgbmGPbxwx1A3PUDcyRN4kjIiIiIiIi0go8gk5ERERERESkBdigExEREREREWkBNuhEREREREREWoANuhZatmwZevbsCVNTU9jY2GD06NG4ePFinWXKy8sxZ84cWFpawsTEBOPGjUNmZmadZV5//XX4+/tDoVCge/fu9cbZv38/nn76adjb28PY2Bjdu3fH5s2bm1Xj6tWr4erqCgMDA/Tq1QtRUVF15q9btw4DBgyAUqmERCJBfn5+s7ablJSEkSNHwsjICDY2NnjzzTdRVVWlnp+eno4XXngBnTp1glQqxbx585q1XU1gjo3n+Msvv2DIkCGwtraGUqlEUFAQ/vnnn2Ztu7Uxx8ZzPHToEPr27QtLS0sYGhrCy8sLK1asaNa2WxMzbDzD2x0+fBgymazBfdMGzLHxHPfv3w+JRFLvKyMjo1nbby3MsOnXYkVFBd599120b98eCoUCrq6u2LhxY7O235qYY+M5Tp06tcHXYufOnZu1/dbEHJt+PW7evBndunWDkZER7O3tMX36dFy/fr1Z239QbNC10IEDBzBnzhwcPXoUoaGhUKlUGDp0KEpKStTLvPHGG/jjjz+wY8cOHDhwAGlpaRg7dmy9bU2fPh0TJkxocJwjR46ga9eu+Pnnn3H69GlMmzYNkydPxq5du5qsb/v27Zg/fz6WLFmCkydPolu3bhg2bBiysrLUy5SWlmL48OF45513mr3f1dXVGDlyJCorK3HkyBF89913+Pbbb7F48WL1MhUVFbC2tsaiRYvQrVu3Zm9bE5hj4zlGRERgyJAh+OuvvxAdHY2BAwdi1KhRiImJafY4rYU5Np6jsbExQkJCEBERgbi4OCxatAiLFi3CunXrmj1Oa2CGjWdYKz8/H5MnT8bgwYObvf3WxhzvnuPFixeRnp6u/rKxsWn2OK2BGTad4fjx4xEWFoYNGzbg4sWL2Lp1Kzw9PZs9Tmthjo3n+MUXX9R5DSYnJ8PCwgLPPvtss8dpLcyx8RwPHz6MyZMnY8aMGTh37hx27NiBqKgozJw5s9njPBBBWi8rK0sAEAcOHBBCCJGfny/kcrnYsWOHepm4uDgBQERGRtZbf8mSJaJbt27NGmvEiBFi2rRpTS4TGBgo5syZo35cXV0tHBwcxLJly+otu2/fPgFA5OXl3XXsv/76S0ilUpGRkaGe9tVXXwmlUikqKirqLd+/f38xd+7cu25XWzDHhnOs5ePjI5YuXXrX7Wsac2w6xzFjxogXX3zxrtvXJGZYP8MJEyaIRYsW3dO+aRpzvJXjvWxPmzDDWxn+/fffwszMTFy/fr1Z+6NNmGPjfxd//fVXIZFIxNWrV++6fU1jjrdy/OSTT0SHDh3qrLdy5Urh6Oh41+23BB5BbwMKCgoAABYWFgCA6OhoqFQqBAcHq5fx8vKCi4sLIiMjH3is2nEaUllZiejo6DpjS6VSBAcHP/DYkZGR8PX1ha2trXrasGHDUFhYiHPnzj3QtrUBc2w8x5qaGhQVFTVZs7Zgjo3nGBMTgyNHjqB///4PNPbDxgzrZrhp0yZcuXIFS5YseaDxWhtzrP9a7N69O+zt7TFkyBAcPnz4gcZtDczwVoa///47AgIC8PHHH8PR0RGdOnXCv/71L5SVlT3Q2K2BOTb+d3HDhg0IDg5G+/btH2js1sAcb+UYFBSE5ORk/PXXXxBCIDMzEz/99BNGjBjxQGM3Fxt0LVdTU4N58+ahb9++6NKlCwAgIyMD+vr6MDc3r7Osra3tA11v9uOPP+L48eOYNm1ao8vk5OSgurq6zg91S4wN3NivhrZbO68tY45N5/jpp5+iuLgY48ePf6CxHzbm2HCOTk5OUCgUCAgIwJw5c/DSSy890NgPEzOsm+GlS5fw9ttv4//+7/8gk8keaLzWxBzr5mhvb4+1a9fi559/xs8//wxnZ2cMGDAAJ0+efKCxHyZmWDfDK1eu4NChQzh79ix+/fVXfP755/jpp5/w6quvPtDYDxtzbPzfN2lpafj777+1+m9iLeZYN8e+ffti8+bNmDBhAvT19WFnZwczMzOsXr36gcZuLjboWm7OnDk4e/Ystm3b9lDH2bdvH6ZNm4b169erb2Rx8OBBmJiYqL+ae0OH5njiiSfU29XGG2e0NObYuC1btmDp0qX48ccfte56yTsxx4YdPHgQJ06cwNq1a/H5559j69atLVZbS2OGt1RXV+OFF17A0qVL0alTpxarpTUwx7o8PT3x8ssvw9/fH3369MHGjRvRp08frbxpYy1mWFdNTQ0kEgk2b96MwMBAjBgxAp999hm+++47rT6Kzhwb991338Hc3ByjR49usboeFuZY1/nz5zF37lwsXrwY0dHR2L17N65evYpXXnmlxWprStt5u/wRFBISgl27diEiIgJOTk7q6XZ2dqisrER+fn6dd7UyMzNhZ2d3z+McOHAAo0aNwooVKzB58mT19ICAAMTGxqof29raQqFQQE9Pr94dHO917G+++Ub9B0cul6v36867M9aOcz/7pS2YY+M5btu2DS+99BJ27NhR5zQmbcQcG8/Rzc0NAODr64vMzEy8//77eP7555s9fmthhnUzLCoqwokTJxATE4OQkBAAN5oEIQRkMhn27NmDQYMGNX/HWwlzbN7fxsDAQBw6dKjZY7cmZlg/Q3t7ezg6OsLMzEy9jLe3N4QQSElJgYeHR7NraC3MsfHXohACGzduxKRJk6Cvr9/scTWBOdbPcdmyZejbty/efPNNAEDXrl1hbGyMfv364b///S/s7e2bXcN9aZUr3eme1NTUiDlz5ggHBwcRHx9fb37tTRt++ukn9bQLFy7c100b9u3bJ4yNjcWXX37Z7PoCAwNFSEiI+nF1dbVwdHRssZs2ZGZmqqd9/fXXQqlUivLy8nrLa/tN4phj0zlu2bJFGBgYiJ07dza7Zk1gjs17PdZaunSpaN++fbPrbw3MsOEMq6urxZkzZ+p8zZ49W3h6eoozZ86I4uLiZu9Da2CO9/ZaDA4OFmPGjGl2/a2BGTae4ddffy0MDQ1FUVGRepmdO3cKqVQqSktLm70PrYE53v21WLvdM2fONLvu1sYcG89x7NixYvz48XXWO3LkiAAgUlNTm70P94sNuhaaPXu2MDMzE/v37xfp6enqr9t/Qb/yyivCxcVFhIeHixMnToigoCARFBRUZzuXLl0SMTEx4uWXXxadOnUSMTExIiYmRn2HwvDwcGFkZCQWLlxYZ5y73UF027ZtQqFQiG+//VacP39ezJo1S5ibm9e5G2J6erqIiYkR69evFwBERESEiImJaXLbVVVVokuXLmLo0KEiNjZW7N69W1hbW4uFCxfWWa52P/z9/cULL7wgYmJixLlz55r9/LYW5th4jps3bxYymUysXr26Ts35+fn39By3BubYeI5ffvml+P3330V8fLyIj48X33zzjTA1NRXvvvvuPT3HDxszbPp36u20+S7uzLHxHFesWCF27twpLl26JM6cOSPmzp0rpFKp2Lt37z09xw8bM2w8w6KiIuHk5CSeeeYZce7cOXHgwAHh4eEhXnrppXt6jlsDc7z779QXX3xR9OrVq1nPp6Ywx8Zz3LRpk5DJZGLNmjUiISFBHDp0SAQEBIjAwMB7eo7vFxt0LQSgwa9NmzaplykrKxOvvvqqaNeunTAyMhJjxowR6enpdbbTv3//BreTmJgohBBiypQpDc7v37//XWtctWqVcHFxEfr6+iIwMFAcPXq0zvwlS5bcdR8acvXqVfHEE08IQ0NDYWVlJRYsWCBUKtVdnx9tO2InBHNsKsfG9mnKlCl3rbm1McfGc1y5cqXo3LmzMDIyEkqlUvj5+Yk1a9aI6urqu9bcmphh079T7xxHWxt05th4jsuXLxcdO3YUBgYGwsLCQgwYMECEh4fftd7Wxgybfi3GxcWJ4OBgYWhoKJycnMT8+fO17ui5EMzxbjnm5+cLQ0NDsW7durvWqUnMsekcV65cKXx8fIShoaGwt7cXEydOFCkpKXetuSVIhBACRERERERERKRRvIs7ERERERERkRZgg05ERERERESkBdigExEREREREWkBNuhEREREREREWoANOhEREREREZEWYINOREREREREpAXYoBMRERERERFpATboRERERERERFqADToRERE9dFOnTsXo0aM1XQYREZFWk2m6ACIiImrbJBJJk/OXLFmCL774AkKIVqqIiIiobWKDTkRERA8kPT1d/f327duxePFiXLx4UT3NxMQEJiYmmiiNiIioTeEp7kRERPRA7Ozs1F9mZmaQSCR1ppmYmNQ7xX3AgAF47bXXMG/ePLRr1w62trZYv349SkpKMG3aNJiamsLd3R1///13nbHOnj2LJ554AiYmJrC1tcWkSZOQk5PTyntMRET0cLBBJyIiIo347rvvYGVlhaioKLz22muYPXs2nn32WfTp0wcnT57E0KFDMWnSJJSWlgIA8vPzMWjQIPj5+eHEiRPYvXs3MjMzMX78eA3vCRERUctgg05EREQa0a1bNyxatAgeHh5YuHAhDAwMYGVlhZkzZ8LDwwOLFy/G9evXcfr0aQDAl19+CT8/P3z00Ufw8vKCn58fNm7ciH379iE+Pl7De0NERPTgeA06ERERaUTXrl3V3+vp6cHS0hK+vr7qaba2tgCArKwsAMCpU6ewb9++Bq9nT0hIQKdOnR5yxURERA8XG3QiIiLSCLlcXuexRCKpM6327vA1NTUAgOLiYowaNQrLly+vty17e/uHWCkREVHrYINOREREbUKPHj3w888/w9XVFTIZ/wlDRES6h9egExERUZswZ84c5Obm4vnnn8fx48eRkJCAf/75B9OmTUN1dbWmyyMiInpgbNCJiIioTXBwcMDhw4dRXV2NoUOHwtfXF/PmzYO5uTmkUv6ThoiI2j6JEEJouggiIiIiIiKiRx3fbiYiIiIiIiLSAmzQiYiIiIiIiLQAG3QiIiIiIiIiLcAGnYiIiIiIiEgLsEEnIiIiIiIi0gJs0ImIiIiIiIi0ABt0IiIiIiIiIi3ABp2IiIiIiIhIC7BBJyIiIiIiItICbNCJiIiIiIiItAAbdCIiIiIiIiItwAadiIiIiIiISAuwQSciIiIiIiLSAmzQiYiIiIiIiLQAG3QiIiIiIiIiLcAGnYiIiIiIiEgLsEEnIiIiIiIi0gL/HwG+82oQo1yPAAAAAElFTkSuQmCC' width=1000.0/>\n",
       "            </div>\n",
       "        "
      ],
      "text/plain": [
       "Canvas(toolbar=Toolbar(toolitems=[('Home', 'Reset original view', 'home', 'home'), ('Back', 'Back to previous …"
      ]
     },
     "metadata": {},
     "output_type": "display_data"
    }
   ],
   "source": [
    "%matplotlib widget\n",
    "\n",
    "particleID = 0\n",
    "t = tracks['time'][:]\n",
    "t = [datetime.fromtimestamp(i) for i in t]\n",
    "\n",
    "plt.figure(figsize=(10, 6))\n",
    "\n",
    "# Plot density\n",
    "plt.subplot(311)\n",
    "plt.plot(t, tracks['density'][:, particleID])\n",
    "plt.ylabel('Density')\n",
    "plt.title('Particle Properties')\n",
    "plt.grid(True)\n",
    "\n",
    "# Plot radius\n",
    "plt.subplot(312)\n",
    "plt.plot(t, tracks['radius'][:, particleID])\n",
    "plt.ylabel('Radius')\n",
    "plt.grid(True)\n",
    "\n",
    "# Plot buoyancy\n",
    "plt.subplot(313)\n",
    "plt.plot(t, tracks['buoyancy'][:, particleID])\n",
    "plt.xlabel('Time')\n",
    "plt.ylabel('Buoyancy')\n",
    "plt.grid(True)\n",
    "\n",
    "plt.tight_layout()\n",
    "plt.show()\n"
   ]
  },
  {
   "cell_type": "code",
   "execution_count": 34,
   "metadata": {},
   "outputs": [],
   "source": [
    "def plot_path_in_vertical_section(tracks,  particleID =0,title='', ncase= 0, plot_file_name=None,credit=None):\n",
    "\n",
    "    t = tracks['time'] / 24. / 3600.\n",
    "    t = t - t[0]\n",
    "    ax = plt.gca()\n",
    "    ax.plot(t, tracks['status'][:, particleID], label='Status')\n",
    "    ax.plot(t, tracks['tide'][:, particleID], label='Tide, m', color='k', linewidth=.5)\n",
    "    # ax.plot(t, tracks['salinity'][:, particleID], label='Salinity (PSU)', color='orange')\n",
    "    # ax.plot(t, tracks['turbidity'][:, particleID], label='Turbidity (kg/m3)', color='r')\n",
    "    # ax.plot(t, tracks['dryout'][:, particleID], label='Dryout (m)', color='b')\n",
    "\n",
    "    ax.plot(t, -tracks['water_depth'][:, particleID], label='Water depth, m', color='k')\n",
    "\n",
    "    ax.plot(t, tracks['z'][:,particleID],label='Particle z, m', color = 'g')\n",
    "\n",
    "    ax.set(xlabel='Time, days',ylabel='z, m', title=title)\n",
    "    ax.legend()\n",
    "    "
   ]
  },
  {
   "cell_type": "code",
   "execution_count": 35,
   "metadata": {},
   "outputs": [
    {
     "data": {
      "application/vnd.jupyter.widget-view+json": {
       "model_id": "9a72f2349ee64da9b59db1382cf1deb9",
       "version_major": 2,
       "version_minor": 0
      },
      "text/html": [
       "\n",
       "            <div style=\"display: inline-block;\">\n",
       "                <div class=\"jupyter-widgets widget-label\" style=\"text-align: center;\">\n",
       "                    Figure\n",
       "                </div>\n",
       "                <img src='data:image/png;base64,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' width=640.0/>\n",
       "            </div>\n",
       "        "
      ],
      "text/plain": [
       "Canvas(toolbar=Toolbar(toolitems=[('Home', 'Reset original view', 'home', 'home'), ('Back', 'Back to previous …"
      ]
     },
     "metadata": {},
     "output_type": "display_data"
    }
   ],
   "source": [
    "%matplotlib widget\n",
    "plot_path_in_vertical_section(tracks,particleID=0)"
   ]
  },
  {
   "cell_type": "markdown",
   "metadata": {},
   "source": [
    "## Re-examine the hzg data to look at the turbulent kinetic energy and eddy diffusiviy"
   ]
  },
  {
   "cell_type": "code",
   "execution_count": 3,
   "metadata": {},
   "outputs": [
    {
     "name": "stdout",
     "output_type": "stream",
     "text": [
      "time\n",
      "SCHISM_hgrid\n",
      "SCHISM_hgrid_face_nodes\n",
      "SCHISM_hgrid_edge_nodes\n",
      "SCHISM_hgrid_node_x\n",
      "SCHISM_hgrid_node_y\n",
      "node_bottom_index\n",
      "SCHISM_hgrid_face_x\n",
      "SCHISM_hgrid_face_y\n",
      "ele_bottom_index\n",
      "SCHISM_hgrid_edge_x\n",
      "SCHISM_hgrid_edge_y\n",
      "edge_bottom_index\n",
      "depth\n",
      "sigma\n",
      "dry_value_flag\n",
      "coordinate_system_flag\n",
      "minimum_depth\n",
      "sigma_h_c\n",
      "sigma_theta_b\n",
      "sigma_theta_f\n",
      "sigma_maxdepth\n",
      "Cs\n",
      "wetdry_elem\n",
      "zcor\n",
      "elev\n",
      "bottom_stress\n",
      "vertical_velocity\n",
      "temp\n",
      "salt\n",
      "diffusivity\n",
      "TKE\n",
      "hvel\n",
      "ECO_no3\n",
      "ECO_nh4\n",
      "ECO_pho\n",
      "ECO_sil\n",
      "ECO_oxy\n",
      "ECO_fla\n",
      "ECO_dia\n",
      "ECO_bg\n",
      "ECO_bgchl\n",
      "ECO_diachl\n",
      "ECO_flachl\n",
      "ECO_microzoo\n",
      "ECO_mesozoo\n",
      "ECO_det\n",
      "ECO_opa\n",
      "ECO_dom\n",
      "ECO_sed1\n",
      "ECO_sed2\n",
      "ECO_sed3\n",
      "spm_sum_of_all_classes\n",
      "spm_very_fine_silt\n",
      "spm_fine_silt\n",
      "spm_medium_silt\n",
      "spm_coarse_silt\n",
      "spm_very_fine_sand\n"
     ]
    }
   ],
   "source": [
    "path_to_dir = '/scratch/local1/output/22_11_01_depth_losses_v07/22_11_01_depth_losses_v07R01_caseInfo.json'\n",
    "grid = load_grid(path_to_dir)\n",
    "df = nc.Dataset('/scratch/local1/hzg2/schout_1.nc')\n",
    "_ = [print(i) for i in df.variables.keys()]"
   ]
  },
  {
   "cell_type": "code",
   "execution_count": 4,
   "metadata": {},
   "outputs": [
    {
     "data": {
      "text/plain": [
       "(array([1.6837e+04, 4.2460e+03, 2.3200e+03, 1.7480e+03, 1.8290e+03,\n",
       "        1.4910e+03, 1.0560e+03, 7.5400e+02, 7.1400e+02, 5.0200e+02,\n",
       "        3.2800e+02, 2.0900e+02, 1.1700e+02, 6.7000e+01, 4.0000e+01,\n",
       "        3.3000e+01, 1.9000e+01, 1.9000e+01, 1.3000e+01, 9.0000e+00,\n",
       "        1.6000e+01, 1.2000e+01, 8.0000e+00, 3.0000e+00, 4.0000e+00,\n",
       "        7.0000e+00, 3.0000e+00, 4.0000e+00, 1.0000e+00, 1.0000e+00,\n",
       "        0.0000e+00, 1.0000e+00, 2.0000e+00, 1.0000e+00, 1.0000e+00,\n",
       "        1.0000e+00, 1.0000e+00, 2.0000e+00, 2.0000e+00, 1.0000e+00,\n",
       "        1.0000e+00, 1.0000e+00, 1.0000e+00, 0.0000e+00, 1.0000e+00,\n",
       "        0.0000e+00, 1.0000e+00, 2.0000e+00, 2.0000e+00, 1.0000e+00]),\n",
       " array([9.99999905e-07, 1.84296924e-03, 3.68493849e-03, 5.52690773e-03,\n",
       "        7.36887698e-03, 9.21084622e-03, 1.10528155e-02, 1.28947847e-02,\n",
       "        1.47367540e-02, 1.65787232e-02, 1.84206924e-02, 2.02626617e-02,\n",
       "        2.21046309e-02, 2.39466002e-02, 2.57885694e-02, 2.76305387e-02,\n",
       "        2.94725079e-02, 3.13144772e-02, 3.31564464e-02, 3.49984156e-02,\n",
       "        3.68403849e-02, 3.86823541e-02, 4.05243234e-02, 4.23662926e-02,\n",
       "        4.42082619e-02, 4.60502311e-02, 4.78922004e-02, 4.97341696e-02,\n",
       "        5.15761389e-02, 5.34181081e-02, 5.52600773e-02, 5.71020466e-02,\n",
       "        5.89440158e-02, 6.07859851e-02, 6.26279543e-02, 6.44699236e-02,\n",
       "        6.63118928e-02, 6.81538621e-02, 6.99958313e-02, 7.18378005e-02,\n",
       "        7.36797698e-02, 7.55217390e-02, 7.73637083e-02, 7.92056775e-02,\n",
       "        8.10476468e-02, 8.28896160e-02, 8.47315853e-02, 8.65735545e-02,\n",
       "        8.84155237e-02, 9.02574930e-02, 9.20994622e-02]),\n",
       " <BarContainer object of 50 artists>)"
      ]
     },
     "execution_count": 4,
     "metadata": {},
     "output_type": "execute_result"
    },
    {
     "data": {
      "image/png": "[encoded data removed]",
      "text/plain": [
       "<Figure size 432x288 with 1 Axes>"
      ]
     },
     "metadata": {
      "needs_background": "light"
     },
     "output_type": "display_data"
    }
   ],
   "source": [
    "plt.hist(df.variables['diffusivity'][:].mean(axis=(0,2)),bins=50)"
   ]
  },
  {
   "cell_type": "code",
   "execution_count": 5,
   "metadata": {},
   "outputs": [
    {
     "data": {
      "text/plain": [
       "0.007859647143020395"
      ]
     },
     "execution_count": 5,
     "metadata": {},
     "output_type": "execute_result"
    }
   ],
   "source": [
    "df.variables['diffusivity'][:].mean(axis=0).max(axis=1).mean()"
   ]
  },
  {
   "cell_type": "code",
   "execution_count": 6,
   "metadata": {},
   "outputs": [
    {
     "data": {
      "text/plain": [
       "(array([1.8262e+04, 4.1170e+03, 2.4610e+03, 2.4500e+03, 1.6410e+03,\n",
       "        9.6900e+02, 7.9100e+02, 6.1800e+02, 3.8700e+02, 2.4900e+02,\n",
       "        1.4200e+02, 7.3000e+01, 5.3000e+01, 2.8000e+01, 2.9000e+01,\n",
       "        2.3000e+01, 1.4000e+01, 2.7000e+01, 1.1000e+01, 1.8000e+01,\n",
       "        9.0000e+00, 7.0000e+00, 4.0000e+00, 5.0000e+00, 2.0000e+00,\n",
       "        2.0000e+00, 2.0000e+00, 4.0000e+00, 3.0000e+00, 2.0000e+00,\n",
       "        1.0000e+00, 0.0000e+00, 4.0000e+00, 5.0000e+00, 0.0000e+00,\n",
       "        2.0000e+00, 2.0000e+00, 3.0000e+00, 1.0000e+00, 0.0000e+00,\n",
       "        0.0000e+00, 1.0000e+00, 0.0000e+00, 1.0000e+00, 0.0000e+00,\n",
       "        3.0000e+00, 2.0000e+00, 2.0000e+00, 1.0000e+00, 1.0000e+00]),\n",
       " array([1.00000019e-06, 4.25344557e-03, 8.50589113e-03, 1.27583367e-02,\n",
       "        1.70107823e-02, 2.12632278e-02, 2.55156734e-02, 2.97681190e-02,\n",
       "        3.40205645e-02, 3.82730101e-02, 4.25254557e-02, 4.67779012e-02,\n",
       "        5.10303468e-02, 5.52827924e-02, 5.95352379e-02, 6.37876835e-02,\n",
       "        6.80401291e-02, 7.22925746e-02, 7.65450202e-02, 8.07974658e-02,\n",
       "        8.50499113e-02, 8.93023569e-02, 9.35548025e-02, 9.78072480e-02,\n",
       "        1.02059694e-01, 1.06312139e-01, 1.10564585e-01, 1.14817030e-01,\n",
       "        1.19069476e-01, 1.23321921e-01, 1.27574367e-01, 1.31826813e-01,\n",
       "        1.36079258e-01, 1.40331704e-01, 1.44584149e-01, 1.48836595e-01,\n",
       "        1.53089040e-01, 1.57341486e-01, 1.61593932e-01, 1.65846377e-01,\n",
       "        1.70098823e-01, 1.74351268e-01, 1.78603714e-01, 1.82856159e-01,\n",
       "        1.87108605e-01, 1.91361050e-01, 1.95613496e-01, 1.99865942e-01,\n",
       "        2.04118387e-01, 2.08370833e-01, 2.12623278e-01]),\n",
       " <BarContainer object of 50 artists>)"
      ]
     },
     "execution_count": 6,
     "metadata": {},
     "output_type": "execute_result"
    },
    {
     "data": {
      "image/png": "[encoded data removed]",
      "text/plain": [
       "<Figure size 432x288 with 1 Axes>"
      ]
     },
     "metadata": {
      "needs_background": "light"
     },
     "output_type": "display_data"
    }
   ],
   "source": [
    "plt.hist(df.variables['diffusivity'][:].mean(axis=0).max(axis=1),bins=50)"
   ]
  },
  {
   "cell_type": "code",
   "execution_count": 30,
   "metadata": {},
   "outputs": [
    {
     "data": {
      "text/plain": [
       "(32432,)"
      ]
     },
     "execution_count": 30,
     "metadata": {},
     "output_type": "execute_result"
    }
   ],
   "source": []
  },
  {
   "cell_type": "code",
   "execution_count": 33,
   "metadata": {},
   "outputs": [
    {
     "data": {
      "text/plain": [
       "(32432,)"
      ]
     },
     "execution_count": 33,
     "metadata": {},
     "output_type": "execute_result"
    }
   ],
   "source": [
    "depth = df.variables['depth'][:]\n",
    "water_level = df.variables['elev'][:]\n",
    "water_depth = water_level - depth[:]\n",
    "mean_water_depth = water_depth.mean(axis=0)\n",
    "\n",
    "\n",
    "depth_treshold = -10\n",
    "deep_water_nodes =  mean_water_depth < depth_treshold\n",
    "\n",
    "deep_water_nodes.shape"
   ]
  },
  {
   "cell_type": "code",
   "execution_count": 32,
   "metadata": {},
   "outputs": [
    {
     "data": {
      "text/plain": [
       "(24, 32432, 21)"
      ]
     },
     "execution_count": 32,
     "metadata": {},
     "output_type": "execute_result"
    }
   ],
   "source": [
    "diffusiviy = df.variables['diffusivity']\n",
    "diffusiviy.shape"
   ]
  },
  {
   "cell_type": "code",
   "execution_count": 34,
   "metadata": {},
   "outputs": [],
   "source": [
    "# slice diffusivity for only those nodes (axis=1) where depth is below treshold\n",
    "diffusiviy = diffusiviy[:,deep_water_nordes]"
   ]
  },
  {
   "cell_type": "markdown",
   "metadata": {},
   "source": [
    "## Looking at particle sinking velocities"
   ]
  },
  {
   "cell_type": "code",
   "execution_count": 10,
   "metadata": {},
   "outputs": [],
   "source": [
    "particle_classes = {\n",
    "    'very_fine_silt': {\n",
    "        'radius':  6e-6/2, # m\n",
    "        'density': 2650, # kg/m3\n",
    "        'sedimorph sinking time': 0.31e-3 # cm/s\n",
    "    }, \n",
    "    'fine_silt': {\n",
    "        'radius': 12e-6/2,\n",
    "        'density': 2650,\n",
    "        'sedimorph sinking time': 0.11e-2\n",
    "    },\n",
    "    'medium_silt': {\n",
    "        'radius': 24e-6/2,\n",
    "        'density': 2650,\n",
    "        'sedimorph sinking time': 0.51e-2\n",
    "    },\n",
    "    'coarse_silt': {\n",
    "        'radius': 47e-6/2,\n",
    "        'density': 2650,\n",
    "        'sedimorph sinking time': 0.19e-1\n",
    "    },\n",
    "    'very_fine_sand': {\n",
    "        'radius': 94e-6/2,\n",
    "        'density': 2650,\n",
    "        'sedimorph sinking time': 0.07\n",
    "    },\n",
    "    'very_coarse_sand': {\n",
    "        'radius': 1.5e-3/2,\n",
    "        'density': 2650,\n",
    "        'sedimorph sinking time': 20.2\n",
    "    },\n",
    "}"
   ]
  },
  {
   "cell_type": "code",
   "execution_count": 21,
   "metadata": {},
   "outputs": [],
   "source": [
    "# turn the sedimorph sinking time from cm/s to m/s\n",
    "for key, value in particle_classes.items():\n",
    "    value['sedimorph sinking time'] = value['sedimorph sinking time'] / 100"
   ]
  },
  {
   "cell_type": "code",
   "execution_count": 24,
   "metadata": {},
   "outputs": [],
   "source": [
    "def stokes_law(particle_class, viscosity=1e-3):\n",
    "    \"\"\"\n",
    "    Calculate the Stokes settling velocity for a particle class.\n",
    "\n",
    "    Parameters:\n",
    "    particle_class (dict): Contains the radius and density of the particle class.\n",
    "    viscosity (float): The viscosity of the fluid.\n",
    "\n",
    "    Returns:\n",
    "    float: The Stokes settling velocity.\n",
    "    \"\"\"\n",
    "    radius = particle_class['radius']\n",
    "    density = particle_class['density']\n",
    "\n",
    "    # return (2/9) * radius**2 * density * 9.81 / viscosity\n",
    "    return (1/18) * (9.81 * (radius*2)**2 * (density - 1000)) / (viscosity * density)\n",
    "\n"
   ]
  },
  {
   "cell_type": "code",
   "execution_count": 25,
   "metadata": {},
   "outputs": [],
   "source": [
    "for key in particle_classes:\n",
    "    particle_classes[key]['stokes_velocity'] = stokes_law(particle_classes[key])\n"
   ]
  },
  {
   "cell_type": "code",
   "execution_count": 32,
   "metadata": {},
   "outputs": [
    {
     "name": "stdout",
     "output_type": "stream",
     "text": [
      "very_fine_silt        0.00001 mm/s\n",
      "fine_silt             0.00005 mm/s\n",
      "medium_silt           0.00020 mm/s\n",
      "coarse_silt           0.00075 mm/s\n",
      "very_fine_sand        0.00300 mm/s\n",
      "very_coarse_sand      0.76351 mm/s\n"
     ]
    }
   ],
   "source": [
    "# print all stokes velocities with name and units and align the values in mm/s\n",
    "for key in particle_classes:\n",
    "    print(f'{key:18} {particle_classes[key][\"stokes_velocity\"] * 1e3:10.5f} mm/s')"
   ]
  },
  {
   "cell_type": "code",
   "execution_count": 37,
   "metadata": {},
   "outputs": [
    {
     "name": "stdout",
     "output_type": "stream",
     "text": [
      "very_fine_silt      0.0000012 cm/s\n",
      "fine_silt           0.0000049 cm/s\n",
      "medium_silt         0.0000195 cm/s\n",
      "coarse_silt         0.0000750 cm/s\n",
      "very_fine_sand      0.0002998 cm/s\n",
      "very_coarse_sand    0.0763514 cm/s\n"
     ]
    }
   ],
   "source": [
    "# print all stokes velocities with name and units and align the values in cm/s\n",
    "for key in particle_classes:\n",
    "    print(f'{key:18} {particle_classes[key][\"stokes_velocity\"] * 1e2:10.7f} cm/s')"
   ]
  },
  {
   "cell_type": "code",
   "execution_count": 36,
   "metadata": {},
   "outputs": [
    {
     "name": "stdout",
     "output_type": "stream",
     "text": [
      "very_fine_silt     1364305.65 min\n",
      "fine_silt           341076.41 min\n",
      "medium_silt          85269.10 min\n",
      "coarse_silt          22234.04 min\n",
      "very_fine_sand        5558.51 min\n",
      "very_coarse_sand        21.83 min\n"
     ]
    }
   ],
   "source": [
    "# time to sink 1m\n",
    "for key in particle_classes:\n",
    "    print(f'{key:18} {1 / particle_classes[key][\"stokes_velocity\"] / 60:10.2f} min')"
   ]
  },
  {
   "cell_type": "code",
   "execution_count": 29,
   "metadata": {},
   "outputs": [
    {
     "data": {
      "image/png": "[encoded data removed]",
      "text/plain": [
       "<Figure size 720x360 with 1 Axes>"
      ]
     },
     "metadata": {
      "needs_background": "light"
     },
     "output_type": "display_data"
    }
   ],
   "source": [
    "# bar plot with stokes_velocity and sinking time next to each other for each sediment class\n",
    "fig, ax = plt.subplots(figsize=(10, 5))\n",
    "\n",
    "bar_width = 0.35  # width of the bars\n",
    "\n",
    "# Calculate the x positions for the bars\n",
    "x = np.arange(len(particle_classes))\n",
    "\n",
    "# Plot the bars for sinking time\n",
    "ax.bar(x - bar_width/2, [particle_classes[key]['sedimorph sinking time'] for key in particle_classes], width=bar_width, label='Sedimorph Sinking time')\n",
    "\n",
    "# Plot the bars for Stokes velocity\n",
    "ax.bar(x + bar_width/2, [particle_classes[key]['stokes_velocity'] for key in particle_classes], width=bar_width, label='Stokes velocity')\n",
    "\n",
    "# logscale\n",
    "ax.set_yscale('log')\n",
    "ax.set(xlabel='Velocity, m/s')\n",
    "\n",
    "# Set the x-axis tick labels\n",
    "ax.set_xticks(x)\n",
    "ax.set_xticklabels(list(particle_classes.keys()))\n",
    "\n",
    "# Add a legend\n",
    "ax.legend()\n",
    "\n",
    "# Adjust the layout\n",
    "fig.tight_layout()\n"
   ]
  },
  {
   "cell_type": "markdown",
   "metadata": {},
   "source": [
    "## Looking into the collision rates based on Burds paper"
   ]
  },
  {
   "cell_type": "code",
   "execution_count": 41,
   "metadata": {},
   "outputs": [],
   "source": [
    "test_partile = {'radius': 1e-4, 'density': 1000}"
   ]
  },
  {
   "cell_type": "code",
   "execution_count": 53,
   "metadata": {},
   "outputs": [],
   "source": [
    "particle_classes = {\n",
    "    'very_fine_silt': {\n",
    "        'radius':  6e-6/2, # m\n",
    "        'density': 2650, # kg/m3\n",
    "        'sedimorph sinking time': 0.31e-3 # cm/s\n",
    "    }, \n",
    "    'fine_silt': {\n",
    "        'radius': 12e-6/2,\n",
    "        'density': 2650,\n",
    "        'sedimorph sinking time': 0.11e-2\n",
    "    },\n",
    "    'medium_silt': {\n",
    "        'radius': 24e-6/2,\n",
    "        'density': 2650,\n",
    "        'sedimorph sinking time': 0.51e-2\n",
    "    },\n",
    "    'coarse_silt': {\n",
    "        'radius': 47e-6/2,\n",
    "        'density': 2650,\n",
    "        'sedimorph sinking time': 0.19e-1\n",
    "    },\n",
    "    'very_fine_sand': {\n",
    "        'radius': 94e-6/2,\n",
    "        'density': 2650,\n",
    "        'sedimorph sinking time': 0.07\n",
    "    },\n",
    "    'very_coarse_sand': {\n",
    "        'radius': 1.5e-3/2,\n",
    "        'density': 2650,\n",
    "        'sedimorph sinking time': 20.2\n",
    "    },\n",
    "}"
   ]
  },
  {
   "cell_type": "code",
   "execution_count": 54,
   "metadata": {},
   "outputs": [],
   "source": [
    "df = nc.Dataset('/scratch/local1/hzg2/schout_1.nc')\n",
    "particle_class = 'very_fine_silt'\n",
    "kg_per_liter = df.variables[f'spm_{particle_class}'][:].mean()\n",
    "kg_per_m3 = kg_per_liter * 1000"
   ]
  },
  {
   "cell_type": "code",
   "execution_count": 55,
   "metadata": {},
   "outputs": [],
   "source": [
    "def calc_burd_collision_kernel(radius_i, radius_j, shear_gradient = 0.1):\n",
    "    \"\"\"\n",
    "    Calculate the collision kernel based on Adrians Burd model.\n",
    "\n",
    "    Parameters:\n",
    "    radius_i (float): The radius of particle i.\n",
    "    radius_j (float): The radius of particle j.\n",
    "    shear_gradient (float): The shear gradient of the fluid.\n",
    "\n",
    "    Returns:\n",
    "    float: The collision kernel.\n",
    "    \"\"\"\n",
    "    \n",
    "    return (4/3) * shear_gradient * (radius_i + radius_j)**3"
   ]
  },
  {
   "cell_type": "code",
   "execution_count": 56,
   "metadata": {},
   "outputs": [],
   "source": [
    "def calc_burd_collision_rate(dust_kg_per_m3, test_particle = {'radius': 1e-3, 'density': 1000}, particle_class = 'very_fine_silt', shear_gradient = 0.1):\n",
    "    \"\"\"\n",
    "    Calculate the collision rate based on Adrians Burd model.\n",
    "\n",
    "    Parameters:\n",
    "    dust_concentration (float): The dust concentration in kg/m3.\n",
    "    test_particle (dict): Contains the radius and density of the test particle.\n",
    "    particle_class (str): The particle class of the dust.\n",
    "    shear_gradient (float): The shear gradient of the fluid.\n",
    "\n",
    "    Returns:\n",
    "    float: The collision rate.\n",
    "    \"\"\"\n",
    "    \n",
    "    # Calculate the number of dust particles per m3\n",
    "    kg_per_m3 = dust_kg_per_m3\n",
    "    particles_per_m3 = kg_per_m3 / (particle_classes[particle_class]['density'] * 4/3 * np.pi * particle_classes['very_fine_silt']['radius']**3)\n",
    "\n",
    "    # Calculate the collision kernel\n",
    "    radius_i = particle_classes[particle_class]['radius']\n",
    "    radius_j = test_particle['radius']\n",
    "    collision_kernel = calc_burd_collision_kernel(radius_i, radius_j, shear_gradient)\n",
    "\n",
    "    print(f'Collision kernel: {collision_kernel:.2e}')\n",
    "    print(f'Particles per m3: {particles_per_m3:.2e}')\n",
    "\n",
    "    # Calculate the collision rate\n",
    "    collision_rate = 1/2 * particles_per_m3 * collision_kernel\n",
    "\n",
    "    return collision_rate"
   ]
  },
  {
   "cell_type": "code",
   "execution_count": 57,
   "metadata": {},
   "outputs": [
    {
     "data": {
      "text/plain": [
       "1.4569693333333336e-13"
      ]
     },
     "execution_count": 57,
     "metadata": {},
     "output_type": "execute_result"
    }
   ],
   "source": [
    "calc_burd_collision_kernel(test_partile['radius'], particle_classes['very_fine_silt']['radius'], shear_gradient = 0.1)"
   ]
  },
  {
   "cell_type": "code",
   "execution_count": 62,
   "metadata": {},
   "outputs": [
    {
     "name": "stdout",
     "output_type": "stream",
     "text": [
      "Collision kernel: 1.46e-13\n",
      "Particles per m3: 1.42e+13\n",
      "Collision rate: 1.04 1/s\n"
     ]
    }
   ],
   "source": [
    "burd_collision_rate = calc_burd_collision_rate(kg_per_m3, test_partile, shear_gradient = 0.1)\n",
    "\n",
    "# in 1/s\n",
    "print(f'Collision rate: {burd_collision_rate:.2f} 1/s')"
   ]
  },
  {
   "cell_type": "code",
   "execution_count": null,
   "metadata": {},
   "outputs": [],
   "source": []
  },
  {
   "cell_type": "code",
   "execution_count": 68,
   "metadata": {},
   "outputs": [],
   "source": [
    "# local_spm_concentration = part_prop[self.params['spm_field']].data[active]\n",
    "# # there is currently a \"bug\" in the input that makes the concentration of the SPM field\n",
    "# # to be negative sometimes.\n",
    "# # temporary fix: set negative values to 0\n",
    "# local_spm_concentration[local_spm_concentration < 0] = 0\n",
    "\n",
    "# particle_per_liter = local_spm_concentration * self.info['particles_per_kg']\n",
    "# # make particles_per_liter\n",
    "# particle_per_m3 = particle_per_liter * 1000\n",
    "# cross_section =  np.pi * (self.params['spm_radius'] + part_prop['radius'].data[active])**2\n",
    "# avg_velocity = self.info['average_relative_velocity']\n",
    "\n",
    "# collision_frequency = particle_per_m3 * cross_section * avg_velocity\n",
    "# sicking_frequency = collision_frequency * self.params['stickyness']\n",
    "# avg_coagulations = collision_frequency*self.params['stickyness']*self.shared_info.solver_info['model_time_step']\n",
    "\n",
    "def collision_rate_current_implementation(kg_per_m3, test_partile = {'radius': 1e-3, 'density': 1000}, particle_class = 'very_fine_silt'):\n",
    "        \n",
    "    cross_section = np.pi * (test_partile['radius'] + particle_classes['very_fine_silt']['radius'])**2\n",
    "    average_relative_velocity = 0.1\n",
    "\n",
    "    particles_per_m3 = kg_per_m3 / (particle_classes[particle_class]['density'] * 4/3 * np.pi * particle_classes['very_fine_silt']['radius']**3)\n",
    "\n",
    "    collision_kernel = cross_section * average_relative_velocity\n",
    "    collision_frequency = 1/2 * particles_per_m3 * collision_kernel\n",
    "\n",
    "    print(f'Collision kernel: {collision_kernel:.2e}')\n",
    "    print(f'Collision frequency: {collision_frequency:.2e}')\n",
    "\n",
    "    return collision_frequency\n"
   ]
  },
  {
   "cell_type": "code",
   "execution_count": 67,
   "metadata": {},
   "outputs": [
    {
     "data": {
      "text/plain": [
       "4.260803572833538"
      ]
     },
     "execution_count": 67,
     "metadata": {},
     "output_type": "execute_result"
    }
   ],
   "source": [
    "kg_per_m3"
   ]
  },
  {
   "cell_type": "code",
   "execution_count": 69,
   "metadata": {},
   "outputs": [
    {
     "name": "stdout",
     "output_type": "stream",
     "text": [
      "Collision kernel: 3.33e-09\n",
      "Collision frequency: 2.37e+04\n"
     ]
    },
    {
     "data": {
      "text/plain": [
       "23691.229090246863"
      ]
     },
     "execution_count": 69,
     "metadata": {},
     "output_type": "execute_result"
    }
   ],
   "source": [
    "collision_rate_current_implementation(kg_per_m3, test_partile, particle_class = 'very_fine_silt')"
   ]
  },
  {
   "cell_type": "markdown",
   "metadata": {},
   "source": [
    "### test scaling of both methods"
   ]
  },
  {
   "cell_type": "code",
   "execution_count": null,
   "metadata": {},
   "outputs": [],
   "source": [
    "# burd in latex\n"
   ]
  },
  {
   "cell_type": "code",
   "execution_count": 70,
   "metadata": {},
   "outputs": [
    {
     "data": {
      "text/plain": [
       "4.260803572833538"
      ]
     },
     "execution_count": 70,
     "metadata": {},
     "output_type": "execute_result"
    }
   ],
   "source": [
    "kg_per_m3"
   ]
  },
  {
   "cell_type": "code",
   "execution_count": 89,
   "metadata": {},
   "outputs": [
    {
     "name": "stdout",
     "output_type": "stream",
     "text": [
      "Collision kernel: 3.80e-07\n",
      "Collision frequency: 1.71e-03\n",
      "Collision kernel: 3.80e-07\n",
      "Collision frequency: 3.42e-03\n",
      "Collision kernel: 3.80e-07\n",
      "Collision frequency: 5.14e-03\n",
      "Collision kernel: 3.80e-07\n",
      "Collision frequency: 6.85e-03\n",
      "Collision kernel: 3.80e-07\n",
      "Collision frequency: 8.56e-03\n",
      "Collision kernel: 3.80e-07\n",
      "Collision frequency: 1.03e-02\n",
      "Collision kernel: 3.80e-07\n",
      "Collision frequency: 1.20e-02\n",
      "Collision kernel: 3.80e-07\n",
      "Collision frequency: 1.37e-02\n",
      "Collision kernel: 3.80e-07\n",
      "Collision frequency: 1.54e-02\n",
      "Collision kernel: 3.80e-07\n",
      "Collision frequency: 1.71e-02\n",
      "Collision kernel: 3.80e-07\n",
      "Collision frequency: 1.88e-02\n",
      "Collision kernel: 3.80e-07\n",
      "Collision frequency: 2.05e-02\n",
      "Collision kernel: 3.80e-07\n",
      "Collision frequency: 2.23e-02\n",
      "Collision kernel: 3.80e-07\n",
      "Collision frequency: 2.40e-02\n",
      "Collision kernel: 3.80e-07\n",
      "Collision frequency: 2.57e-02\n",
      "Collision kernel: 3.80e-07\n",
      "Collision frequency: 2.74e-02\n",
      "Collision kernel: 3.80e-07\n",
      "Collision frequency: 2.91e-02\n",
      "Collision kernel: 3.80e-07\n",
      "Collision frequency: 3.08e-02\n",
      "Collision kernel: 3.80e-07\n",
      "Collision frequency: 3.25e-02\n",
      "Collision kernel: 3.80e-07\n",
      "Collision frequency: 3.42e-02\n",
      "Collision kernel: 3.80e-07\n",
      "Collision frequency: 3.60e-02\n",
      "Collision kernel: 3.80e-07\n",
      "Collision frequency: 3.77e-02\n",
      "Collision kernel: 3.80e-07\n",
      "Collision frequency: 3.94e-02\n",
      "Collision kernel: 3.80e-07\n",
      "Collision frequency: 4.11e-02\n",
      "Collision kernel: 3.80e-07\n",
      "Collision frequency: 4.28e-02\n",
      "Collision kernel: 3.80e-07\n",
      "Collision frequency: 4.45e-02\n",
      "Collision kernel: 3.80e-07\n",
      "Collision frequency: 4.62e-02\n",
      "Collision kernel: 3.80e-07\n",
      "Collision frequency: 4.79e-02\n",
      "Collision kernel: 3.80e-07\n",
      "Collision frequency: 4.97e-02\n",
      "Collision kernel: 3.80e-07\n",
      "Collision frequency: 5.14e-02\n",
      "Collision kernel: 3.80e-07\n",
      "Collision frequency: 5.31e-02\n",
      "Collision kernel: 3.80e-07\n",
      "Collision frequency: 5.48e-02\n",
      "Collision kernel: 3.80e-07\n",
      "Collision frequency: 5.65e-02\n",
      "Collision kernel: 3.80e-07\n",
      "Collision frequency: 5.82e-02\n",
      "Collision kernel: 3.80e-07\n",
      "Collision frequency: 5.99e-02\n",
      "Collision kernel: 3.80e-07\n",
      "Collision frequency: 6.16e-02\n",
      "Collision kernel: 3.80e-07\n",
      "Collision frequency: 6.34e-02\n",
      "Collision kernel: 3.80e-07\n",
      "Collision frequency: 6.51e-02\n",
      "Collision kernel: 3.80e-07\n",
      "Collision frequency: 6.68e-02\n",
      "Collision kernel: 3.80e-07\n",
      "Collision frequency: 6.85e-02\n",
      "Collision kernel: 3.80e-07\n",
      "Collision frequency: 7.02e-02\n",
      "Collision kernel: 3.80e-07\n",
      "Collision frequency: 7.19e-02\n",
      "Collision kernel: 3.80e-07\n",
      "Collision frequency: 7.36e-02\n",
      "Collision kernel: 3.80e-07\n",
      "Collision frequency: 7.53e-02\n",
      "Collision kernel: 3.80e-07\n",
      "Collision frequency: 7.71e-02\n",
      "Collision kernel: 3.80e-07\n",
      "Collision frequency: 7.88e-02\n",
      "Collision kernel: 3.80e-07\n",
      "Collision frequency: 8.05e-02\n",
      "Collision kernel: 3.80e-07\n",
      "Collision frequency: 8.22e-02\n",
      "Collision kernel: 3.80e-07\n",
      "Collision frequency: 8.39e-02\n",
      "Collision kernel: 3.80e-07\n",
      "Collision frequency: 8.56e-02\n",
      "Collision kernel: 3.80e-07\n",
      "Collision frequency: 8.73e-02\n",
      "Collision kernel: 3.80e-07\n",
      "Collision frequency: 8.90e-02\n",
      "Collision kernel: 3.80e-07\n",
      "Collision frequency: 9.07e-02\n",
      "Collision kernel: 3.80e-07\n",
      "Collision frequency: 9.25e-02\n",
      "Collision kernel: 3.80e-07\n",
      "Collision frequency: 9.42e-02\n",
      "Collision kernel: 3.80e-07\n",
      "Collision frequency: 9.59e-02\n",
      "Collision kernel: 3.80e-07\n",
      "Collision frequency: 9.76e-02\n",
      "Collision kernel: 3.80e-07\n",
      "Collision frequency: 9.93e-02\n",
      "Collision kernel: 3.80e-07\n",
      "Collision frequency: 1.01e-01\n",
      "Collision kernel: 3.80e-07\n",
      "Collision frequency: 1.03e-01\n",
      "Collision kernel: 3.80e-07\n",
      "Collision frequency: 1.04e-01\n",
      "Collision kernel: 3.80e-07\n",
      "Collision frequency: 1.06e-01\n",
      "Collision kernel: 3.80e-07\n",
      "Collision frequency: 1.08e-01\n",
      "Collision kernel: 3.80e-07\n",
      "Collision frequency: 1.10e-01\n",
      "Collision kernel: 3.80e-07\n",
      "Collision frequency: 1.11e-01\n",
      "Collision kernel: 3.80e-07\n",
      "Collision frequency: 1.13e-01\n",
      "Collision kernel: 3.80e-07\n",
      "Collision frequency: 1.15e-01\n",
      "Collision kernel: 3.80e-07\n",
      "Collision frequency: 1.16e-01\n",
      "Collision kernel: 3.80e-07\n",
      "Collision frequency: 1.18e-01\n",
      "Collision kernel: 3.80e-07\n",
      "Collision frequency: 1.20e-01\n",
      "Collision kernel: 3.80e-07\n",
      "Collision frequency: 1.22e-01\n",
      "Collision kernel: 3.80e-07\n",
      "Collision frequency: 1.23e-01\n",
      "Collision kernel: 3.80e-07\n",
      "Collision frequency: 1.25e-01\n",
      "Collision kernel: 3.80e-07\n",
      "Collision frequency: 1.27e-01\n",
      "Collision kernel: 3.80e-07\n",
      "Collision frequency: 1.28e-01\n",
      "Collision kernel: 3.80e-07\n",
      "Collision frequency: 1.30e-01\n",
      "Collision kernel: 3.80e-07\n",
      "Collision frequency: 1.32e-01\n",
      "Collision kernel: 3.80e-07\n",
      "Collision frequency: 1.34e-01\n",
      "Collision kernel: 3.80e-07\n",
      "Collision frequency: 1.35e-01\n",
      "Collision kernel: 3.80e-07\n",
      "Collision frequency: 1.37e-01\n",
      "Collision kernel: 3.80e-07\n",
      "Collision frequency: 1.39e-01\n",
      "Collision kernel: 3.80e-07\n",
      "Collision frequency: 1.40e-01\n",
      "Collision kernel: 3.80e-07\n",
      "Collision frequency: 1.42e-01\n",
      "Collision kernel: 3.80e-07\n",
      "Collision frequency: 1.44e-01\n",
      "Collision kernel: 3.80e-07\n",
      "Collision frequency: 1.46e-01\n",
      "Collision kernel: 3.80e-07\n",
      "Collision frequency: 1.47e-01\n",
      "Collision kernel: 3.80e-07\n",
      "Collision frequency: 1.49e-01\n",
      "Collision kernel: 3.80e-07\n",
      "Collision frequency: 1.51e-01\n",
      "Collision kernel: 3.80e-07\n",
      "Collision frequency: 1.52e-01\n",
      "Collision kernel: 3.80e-07\n",
      "Collision frequency: 1.54e-01\n",
      "Collision kernel: 3.80e-07\n",
      "Collision frequency: 1.56e-01\n",
      "Collision kernel: 3.80e-07\n",
      "Collision frequency: 1.58e-01\n",
      "Collision kernel: 3.80e-07\n",
      "Collision frequency: 1.59e-01\n",
      "Collision kernel: 3.80e-07\n",
      "Collision frequency: 1.61e-01\n",
      "Collision kernel: 3.80e-07\n",
      "Collision frequency: 1.63e-01\n",
      "Collision kernel: 3.80e-07\n",
      "Collision frequency: 1.64e-01\n",
      "Collision kernel: 3.80e-07\n",
      "Collision frequency: 1.66e-01\n",
      "Collision kernel: 3.80e-07\n",
      "Collision frequency: 1.68e-01\n",
      "Collision kernel: 3.80e-07\n",
      "Collision frequency: 1.70e-01\n",
      "Collision kernel: 3.80e-07\n",
      "Collision frequency: 1.71e-01\n",
      "Collision kernel: 1.77e-10\n",
      "Particles per m3: 9.01e+03\n",
      "Collision kernel: 1.77e-10\n",
      "Particles per m3: 1.80e+04\n",
      "Collision kernel: 1.77e-10\n",
      "Particles per m3: 2.70e+04\n",
      "Collision kernel: 1.77e-10\n",
      "Particles per m3: 3.60e+04\n",
      "Collision kernel: 1.77e-10\n",
      "Particles per m3: 4.50e+04\n",
      "Collision kernel: 1.77e-10\n",
      "Particles per m3: 5.41e+04\n",
      "Collision kernel: 1.77e-10\n",
      "Particles per m3: 6.31e+04\n",
      "Collision kernel: 1.77e-10\n",
      "Particles per m3: 7.21e+04\n",
      "Collision kernel: 1.77e-10\n",
      "Particles per m3: 8.11e+04\n",
      "Collision kernel: 1.77e-10\n",
      "Particles per m3: 9.01e+04\n",
      "Collision kernel: 1.77e-10\n",
      "Particles per m3: 9.91e+04\n",
      "Collision kernel: 1.77e-10\n",
      "Particles per m3: 1.08e+05\n",
      "Collision kernel: 1.77e-10\n",
      "Particles per m3: 1.17e+05\n",
      "Collision kernel: 1.77e-10\n",
      "Particles per m3: 1.26e+05\n",
      "Collision kernel: 1.77e-10\n",
      "Particles per m3: 1.35e+05\n",
      "Collision kernel: 1.77e-10\n",
      "Particles per m3: 1.44e+05\n",
      "Collision kernel: 1.77e-10\n",
      "Particles per m3: 1.53e+05\n",
      "Collision kernel: 1.77e-10\n",
      "Particles per m3: 1.62e+05\n",
      "Collision kernel: 1.77e-10\n",
      "Particles per m3: 1.71e+05\n",
      "Collision kernel: 1.77e-10\n",
      "Particles per m3: 1.80e+05\n",
      "Collision kernel: 1.77e-10\n",
      "Particles per m3: 1.89e+05\n",
      "Collision kernel: 1.77e-10\n",
      "Particles per m3: 1.98e+05\n",
      "Collision kernel: 1.77e-10\n",
      "Particles per m3: 2.07e+05\n",
      "Collision kernel: 1.77e-10\n",
      "Particles per m3: 2.16e+05\n",
      "Collision kernel: 1.77e-10\n",
      "Particles per m3: 2.25e+05\n",
      "Collision kernel: 1.77e-10\n",
      "Particles per m3: 2.34e+05\n",
      "Collision kernel: 1.77e-10\n",
      "Particles per m3: 2.43e+05\n",
      "Collision kernel: 1.77e-10\n",
      "Particles per m3: 2.52e+05\n",
      "Collision kernel: 1.77e-10\n",
      "Particles per m3: 2.61e+05\n",
      "Collision kernel: 1.77e-10\n",
      "Particles per m3: 2.70e+05\n",
      "Collision kernel: 1.77e-10\n",
      "Particles per m3: 2.79e+05\n",
      "Collision kernel: 1.77e-10\n",
      "Particles per m3: 2.88e+05\n",
      "Collision kernel: 1.77e-10\n",
      "Particles per m3: 2.97e+05\n",
      "Collision kernel: 1.77e-10\n",
      "Particles per m3: 3.06e+05\n",
      "Collision kernel: 1.77e-10\n",
      "Particles per m3: 3.15e+05\n",
      "Collision kernel: 1.77e-10\n",
      "Particles per m3: 3.24e+05\n",
      "Collision kernel: 1.77e-10\n",
      "Particles per m3: 3.33e+05\n",
      "Collision kernel: 1.77e-10\n",
      "Particles per m3: 3.42e+05\n",
      "Collision kernel: 1.77e-10\n",
      "Particles per m3: 3.51e+05\n",
      "Collision kernel: 1.77e-10\n",
      "Particles per m3: 3.60e+05\n",
      "Collision kernel: 1.77e-10\n",
      "Particles per m3: 3.69e+05\n",
      "Collision kernel: 1.77e-10\n",
      "Particles per m3: 3.78e+05\n",
      "Collision kernel: 1.77e-10\n",
      "Particles per m3: 3.87e+05\n",
      "Collision kernel: 1.77e-10\n",
      "Particles per m3: 3.96e+05\n",
      "Collision kernel: 1.77e-10\n",
      "Particles per m3: 4.05e+05\n",
      "Collision kernel: 1.77e-10\n",
      "Particles per m3: 4.14e+05\n",
      "Collision kernel: 1.77e-10\n",
      "Particles per m3: 4.23e+05\n",
      "Collision kernel: 1.77e-10\n",
      "Particles per m3: 4.32e+05\n",
      "Collision kernel: 1.77e-10\n",
      "Particles per m3: 4.41e+05\n",
      "Collision kernel: 1.77e-10\n",
      "Particles per m3: 4.50e+05\n",
      "Collision kernel: 1.77e-10\n",
      "Particles per m3: 4.59e+05\n",
      "Collision kernel: 1.77e-10\n",
      "Particles per m3: 4.68e+05\n",
      "Collision kernel: 1.77e-10\n",
      "Particles per m3: 4.77e+05\n",
      "Collision kernel: 1.77e-10\n",
      "Particles per m3: 4.86e+05\n",
      "Collision kernel: 1.77e-10\n",
      "Particles per m3: 4.95e+05\n",
      "Collision kernel: 1.77e-10\n",
      "Particles per m3: 5.04e+05\n",
      "Collision kernel: 1.77e-10\n",
      "Particles per m3: 5.13e+05\n",
      "Collision kernel: 1.77e-10\n",
      "Particles per m3: 5.23e+05\n",
      "Collision kernel: 1.77e-10\n",
      "Particles per m3: 5.32e+05\n",
      "Collision kernel: 1.77e-10\n",
      "Particles per m3: 5.41e+05\n",
      "Collision kernel: 1.77e-10\n",
      "Particles per m3: 5.50e+05\n",
      "Collision kernel: 1.77e-10\n",
      "Particles per m3: 5.59e+05\n",
      "Collision kernel: 1.77e-10\n",
      "Particles per m3: 5.68e+05\n",
      "Collision kernel: 1.77e-10\n",
      "Particles per m3: 5.77e+05\n",
      "Collision kernel: 1.77e-10\n",
      "Particles per m3: 5.86e+05\n",
      "Collision kernel: 1.77e-10\n",
      "Particles per m3: 5.95e+05\n",
      "Collision kernel: 1.77e-10\n",
      "Particles per m3: 6.04e+05\n",
      "Collision kernel: 1.77e-10\n",
      "Particles per m3: 6.13e+05\n",
      "Collision kernel: 1.77e-10\n",
      "Particles per m3: 6.22e+05\n",
      "Collision kernel: 1.77e-10\n",
      "Particles per m3: 6.31e+05\n",
      "Collision kernel: 1.77e-10\n",
      "Particles per m3: 6.40e+05\n",
      "Collision kernel: 1.77e-10\n",
      "Particles per m3: 6.49e+05\n",
      "Collision kernel: 1.77e-10\n",
      "Particles per m3: 6.58e+05\n",
      "Collision kernel: 1.77e-10\n",
      "Particles per m3: 6.67e+05\n",
      "Collision kernel: 1.77e-10\n",
      "Particles per m3: 6.76e+05\n",
      "Collision kernel: 1.77e-10\n",
      "Particles per m3: 6.85e+05\n",
      "Collision kernel: 1.77e-10\n",
      "Particles per m3: 6.94e+05\n",
      "Collision kernel: 1.77e-10\n",
      "Particles per m3: 7.03e+05\n",
      "Collision kernel: 1.77e-10\n",
      "Particles per m3: 7.12e+05\n",
      "Collision kernel: 1.77e-10\n",
      "Particles per m3: 7.21e+05\n",
      "Collision kernel: 1.77e-10\n",
      "Particles per m3: 7.30e+05\n",
      "Collision kernel: 1.77e-10\n",
      "Particles per m3: 7.39e+05\n",
      "Collision kernel: 1.77e-10\n",
      "Particles per m3: 7.48e+05\n",
      "Collision kernel: 1.77e-10\n",
      "Particles per m3: 7.57e+05\n",
      "Collision kernel: 1.77e-10\n",
      "Particles per m3: 7.66e+05\n",
      "Collision kernel: 1.77e-10\n",
      "Particles per m3: 7.75e+05\n",
      "Collision kernel: 1.77e-10\n",
      "Particles per m3: 7.84e+05\n",
      "Collision kernel: 1.77e-10\n",
      "Particles per m3: 7.93e+05\n",
      "Collision kernel: 1.77e-10\n",
      "Particles per m3: 8.02e+05\n",
      "Collision kernel: 1.77e-10\n",
      "Particles per m3: 8.11e+05\n",
      "Collision kernel: 1.77e-10\n",
      "Particles per m3: 8.20e+05\n",
      "Collision kernel: 1.77e-10\n",
      "Particles per m3: 8.29e+05\n",
      "Collision kernel: 1.77e-10\n",
      "Particles per m3: 8.38e+05\n",
      "Collision kernel: 1.77e-10\n",
      "Particles per m3: 8.47e+05\n",
      "Collision kernel: 1.77e-10\n",
      "Particles per m3: 8.56e+05\n",
      "Collision kernel: 1.77e-10\n",
      "Particles per m3: 8.65e+05\n",
      "Collision kernel: 1.77e-10\n",
      "Particles per m3: 8.74e+05\n",
      "Collision kernel: 1.77e-10\n",
      "Particles per m3: 8.83e+05\n",
      "Collision kernel: 1.77e-10\n",
      "Particles per m3: 8.92e+05\n",
      "Collision kernel: 1.77e-10\n",
      "Particles per m3: 9.01e+05\n"
     ]
    }
   ],
   "source": [
    "concentrations = np.linspace(0.1, 10, 100)\n",
    "\n",
    "collision_rates_current = [collision_rate_current_implementation(i, test_partile, particle_class = 'very_fine_silt') for i in concentrations]\n",
    "collision_rates_burd = [calc_burd_collision_rate(i, test_partile, particle_class = 'very_fine_silt', shear_gradient = 0.1) for i in concentrations]"
   ]
  },
  {
   "cell_type": "code",
   "execution_count": 92,
   "metadata": {},
   "outputs": [
    {
     "data": {
      "text/plain": [
       "[Text(0.5, 0, 'Concentration, kg/m3'), Text(0, 0.5, 'Collision rate, 1/s')]"
      ]
     },
     "execution_count": 92,
     "metadata": {},
     "output_type": "execute_result"
    },
    {
     "data": {
      "image/png": "[encoded data removed]",
      "text/plain": [
       "<Figure size 720x360 with 1 Axes>"
      ]
     },
     "metadata": {
      "needs_background": "light"
     },
     "output_type": "display_data"
    }
   ],
   "source": [
    "# plot both rates\n",
    "fig, ax = plt.subplots(figsize=(10, 5))\n",
    "\n",
    "ax.plot(concentrations, np.array(collision_rates_current)*5e-4, label='Current implementation')\n",
    "ax.plot(concentrations, collision_rates_burd, label='Burd model')\n",
    "\n",
    "\n",
    "# logscale\n",
    "ax.set_yscale('log')\n",
    "\n",
    "ax.set(xlabel='Concentration, kg/m3', ylabel='Collision rate, 1/s')"
   ]
  },
  {
   "cell_type": "code",
   "execution_count": 87,
   "metadata": {},
   "outputs": [
    {
     "name": "stdout",
     "output_type": "stream",
     "text": [
      "Collision kernel: 3.15e-07\n",
      "Collision frequency: 6.04e-02\n",
      "Collision kernel: 3.21e-07\n",
      "Collision frequency: 6.16e-02\n",
      "Collision kernel: 3.28e-07\n",
      "Collision frequency: 6.29e-02\n",
      "Collision kernel: 3.34e-07\n",
      "Collision frequency: 6.41e-02\n",
      "Collision kernel: 3.41e-07\n",
      "Collision frequency: 6.54e-02\n",
      "Collision kernel: 3.47e-07\n",
      "Collision frequency: 6.67e-02\n",
      "Collision kernel: 3.54e-07\n",
      "Collision frequency: 6.79e-02\n",
      "Collision kernel: 3.61e-07\n",
      "Collision frequency: 6.92e-02\n",
      "Collision kernel: 3.68e-07\n",
      "Collision frequency: 7.06e-02\n",
      "Collision kernel: 3.74e-07\n",
      "Collision frequency: 7.19e-02\n",
      "Collision kernel: 3.81e-07\n",
      "Collision frequency: 7.32e-02\n",
      "Collision kernel: 3.88e-07\n",
      "Collision frequency: 7.46e-02\n",
      "Collision kernel: 3.96e-07\n",
      "Collision frequency: 7.59e-02\n",
      "Collision kernel: 4.03e-07\n",
      "Collision frequency: 7.73e-02\n",
      "Collision kernel: 4.10e-07\n",
      "Collision frequency: 7.87e-02\n",
      "Collision kernel: 4.17e-07\n",
      "Collision frequency: 8.01e-02\n",
      "Collision kernel: 4.25e-07\n",
      "Collision frequency: 8.15e-02\n",
      "Collision kernel: 4.32e-07\n",
      "Collision frequency: 8.29e-02\n",
      "Collision kernel: 4.39e-07\n",
      "Collision frequency: 8.43e-02\n",
      "Collision kernel: 4.47e-07\n",
      "Collision frequency: 8.58e-02\n",
      "Collision kernel: 4.55e-07\n",
      "Collision frequency: 8.72e-02\n",
      "Collision kernel: 4.62e-07\n",
      "Collision frequency: 8.87e-02\n",
      "Collision kernel: 4.70e-07\n",
      "Collision frequency: 9.02e-02\n",
      "Collision kernel: 4.78e-07\n",
      "Collision frequency: 9.17e-02\n",
      "Collision kernel: 4.86e-07\n",
      "Collision frequency: 9.32e-02\n",
      "Collision kernel: 4.93e-07\n",
      "Collision frequency: 9.47e-02\n",
      "Collision kernel: 5.01e-07\n",
      "Collision frequency: 9.62e-02\n",
      "Collision kernel: 5.09e-07\n",
      "Collision frequency: 9.78e-02\n",
      "Collision kernel: 5.18e-07\n",
      "Collision frequency: 9.93e-02\n",
      "Collision kernel: 5.26e-07\n",
      "Collision frequency: 1.01e-01\n",
      "Collision kernel: 5.34e-07\n",
      "Collision frequency: 1.02e-01\n",
      "Collision kernel: 5.42e-07\n",
      "Collision frequency: 1.04e-01\n",
      "Collision kernel: 5.51e-07\n",
      "Collision frequency: 1.06e-01\n",
      "Collision kernel: 5.59e-07\n",
      "Collision frequency: 1.07e-01\n",
      "Collision kernel: 5.68e-07\n",
      "Collision frequency: 1.09e-01\n",
      "Collision kernel: 5.76e-07\n",
      "Collision frequency: 1.11e-01\n",
      "Collision kernel: 5.85e-07\n",
      "Collision frequency: 1.12e-01\n",
      "Collision kernel: 5.93e-07\n",
      "Collision frequency: 1.14e-01\n",
      "Collision kernel: 6.02e-07\n",
      "Collision frequency: 1.16e-01\n",
      "Collision kernel: 6.11e-07\n",
      "Collision frequency: 1.17e-01\n",
      "Collision kernel: 6.20e-07\n",
      "Collision frequency: 1.19e-01\n",
      "Collision kernel: 6.29e-07\n",
      "Collision frequency: 1.21e-01\n",
      "Collision kernel: 6.38e-07\n",
      "Collision frequency: 1.22e-01\n",
      "Collision kernel: 6.47e-07\n",
      "Collision frequency: 1.24e-01\n",
      "Collision kernel: 6.56e-07\n",
      "Collision frequency: 1.26e-01\n",
      "Collision kernel: 6.65e-07\n",
      "Collision frequency: 1.28e-01\n",
      "Collision kernel: 6.74e-07\n",
      "Collision frequency: 1.29e-01\n",
      "Collision kernel: 6.84e-07\n",
      "Collision frequency: 1.31e-01\n",
      "Collision kernel: 6.93e-07\n",
      "Collision frequency: 1.33e-01\n",
      "Collision kernel: 7.03e-07\n",
      "Collision frequency: 1.35e-01\n",
      "Collision kernel: 7.12e-07\n",
      "Collision frequency: 1.37e-01\n",
      "Collision kernel: 7.22e-07\n",
      "Collision frequency: 1.39e-01\n",
      "Collision kernel: 7.31e-07\n",
      "Collision frequency: 1.40e-01\n",
      "Collision kernel: 7.41e-07\n",
      "Collision frequency: 1.42e-01\n",
      "Collision kernel: 7.51e-07\n",
      "Collision frequency: 1.44e-01\n",
      "Collision kernel: 7.61e-07\n",
      "Collision frequency: 1.46e-01\n",
      "Collision kernel: 7.71e-07\n",
      "Collision frequency: 1.48e-01\n",
      "Collision kernel: 7.80e-07\n",
      "Collision frequency: 1.50e-01\n",
      "Collision kernel: 7.91e-07\n",
      "Collision frequency: 1.52e-01\n",
      "Collision kernel: 8.01e-07\n",
      "Collision frequency: 1.54e-01\n",
      "Collision kernel: 8.11e-07\n",
      "Collision frequency: 1.56e-01\n",
      "Collision kernel: 8.21e-07\n",
      "Collision frequency: 1.58e-01\n",
      "Collision kernel: 8.31e-07\n",
      "Collision frequency: 1.60e-01\n",
      "Collision kernel: 8.42e-07\n",
      "Collision frequency: 1.62e-01\n",
      "Collision kernel: 8.52e-07\n",
      "Collision frequency: 1.64e-01\n",
      "Collision kernel: 8.62e-07\n",
      "Collision frequency: 1.66e-01\n",
      "Collision kernel: 8.73e-07\n",
      "Collision frequency: 1.68e-01\n",
      "Collision kernel: 8.84e-07\n",
      "Collision frequency: 1.70e-01\n",
      "Collision kernel: 8.94e-07\n",
      "Collision frequency: 1.72e-01\n",
      "Collision kernel: 9.05e-07\n",
      "Collision frequency: 1.74e-01\n",
      "Collision kernel: 9.16e-07\n",
      "Collision frequency: 1.76e-01\n",
      "Collision kernel: 9.27e-07\n",
      "Collision frequency: 1.78e-01\n",
      "Collision kernel: 9.38e-07\n",
      "Collision frequency: 1.80e-01\n",
      "Collision kernel: 9.49e-07\n",
      "Collision frequency: 1.82e-01\n",
      "Collision kernel: 9.60e-07\n",
      "Collision frequency: 1.84e-01\n",
      "Collision kernel: 9.71e-07\n",
      "Collision frequency: 1.86e-01\n",
      "Collision kernel: 9.82e-07\n",
      "Collision frequency: 1.88e-01\n",
      "Collision kernel: 9.93e-07\n",
      "Collision frequency: 1.91e-01\n",
      "Collision kernel: 1.00e-06\n",
      "Collision frequency: 1.93e-01\n",
      "Collision kernel: 1.02e-06\n",
      "Collision frequency: 1.95e-01\n",
      "Collision kernel: 1.03e-06\n",
      "Collision frequency: 1.97e-01\n",
      "Collision kernel: 1.04e-06\n",
      "Collision frequency: 1.99e-01\n",
      "Collision kernel: 1.05e-06\n",
      "Collision frequency: 2.02e-01\n",
      "Collision kernel: 1.06e-06\n",
      "Collision frequency: 2.04e-01\n",
      "Collision kernel: 1.07e-06\n",
      "Collision frequency: 2.06e-01\n",
      "Collision kernel: 1.09e-06\n",
      "Collision frequency: 2.08e-01\n",
      "Collision kernel: 1.10e-06\n",
      "Collision frequency: 2.11e-01\n",
      "Collision kernel: 1.11e-06\n",
      "Collision frequency: 2.13e-01\n",
      "Collision kernel: 1.12e-06\n",
      "Collision frequency: 2.15e-01\n",
      "Collision kernel: 1.13e-06\n",
      "Collision frequency: 2.17e-01\n",
      "Collision kernel: 1.15e-06\n",
      "Collision frequency: 2.20e-01\n",
      "Collision kernel: 1.16e-06\n",
      "Collision frequency: 2.22e-01\n",
      "Collision kernel: 1.17e-06\n",
      "Collision frequency: 2.24e-01\n",
      "Collision kernel: 1.18e-06\n",
      "Collision frequency: 2.27e-01\n",
      "Collision kernel: 1.19e-06\n",
      "Collision frequency: 2.29e-01\n",
      "Collision kernel: 1.21e-06\n",
      "Collision frequency: 2.32e-01\n",
      "Collision kernel: 1.22e-06\n",
      "Collision frequency: 2.34e-01\n",
      "Collision kernel: 1.23e-06\n",
      "Collision frequency: 2.36e-01\n",
      "Collision kernel: 1.24e-06\n",
      "Collision frequency: 2.39e-01\n",
      "Collision kernel: 1.26e-06\n",
      "Collision frequency: 2.41e-01\n",
      "Collision kernel: 1.34e-10\n",
      "Particles per m3: 3.84e+05\n",
      "Collision kernel: 1.38e-10\n",
      "Particles per m3: 3.84e+05\n",
      "Collision kernel: 1.42e-10\n",
      "Particles per m3: 3.84e+05\n",
      "Collision kernel: 1.46e-10\n",
      "Particles per m3: 3.84e+05\n",
      "Collision kernel: 1.51e-10\n",
      "Particles per m3: 3.84e+05\n",
      "Collision kernel: 1.55e-10\n",
      "Particles per m3: 3.84e+05\n",
      "Collision kernel: 1.59e-10\n",
      "Particles per m3: 3.84e+05\n",
      "Collision kernel: 1.64e-10\n",
      "Particles per m3: 3.84e+05\n",
      "Collision kernel: 1.69e-10\n",
      "Particles per m3: 3.84e+05\n",
      "Collision kernel: 1.74e-10\n",
      "Particles per m3: 3.84e+05\n",
      "Collision kernel: 1.78e-10\n",
      "Particles per m3: 3.84e+05\n",
      "Collision kernel: 1.83e-10\n",
      "Particles per m3: 3.84e+05\n",
      "Collision kernel: 1.88e-10\n",
      "Particles per m3: 3.84e+05\n",
      "Collision kernel: 1.94e-10\n",
      "Particles per m3: 3.84e+05\n",
      "Collision kernel: 1.99e-10\n",
      "Particles per m3: 3.84e+05\n",
      "Collision kernel: 2.04e-10\n",
      "Particles per m3: 3.84e+05\n",
      "Collision kernel: 2.09e-10\n",
      "Particles per m3: 3.84e+05\n",
      "Collision kernel: 2.15e-10\n",
      "Particles per m3: 3.84e+05\n",
      "Collision kernel: 2.21e-10\n",
      "Particles per m3: 3.84e+05\n",
      "Collision kernel: 2.26e-10\n",
      "Particles per m3: 3.84e+05\n",
      "Collision kernel: 2.32e-10\n",
      "Particles per m3: 3.84e+05\n",
      "Collision kernel: 2.38e-10\n",
      "Particles per m3: 3.84e+05\n",
      "Collision kernel: 2.44e-10\n",
      "Particles per m3: 3.84e+05\n",
      "Collision kernel: 2.50e-10\n",
      "Particles per m3: 3.84e+05\n",
      "Collision kernel: 2.56e-10\n",
      "Particles per m3: 3.84e+05\n",
      "Collision kernel: 2.62e-10\n",
      "Particles per m3: 3.84e+05\n",
      "Collision kernel: 2.69e-10\n",
      "Particles per m3: 3.84e+05\n",
      "Collision kernel: 2.75e-10\n",
      "Particles per m3: 3.84e+05\n",
      "Collision kernel: 2.82e-10\n",
      "Particles per m3: 3.84e+05\n",
      "Collision kernel: 2.89e-10\n",
      "Particles per m3: 3.84e+05\n",
      "Collision kernel: 2.95e-10\n",
      "Particles per m3: 3.84e+05\n",
      "Collision kernel: 3.02e-10\n",
      "Particles per m3: 3.84e+05\n",
      "Collision kernel: 3.09e-10\n",
      "Particles per m3: 3.84e+05\n",
      "Collision kernel: 3.17e-10\n",
      "Particles per m3: 3.84e+05\n",
      "Collision kernel: 3.24e-10\n",
      "Particles per m3: 3.84e+05\n",
      "Collision kernel: 3.31e-10\n",
      "Particles per m3: 3.84e+05\n",
      "Collision kernel: 3.39e-10\n",
      "Particles per m3: 3.84e+05\n",
      "Collision kernel: 3.46e-10\n",
      "Particles per m3: 3.84e+05\n",
      "Collision kernel: 3.54e-10\n",
      "Particles per m3: 3.84e+05\n",
      "Collision kernel: 3.62e-10\n",
      "Particles per m3: 3.84e+05\n",
      "Collision kernel: 3.70e-10\n",
      "Particles per m3: 3.84e+05\n",
      "Collision kernel: 3.78e-10\n",
      "Particles per m3: 3.84e+05\n",
      "Collision kernel: 3.86e-10\n",
      "Particles per m3: 3.84e+05\n",
      "Collision kernel: 3.94e-10\n",
      "Particles per m3: 3.84e+05\n",
      "Collision kernel: 4.02e-10\n",
      "Particles per m3: 3.84e+05\n",
      "Collision kernel: 4.11e-10\n",
      "Particles per m3: 3.84e+05\n",
      "Collision kernel: 4.19e-10\n",
      "Particles per m3: 3.84e+05\n",
      "Collision kernel: 4.28e-10\n",
      "Particles per m3: 3.84e+05\n",
      "Collision kernel: 4.37e-10\n",
      "Particles per m3: 3.84e+05\n",
      "Collision kernel: 4.46e-10\n",
      "Particles per m3: 3.84e+05\n",
      "Collision kernel: 4.55e-10\n",
      "Particles per m3: 3.84e+05\n",
      "Collision kernel: 4.64e-10\n",
      "Particles per m3: 3.84e+05\n",
      "Collision kernel: 4.74e-10\n",
      "Particles per m3: 3.84e+05\n",
      "Collision kernel: 4.83e-10\n",
      "Particles per m3: 3.84e+05\n",
      "Collision kernel: 4.93e-10\n",
      "Particles per m3: 3.84e+05\n",
      "Collision kernel: 5.02e-10\n",
      "Particles per m3: 3.84e+05\n",
      "Collision kernel: 5.12e-10\n",
      "Particles per m3: 3.84e+05\n",
      "Collision kernel: 5.22e-10\n",
      "Particles per m3: 3.84e+05\n",
      "Collision kernel: 5.32e-10\n",
      "Particles per m3: 3.84e+05\n",
      "Collision kernel: 5.42e-10\n",
      "Particles per m3: 3.84e+05\n",
      "Collision kernel: 5.53e-10\n",
      "Particles per m3: 3.84e+05\n",
      "Collision kernel: 5.63e-10\n",
      "Particles per m3: 3.84e+05\n",
      "Collision kernel: 5.74e-10\n",
      "Particles per m3: 3.84e+05\n",
      "Collision kernel: 5.85e-10\n",
      "Particles per m3: 3.84e+05\n",
      "Collision kernel: 5.95e-10\n",
      "Particles per m3: 3.84e+05\n",
      "Collision kernel: 6.07e-10\n",
      "Particles per m3: 3.84e+05\n",
      "Collision kernel: 6.18e-10\n",
      "Particles per m3: 3.84e+05\n",
      "Collision kernel: 6.29e-10\n",
      "Particles per m3: 3.84e+05\n",
      "Collision kernel: 6.40e-10\n",
      "Particles per m3: 3.84e+05\n",
      "Collision kernel: 6.52e-10\n",
      "Particles per m3: 3.84e+05\n",
      "Collision kernel: 6.64e-10\n",
      "Particles per m3: 3.84e+05\n",
      "Collision kernel: 6.75e-10\n",
      "Particles per m3: 3.84e+05\n",
      "Collision kernel: 6.87e-10\n",
      "Particles per m3: 3.84e+05\n",
      "Collision kernel: 7.00e-10\n",
      "Particles per m3: 3.84e+05\n",
      "Collision kernel: 7.12e-10\n",
      "Particles per m3: 3.84e+05\n",
      "Collision kernel: 7.24e-10\n",
      "Particles per m3: 3.84e+05\n",
      "Collision kernel: 7.37e-10\n",
      "Particles per m3: 3.84e+05\n",
      "Collision kernel: 7.49e-10\n",
      "Particles per m3: 3.84e+05\n",
      "Collision kernel: 7.62e-10\n",
      "Particles per m3: 3.84e+05\n",
      "Collision kernel: 7.75e-10\n",
      "Particles per m3: 3.84e+05\n",
      "Collision kernel: 7.88e-10\n",
      "Particles per m3: 3.84e+05\n",
      "Collision kernel: 8.02e-10\n",
      "Particles per m3: 3.84e+05\n",
      "Collision kernel: 8.15e-10\n",
      "Particles per m3: 3.84e+05\n",
      "Collision kernel: 8.29e-10\n",
      "Particles per m3: 3.84e+05\n",
      "Collision kernel: 8.42e-10\n",
      "Particles per m3: 3.84e+05\n",
      "Collision kernel: 8.56e-10\n",
      "Particles per m3: 3.84e+05\n",
      "Collision kernel: 8.70e-10\n",
      "Particles per m3: 3.84e+05\n",
      "Collision kernel: 8.84e-10\n",
      "Particles per m3: 3.84e+05\n",
      "Collision kernel: 8.99e-10\n",
      "Particles per m3: 3.84e+05\n",
      "Collision kernel: 9.13e-10\n",
      "Particles per m3: 3.84e+05\n",
      "Collision kernel: 9.28e-10\n",
      "Particles per m3: 3.84e+05\n",
      "Collision kernel: 9.43e-10\n",
      "Particles per m3: 3.84e+05\n",
      "Collision kernel: 9.58e-10\n",
      "Particles per m3: 3.84e+05\n",
      "Collision kernel: 9.73e-10\n",
      "Particles per m3: 3.84e+05\n",
      "Collision kernel: 9.88e-10\n",
      "Particles per m3: 3.84e+05\n",
      "Collision kernel: 1.00e-09\n",
      "Particles per m3: 3.84e+05\n",
      "Collision kernel: 1.02e-09\n",
      "Particles per m3: 3.84e+05\n",
      "Collision kernel: 1.03e-09\n",
      "Particles per m3: 3.84e+05\n",
      "Collision kernel: 1.05e-09\n",
      "Particles per m3: 3.84e+05\n",
      "Collision kernel: 1.07e-09\n",
      "Particles per m3: 3.84e+05\n"
     ]
    }
   ],
   "source": [
    "test_particle_radius = np.linspace(1e-6, 1e-3, 100)\n",
    "\n",
    "collision_rates_current = [collision_rate_current_implementation(kg_per_m3, {'radius': i, 'density': 1000}, particle_class = 'very_fine_silt') for i in test_particle_radius]\n",
    "collision_rates_burd = [calc_burd_collision_rate(kg_per_m3, {'radius': i, 'density': 1000}, particle_class = 'very_fine_silt', shear_gradient = 0.1) for i in test_particle_radius]"
   ]
  },
  {
   "cell_type": "code",
   "execution_count": 88,
   "metadata": {},
   "outputs": [
    {
     "data": {
      "text/plain": [
       "[Text(0.5, 0, 'Test particle diameter, m'),\n",
       " Text(0, 0.5, 'Collision rate, 1/s')]"
      ]
     },
     "execution_count": 88,
     "metadata": {},
     "output_type": "execute_result"
    },
    {
     "data": {
      "image/png": "[encoded data removed]",
      "text/plain": [
       "<Figure size 720x360 with 1 Axes>"
      ]
     },
     "metadata": {
      "needs_background": "light"
     },
     "output_type": "display_data"
    }
   ],
   "source": [
    "# plot both rates\n",
    "fig, ax = plt.subplots(figsize=(10, 5))\n",
    "\n",
    "ax.plot(test_particle_radius, np.array(collision_rates_current)*1e-3, label='Current implementation')\n",
    "ax.plot(test_particle_radius, collision_rates_burd, label='Burd model')\n",
    "\n",
    "# logscale\n",
    "ax.set_yscale('log')\n",
    "\n",
    "ax.set(xlabel='Test particle diameter, m', ylabel='Collision rate, 1/s')"
   ]
  },
  {
   "cell_type": "code",
   "execution_count": null,
   "metadata": {},
   "outputs": [],
   "source": []
  },
  {
   "cell_type": "code",
   "execution_count": 77,
   "metadata": {},
   "outputs": [
    {
     "name": "stdout",
     "output_type": "stream",
     "text": [
      "Collision kernel: 3.20e-09\n",
      "Collision frequency: 6.15e+05\n",
      "Collision kernel: 1.37e-13\n",
      "Particles per m3: 3.84e+14\n",
      "Collision kernel: 3.88e-09\n",
      "Collision frequency: 5.45e+02\n",
      "Collision kernel: 1.83e-13\n",
      "Particles per m3: 2.81e+11\n",
      "Collision kernel: 4.61e-09\n",
      "Collision frequency: 9.32e+01\n",
      "Collision kernel: 2.37e-13\n",
      "Particles per m3: 4.04e+10\n",
      "Collision kernel: 5.41e-09\n",
      "Collision frequency: 3.40e+01\n",
      "Collision kernel: 3.02e-13\n",
      "Particles per m3: 1.26e+10\n",
      "Collision kernel: 6.28e-09\n",
      "Collision frequency: 1.70e+01\n",
      "Collision kernel: 3.77e-13\n",
      "Particles per m3: 5.42e+09\n",
      "Collision kernel: 7.21e-09\n",
      "Collision frequency: 1.02e+01\n",
      "Collision kernel: 4.63e-13\n",
      "Particles per m3: 2.82e+09\n",
      "Collision kernel: 8.20e-09\n",
      "Collision frequency: 6.75e+00\n",
      "Collision kernel: 5.62e-13\n",
      "Particles per m3: 1.65e+09\n",
      "Collision kernel: 9.25e-09\n",
      "Collision frequency: 4.83e+00\n",
      "Collision kernel: 6.74e-13\n",
      "Particles per m3: 1.04e+09\n",
      "Collision kernel: 1.04e-08\n",
      "Collision frequency: 3.65e+00\n",
      "Collision kernel: 8.00e-13\n",
      "Particles per m3: 7.03e+08\n",
      "Collision kernel: 1.16e-08\n",
      "Collision frequency: 2.87e+00\n",
      "Collision kernel: 9.41e-13\n",
      "Particles per m3: 4.96e+08\n",
      "Collision kernel: 1.28e-08\n",
      "Collision frequency: 2.32e+00\n",
      "Collision kernel: 1.10e-12\n",
      "Particles per m3: 3.63e+08\n",
      "Collision kernel: 1.41e-08\n",
      "Collision frequency: 1.93e+00\n",
      "Collision kernel: 1.27e-12\n",
      "Particles per m3: 2.73e+08\n",
      "Collision kernel: 1.55e-08\n",
      "Collision frequency: 1.63e+00\n",
      "Collision kernel: 1.46e-12\n",
      "Particles per m3: 2.11e+08\n",
      "Collision kernel: 1.69e-08\n",
      "Collision frequency: 1.41e+00\n",
      "Collision kernel: 1.67e-12\n",
      "Particles per m3: 1.66e+08\n",
      "Collision kernel: 1.84e-08\n",
      "Collision frequency: 1.23e+00\n",
      "Collision kernel: 1.90e-12\n",
      "Particles per m3: 1.33e+08\n",
      "Collision kernel: 2.00e-08\n",
      "Collision frequency: 1.09e+00\n",
      "Collision kernel: 2.14e-12\n",
      "Particles per m3: 1.09e+08\n",
      "Collision kernel: 2.16e-08\n",
      "Collision frequency: 9.69e-01\n",
      "Collision kernel: 2.41e-12\n",
      "Particles per m3: 8.95e+07\n",
      "Collision kernel: 2.33e-08\n",
      "Collision frequency: 8.72e-01\n",
      "Collision kernel: 2.70e-12\n",
      "Particles per m3: 7.47e+07\n",
      "Collision kernel: 2.51e-08\n",
      "Collision frequency: 7.91e-01\n",
      "Collision kernel: 3.01e-12\n",
      "Particles per m3: 6.30e+07\n",
      "Collision kernel: 2.69e-08\n",
      "Collision frequency: 7.22e-01\n",
      "Collision kernel: 3.34e-12\n",
      "Particles per m3: 5.36e+07\n",
      "Collision kernel: 2.88e-08\n",
      "Collision frequency: 6.63e-01\n",
      "Collision kernel: 3.70e-12\n",
      "Particles per m3: 4.60e+07\n",
      "Collision kernel: 3.08e-08\n",
      "Collision frequency: 6.12e-01\n",
      "Collision kernel: 4.09e-12\n",
      "Particles per m3: 3.98e+07\n",
      "Collision kernel: 3.28e-08\n",
      "Collision frequency: 5.67e-01\n",
      "Collision kernel: 4.49e-12\n",
      "Particles per m3: 3.46e+07\n",
      "Collision kernel: 3.49e-08\n",
      "Collision frequency: 5.28e-01\n",
      "Collision kernel: 4.93e-12\n",
      "Particles per m3: 3.03e+07\n",
      "Collision kernel: 3.70e-08\n",
      "Collision frequency: 4.94e-01\n",
      "Collision kernel: 5.39e-12\n",
      "Particles per m3: 2.67e+07\n",
      "Collision kernel: 3.92e-08\n",
      "Collision frequency: 4.63e-01\n",
      "Collision kernel: 5.88e-12\n",
      "Particles per m3: 2.36e+07\n",
      "Collision kernel: 4.15e-08\n",
      "Collision frequency: 4.36e-01\n",
      "Collision kernel: 6.40e-12\n",
      "Particles per m3: 2.10e+07\n",
      "Collision kernel: 4.38e-08\n",
      "Collision frequency: 4.11e-01\n",
      "Collision kernel: 6.94e-12\n",
      "Particles per m3: 1.88e+07\n",
      "Collision kernel: 4.62e-08\n",
      "Collision frequency: 3.89e-01\n",
      "Collision kernel: 7.52e-12\n",
      "Particles per m3: 1.68e+07\n",
      "Collision kernel: 4.87e-08\n",
      "Collision frequency: 3.69e-01\n",
      "Collision kernel: 8.13e-12\n",
      "Particles per m3: 1.52e+07\n",
      "Collision kernel: 5.12e-08\n",
      "Collision frequency: 3.51e-01\n",
      "Collision kernel: 8.77e-12\n",
      "Particles per m3: 1.37e+07\n",
      "Collision kernel: 5.38e-08\n",
      "Collision frequency: 3.34e-01\n",
      "Collision kernel: 9.45e-12\n",
      "Particles per m3: 1.24e+07\n",
      "Collision kernel: 5.65e-08\n",
      "Collision frequency: 3.19e-01\n",
      "Collision kernel: 1.02e-11\n",
      "Particles per m3: 1.13e+07\n",
      "Collision kernel: 5.92e-08\n",
      "Collision frequency: 3.05e-01\n",
      "Collision kernel: 1.09e-11\n",
      "Particles per m3: 1.03e+07\n",
      "Collision kernel: 6.20e-08\n",
      "Collision frequency: 2.92e-01\n",
      "Collision kernel: 1.17e-11\n",
      "Particles per m3: 9.42e+06\n",
      "Collision kernel: 6.48e-08\n",
      "Collision frequency: 2.80e-01\n",
      "Collision kernel: 1.25e-11\n",
      "Particles per m3: 8.64e+06\n",
      "Collision kernel: 6.77e-08\n",
      "Collision frequency: 2.69e-01\n",
      "Collision kernel: 1.33e-11\n",
      "Particles per m3: 7.94e+06\n",
      "Collision kernel: 7.07e-08\n",
      "Collision frequency: 2.59e-01\n",
      "Collision kernel: 1.42e-11\n",
      "Particles per m3: 7.32e+06\n",
      "Collision kernel: 7.37e-08\n",
      "Collision frequency: 2.49e-01\n",
      "Collision kernel: 1.52e-11\n",
      "Particles per m3: 6.75e+06\n",
      "Collision kernel: 7.68e-08\n",
      "Collision frequency: 2.40e-01\n",
      "Collision kernel: 1.61e-11\n",
      "Particles per m3: 6.25e+06\n",
      "Collision kernel: 8.00e-08\n",
      "Collision frequency: 2.32e-01\n",
      "Collision kernel: 1.71e-11\n",
      "Particles per m3: 5.79e+06\n",
      "Collision kernel: 8.32e-08\n",
      "Collision frequency: 2.24e-01\n",
      "Collision kernel: 1.82e-11\n",
      "Particles per m3: 5.38e+06\n",
      "Collision kernel: 8.65e-08\n",
      "Collision frequency: 2.17e-01\n",
      "Collision kernel: 1.93e-11\n",
      "Particles per m3: 5.01e+06\n",
      "Collision kernel: 8.99e-08\n",
      "Collision frequency: 2.10e-01\n",
      "Collision kernel: 2.04e-11\n",
      "Particles per m3: 4.67e+06\n",
      "Collision kernel: 9.33e-08\n",
      "Collision frequency: 2.03e-01\n",
      "Collision kernel: 2.16e-11\n",
      "Particles per m3: 4.36e+06\n",
      "Collision kernel: 9.68e-08\n",
      "Collision frequency: 1.97e-01\n",
      "Collision kernel: 2.28e-11\n",
      "Particles per m3: 4.07e+06\n",
      "Collision kernel: 1.00e-07\n",
      "Collision frequency: 1.91e-01\n",
      "Collision kernel: 2.41e-11\n",
      "Particles per m3: 3.81e+06\n",
      "Collision kernel: 1.04e-07\n",
      "Collision frequency: 1.86e-01\n",
      "Collision kernel: 2.54e-11\n",
      "Particles per m3: 3.58e+06\n",
      "Collision kernel: 1.08e-07\n",
      "Collision frequency: 1.81e-01\n",
      "Collision kernel: 2.67e-11\n",
      "Particles per m3: 3.36e+06\n",
      "Collision kernel: 1.11e-07\n",
      "Collision frequency: 1.76e-01\n",
      "Collision kernel: 2.82e-11\n",
      "Particles per m3: 3.16e+06\n",
      "Collision kernel: 1.15e-07\n",
      "Collision frequency: 1.71e-01\n",
      "Collision kernel: 2.96e-11\n",
      "Particles per m3: 2.97e+06\n",
      "Collision kernel: 1.19e-07\n",
      "Collision frequency: 1.67e-01\n",
      "Collision kernel: 3.11e-11\n",
      "Particles per m3: 2.80e+06\n",
      "Collision kernel: 1.23e-07\n",
      "Collision frequency: 1.62e-01\n",
      "Collision kernel: 3.27e-11\n",
      "Particles per m3: 2.64e+06\n",
      "Collision kernel: 1.27e-07\n",
      "Collision frequency: 1.58e-01\n",
      "Collision kernel: 3.43e-11\n",
      "Particles per m3: 2.50e+06\n",
      "Collision kernel: 1.31e-07\n",
      "Collision frequency: 1.55e-01\n",
      "Collision kernel: 3.59e-11\n",
      "Particles per m3: 2.36e+06\n",
      "Collision kernel: 1.35e-07\n",
      "Collision frequency: 1.51e-01\n",
      "Collision kernel: 3.76e-11\n",
      "Particles per m3: 2.23e+06\n",
      "Collision kernel: 1.39e-07\n",
      "Collision frequency: 1.47e-01\n",
      "Collision kernel: 3.94e-11\n",
      "Particles per m3: 2.12e+06\n",
      "Collision kernel: 1.44e-07\n",
      "Collision frequency: 1.44e-01\n",
      "Collision kernel: 4.12e-11\n",
      "Particles per m3: 2.01e+06\n",
      "Collision kernel: 1.48e-07\n",
      "Collision frequency: 1.41e-01\n",
      "Collision kernel: 4.31e-11\n",
      "Particles per m3: 1.90e+06\n",
      "Collision kernel: 1.52e-07\n",
      "Collision frequency: 1.38e-01\n",
      "Collision kernel: 4.50e-11\n",
      "Particles per m3: 1.81e+06\n",
      "Collision kernel: 1.57e-07\n",
      "Collision frequency: 1.35e-01\n",
      "Collision kernel: 4.70e-11\n",
      "Particles per m3: 1.72e+06\n",
      "Collision kernel: 1.61e-07\n",
      "Collision frequency: 1.32e-01\n",
      "Collision kernel: 4.91e-11\n",
      "Particles per m3: 1.64e+06\n",
      "Collision kernel: 1.66e-07\n",
      "Collision frequency: 1.29e-01\n",
      "Collision kernel: 5.12e-11\n",
      "Particles per m3: 1.56e+06\n",
      "Collision kernel: 1.71e-07\n",
      "Collision frequency: 1.27e-01\n",
      "Collision kernel: 5.33e-11\n",
      "Particles per m3: 1.49e+06\n",
      "Collision kernel: 1.75e-07\n",
      "Collision frequency: 1.24e-01\n",
      "Collision kernel: 5.55e-11\n",
      "Particles per m3: 1.42e+06\n",
      "Collision kernel: 1.80e-07\n",
      "Collision frequency: 1.22e-01\n",
      "Collision kernel: 5.78e-11\n",
      "Particles per m3: 1.35e+06\n",
      "Collision kernel: 1.85e-07\n",
      "Collision frequency: 1.20e-01\n",
      "Collision kernel: 6.02e-11\n",
      "Particles per m3: 1.29e+06\n",
      "Collision kernel: 1.90e-07\n",
      "Collision frequency: 1.17e-01\n",
      "Collision kernel: 6.26e-11\n",
      "Particles per m3: 1.24e+06\n",
      "Collision kernel: 1.95e-07\n",
      "Collision frequency: 1.15e-01\n",
      "Collision kernel: 6.50e-11\n",
      "Particles per m3: 1.18e+06\n",
      "Collision kernel: 2.00e-07\n",
      "Collision frequency: 1.13e-01\n",
      "Collision kernel: 6.76e-11\n",
      "Particles per m3: 1.13e+06\n",
      "Collision kernel: 2.05e-07\n",
      "Collision frequency: 1.11e-01\n",
      "Collision kernel: 7.02e-11\n",
      "Particles per m3: 1.08e+06\n",
      "Collision kernel: 2.10e-07\n",
      "Collision frequency: 1.09e-01\n",
      "Collision kernel: 7.28e-11\n",
      "Particles per m3: 1.04e+06\n",
      "Collision kernel: 2.15e-07\n",
      "Collision frequency: 1.07e-01\n",
      "Collision kernel: 7.56e-11\n",
      "Particles per m3: 9.97e+05\n",
      "Collision kernel: 2.20e-07\n",
      "Collision frequency: 1.05e-01\n",
      "Collision kernel: 7.84e-11\n",
      "Particles per m3: 9.56e+05\n",
      "Collision kernel: 2.26e-07\n",
      "Collision frequency: 1.04e-01\n",
      "Collision kernel: 8.12e-11\n",
      "Particles per m3: 9.18e+05\n",
      "Collision kernel: 2.31e-07\n",
      "Collision frequency: 1.02e-01\n",
      "Collision kernel: 8.42e-11\n",
      "Particles per m3: 8.82e+05\n",
      "Collision kernel: 2.37e-07\n",
      "Collision frequency: 1.00e-01\n",
      "Collision kernel: 8.72e-11\n",
      "Particles per m3: 8.48e+05\n",
      "Collision kernel: 2.42e-07\n",
      "Collision frequency: 9.87e-02\n",
      "Collision kernel: 9.02e-11\n",
      "Particles per m3: 8.15e+05\n",
      "Collision kernel: 2.48e-07\n",
      "Collision frequency: 9.72e-02\n",
      "Collision kernel: 9.34e-11\n",
      "Particles per m3: 7.84e+05\n",
      "Collision kernel: 2.53e-07\n",
      "Collision frequency: 9.57e-02\n",
      "Collision kernel: 9.66e-11\n",
      "Particles per m3: 7.55e+05\n",
      "Collision kernel: 2.59e-07\n",
      "Collision frequency: 9.42e-02\n",
      "Collision kernel: 9.99e-11\n",
      "Particles per m3: 7.27e+05\n",
      "Collision kernel: 2.65e-07\n",
      "Collision frequency: 9.28e-02\n",
      "Collision kernel: 1.03e-10\n",
      "Particles per m3: 7.00e+05\n",
      "Collision kernel: 2.71e-07\n",
      "Collision frequency: 9.14e-02\n",
      "Collision kernel: 1.07e-10\n",
      "Particles per m3: 6.75e+05\n",
      "Collision kernel: 2.77e-07\n",
      "Collision frequency: 9.01e-02\n",
      "Collision kernel: 1.10e-10\n",
      "Particles per m3: 6.51e+05\n",
      "Collision kernel: 2.83e-07\n",
      "Collision frequency: 8.88e-02\n",
      "Collision kernel: 1.14e-10\n",
      "Particles per m3: 6.28e+05\n",
      "Collision kernel: 2.89e-07\n",
      "Collision frequency: 8.75e-02\n",
      "Collision kernel: 1.17e-10\n",
      "Particles per m3: 6.06e+05\n",
      "Collision kernel: 2.95e-07\n",
      "Collision frequency: 8.63e-02\n",
      "Collision kernel: 1.21e-10\n",
      "Particles per m3: 5.85e+05\n",
      "Collision kernel: 3.01e-07\n",
      "Collision frequency: 8.51e-02\n",
      "Collision kernel: 1.25e-10\n",
      "Particles per m3: 5.65e+05\n",
      "Collision kernel: 3.07e-07\n",
      "Collision frequency: 8.39e-02\n",
      "Collision kernel: 1.29e-10\n",
      "Particles per m3: 5.46e+05\n",
      "Collision kernel: 3.14e-07\n",
      "Collision frequency: 8.28e-02\n",
      "Collision kernel: 1.33e-10\n",
      "Particles per m3: 5.28e+05\n",
      "Collision kernel: 3.20e-07\n",
      "Collision frequency: 8.17e-02\n",
      "Collision kernel: 1.37e-10\n",
      "Particles per m3: 5.11e+05\n",
      "Collision kernel: 3.26e-07\n",
      "Collision frequency: 8.06e-02\n",
      "Collision kernel: 1.41e-10\n",
      "Particles per m3: 4.94e+05\n",
      "Collision kernel: 3.33e-07\n",
      "Collision frequency: 7.96e-02\n",
      "Collision kernel: 1.45e-10\n",
      "Particles per m3: 4.78e+05\n",
      "Collision kernel: 3.39e-07\n",
      "Collision frequency: 7.86e-02\n",
      "Collision kernel: 1.50e-10\n",
      "Particles per m3: 4.63e+05\n",
      "Collision kernel: 3.46e-07\n",
      "Collision frequency: 7.76e-02\n",
      "Collision kernel: 1.54e-10\n",
      "Particles per m3: 4.48e+05\n",
      "Collision kernel: 3.53e-07\n",
      "Collision frequency: 7.66e-02\n",
      "Collision kernel: 1.59e-10\n",
      "Particles per m3: 4.34e+05\n",
      "Collision kernel: 3.59e-07\n",
      "Collision frequency: 7.57e-02\n",
      "Collision kernel: 1.63e-10\n",
      "Particles per m3: 4.21e+05\n",
      "Collision kernel: 3.66e-07\n",
      "Collision frequency: 7.47e-02\n",
      "Collision kernel: 1.68e-10\n",
      "Particles per m3: 4.08e+05\n",
      "Collision kernel: 3.73e-07\n",
      "Collision frequency: 7.38e-02\n",
      "Collision kernel: 1.73e-10\n",
      "Particles per m3: 3.96e+05\n",
      "Collision kernel: 3.80e-07\n",
      "Collision frequency: 7.30e-02\n",
      "Collision kernel: 1.77e-10\n",
      "Particles per m3: 3.84e+05\n"
     ]
    }
   ],
   "source": [
    "# change the particle_class radius\n",
    "dust_particle_radius = np.linspace(1e-6, 1e-3, 100)\n",
    "\n",
    "collision_rates_current = []\n",
    "collision_rates_burd = []\n",
    "\n",
    "for radius in dust_particle_radius:\n",
    "    particle_classes['very_fine_silt']['radius'] = radius\n",
    "    collision_rates_current.append(collision_rate_current_implementation(kg_per_m3, test_partile, particle_class = 'very_fine_silt'))\n",
    "    collision_rates_burd.append(calc_burd_collision_rate(kg_per_m3, test_partile, particle_class = 'very_fine_silt', shear_gradient = 0.1))\n",
    "    "
   ]
  },
  {
   "cell_type": "code",
   "execution_count": 85,
   "metadata": {},
   "outputs": [
    {
     "data": {
      "text/plain": [
       "<matplotlib.legend.Legend at 0x7fd222205100>"
      ]
     },
     "execution_count": 85,
     "metadata": {},
     "output_type": "execute_result"
    },
    {
     "data": {
      "image/png": "[encoded data removed]",
      "text/plain": [
       "<Figure size 720x360 with 1 Axes>"
      ]
     },
     "metadata": {
      "needs_background": "light"
     },
     "output_type": "display_data"
    }
   ],
   "source": [
    "# plot both rates\n",
    "fig, ax = plt.subplots(figsize=(10, 5))\n",
    "\n",
    "ax.plot(dust_particle_radius, np.array(collision_rates_current)*2e-4, label='Current implementation')\n",
    "ax.plot(dust_particle_radius, collision_rates_burd, label='Burd model')\n",
    "\n",
    "# logscale\n",
    "ax.set_yscale('log')\n",
    "\n",
    "ax.set(xlabel='Dust particle diameter, m', ylabel='Collision rate, 1/s')\n",
    "ax.legend()"
   ]
  },
  {
   "cell_type": "markdown",
   "metadata": {},
   "source": [
    "## depth loses 19 now with the new collision kernel and sinking velocity"
   ]
  },
  {
   "cell_type": "code",
   "execution_count": 10,
   "metadata": {},
   "outputs": [],
   "source": [
    "tracks = load_track_data('/scratch/local1/output/22_11_01_depth_losses_v19/22_11_01_depth_losses_v19_caseInfo.json')"
   ]
  },
  {
   "cell_type": "code",
   "execution_count": 63,
   "metadata": {},
   "outputs": [],
   "source": [
    "def plot_part_props(particleID):\n",
    "    t = tracks['time'][:]\n",
    "    t = [datetime.fromtimestamp(i) for i in t]\n",
    "\n",
    "    plt.figure(figsize=(10, 8))\n",
    "\n",
    "    plt.subplot(511)\n",
    "    plt.plot(t, tracks['spm_very_fine_silt'][:, particleID])\n",
    "    plt.ylabel('Collision Counts')\n",
    "    plt.xlabel('Time')\n",
    "    plt.grid(True)\n",
    "\n",
    "\n",
    "# Plot collision counts\n",
    "    plt.subplot(512)\n",
    "    plt.plot(t, tracks['collision_very_fine_silt'][:, particleID])\n",
    "    plt.ylabel('Collision Counts')\n",
    "    plt.xlabel('Time')\n",
    "    plt.grid(True)\n",
    "\n",
    "# Plot density\n",
    "    plt.subplot(513)\n",
    "    plt.plot(t, tracks['density'][:, particleID])\n",
    "    plt.ylabel('Density')\n",
    "    plt.title('Particle Properties')\n",
    "    plt.grid(True)\n",
    "\n",
    "# Plot radius\n",
    "    plt.subplot(514)\n",
    "    plt.plot(t, tracks['radius'][:, particleID])\n",
    "    plt.ylabel('Radius')\n",
    "    plt.grid(True)\n",
    "\n",
    "# Plot buoyancy\n",
    "    plt.subplot(515)\n",
    "    plt.plot(t, tracks['buoyancy'][:, particleID])\n",
    "    plt.ylabel('Buoyancy')\n",
    "    plt.ylim(0, 0.001)\n",
    "    plt.grid(True)\n",
    "\n",
    "\n",
    "\n",
    "    plt.tight_layout()\n",
    "    plt.show()"
   ]
  },
  {
   "cell_type": "code",
   "execution_count": 12,
   "metadata": {},
   "outputs": [],
   "source": [
    "def plot_path_in_vertical_section(tracks,  particleID =0,title='', ncase= 0, plot_file_name=None,credit=None):\n",
    "\n",
    "    t = tracks['time'] / 24. / 3600.\n",
    "    t = t - t[0]\n",
    "    ax = plt.gca()\n",
    "    ax.plot(t, tracks['status'][:, particleID], label='Status')\n",
    "    ax.plot(t, tracks['tide'][:, particleID], label='Tide, m', color='k', linewidth=.5)\n",
    "    # ax.plot(t, tracks['salinity'][:, particleID], label='Salinity (PSU)', color='orange')\n",
    "    # ax.plot(t, tracks['turbidity'][:, particleID], label='Turbidity (kg/m3)', color='r')\n",
    "    # ax.plot(t, tracks['dryout'][:, particleID], label='Dryout (m)', color='b')\n",
    "\n",
    "    ax.plot(t, -tracks['water_depth'][:, particleID], label='Water depth, m', color='k')\n",
    "\n",
    "    ax.plot(t, tracks['z'][:,particleID],label='Particle z, m', color = 'g')\n",
    "\n",
    "    ax.set(xlabel='Time, days',ylabel='z, m', title=title)\n",
    "    ax.legend()"
   ]
  },
  {
   "cell_type": "code",
   "execution_count": 64,
   "metadata": {},
   "outputs": [
    {
     "data": {
      "image/png": "[encoded data removed]",
      "text/plain": [
       "<Figure size 720x576 with 5 Axes>"
      ]
     },
     "metadata": {
      "needs_background": "light"
     },
     "output_type": "display_data"
    },
    {
     "data": {
      "image/png": "[encoded data removed]",
      "text/plain": [
       "<Figure size 432x288 with 1 Axes>"
      ]
     },
     "metadata": {
      "needs_background": "light"
     },
     "output_type": "display_data"
    }
   ],
   "source": [
    "%matplotlib inline\n",
    "\n",
    "\n",
    "plot_part_props(3)\n",
    "\n",
    "fig,ax = plt.subplots()\n",
    "plot_path_in_vertical_section(tracks,particleID=particleID)"
   ]
  },
  {
   "cell_type": "code",
   "execution_count": 41,
   "metadata": {},
   "outputs": [],
   "source": [
    "def plot_tracks(track_data, show_grid=False,credit=None, heading =None,\n",
    "                title=None, axis_lims=None, show_start=False, back_ground_depth=True, back_ground_color_map= None,\n",
    "                plot_file_name=None, polygon_list_to_plot = None):\n",
    "\n",
    "    fig, ax = plt.subplots()\n",
    "\n",
    "    plot_utilities.draw_base_map(track_data['grid'],ax=ax, axis_lims=axis_lims, show_grid= show_grid, title=title, credit=credit,\n",
    "                  back_ground_depth=back_ground_depth,back_ground_color_map= back_ground_color_map)\n",
    "\n",
    "    ax.plot(track_data['x'][:,:, 0], track_data['x'][:, :, 1], linewidth=.5)\n",
    "    if show_start:\n",
    "        # show all starts, eg random within polygon\n",
    "        ax.scatter( track_data['x0'][ :, 0],  track_data['x0'][ :, 1], edgecolors=None, c='green', s=4, zorder =8)\n",
    "\n",
    "    \n",
    "\n",
    "    plot_utilities.plot_release_points_and_polygons(track_data, ax=ax) # these are nominal starts\n",
    "    plot_utilities.draw_polygon_list(polygon_list_to_plot,ax=ax)\n",
    "    plot_utilities.show_particleNumbers(track_data['x'].shape[1])\n",
    "    plot_utilities.add_heading(heading)\n",
    "    plot_utilities.show_output(plot_file_name=plot_file_name)"
   ]
  },
  {
   "cell_type": "code",
   "execution_count": 42,
   "metadata": {},
   "outputs": [
    {
     "data": {
      "text/plain": [
       "[<matplotlib.lines.Line2D at 0x7fa782d23430>,\n",
       " <matplotlib.lines.Line2D at 0x7fa782d23490>,\n",
       " <matplotlib.lines.Line2D at 0x7fa782d235b0>,\n",
       " <matplotlib.lines.Line2D at 0x7fa782d236d0>,\n",
       " <matplotlib.lines.Line2D at 0x7fa782d237f0>,\n",
       " <matplotlib.lines.Line2D at 0x7fa782d23910>,\n",
       " <matplotlib.lines.Line2D at 0x7fa782d23a30>,\n",
       " <matplotlib.lines.Line2D at 0x7fa782d23b50>]"
      ]
     },
     "execution_count": 42,
     "metadata": {},
     "output_type": "execute_result"
    },
    {
     "data": {
      "image/png": "[encoded data removed]",
      "text/plain": [
       "<Figure size 432x288 with 1 Axes>"
      ]
     },
     "metadata": {
      "needs_background": "light"
     },
     "output_type": "display_data"
    }
   ],
   "source": [
    "fig, ax = plt.subplots()\n",
    "plot_utilities.draw_base_map(tracks['grid'],ax=ax)\n",
    "plt.plot(tracks['x'][:,:,0],tracks['x'][:,:,1])"
   ]
  },
  {
   "cell_type": "code",
   "execution_count": 43,
   "metadata": {},
   "outputs": [
    {
     "data": {
      "text/plain": [
       "<matplotlib.collections.TriMesh at 0x7fa782c875b0>"
      ]
     },
     "execution_count": 43,
     "metadata": {},
     "output_type": "execute_result"
    },
    {
     "data": {
      "image/png": "[encoded data removed]",
      "text/plain": [
       "<Figure size 432x288 with 1 Axes>"
      ]
     },
     "metadata": {
      "needs_background": "light"
     },
     "output_type": "display_data"
    }
   ],
   "source": [
    "df = nc.Dataset('/scratch/local1/hzg2/schout_1.nc')\n",
    "\n",
    "# plot spm_very_fine_silt on map\n",
    "\n",
    "grid = tracks['grid']\n",
    "plt.tripcolor(grid['x'][:, 0], grid['x'][:, 1], grid['triangles'], df.variables['spm_very_fine_silt'][:], shading='gouraud', vmax=0.1)"
   ]
  },
  {
   "cell_type": "code",
   "execution_count": 51,
   "metadata": {},
   "outputs": [
    {
     "data": {
      "text/plain": [
       "[<matplotlib.lines.Line2D at 0x7fa784c262e0>]"
      ]
     },
     "execution_count": 51,
     "metadata": {},
     "output_type": "execute_result"
    },
    {
     "data": {
      "image/png": "[encoded data removed]",
      "text/plain": [
       "<Figure size 432x288 with 1 Axes>"
      ]
     },
     "metadata": {
      "needs_background": "light"
     },
     "output_type": "display_data"
    }
   ],
   "source": [
    "plt.plot(tracks['spm_very_fine_silt'][:, 5])"
   ]
  }
 ],
 "metadata": {
  "kernelspec": {
   "display_name": "base",
   "language": "python",
   "name": "python3"
  },
  "language_info": {
   "codemirror_mode": {
    "name": "ipython",
    "version": 3
   },
   "file_extension": ".py",
   "mimetype": "text/x-python",
   "name": "python",
   "nbconvert_exporter": "python",
   "pygments_lexer": "ipython3",
   "version": "3.9.7"
  }
 },
 "nbformat": 4,
 "nbformat_minor": 2
}
