{
 "cells": [
  {
   "cell_type": "markdown",
   "metadata": {},
   "source": [
    "# Developing plotting routines to visualize the results of the depth losses simulations"
   ]
  },
  {
   "cell_type": "code",
   "execution_count": 10,
   "metadata": {},
   "outputs": [],
   "source": [
    "import numpy as np\n",
    "from oceantracker.post_processing.read_output_files.load_output_files import load_grid\n",
    "from oceantracker.post_processing.read_output_files.load_output_files import get_case_info_files_from_dir"
   ]
  },
  {
   "cell_type": "code",
   "execution_count": 9,
   "metadata": {},
   "outputs": [
    {
     "data": {
      "text/plain": [
       "<function oceantracker.post_processing.read_output_files.load_output_files.load_grid(case_info_file_name)>"
      ]
     },
     "execution_count": 9,
     "metadata": {},
     "output_type": "execute_result"
    }
   ],
   "source": [
    "load_grid"
   ]
  },
  {
   "cell_type": "markdown",
   "metadata": {},
   "source": [
    "## 1. Projections onto transect\n",
    "\n",
    "Horizontally projected onto 2D transect plane and visualized as depth plots"
   ]
  },
  {
   "cell_type": "code",
   "execution_count": 3,
   "metadata": {},
   "outputs": [],
   "source": [
    "# Norderelbe transect and polygons\n",
    "\n",
    "\n",
    "observational_polygone = [\n",
    "    {\n",
    "        'name': 'pre-splitting',\n",
    "        'points': np.array([\n",
    "           [572085,5922830],\n",
    "           [572169,5922719],\n",
    "           [572246,5922848],\n",
    "           [572162,5922948] \n",
    "        ])\n",
    "    },\n",
    "    # norderelbe\n",
    "    ## low-depth\n",
    "    {\n",
    "        'name': 'norder-bunthaus',\n",
    "        'points': np.array([\n",
    "            [570470,5925498],\n",
    "            [570537,5925521],\n",
    "            [570508,5925681],\n",
    "            [570433,5925668]\n",
    "        ])\n",
    "    },\n",
    "    {\n",
    "        'name': 'norder-kaltehofe',\n",
    "        'points': np.array([\n",
    "            [569021,5931319],\n",
    "            [569084,5931274],\n",
    "            [569139,5931362],\n",
    "            [569077,5931410]\n",
    "        ])\n",
    "    },\n",
    "    ## medium-depth\n",
    "    {\n",
    "        'name': 'norder-elphi',\n",
    "        'points': np.array([\n",
    "            [565158,5932675],\n",
    "            [565229,5932795],\n",
    "            [565151,5932838],\n",
    "            [565069,5932716]\n",
    "        ])\n",
    "    },\n",
    "    ## high-depth\n",
    "    {\n",
    "        'name': 'norder-dockland',\n",
    "        'points': np.array([\n",
    "            [562387,5933002],\n",
    "            [562390,5932860],\n",
    "            [562513,5932872],\n",
    "            [562507,5933012]\n",
    "        ])\n",
    "    },\n",
    "    # suederelbe\n",
    "    ## low-depth\n",
    "    {\n",
    "        'name': 'sueder-bunthaus',\n",
    "        'points': np.array([\n",
    "            [570405,5923818],\n",
    "            [570454,5923894],\n",
    "            [570397,5923946],\n",
    "            [570345,5923871]\n",
    "        ])\n",
    "    },\n",
    "    {\n",
    "        'name': 'sueder-eurpabruecke',\n",
    "        'points': np.array([\n",
    "            [565993,5925470],\n",
    "            [566099,5925433],\n",
    "            [566083,5925340],\n",
    "            [565977,5925374]\n",
    "        ])\n",
    "    },\n",
    "    ## medium depth\n",
    "    {\n",
    "        'name': 'sueder-nynas',\n",
    "        'points': np.array([\n",
    "            [563601,5926690],\n",
    "            [563675,5926768],\n",
    "            [563630,5926837],\n",
    "            [563552,5926761]\n",
    "        ])\n",
    "    },\n",
    "    ## high depth\n",
    "    {\n",
    "        'name': 'sueder-kohlbrandt',\n",
    "        'points': np.array([\n",
    "            [562176,5931052],\n",
    "            [562290,5931042],\n",
    "            [562293,5931190],\n",
    "            [562180,5931192]\n",
    "        ])\n",
    "    },\n",
    "    # post sueder-norder unification\n",
    "    {\n",
    "        'name': 'post-unification',\n",
    "        'points': np.array([\n",
    "            [560484,5932946],\n",
    "            [560485,5932765],\n",
    "            [560640,5932764],\n",
    "            [560637,5932946]\n",
    "        ])\n",
    "    }\n",
    "]\n",
    "\n",
    "transect_polygone = [\n",
    "    {'points':\n",
    "        np.array([\n",
    "            [569979,5930284],\n",
    "            [570239,5930483],\n",
    "            [569147,5931534],\n",
    "            [568979,5931251]\n",
    "        ])\n",
    "    },\n",
    "    {'points':\n",
    "        np.array([\n",
    "            [568988,5931254],\n",
    "            [569147,5931537],\n",
    "            [567622,5932312],\n",
    "            [567502,5932043]\n",
    "        ])\n",
    "    },\n",
    "    {'points':\n",
    "        np.array([\n",
    "            [567584,5931996],\n",
    "            [567704,5932265],\n",
    "            [565924,5932656],\n",
    "            [565900,5932289]\n",
    "        ])\n",
    "    },\n",
    "    {'points':\n",
    "        np.array([\n",
    "            [565900,5932282],\n",
    "            [565943,5932663],\n",
    "            [564086,5933401],\n",
    "            [563971,5933043]\n",
    "        ])\n",
    "    },\n",
    "    {'points':\n",
    "        np.array([\n",
    "            [564000,5933064],\n",
    "            [564096,5933417],\n",
    "            [562586,5933178],\n",
    "            [562643,5932757]\n",
    "        ])\n",
    "    },\n",
    "    {'points':\n",
    "        np.array([\n",
    "            [562638,5932757],\n",
    "            [562614,5933141],\n",
    "            [561359,5933128],\n",
    "            [561359,5932690]\n",
    "        ])\n",
    "    }\n",
    "]\n",
    "\n",
    "transect_planes = [\n",
    "    {'points':\n",
    "        np.array([\n",
    "            [570181,5930237],\n",
    "            [568926,5931456]\n",
    "        ])\n",
    "    },\n",
    "    {'points':\n",
    "        np.array([\n",
    "            [569123,5931325],\n",
    "            [567444,5932218]\n",
    "        ])\n",
    "    },\n",
    "    {'points':\n",
    "        np.array([\n",
    "            [567771,5932080],\n",
    "            [565804,5932477]\n",
    "        ])\n",
    "    },\n",
    "    {'points':\n",
    "        np.array([\n",
    "            [565977,5932423],\n",
    "            [563961,5933259]\n",
    "        ])\n",
    "    },\n",
    "    {'points':\n",
    "        np.array([\n",
    "            [564207,5933266],\n",
    "            [562446,5932925]\n",
    "        ])\n",
    "    },\n",
    "    {'points':\n",
    "        np.array([\n",
    "            [562704,5932919],\n",
    "            [561174,5932947]\n",
    "        ])\n",
    "    }\n",
    "]\n"
   ]
  },
  {
   "cell_type": "code",
   "execution_count": null,
   "metadata": {},
   "outputs": [],
   "source": [
    "# Suederelbe transect and polygons"
   ]
  },
  {
   "cell_type": "code",
   "execution_count": 14,
   "metadata": {},
   "outputs": [
    {
     "name": "stdout",
     "output_type": "stream",
     "text": [
      "[5]\n",
      "Warning  some cases file missing from dir  /scratch/local1/output/22_11_01_depth_losses_v23 , missing case files for case number(s) = [0, 1, 2, 3, 4]\n"
     ]
    },
    {
     "ename": "KeyError",
     "evalue": "'grid'",
     "output_type": "error",
     "traceback": [
      "\u001b[0;31m---------------------------------------------------------------------------\u001b[0m",
      "\u001b[0;31mKeyError\u001b[0m                                  Traceback (most recent call last)",
      "Cell \u001b[0;32mIn[14], line 4\u001b[0m\n\u001b[1;32m      2\u001b[0m path_to_grid_dir \u001b[38;5;241m=\u001b[39m \u001b[38;5;124m'\u001b[39m\u001b[38;5;124m/scratch/local1/output/22_11_01_depth_losses_v23\u001b[39m\u001b[38;5;124m'\u001b[39m\n\u001b[1;32m      3\u001b[0m case_info_files \u001b[38;5;241m=\u001b[39m get_case_info_files_from_dir(path_to_grid_dir)\n\u001b[0;32m----> 4\u001b[0m grid \u001b[38;5;241m=\u001b[39m \u001b[43mload_grid\u001b[49m\u001b[43m(\u001b[49m\u001b[43mcase_info_files\u001b[49m\u001b[43m[\u001b[49m\u001b[38;5;241;43m-\u001b[39;49m\u001b[38;5;241;43m1\u001b[39;49m\u001b[43m]\u001b[49m\u001b[43m)\u001b[49m\n",
      "File \u001b[0;32m~/Documents/scr/phd/bicest/oceantracker/oceantracker/post_processing/read_output_files/load_output_files.py:134\u001b[0m, in \u001b[0;36mload_grid\u001b[0;34m(case_info_file_name)\u001b[0m\n\u001b[1;32m    131\u001b[0m \u001b[38;5;28;01mdef\u001b[39;00m \u001b[38;5;21mload_grid\u001b[39m(case_info_file_name):\n\u001b[1;32m    132\u001b[0m     \u001b[38;5;66;03m# load OT output file grid from  output of load_runInfo() or load_runcase_info()\u001b[39;00m\n\u001b[1;32m    133\u001b[0m     case_info \u001b[38;5;241m=\u001b[39m read_case_info_file(case_info_file_name)\n\u001b[0;32m--> 134\u001b[0m     grid_file \u001b[38;5;241m=\u001b[39m path\u001b[38;5;241m.\u001b[39mjoin(case_info[\u001b[38;5;124m'\u001b[39m\u001b[38;5;124moutput_files\u001b[39m\u001b[38;5;124m'\u001b[39m][\u001b[38;5;124m'\u001b[39m\u001b[38;5;124mrun_output_dir\u001b[39m\u001b[38;5;124m'\u001b[39m], \u001b[43mcase_info\u001b[49m\u001b[43m[\u001b[49m\u001b[38;5;124;43m'\u001b[39;49m\u001b[38;5;124;43moutput_files\u001b[39;49m\u001b[38;5;124;43m'\u001b[39;49m\u001b[43m]\u001b[49m\u001b[43m[\u001b[49m\u001b[38;5;124;43m'\u001b[39;49m\u001b[38;5;124;43mgrid\u001b[39;49m\u001b[38;5;124;43m'\u001b[39;49m\u001b[43m]\u001b[49m)\n\u001b[1;32m    135\u001b[0m     d \u001b[38;5;241m=\u001b[39m read_ncdf_output_files\u001b[38;5;241m.\u001b[39mread_grid_file(grid_file)\n\u001b[1;32m    137\u001b[0m     \u001b[38;5;66;03m# load  grid outline and convert outline to numpy arrays\u001b[39;00m\n",
      "\u001b[0;31mKeyError\u001b[0m: 'grid'"
     ]
    }
   ],
   "source": [
    "# Plot grid with polyigons\n",
    "path_to_grid_dir = '/scratch/local1/output/22_11_01_depth_losses_v23'\n",
    "case_info_files = get_case_info_files_from_dir(path_to_grid_dir)\n",
    "grid = load_grid(case_info_files[-1])\n",
    "\n",
    "# Plot Norderelbe transect\n",
    "\n",
    "# Plot Suederelbe transect"
   ]
  },
  {
   "cell_type": "code",
   "execution_count": null,
   "metadata": {},
   "outputs": [],
   "source": [
    "# Test projections"
   ]
  },
  {
   "cell_type": "markdown",
   "metadata": {},
   "source": [
    "### 1.1 Getting the polygons and transect data points"
   ]
  },
  {
   "cell_type": "markdown",
   "metadata": {},
   "source": [
    "### 1.2 Average depth along transect"
   ]
  },
  {
   "cell_type": "markdown",
   "metadata": {},
   "source": [
    "### 1.3 Average illumination along transect"
   ]
  },
  {
   "cell_type": "markdown",
   "metadata": {},
   "source": [
    "## 2. Maps\n",
    "Horizontal projections based on hex-binned data and visualized as heatmaps"
   ]
  }
 ],
 "metadata": {
  "kernelspec": {
   "display_name": "oceantracker",
   "language": "python",
   "name": "python3"
  },
  "language_info": {
   "codemirror_mode": {
    "name": "ipython",
    "version": 3
   },
   "file_extension": ".py",
   "mimetype": "text/x-python",
   "name": "python",
   "nbconvert_exporter": "python",
   "pygments_lexer": "ipython3",
   "version": "3.10.13"
  }
 },
 "nbformat": 4,
 "nbformat_minor": 2
}
