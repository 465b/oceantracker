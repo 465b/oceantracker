{
 "cells": [
  {
   "cell_type": "code",
   "execution_count": 2,
   "metadata": {},
   "outputs": [],
   "source": [
    "from netCDF4 import Dataset\n",
    "import numpy as np"
   ]
  },
  {
   "cell_type": "code",
   "execution_count": 2,
   "metadata": {},
   "outputs": [],
   "source": [
    "df = Dataset('/scratch/local1/hzg2/schout_300.nc', 'r')"
   ]
  },
  {
   "cell_type": "code",
   "execution_count": 5,
   "metadata": {},
   "outputs": [
    {
     "data": {
      "text/plain": [
       "<class 'netCDF4._netCDF4.Variable'>\n",
       "float32 spm_very_fine_silt(nSCHISM_hgrid_node)\n",
       "    units: kg/l\n",
       "    long_name: Suspended sediment concentration of very_fine_silt\n",
       "    description: Suspended sediment concentration based on BAWs UnTrim model using the Dietrich model received from Arne Hammrich. Average of 3D data over time and depth\n",
       "unlimited dimensions: \n",
       "current shape = (32432,)\n",
       "filling on, default _FillValue of 9.969209968386869e+36 used"
      ]
     },
     "execution_count": 5,
     "metadata": {},
     "output_type": "execute_result"
    }
   ],
   "source": [
    "df.variables['spm_very_fine_silt']"
   ]
  },
  {
   "cell_type": "code",
   "execution_count": null,
   "metadata": {},
   "outputs": [],
   "source": []
  },
  {
   "cell_type": "code",
   "execution_count": 13,
   "metadata": {},
   "outputs": [],
   "source": [
    "kg_per_liter = 0.00030795527166685096\n",
    "kg_per_m3 = kg_per_liter * 1000\n",
    "\n",
    "radius_spm = 6e-6\n",
    "radius_particle = 5e-4 #0.0005\n",
    "volume_particle = 4/3 * np.pi * radius_spm **3\n",
    "density_particle = 2650\n",
    "mass_particle = density_particle * volume_particle\n",
    "particles_per_kg = 1 / mass_particle\n",
    "\n",
    "cross_section = np.pi * (radius_particle + radius_spm)**2\n",
    "\n",
    "avg_vertical_velocity = 0.0798"
   ]
  },
  {
   "cell_type": "code",
   "execution_count": 14,
   "metadata": {},
   "outputs": [
    {
     "data": {
      "text/plain": [
       "417072702022.78656"
      ]
     },
     "execution_count": 14,
     "metadata": {},
     "output_type": "execute_result"
    }
   ],
   "source": [
    "particles_per_kg"
   ]
  },
  {
   "cell_type": "code",
   "execution_count": 8,
   "metadata": {},
   "outputs": [
    {
     "data": {
      "text/plain": [
       "0.014246131353355947"
      ]
     },
     "execution_count": 8,
     "metadata": {},
     "output_type": "execute_result"
    }
   ],
   "source": [
    "particles_per_m3*cross_section*avg_vertical_velocity"
   ]
  },
  {
   "cell_type": "code",
   "execution_count": 4,
   "metadata": {},
   "outputs": [
    {
     "data": {
      "text/plain": [
       "8.043608166545165e-07"
      ]
     },
     "execution_count": 4,
     "metadata": {},
     "output_type": "execute_result"
    }
   ],
   "source": [
    "cross_section"
   ]
  },
  {
   "cell_type": "code",
   "execution_count": 5,
   "metadata": {},
   "outputs": [
    {
     "name": "stdout",
     "output_type": "stream",
     "text": [
      "3.597 = 0.2222222222222222 * (2650 - 1000)/ 0.001 * 9.81 * 0.001**2\n"
     ]
    }
   ],
   "source": [
    "## terminal velocity\n",
    "alpha = 2/9\n",
    "rho_particle = 2650\n",
    "rho_water = 1000\n",
    "g = 9.81\n",
    "radius_particle = 1e-3\n",
    "viscosity = 1e-3\n",
    "\n",
    "\n",
    "\n",
    "terminal_velocity = alpha * (rho_particle - rho_water)/ viscosity * g * radius_particle**2 \n",
    "\n",
    "# print equaton with filles values\n",
    "print(f'{terminal_velocity} = {alpha} * ({rho_particle} - {rho_water})/ {viscosity} * {g} * {radius_particle}**2')"
   ]
  },
  {
   "cell_type": "markdown",
   "metadata": {},
   "source": [
    "## Acceleration"
   ]
  },
  {
   "cell_type": "code",
   "execution_count": 7,
   "metadata": {},
   "outputs": [],
   "source": [
    "import numpy as np\n",
    "\n",
    "# Given values\n",
    "rho_p = 2650  # density of the particle in kg/m^3 (particle)\n",
    "rho_f = 1000  # density of the fluid in kg/m^3 (water)\n",
    "g = 9.81  # acceleration due to gravity in m/s^2\n",
    "r = 1e-3  # radius of the particle in meters (1mm)\n",
    "C_d = 0.47  # assumed drag coefficient for a sphere\n",
    "\n",
    "# Calculate the volume and mass of the particle\n",
    "V = (4/3) * np.pi * R**3  # volume of the sphere\n",
    "m_p = rho_p * V  # mass of the particle\n",
    "\n",
    "\n",
    "# Calculate the acceleration for each velocity\n",
    "def buoyancy_induced_accelerations(velocities):\n",
    "    return g * ((rho_p - rho_f) / rho_p) - (3 * rho_f * velocities**2 * C_d) / (8 * r * rho_p)\n",
    "\n",
    "\n"
   ]
  },
  {
   "cell_type": "code",
   "execution_count": 19,
   "metadata": {},
   "outputs": [
    {
     "data": {
      "text/plain": [
       "6.1014622641509435"
      ]
     },
     "execution_count": 19,
     "metadata": {},
     "output_type": "execute_result"
    }
   ],
   "source": [
    "buoyancy_induced_accelerations(0.01)"
   ]
  },
  {
   "cell_type": "markdown",
   "metadata": {},
   "source": [
    "\n",
    "$ g \\left( \\frac{{\\rho_p - \\rho_f}}{{\\rho_p}} \\right) - \\frac{{3 \\rho_f \\cdot \\text{{velocities}}^2 \\cdot C_d}}{{8 R \\cdot \\rho_p}}$\n"
   ]
  },
  {
   "cell_type": "code",
   "execution_count": 8,
   "metadata": {},
   "outputs": [
    {
     "name": "stderr",
     "output_type": "stream",
     "text": [
      "/tmp/ipykernel_10563/3190169335.py:17: RuntimeWarning: overflow encountered in scalar multiply\n",
      "  return g * ((rho_p - rho_f) / rho_p) - (3 * rho_f * velocities**2 * C_d) / (8 * R * rho_p)\n",
      "/tmp/ipykernel_10563/2955086182.py:18: RuntimeWarning: overflow encountered in scalar add\n",
      "  x[i] = x[i-1] + v[i-1] * t_step\n"
     ]
    }
   ],
   "source": [
    "v_init = 0\n",
    "t_max = 60 #seconds\n",
    "t_step = 1 # second\n",
    "\n",
    "# calculate the particle velocity at each time step\n",
    "t = np.arange(0, t_max, t_step)\n",
    "v = np.zeros_like(t)\n",
    "v[0] = v_init\n",
    "\n",
    "for i in range(1, len(t)):\n",
    "    a = buoyancy_induced_accelerations(v[i-1])\n",
    "    v[i] = v[i-1] + a * t_step\n",
    "\n",
    "# calculate the particle position at each time step\n",
    "x = np.zeros_like(t)\n",
    "x[0] = 0\n",
    "for i in range(1, len(t)):\n",
    "    x[i] = x[i-1] + v[i-1] * t_step\n"
   ]
  },
  {
   "cell_type": "code",
   "execution_count": 10,
   "metadata": {},
   "outputs": [
    {
     "data": {
      "text/plain": [
       "-1.3354531909978477e+17"
      ]
     },
     "execution_count": 10,
     "metadata": {},
     "output_type": "execute_result"
    }
   ],
   "source": [
    "\n"
   ]
  }
 ],
 "metadata": {
  "kernelspec": {
   "display_name": "base",
   "language": "python",
   "name": "python3"
  },
  "language_info": {
   "codemirror_mode": {
    "name": "ipython",
    "version": 3
   },
   "file_extension": ".py",
   "mimetype": "text/x-python",
   "name": "python",
   "nbconvert_exporter": "python",
   "pygments_lexer": "ipython3",
   "version": "3.9.7"
  }
 },
 "nbformat": 4,
 "nbformat_minor": 2
}
