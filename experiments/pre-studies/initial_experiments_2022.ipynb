{
 "cells": [
  {
   "cell_type": "code",
   "execution_count": 1,
   "metadata": {},
   "outputs": [
    {
     "data": {
      "text/plain": [
       "'/home/zmaw/u301513/.conda/envs/oceantracker/bin/python'"
      ]
     },
     "execution_count": 1,
     "metadata": {},
     "output_type": "execute_result"
    }
   ],
   "source": [
    "import sys\n",
    "sys.executable"
   ]
  },
  {
   "cell_type": "code",
   "execution_count": 2,
   "metadata": {},
   "outputs": [
    {
     "name": "stdout",
     "output_type": "stream",
     "text": [
      "/home/zmaw/u301513/Documents/scr/phd/bicest/oceantracker02\n"
     ]
    }
   ],
   "source": [
    "!pwd"
   ]
  },
  {
   "cell_type": "code",
   "execution_count": 3,
   "metadata": {},
   "outputs": [],
   "source": [
    "%matplotlib widget\n",
    "import os\n",
    "import copy\n",
    "import numpy as np\n",
    "\n",
    "import netCDF4 as cdf\n",
    "import json\n",
    "\n",
    "import matplotlib.pyplot as plt\n",
    "from matplotlib import colors\n",
    "import matplotlib\n",
    "\n",
    "from matplotlib.animation import FuncAnimation\n",
    "from IPython.display import HTML\n",
    "\n",
    "import oceantracker.user_post_processing.particlePlot as otPlot\n",
    "import oceantracker.util.rUtil  as rUtil\n",
    "import oceantracker.user_post_processing.loadOutputFiles as loadOutputFiles"
   ]
  },
  {
   "cell_type": "code",
   "execution_count": 9,
   "metadata": {},
   "outputs": [],
   "source": [
    "def plot_sa_total_polycount(df,sa_shape,title='',poly_range=(0,12)):\n",
    "\n",
    "    cases = [df[item] for item in df]\n",
    "    fig,ax = plt.subplots(sa_shape[0],sa_shape[1],sharex=True,figsize=(12,6))\n",
    "\n",
    "    kk = 0\n",
    "\n",
    "    for kk in range(sa_shape[0]):\n",
    "        for jj in range(sa_shape[1]):\n",
    "            print(kk*sa_shape[0]+jj,kk,jj)\n",
    "            case = cases[sa_shape[0]*kk+jj]\n",
    "            velo = case['case_properties'][\"user_class_lists\"]['user_velocity_modifiers'][0]['mean']\n",
    "            ratio = case['case_properties'][\"user_class_lists\"]['user_trajectory_modifiers'][1]['fraction_to_split']\n",
    "            total = case['m'] + case['s'] + case['b']\n",
    "            for ii in np.arange(poly_range[0],poly_range[1]):\n",
    "                ax[kk][jj].plot(case['time'].astype('datetime64[s]'),total[:,0,ii],label=case['polygon_names'][ii])\n",
    "            ax[kk][jj].plot(case['time'].astype('datetime64[s]'),np.sum(total[:,0,:],axis=1),label='total')\n",
    "            ax[kk][jj].set_title(str(velo)+' '+str(ratio))\n",
    "\n",
    "    #for label in ax.xaxis.get_ticklabels():\n",
    "    #        label.set_rotation(45)\n",
    "\n",
    "    plt.tight_layout()\n",
    "    plt.show()\n"
   ]
  },
  {
   "cell_type": "code",
   "execution_count": 6,
   "metadata": {},
   "outputs": [],
   "source": [
    "path = '/scratch/local1/output/21_11_01_sa_verticle_spawning_v03/21_11_01_sa_verticle_spawning_v03_runInfo.json'"
   ]
  },
  {
   "cell_type": "code",
   "execution_count": 7,
   "metadata": {
    "scrolled": true
   },
   "outputs": [
    {
     "ename": "KeyError",
     "evalue": "'root_output_dir'",
     "output_type": "error",
     "traceback": [
      "\u001b[0;31m---------------------------------------------------------------------------\u001b[0m",
      "\u001b[0;31mKeyError\u001b[0m                                  Traceback (most recent call last)",
      "\u001b[0;32m/tmp/ipykernel_31868/3545480338.py\u001b[0m in \u001b[0;36m<module>\u001b[0;34m\u001b[0m\n\u001b[0;32m----> 1\u001b[0;31m \u001b[0mdf\u001b[0m \u001b[0;34m=\u001b[0m \u001b[0mload_multicase_msb_stats\u001b[0m\u001b[0;34m(\u001b[0m\u001b[0mpath\u001b[0m\u001b[0;34m)\u001b[0m\u001b[0;34m\u001b[0m\u001b[0;34m\u001b[0m\u001b[0m\n\u001b[0m",
      "\u001b[0;32m/tmp/ipykernel_31868/3341426477.py\u001b[0m in \u001b[0;36mload_multicase_msb_stats\u001b[0;34m(path_runInfo)\u001b[0m\n\u001b[1;32m      1\u001b[0m \u001b[0;32mdef\u001b[0m \u001b[0mload_multicase_msb_stats\u001b[0m\u001b[0;34m(\u001b[0m\u001b[0mpath_runInfo\u001b[0m\u001b[0;34m)\u001b[0m\u001b[0;34m:\u001b[0m\u001b[0;34m\u001b[0m\u001b[0;34m\u001b[0m\u001b[0m\n\u001b[1;32m      2\u001b[0m \u001b[0;34m\u001b[0m\u001b[0m\n\u001b[0;32m----> 3\u001b[0;31m     \u001b[0mrunInfo\u001b[0m \u001b[0;34m=\u001b[0m \u001b[0mloadOutputFiles\u001b[0m\u001b[0;34m.\u001b[0m\u001b[0mload_runInfo\u001b[0m\u001b[0;34m(\u001b[0m\u001b[0mpath\u001b[0m\u001b[0;34m)\u001b[0m\u001b[0;34m\u001b[0m\u001b[0;34m\u001b[0m\u001b[0m\n\u001b[0m\u001b[1;32m      4\u001b[0m     \u001b[0;31m#print(list(runInfo['caseInfo']))\u001b[0m\u001b[0;34m\u001b[0m\u001b[0;34m\u001b[0m\u001b[0m\n\u001b[1;32m      5\u001b[0m     \u001b[0mmulticase_df\u001b[0m \u001b[0;34m=\u001b[0m \u001b[0;34m{\u001b[0m\u001b[0;34m}\u001b[0m\u001b[0;34m\u001b[0m\u001b[0;34m\u001b[0m\u001b[0m\n",
      "\u001b[0;32m~/Documents/scr/phd/bicest/oceantracker02/oceantracker/user_post_processing/loadOutputFiles.py\u001b[0m in \u001b[0;36mload_runInfo\u001b[0;34m(runInfo_file_name)\u001b[0m\n\u001b[1;32m     50\u001b[0m     \u001b[0mrunInfo\u001b[0m\u001b[0;34m[\u001b[0m\u001b[0;34m'caseInfo'\u001b[0m\u001b[0;34m]\u001b[0m\u001b[0;34m=\u001b[0m\u001b[0;34m[\u001b[0m\u001b[0;34m]\u001b[0m\u001b[0;34m\u001b[0m\u001b[0;34m\u001b[0m\u001b[0m\n\u001b[1;32m     51\u001b[0m     \u001b[0;32mfor\u001b[0m \u001b[0mfn\u001b[0m \u001b[0;32min\u001b[0m \u001b[0mrunInfo\u001b[0m\u001b[0;34m[\u001b[0m\u001b[0;34m'output_files'\u001b[0m\u001b[0;34m]\u001b[0m\u001b[0;34m[\u001b[0m\u001b[0;34m'caseInfo'\u001b[0m\u001b[0;34m]\u001b[0m\u001b[0;34m:\u001b[0m\u001b[0;34m\u001b[0m\u001b[0;34m\u001b[0m\u001b[0m\n\u001b[0;32m---> 52\u001b[0;31m         \u001b[0mcaseFile_name\u001b[0m\u001b[0;34m=\u001b[0m \u001b[0mpath\u001b[0m\u001b[0;34m.\u001b[0m\u001b[0mjoin\u001b[0m\u001b[0;34m(\u001b[0m \u001b[0mrunInfo\u001b[0m\u001b[0;34m[\u001b[0m\u001b[0;34m'output_files'\u001b[0m\u001b[0;34m]\u001b[0m\u001b[0;34m[\u001b[0m\u001b[0;34m'root_output_dir'\u001b[0m\u001b[0;34m]\u001b[0m\u001b[0;34m[\u001b[0m\u001b[0;34m'full_output_file_base'\u001b[0m\u001b[0;34m]\u001b[0m\u001b[0;34m,\u001b[0m\u001b[0mfn\u001b[0m\u001b[0;34m)\u001b[0m\u001b[0;34m\u001b[0m\u001b[0;34m\u001b[0m\u001b[0m\n\u001b[0m\u001b[1;32m     53\u001b[0m         \u001b[0mrunInfo\u001b[0m\u001b[0;34m[\u001b[0m\u001b[0;34m'caseInfo'\u001b[0m\u001b[0;34m]\u001b[0m\u001b[0;34m.\u001b[0m\u001b[0mappend\u001b[0m\u001b[0;34m(\u001b[0m\u001b[0mrUtil\u001b[0m\u001b[0;34m.\u001b[0m\u001b[0mread_JSON\u001b[0m\u001b[0;34m(\u001b[0m\u001b[0mcaseFile_name\u001b[0m\u001b[0;34m)\u001b[0m\u001b[0;34m)\u001b[0m\u001b[0;34m\u001b[0m\u001b[0;34m\u001b[0m\u001b[0m\n\u001b[1;32m     54\u001b[0m \u001b[0;34m\u001b[0m\u001b[0m\n",
      "\u001b[0;31mKeyError\u001b[0m: 'root_output_dir'"
     ]
    }
   ],
   "source": []
  },
  {
   "cell_type": "code",
   "execution_count": null,
   "metadata": {},
   "outputs": [],
   "source": []
  }
 ],
 "metadata": {
  "kernelspec": {
   "display_name": "Python 3.9.7 64-bit",
   "name": "python397jvsc74a57bd0107c85ce9375f973e9d8d505ee40b4b770e322cc933189435d0ed9adfdbec645"
  },
  "language_info": {
   "codemirror_mode": {
    "name": "ipython",
    "version": 3
   },
   "file_extension": ".py",
   "mimetype": "text/x-python",
   "name": "python",
   "nbconvert_exporter": "python",
   "pygments_lexer": "ipython3",
   "version": "3.9.7"
  },
  "orig_nbformat": 3
 },
 "nbformat": 4,
 "nbformat_minor": 4
}