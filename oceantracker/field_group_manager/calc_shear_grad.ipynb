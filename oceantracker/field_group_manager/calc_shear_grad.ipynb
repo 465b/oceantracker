{
 "cells": [
  {
   "cell_type": "markdown",
   "metadata": {},
   "source": [
    "# Calculating the (horiz) shear gradient in the flow field"
   ]
  },
  {
   "cell_type": "code",
   "execution_count": 11,
   "metadata": {},
   "outputs": [],
   "source": [
    "from netCDF4 import Dataset\n",
    "import numpy as np"
   ]
  },
  {
   "cell_type": "code",
   "execution_count": 4,
   "metadata": {},
   "outputs": [],
   "source": [
    "path_to_data = '/scratch/local1/hzg/schout_1.nc'\n",
    "\n",
    "df = Dataset(path_to_data, 'r')"
   ]
  },
  {
   "cell_type": "code",
   "execution_count": 15,
   "metadata": {},
   "outputs": [
    {
     "data": {
      "text/plain": [
       "(24, 32432, 21, 3)"
      ]
     },
     "execution_count": 15,
     "metadata": {},
     "output_type": "execute_result"
    }
   ],
   "source": [
    "# _ = [print(item) for item in df.variables.keys()]\n",
    "\n",
    "u = np.empty(df.variables['hvel'].shape[:3] + (3,))\n",
    "\n",
    "u[..., 0] = df.variables['hvel'][:, :, :, 0]\n",
    "u[..., 1] = df.variables['hvel'][:, :, :, 1]\n",
    "u[..., 2] = df.variables['vertical_velocity'][:, :, :]\n",
    "\n",
    "u.shape\n",
    "#(time, node, layer, direction)\n"
   ]
  },
  {
   "cell_type": "code",
   "execution_count": null,
   "metadata": {},
   "outputs": [],
   "source": [
    "u[0, 100, :, :] "
   ]
  },
  {
   "cell_type": "code",
   "execution_count": null,
   "metadata": {},
   "outputs": [],
   "source": [
    "for t in range(u.shape[0]):\n",
    "    \n",
    "    if t > 1:\n",
    "        break"
   ]
  }
 ],
 "metadata": {
  "kernelspec": {
   "display_name": "Python 3",
   "language": "python",
   "name": "python3"
  },
  "language_info": {
   "codemirror_mode": {
    "name": "ipython",
    "version": 3
   },
   "file_extension": ".py",
   "mimetype": "text/x-python",
   "name": "python",
   "nbconvert_exporter": "python",
   "pygments_lexer": "ipython3",
   "version": "3.10.13"
  }
 },
 "nbformat": 4,
 "nbformat_minor": 2
}
